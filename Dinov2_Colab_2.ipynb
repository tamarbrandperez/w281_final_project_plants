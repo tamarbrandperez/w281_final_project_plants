{
 "cells": [
  {
   "cell_type": "code",
   "execution_count": 2,
   "metadata": {
    "colab": {
     "base_uri": "https://localhost:8080/"
    },
    "id": "sZx0X1SUJp_Q",
    "outputId": "abf25943-ffc3-44fc-cc9c-f56af8cd1174"
   },
   "outputs": [
    {
     "name": "stdout",
     "output_type": "stream",
     "text": [
      "Drive already mounted at /content/drive; to attempt to forcibly remount, call drive.mount(\"/content/drive\", force_remount=True).\n"
     ]
    }
   ],
   "source": [
    "from google.colab import drive\n",
    "drive.mount('/content/drive')"
   ]
  },
  {
   "cell_type": "code",
   "execution_count": 2,
   "metadata": {
    "id": "gn4_-4mkJeop"
   },
   "outputs": [],
   "source": [
    "import torch\n",
    "import torch.nn as nn\n",
    "import torch.nn.functional as F\n",
    "from transformers import AutoImageProcessor, AutoModel\n",
    "from torchvision import transforms\n",
    "import numpy as np\n",
    "import csv\n",
    "from PIL import Image\n",
    "import os\n",
    "from tqdm import tqdm\n",
    "import time"
   ]
  },
  {
   "cell_type": "code",
   "execution_count": 3,
   "metadata": {
    "colab": {
     "base_uri": "https://localhost:8080/"
    },
    "id": "fMRZ489TWsdX",
    "outputId": "4ad54af4-e5f0-4322-e3ec-7bc847660c7b"
   },
   "outputs": [
    {
     "name": "stdout",
     "output_type": "stream",
     "text": [
      "Using device: cuda\n"
     ]
    }
   ],
   "source": [
    "# Check if CUDA is available\n",
    "device = torch.device(\"cuda\" if torch.cuda.is_available() else \"cpu\")\n",
    "print(f\"Using device: {device}\")"
   ]
  },
  {
   "cell_type": "code",
   "execution_count": 2,
   "metadata": {
    "colab": {
     "base_uri": "https://localhost:8080/",
     "height": 276,
     "referenced_widgets": [
      "1b500d2b1b264c2e928ab2be2ac5345e",
      "e3dd99c932b9413ea31772be10068c20",
      "d80245b6d93c463f970f1d328daa307b",
      "986b5680189e4870b8bea484ab8847cd",
      "81b94ba0d0364a0db6b57c7e91aacdca",
      "efa0c7f993bf4948a848e122353db260",
      "9f37c6f85b9a48d39441fc7bccdf3351",
      "a0a2ee34c789468f86a80bfe403eaf02",
      "69ed4ccd26e045e49df56bc2b2db92bb",
      "00cfd141ab48409396637feb27cd6877",
      "c4f0433ed9cd4c16a7fe602c0188c961",
      "5c535b85682345d3a848f13823eec888",
      "116e97038085481493c91068c76d3fe3",
      "a8e09949f928469a950d002d87aeefa5",
      "06a4f70a655b43e984fc5ea3e64e29ec",
      "762f3d459ce54eecbe0ce1146ca8201d",
      "5c0e23a9ad6848bfb506b114c820bc4f",
      "979795361e42471ca32e5498b73ecc76",
      "5ebd3dd32147491f80e68d9d9678a092",
      "1e1f2822ce6742c0b7c26579985d4657",
      "b5cb1a765f47429e8618df3fd86cfecf",
      "ee1dbe91f3f4497c9b8e2c7864607f38",
      "5924dbc1ad5b4c6490976bd2a3e9f5fd",
      "0a5cc1bdf29741a090816ef60566a1ef",
      "c6d3045f828e489d8f8ba8084bb94bbd",
      "dff255345f634b3ea1350b74b89a0d29",
      "b94e720706e6490d819be8c924a12475",
      "864b6a61008d4382a57c20b10284f15a",
      "45703370c4534c819e5cd67ffbebb218",
      "70a94feba50143539b0f08ed95e3d1f9",
      "894284d872c64b3583279bcdc38fda40",
      "7dcebed59ffb4926b1f34585913a81dd",
      "7bbc84cbdf644e1ca3f2d38dca55d15a"
     ]
    },
    "id": "W2w-ubbTJuFu",
    "outputId": "8e70da5c-aaca-4ee6-9fce-5fc30e6521d6"
   },
   "outputs": [
    {
     "name": "stdout",
     "output_type": "stream",
     "text": [
      "Using device: cuda\n"
     ]
    },
    {
     "name": "stderr",
     "output_type": "stream",
     "text": [
      "/usr/local/lib/python3.10/dist-packages/huggingface_hub/utils/_auth.py:94: UserWarning: \n",
      "The secret `HF_TOKEN` does not exist in your Colab secrets.\n",
      "To authenticate with the Hugging Face Hub, create a token in your settings tab (https://huggingface.co/settings/tokens), set it as secret in your Google Colab and restart your session.\n",
      "You will be able to reuse this secret in all of your notebooks.\n",
      "Please note that authentication is recommended but still optional to access public models or datasets.\n",
      "  warnings.warn(\n"
     ]
    },
    {
     "data": {
      "application/vnd.jupyter.widget-view+json": {
       "model_id": "1b500d2b1b264c2e928ab2be2ac5345e",
       "version_major": 2,
       "version_minor": 0
      },
      "text/plain": [
       "preprocessor_config.json:   0%|          | 0.00/436 [00:00<?, ?B/s]"
      ]
     },
     "metadata": {},
     "output_type": "display_data"
    },
    {
     "data": {
      "application/vnd.jupyter.widget-view+json": {
       "model_id": "5c535b85682345d3a848f13823eec888",
       "version_major": 2,
       "version_minor": 0
      },
      "text/plain": [
       "config.json:   0%|          | 0.00/549 [00:00<?, ?B/s]"
      ]
     },
     "metadata": {},
     "output_type": "display_data"
    },
    {
     "data": {
      "application/vnd.jupyter.widget-view+json": {
       "model_id": "5924dbc1ad5b4c6490976bd2a3e9f5fd",
       "version_major": 2,
       "version_minor": 0
      },
      "text/plain": [
       "model.safetensors:   0%|          | 0.00/1.22G [00:00<?, ?B/s]"
      ]
     },
     "metadata": {},
     "output_type": "display_data"
    },
    {
     "name": "stdout",
     "output_type": "stream",
     "text": [
      "DINOv2 model loaded successfully!\n"
     ]
    }
   ],
   "source": [
    "\n",
    "\n",
    "# Load the DINO model and processor\n",
    "processor = AutoImageProcessor.from_pretrained(\"facebook/dinov2-large\")\n",
    "dinov2_model = AutoModel.from_pretrained(\"facebook/dinov2-large\").to(device)\n",
    "\n",
    "print(\"DINOv2 model loaded successfully!\")"
   ]
  },
  {
   "cell_type": "code",
   "execution_count": 3,
   "metadata": {
    "colab": {
     "base_uri": "https://localhost:8080/"
    },
    "id": "dgpHvFtVJ6rR",
    "outputId": "063d63da-64bd-49bd-d75e-0c9c96448b8f"
   },
   "outputs": [
    {
     "name": "stderr",
     "output_type": "stream",
     "text": [
      "  0%|          | 0/562 [00:00<?, ?it/s]"
     ]
    },
    {
     "name": "stdout",
     "output_type": "stream",
     "text": [
      "Loaded 32 images in 15.43 seconds\n",
      "Preprocessed and inferred 32 images in 1.15 seconds\n",
      "torch.Size([32, 1024])\n"
     ]
    },
    {
     "name": "stderr",
     "output_type": "stream",
     "text": [
      "  0%|          | 1/562 [00:17<2:47:03, 17.87s/it]"
     ]
    },
    {
     "name": "stdout",
     "output_type": "stream",
     "text": [
      "Loaded 32 images in 14.63 seconds\n",
      "Preprocessed and inferred 32 images in 0.31 seconds\n",
      "torch.Size([32, 1024])\n"
     ]
    },
    {
     "name": "stderr",
     "output_type": "stream",
     "text": [
      "  0%|          | 2/562 [00:34<2:38:08, 16.94s/it]"
     ]
    },
    {
     "name": "stdout",
     "output_type": "stream",
     "text": [
      "Loaded 32 images in 13.73 seconds\n",
      "Preprocessed and inferred 32 images in 0.46 seconds\n",
      "torch.Size([32, 1024])\n"
     ]
    },
    {
     "name": "stderr",
     "output_type": "stream",
     "text": [
      "  1%|          | 3/562 [00:49<2:31:48, 16.29s/it]"
     ]
    },
    {
     "name": "stdout",
     "output_type": "stream",
     "text": [
      "Loaded 32 images in 14.10 seconds\n",
      "Preprocessed and inferred 32 images in 0.29 seconds\n",
      "torch.Size([32, 1024])\n"
     ]
    },
    {
     "name": "stderr",
     "output_type": "stream",
     "text": [
      "  1%|          | 4/562 [01:05<2:29:32, 16.08s/it]"
     ]
    },
    {
     "name": "stdout",
     "output_type": "stream",
     "text": [
      "Loaded 32 images in 13.75 seconds\n",
      "Preprocessed and inferred 32 images in 0.28 seconds\n",
      "torch.Size([32, 1024])\n"
     ]
    },
    {
     "name": "stderr",
     "output_type": "stream",
     "text": [
      "  1%|          | 5/562 [01:20<2:26:55, 15.83s/it]"
     ]
    },
    {
     "name": "stdout",
     "output_type": "stream",
     "text": [
      "Loaded 32 images in 326.67 seconds\n",
      "Preprocessed and inferred 32 images in 0.33 seconds\n",
      "torch.Size([32, 1024])\n"
     ]
    },
    {
     "name": "stderr",
     "output_type": "stream",
     "text": [
      "  1%|          | 6/562 [06:49<18:51:17, 122.08s/it]"
     ]
    },
    {
     "name": "stdout",
     "output_type": "stream",
     "text": [
      "Loaded 32 images in 0.21 seconds\n",
      "Preprocessed and inferred 32 images in 0.29 seconds\n",
      "torch.Size([32, 1024])\n"
     ]
    },
    {
     "name": "stderr",
     "output_type": "stream",
     "text": [
      "  1%|          | 7/562 [06:50<12:45:28, 82.75s/it] "
     ]
    },
    {
     "name": "stdout",
     "output_type": "stream",
     "text": [
      "Loaded 32 images in 0.27 seconds\n",
      "Preprocessed and inferred 32 images in 0.49 seconds\n",
      "torch.Size([32, 1024])\n"
     ]
    },
    {
     "name": "stderr",
     "output_type": "stream",
     "text": [
      "  1%|▏         | 8/562 [06:52<8:46:51, 57.06s/it] "
     ]
    },
    {
     "name": "stdout",
     "output_type": "stream",
     "text": [
      "Loaded 32 images in 0.26 seconds\n",
      "Preprocessed and inferred 32 images in 0.47 seconds\n",
      "torch.Size([32, 1024])\n"
     ]
    },
    {
     "name": "stderr",
     "output_type": "stream",
     "text": [
      "  2%|▏         | 9/562 [06:54<6:07:16, 39.85s/it]"
     ]
    },
    {
     "name": "stdout",
     "output_type": "stream",
     "text": [
      "Loaded 32 images in 0.27 seconds\n",
      "Preprocessed and inferred 32 images in 0.45 seconds\n",
      "torch.Size([32, 1024])\n"
     ]
    },
    {
     "name": "stderr",
     "output_type": "stream",
     "text": [
      "  2%|▏         | 10/562 [06:57<4:19:10, 28.17s/it]"
     ]
    },
    {
     "name": "stdout",
     "output_type": "stream",
     "text": [
      "Loaded 32 images in 0.31 seconds\n",
      "Preprocessed and inferred 32 images in 0.46 seconds\n",
      "torch.Size([32, 1024])\n"
     ]
    },
    {
     "name": "stderr",
     "output_type": "stream",
     "text": [
      "  2%|▏         | 11/562 [06:59<3:05:18, 20.18s/it]"
     ]
    },
    {
     "name": "stdout",
     "output_type": "stream",
     "text": [
      "Loaded 32 images in 0.70 seconds\n",
      "Preprocessed and inferred 32 images in 0.29 seconds\n",
      "torch.Size([32, 1024])\n"
     ]
    },
    {
     "name": "stderr",
     "output_type": "stream",
     "text": [
      "  2%|▏         | 12/562 [07:01<2:15:05, 14.74s/it]"
     ]
    },
    {
     "name": "stdout",
     "output_type": "stream",
     "text": [
      "Loaded 32 images in 0.24 seconds\n",
      "Preprocessed and inferred 32 images in 0.29 seconds\n",
      "torch.Size([32, 1024])\n"
     ]
    },
    {
     "name": "stderr",
     "output_type": "stream",
     "text": [
      "  2%|▏         | 13/562 [07:03<1:39:03, 10.83s/it]"
     ]
    },
    {
     "name": "stdout",
     "output_type": "stream",
     "text": [
      "Loaded 32 images in 0.22 seconds\n",
      "Preprocessed and inferred 32 images in 0.29 seconds\n",
      "torch.Size([32, 1024])\n"
     ]
    },
    {
     "name": "stderr",
     "output_type": "stream",
     "text": [
      "  2%|▏         | 14/562 [07:04<1:14:00,  8.10s/it]"
     ]
    },
    {
     "name": "stdout",
     "output_type": "stream",
     "text": [
      "Loaded 32 images in 0.24 seconds\n",
      "Preprocessed and inferred 32 images in 0.30 seconds\n",
      "torch.Size([32, 1024])\n"
     ]
    },
    {
     "name": "stderr",
     "output_type": "stream",
     "text": [
      "  3%|▎         | 15/562 [07:06<56:40,  6.22s/it]  "
     ]
    },
    {
     "name": "stdout",
     "output_type": "stream",
     "text": [
      "Loaded 32 images in 0.21 seconds\n",
      "Preprocessed and inferred 32 images in 0.30 seconds\n",
      "torch.Size([32, 1024])\n"
     ]
    },
    {
     "name": "stderr",
     "output_type": "stream",
     "text": [
      "  3%|▎         | 16/562 [07:08<44:31,  4.89s/it]"
     ]
    },
    {
     "name": "stdout",
     "output_type": "stream",
     "text": [
      "Loaded 32 images in 0.22 seconds\n",
      "Preprocessed and inferred 32 images in 0.29 seconds\n",
      "torch.Size([32, 1024])\n"
     ]
    },
    {
     "name": "stderr",
     "output_type": "stream",
     "text": [
      "  3%|▎         | 17/562 [07:10<36:01,  3.97s/it]"
     ]
    },
    {
     "name": "stdout",
     "output_type": "stream",
     "text": [
      "Loaded 32 images in 0.29 seconds\n",
      "Preprocessed and inferred 32 images in 0.49 seconds\n",
      "torch.Size([32, 1024])\n"
     ]
    },
    {
     "name": "stderr",
     "output_type": "stream",
     "text": [
      "  3%|▎         | 18/562 [07:12<30:52,  3.40s/it]"
     ]
    },
    {
     "name": "stdout",
     "output_type": "stream",
     "text": [
      "Loaded 32 images in 0.27 seconds\n",
      "Preprocessed and inferred 32 images in 0.46 seconds\n",
      "torch.Size([32, 1024])\n"
     ]
    },
    {
     "name": "stderr",
     "output_type": "stream",
     "text": [
      "  3%|▎         | 19/562 [07:14<27:04,  2.99s/it]"
     ]
    },
    {
     "name": "stdout",
     "output_type": "stream",
     "text": [
      "Loaded 32 images in 0.30 seconds\n",
      "Preprocessed and inferred 32 images in 0.47 seconds\n",
      "torch.Size([32, 1024])\n"
     ]
    },
    {
     "name": "stderr",
     "output_type": "stream",
     "text": [
      "  4%|▎         | 20/562 [07:16<24:33,  2.72s/it]"
     ]
    },
    {
     "name": "stdout",
     "output_type": "stream",
     "text": [
      "Loaded 32 images in 0.30 seconds\n",
      "Preprocessed and inferred 32 images in 0.48 seconds\n",
      "torch.Size([32, 1024])\n"
     ]
    },
    {
     "name": "stderr",
     "output_type": "stream",
     "text": [
      "  4%|▎         | 21/562 [07:18<22:47,  2.53s/it]"
     ]
    },
    {
     "name": "stdout",
     "output_type": "stream",
     "text": [
      "Loaded 32 images in 0.24 seconds\n",
      "Preprocessed and inferred 32 images in 0.29 seconds\n",
      "torch.Size([32, 1024])\n"
     ]
    },
    {
     "name": "stderr",
     "output_type": "stream",
     "text": [
      "  4%|▍         | 22/562 [07:20<20:55,  2.32s/it]"
     ]
    },
    {
     "name": "stdout",
     "output_type": "stream",
     "text": [
      "Loaded 32 images in 0.20 seconds\n",
      "Preprocessed and inferred 32 images in 0.30 seconds\n",
      "torch.Size([32, 1024])\n"
     ]
    },
    {
     "name": "stderr",
     "output_type": "stream",
     "text": [
      "  4%|▍         | 23/562 [07:22<19:31,  2.17s/it]"
     ]
    },
    {
     "name": "stdout",
     "output_type": "stream",
     "text": [
      "Loaded 32 images in 0.21 seconds\n",
      "Preprocessed and inferred 32 images in 0.29 seconds\n",
      "torch.Size([32, 1024])\n"
     ]
    },
    {
     "name": "stderr",
     "output_type": "stream",
     "text": [
      "  4%|▍         | 24/562 [07:24<18:31,  2.07s/it]"
     ]
    },
    {
     "name": "stdout",
     "output_type": "stream",
     "text": [
      "Loaded 32 images in 0.22 seconds\n",
      "Preprocessed and inferred 32 images in 0.30 seconds\n",
      "torch.Size([32, 1024])\n"
     ]
    },
    {
     "name": "stderr",
     "output_type": "stream",
     "text": [
      "  4%|▍         | 25/562 [07:26<17:53,  2.00s/it]"
     ]
    },
    {
     "name": "stdout",
     "output_type": "stream",
     "text": [
      "Loaded 32 images in 0.22 seconds\n",
      "Preprocessed and inferred 32 images in 0.29 seconds\n",
      "torch.Size([32, 1024])\n"
     ]
    },
    {
     "name": "stderr",
     "output_type": "stream",
     "text": [
      "  5%|▍         | 26/562 [07:27<17:24,  1.95s/it]"
     ]
    },
    {
     "name": "stdout",
     "output_type": "stream",
     "text": [
      "Loaded 32 images in 0.28 seconds\n",
      "Preprocessed and inferred 32 images in 0.50 seconds\n",
      "torch.Size([32, 1024])\n"
     ]
    },
    {
     "name": "stderr",
     "output_type": "stream",
     "text": [
      "  5%|▍         | 27/562 [07:30<17:47,  2.00s/it]"
     ]
    },
    {
     "name": "stdout",
     "output_type": "stream",
     "text": [
      "Loaded 32 images in 0.26 seconds\n",
      "Preprocessed and inferred 32 images in 0.46 seconds\n",
      "torch.Size([32, 1024])\n"
     ]
    },
    {
     "name": "stderr",
     "output_type": "stream",
     "text": [
      "  5%|▍         | 28/562 [07:32<17:52,  2.01s/it]"
     ]
    },
    {
     "name": "stdout",
     "output_type": "stream",
     "text": [
      "Loaded 32 images in 0.29 seconds\n",
      "Preprocessed and inferred 32 images in 0.47 seconds\n",
      "torch.Size([32, 1024])\n"
     ]
    },
    {
     "name": "stderr",
     "output_type": "stream",
     "text": [
      "  5%|▌         | 29/562 [07:34<18:01,  2.03s/it]"
     ]
    },
    {
     "name": "stdout",
     "output_type": "stream",
     "text": [
      "Loaded 32 images in 0.62 seconds\n",
      "Preprocessed and inferred 32 images in 0.28 seconds\n",
      "torch.Size([32, 1024])\n"
     ]
    },
    {
     "name": "stderr",
     "output_type": "stream",
     "text": [
      "  5%|▌         | 30/562 [07:36<18:31,  2.09s/it]"
     ]
    },
    {
     "name": "stdout",
     "output_type": "stream",
     "text": [
      "Loaded 32 images in 0.21 seconds\n",
      "Preprocessed and inferred 32 images in 0.31 seconds\n",
      "torch.Size([32, 1024])\n"
     ]
    },
    {
     "name": "stderr",
     "output_type": "stream",
     "text": [
      "  6%|▌         | 31/562 [07:38<17:52,  2.02s/it]"
     ]
    },
    {
     "name": "stdout",
     "output_type": "stream",
     "text": [
      "Loaded 32 images in 0.23 seconds\n",
      "Preprocessed and inferred 32 images in 0.30 seconds\n",
      "torch.Size([32, 1024])\n"
     ]
    },
    {
     "name": "stderr",
     "output_type": "stream",
     "text": [
      "  6%|▌         | 32/562 [07:40<17:24,  1.97s/it]"
     ]
    },
    {
     "name": "stdout",
     "output_type": "stream",
     "text": [
      "Loaded 32 images in 0.20 seconds\n",
      "Preprocessed and inferred 32 images in 0.29 seconds\n",
      "torch.Size([32, 1024])\n"
     ]
    },
    {
     "name": "stderr",
     "output_type": "stream",
     "text": [
      "  6%|▌         | 33/562 [07:41<16:59,  1.93s/it]"
     ]
    },
    {
     "name": "stdout",
     "output_type": "stream",
     "text": [
      "Loaded 32 images in 0.23 seconds\n",
      "Preprocessed and inferred 32 images in 0.29 seconds\n",
      "torch.Size([32, 1024])\n"
     ]
    },
    {
     "name": "stderr",
     "output_type": "stream",
     "text": [
      "  6%|▌         | 34/562 [07:43<16:46,  1.91s/it]"
     ]
    },
    {
     "name": "stdout",
     "output_type": "stream",
     "text": [
      "Loaded 32 images in 0.24 seconds\n",
      "Preprocessed and inferred 32 images in 0.46 seconds\n",
      "torch.Size([32, 1024])\n"
     ]
    },
    {
     "name": "stderr",
     "output_type": "stream",
     "text": [
      "  6%|▌         | 35/562 [07:45<17:04,  1.94s/it]"
     ]
    },
    {
     "name": "stdout",
     "output_type": "stream",
     "text": [
      "Loaded 32 images in 0.29 seconds\n",
      "Preprocessed and inferred 32 images in 0.46 seconds\n",
      "torch.Size([32, 1024])\n"
     ]
    },
    {
     "name": "stderr",
     "output_type": "stream",
     "text": [
      "  6%|▋         | 36/562 [07:47<17:23,  1.98s/it]"
     ]
    },
    {
     "name": "stdout",
     "output_type": "stream",
     "text": [
      "Loaded 32 images in 0.26 seconds\n",
      "Preprocessed and inferred 32 images in 0.41 seconds\n",
      "torch.Size([32, 1024])\n"
     ]
    },
    {
     "name": "stderr",
     "output_type": "stream",
     "text": [
      "  7%|▋         | 37/562 [07:49<17:25,  1.99s/it]"
     ]
    },
    {
     "name": "stdout",
     "output_type": "stream",
     "text": [
      "Loaded 32 images in 0.21 seconds\n",
      "Preprocessed and inferred 32 images in 0.29 seconds\n",
      "torch.Size([32, 1024])\n"
     ]
    },
    {
     "name": "stderr",
     "output_type": "stream",
     "text": [
      "  7%|▋         | 38/562 [07:51<17:00,  1.95s/it]"
     ]
    },
    {
     "name": "stdout",
     "output_type": "stream",
     "text": [
      "Loaded 32 images in 0.22 seconds\n",
      "Preprocessed and inferred 32 images in 0.30 seconds\n",
      "torch.Size([32, 1024])\n"
     ]
    },
    {
     "name": "stderr",
     "output_type": "stream",
     "text": [
      "  7%|▋         | 39/562 [07:53<16:46,  1.92s/it]"
     ]
    },
    {
     "name": "stdout",
     "output_type": "stream",
     "text": [
      "Loaded 32 images in 0.21 seconds\n",
      "Preprocessed and inferred 32 images in 0.30 seconds\n",
      "torch.Size([32, 1024])\n"
     ]
    },
    {
     "name": "stderr",
     "output_type": "stream",
     "text": [
      "  7%|▋         | 40/562 [07:55<16:32,  1.90s/it]"
     ]
    },
    {
     "name": "stdout",
     "output_type": "stream",
     "text": [
      "Loaded 32 images in 0.69 seconds\n",
      "Preprocessed and inferred 32 images in 0.28 seconds\n",
      "torch.Size([32, 1024])\n"
     ]
    },
    {
     "name": "stderr",
     "output_type": "stream",
     "text": [
      "  7%|▋         | 41/562 [07:57<17:37,  2.03s/it]"
     ]
    },
    {
     "name": "stdout",
     "output_type": "stream",
     "text": [
      "Loaded 32 images in 0.21 seconds\n",
      "Preprocessed and inferred 32 images in 0.30 seconds\n",
      "torch.Size([32, 1024])\n"
     ]
    },
    {
     "name": "stderr",
     "output_type": "stream",
     "text": [
      "  7%|▋         | 42/562 [07:59<17:07,  1.98s/it]"
     ]
    },
    {
     "name": "stdout",
     "output_type": "stream",
     "text": [
      "Loaded 32 images in 0.56 seconds\n",
      "Preprocessed and inferred 32 images in 0.47 seconds\n",
      "torch.Size([32, 1024])\n"
     ]
    },
    {
     "name": "stderr",
     "output_type": "stream",
     "text": [
      "  8%|▊         | 43/562 [08:02<18:06,  2.09s/it]"
     ]
    },
    {
     "name": "stdout",
     "output_type": "stream",
     "text": [
      "Loaded 32 images in 0.27 seconds\n",
      "Preprocessed and inferred 32 images in 0.46 seconds\n",
      "torch.Size([32, 1024])\n"
     ]
    },
    {
     "name": "stderr",
     "output_type": "stream",
     "text": [
      "  8%|▊         | 44/562 [08:04<18:01,  2.09s/it]"
     ]
    },
    {
     "name": "stdout",
     "output_type": "stream",
     "text": [
      "Loaded 32 images in 0.21 seconds\n",
      "Preprocessed and inferred 32 images in 0.30 seconds\n",
      "torch.Size([32, 1024])\n"
     ]
    },
    {
     "name": "stderr",
     "output_type": "stream",
     "text": [
      "  8%|▊         | 45/562 [08:05<17:24,  2.02s/it]"
     ]
    },
    {
     "name": "stdout",
     "output_type": "stream",
     "text": [
      "Loaded 32 images in 0.24 seconds\n",
      "Preprocessed and inferred 32 images in 0.29 seconds\n",
      "torch.Size([32, 1024])\n"
     ]
    },
    {
     "name": "stderr",
     "output_type": "stream",
     "text": [
      "  8%|▊         | 46/562 [08:07<17:00,  1.98s/it]"
     ]
    },
    {
     "name": "stdout",
     "output_type": "stream",
     "text": [
      "Loaded 32 images in 0.21 seconds\n",
      "Preprocessed and inferred 32 images in 0.29 seconds\n",
      "torch.Size([32, 1024])\n"
     ]
    },
    {
     "name": "stderr",
     "output_type": "stream",
     "text": [
      "  8%|▊         | 47/562 [08:09<16:38,  1.94s/it]"
     ]
    },
    {
     "name": "stdout",
     "output_type": "stream",
     "text": [
      "Loaded 32 images in 0.23 seconds\n",
      "Preprocessed and inferred 32 images in 0.29 seconds\n",
      "torch.Size([32, 1024])\n"
     ]
    },
    {
     "name": "stderr",
     "output_type": "stream",
     "text": [
      "  9%|▊         | 48/562 [08:11<16:26,  1.92s/it]"
     ]
    },
    {
     "name": "stdout",
     "output_type": "stream",
     "text": [
      "Loaded 32 images in 0.22 seconds\n",
      "Preprocessed and inferred 32 images in 0.29 seconds\n",
      "torch.Size([32, 1024])\n"
     ]
    },
    {
     "name": "stderr",
     "output_type": "stream",
     "text": [
      "  9%|▊         | 49/562 [08:13<16:15,  1.90s/it]"
     ]
    },
    {
     "name": "stdout",
     "output_type": "stream",
     "text": [
      "Loaded 32 images in 0.26 seconds\n",
      "Preprocessed and inferred 32 images in 0.48 seconds\n",
      "torch.Size([32, 1024])\n"
     ]
    },
    {
     "name": "stderr",
     "output_type": "stream",
     "text": [
      "  9%|▉         | 50/562 [08:15<16:43,  1.96s/it]"
     ]
    },
    {
     "name": "stdout",
     "output_type": "stream",
     "text": [
      "Loaded 32 images in 0.28 seconds\n",
      "Preprocessed and inferred 32 images in 0.49 seconds\n",
      "torch.Size([32, 1024])\n"
     ]
    },
    {
     "name": "stderr",
     "output_type": "stream",
     "text": [
      "  9%|▉         | 51/562 [08:17<17:05,  2.01s/it]"
     ]
    },
    {
     "name": "stdout",
     "output_type": "stream",
     "text": [
      "Loaded 32 images in 0.24 seconds\n",
      "Preprocessed and inferred 32 images in 0.30 seconds\n",
      "torch.Size([32, 1024])\n"
     ]
    },
    {
     "name": "stderr",
     "output_type": "stream",
     "text": [
      "  9%|▉         | 52/562 [08:19<16:46,  1.97s/it]"
     ]
    },
    {
     "name": "stdout",
     "output_type": "stream",
     "text": [
      "Loaded 32 images in 0.23 seconds\n",
      "Preprocessed and inferred 32 images in 0.29 seconds\n",
      "torch.Size([32, 1024])\n"
     ]
    },
    {
     "name": "stderr",
     "output_type": "stream",
     "text": [
      "  9%|▉         | 53/562 [08:21<16:30,  1.95s/it]"
     ]
    },
    {
     "name": "stdout",
     "output_type": "stream",
     "text": [
      "Loaded 32 images in 0.20 seconds\n",
      "Preprocessed and inferred 32 images in 0.29 seconds\n",
      "torch.Size([32, 1024])\n"
     ]
    },
    {
     "name": "stderr",
     "output_type": "stream",
     "text": [
      " 10%|▉         | 54/562 [08:23<16:15,  1.92s/it]"
     ]
    },
    {
     "name": "stdout",
     "output_type": "stream",
     "text": [
      "Loaded 32 images in 0.24 seconds\n",
      "Preprocessed and inferred 32 images in 0.29 seconds\n",
      "torch.Size([32, 1024])\n"
     ]
    },
    {
     "name": "stderr",
     "output_type": "stream",
     "text": [
      " 10%|▉         | 55/562 [08:25<16:09,  1.91s/it]"
     ]
    },
    {
     "name": "stdout",
     "output_type": "stream",
     "text": [
      "Loaded 32 images in 0.22 seconds\n",
      "Preprocessed and inferred 32 images in 0.32 seconds\n",
      "torch.Size([32, 1024])\n"
     ]
    },
    {
     "name": "stderr",
     "output_type": "stream",
     "text": [
      " 10%|▉         | 56/562 [08:27<16:03,  1.90s/it]"
     ]
    },
    {
     "name": "stdout",
     "output_type": "stream",
     "text": [
      "Loaded 32 images in 0.34 seconds\n",
      "Preprocessed and inferred 32 images in 0.51 seconds\n",
      "torch.Size([32, 1024])\n"
     ]
    },
    {
     "name": "stderr",
     "output_type": "stream",
     "text": [
      " 10%|█         | 57/562 [08:29<16:48,  2.00s/it]"
     ]
    },
    {
     "name": "stdout",
     "output_type": "stream",
     "text": [
      "Loaded 32 images in 0.33 seconds\n",
      "Preprocessed and inferred 32 images in 0.52 seconds\n",
      "torch.Size([32, 1024])\n"
     ]
    },
    {
     "name": "stderr",
     "output_type": "stream",
     "text": [
      " 10%|█         | 58/562 [08:31<17:17,  2.06s/it]"
     ]
    },
    {
     "name": "stdout",
     "output_type": "stream",
     "text": [
      "Loaded 32 images in 0.34 seconds\n",
      "Preprocessed and inferred 32 images in 0.57 seconds\n",
      "torch.Size([32, 1024])\n"
     ]
    },
    {
     "name": "stderr",
     "output_type": "stream",
     "text": [
      " 10%|█         | 59/562 [08:33<17:45,  2.12s/it]"
     ]
    },
    {
     "name": "stdout",
     "output_type": "stream",
     "text": [
      "Loaded 32 images in 0.30 seconds\n",
      "Preprocessed and inferred 32 images in 0.29 seconds\n",
      "torch.Size([32, 1024])\n"
     ]
    },
    {
     "name": "stderr",
     "output_type": "stream",
     "text": [
      " 11%|█         | 60/562 [08:35<17:19,  2.07s/it]"
     ]
    },
    {
     "name": "stdout",
     "output_type": "stream",
     "text": [
      "Loaded 32 images in 0.20 seconds\n",
      "Preprocessed and inferred 32 images in 0.28 seconds\n",
      "torch.Size([32, 1024])\n"
     ]
    },
    {
     "name": "stderr",
     "output_type": "stream",
     "text": [
      " 11%|█         | 61/562 [08:37<16:44,  2.00s/it]"
     ]
    },
    {
     "name": "stdout",
     "output_type": "stream",
     "text": [
      "Loaded 32 images in 0.23 seconds\n",
      "Preprocessed and inferred 32 images in 0.29 seconds\n",
      "torch.Size([32, 1024])\n"
     ]
    },
    {
     "name": "stderr",
     "output_type": "stream",
     "text": [
      " 11%|█         | 62/562 [08:39<16:24,  1.97s/it]"
     ]
    },
    {
     "name": "stdout",
     "output_type": "stream",
     "text": [
      "Loaded 32 images in 0.21 seconds\n",
      "Preprocessed and inferred 32 images in 0.30 seconds\n",
      "torch.Size([32, 1024])\n"
     ]
    },
    {
     "name": "stderr",
     "output_type": "stream",
     "text": [
      " 11%|█         | 63/562 [08:41<16:05,  1.94s/it]"
     ]
    },
    {
     "name": "stdout",
     "output_type": "stream",
     "text": [
      "Loaded 32 images in 0.20 seconds\n",
      "Preprocessed and inferred 32 images in 0.28 seconds\n",
      "torch.Size([32, 1024])\n"
     ]
    },
    {
     "name": "stderr",
     "output_type": "stream",
     "text": [
      " 11%|█▏        | 64/562 [08:43<15:52,  1.91s/it]"
     ]
    },
    {
     "name": "stdout",
     "output_type": "stream",
     "text": [
      "Loaded 32 images in 0.24 seconds\n",
      "Preprocessed and inferred 32 images in 0.29 seconds\n",
      "torch.Size([32, 1024])\n"
     ]
    },
    {
     "name": "stderr",
     "output_type": "stream",
     "text": [
      " 12%|█▏        | 65/562 [08:45<15:48,  1.91s/it]"
     ]
    },
    {
     "name": "stdout",
     "output_type": "stream",
     "text": [
      "Loaded 32 images in 0.26 seconds\n",
      "Preprocessed and inferred 32 images in 0.49 seconds\n",
      "torch.Size([32, 1024])\n"
     ]
    },
    {
     "name": "stderr",
     "output_type": "stream",
     "text": [
      " 12%|█▏        | 66/562 [08:47<16:15,  1.97s/it]"
     ]
    },
    {
     "name": "stdout",
     "output_type": "stream",
     "text": [
      "Loaded 32 images in 0.34 seconds\n",
      "Preprocessed and inferred 32 images in 0.51 seconds\n",
      "torch.Size([32, 1024])\n"
     ]
    },
    {
     "name": "stderr",
     "output_type": "stream",
     "text": [
      " 12%|█▏        | 67/562 [08:49<16:47,  2.03s/it]"
     ]
    },
    {
     "name": "stdout",
     "output_type": "stream",
     "text": [
      "Loaded 32 images in 0.21 seconds\n",
      "Preprocessed and inferred 32 images in 0.29 seconds\n",
      "torch.Size([32, 1024])\n"
     ]
    },
    {
     "name": "stderr",
     "output_type": "stream",
     "text": [
      " 12%|█▏        | 68/562 [08:51<16:19,  1.98s/it]"
     ]
    },
    {
     "name": "stdout",
     "output_type": "stream",
     "text": [
      "Loaded 32 images in 0.24 seconds\n",
      "Preprocessed and inferred 32 images in 0.28 seconds\n",
      "torch.Size([32, 1024])\n"
     ]
    },
    {
     "name": "stderr",
     "output_type": "stream",
     "text": [
      " 12%|█▏        | 69/562 [08:53<16:03,  1.96s/it]"
     ]
    },
    {
     "name": "stdout",
     "output_type": "stream",
     "text": [
      "Loaded 32 images in 0.21 seconds\n",
      "Preprocessed and inferred 32 images in 0.30 seconds\n",
      "torch.Size([32, 1024])\n"
     ]
    },
    {
     "name": "stderr",
     "output_type": "stream",
     "text": [
      " 12%|█▏        | 70/562 [08:54<15:49,  1.93s/it]"
     ]
    },
    {
     "name": "stdout",
     "output_type": "stream",
     "text": [
      "Loaded 32 images in 0.22 seconds\n",
      "Preprocessed and inferred 32 images in 0.30 seconds\n",
      "torch.Size([32, 1024])\n"
     ]
    },
    {
     "name": "stderr",
     "output_type": "stream",
     "text": [
      " 13%|█▎        | 71/562 [08:56<15:40,  1.91s/it]"
     ]
    },
    {
     "name": "stdout",
     "output_type": "stream",
     "text": [
      "Loaded 32 images in 0.23 seconds\n",
      "Preprocessed and inferred 32 images in 0.29 seconds\n",
      "torch.Size([32, 1024])\n"
     ]
    },
    {
     "name": "stderr",
     "output_type": "stream",
     "text": [
      " 13%|█▎        | 72/562 [08:58<15:34,  1.91s/it]"
     ]
    },
    {
     "name": "stdout",
     "output_type": "stream",
     "text": [
      "Loaded 32 images in 0.25 seconds\n",
      "Preprocessed and inferred 32 images in 0.49 seconds\n",
      "torch.Size([32, 1024])\n"
     ]
    },
    {
     "name": "stderr",
     "output_type": "stream",
     "text": [
      " 13%|█▎        | 73/562 [09:00<16:01,  1.97s/it]"
     ]
    },
    {
     "name": "stdout",
     "output_type": "stream",
     "text": [
      "Loaded 32 images in 0.29 seconds\n",
      "Preprocessed and inferred 32 images in 0.45 seconds\n",
      "torch.Size([32, 1024])\n"
     ]
    },
    {
     "name": "stderr",
     "output_type": "stream",
     "text": [
      " 13%|█▎        | 74/562 [09:02<16:20,  2.01s/it]"
     ]
    },
    {
     "name": "stdout",
     "output_type": "stream",
     "text": [
      "Loaded 32 images in 0.21 seconds\n",
      "Preprocessed and inferred 32 images in 0.29 seconds\n",
      "torch.Size([32, 1024])\n"
     ]
    },
    {
     "name": "stderr",
     "output_type": "stream",
     "text": [
      " 13%|█▎        | 75/562 [09:04<15:58,  1.97s/it]"
     ]
    },
    {
     "name": "stdout",
     "output_type": "stream",
     "text": [
      "Loaded 32 images in 0.24 seconds\n",
      "Preprocessed and inferred 32 images in 0.28 seconds\n",
      "torch.Size([32, 1024])\n"
     ]
    },
    {
     "name": "stderr",
     "output_type": "stream",
     "text": [
      " 14%|█▎        | 76/562 [09:06<15:46,  1.95s/it]"
     ]
    },
    {
     "name": "stdout",
     "output_type": "stream",
     "text": [
      "Loaded 32 images in 0.23 seconds\n",
      "Preprocessed and inferred 32 images in 0.29 seconds\n",
      "torch.Size([32, 1024])\n"
     ]
    },
    {
     "name": "stderr",
     "output_type": "stream",
     "text": [
      " 14%|█▎        | 77/562 [09:08<15:35,  1.93s/it]"
     ]
    },
    {
     "name": "stdout",
     "output_type": "stream",
     "text": [
      "Loaded 32 images in 0.22 seconds\n",
      "Preprocessed and inferred 32 images in 0.30 seconds\n",
      "torch.Size([32, 1024])\n"
     ]
    },
    {
     "name": "stderr",
     "output_type": "stream",
     "text": [
      " 14%|█▍        | 78/562 [09:10<15:29,  1.92s/it]"
     ]
    },
    {
     "name": "stdout",
     "output_type": "stream",
     "text": [
      "Loaded 32 images in 0.24 seconds\n",
      "Preprocessed and inferred 32 images in 0.30 seconds\n",
      "torch.Size([32, 1024])\n"
     ]
    },
    {
     "name": "stderr",
     "output_type": "stream",
     "text": [
      " 14%|█▍        | 79/562 [09:12<15:26,  1.92s/it]"
     ]
    },
    {
     "name": "stdout",
     "output_type": "stream",
     "text": [
      "Loaded 32 images in 0.26 seconds\n",
      "Preprocessed and inferred 32 images in 0.49 seconds\n",
      "torch.Size([32, 1024])\n"
     ]
    },
    {
     "name": "stderr",
     "output_type": "stream",
     "text": [
      " 14%|█▍        | 80/562 [09:14<15:53,  1.98s/it]"
     ]
    },
    {
     "name": "stdout",
     "output_type": "stream",
     "text": [
      "Loaded 32 images in 0.29 seconds\n",
      "Preprocessed and inferred 32 images in 0.46 seconds\n",
      "torch.Size([32, 1024])\n"
     ]
    },
    {
     "name": "stderr",
     "output_type": "stream",
     "text": [
      " 14%|█▍        | 81/562 [09:16<16:11,  2.02s/it]"
     ]
    },
    {
     "name": "stdout",
     "output_type": "stream",
     "text": [
      "Loaded 32 images in 0.21 seconds\n",
      "Preprocessed and inferred 32 images in 0.29 seconds\n",
      "torch.Size([32, 1024])\n"
     ]
    },
    {
     "name": "stderr",
     "output_type": "stream",
     "text": [
      " 15%|█▍        | 82/562 [09:18<15:50,  1.98s/it]"
     ]
    },
    {
     "name": "stdout",
     "output_type": "stream",
     "text": [
      "Loaded 32 images in 0.23 seconds\n",
      "Preprocessed and inferred 32 images in 0.29 seconds\n",
      "torch.Size([32, 1024])\n"
     ]
    },
    {
     "name": "stderr",
     "output_type": "stream",
     "text": [
      " 15%|█▍        | 83/562 [09:20<15:36,  1.96s/it]"
     ]
    },
    {
     "name": "stdout",
     "output_type": "stream",
     "text": [
      "Loaded 32 images in 0.23 seconds\n",
      "Preprocessed and inferred 32 images in 0.28 seconds\n",
      "torch.Size([32, 1024])\n"
     ]
    },
    {
     "name": "stderr",
     "output_type": "stream",
     "text": [
      " 15%|█▍        | 84/562 [09:22<15:27,  1.94s/it]"
     ]
    },
    {
     "name": "stdout",
     "output_type": "stream",
     "text": [
      "Loaded 32 images in 0.21 seconds\n",
      "Preprocessed and inferred 32 images in 0.29 seconds\n",
      "torch.Size([32, 1024])\n"
     ]
    },
    {
     "name": "stderr",
     "output_type": "stream",
     "text": [
      " 15%|█▌        | 85/562 [09:24<15:18,  1.92s/it]"
     ]
    },
    {
     "name": "stdout",
     "output_type": "stream",
     "text": [
      "Loaded 32 images in 0.24 seconds\n",
      "Preprocessed and inferred 32 images in 0.29 seconds\n",
      "torch.Size([32, 1024])\n"
     ]
    },
    {
     "name": "stderr",
     "output_type": "stream",
     "text": [
      " 15%|█▌        | 86/562 [09:26<15:14,  1.92s/it]"
     ]
    },
    {
     "name": "stdout",
     "output_type": "stream",
     "text": [
      "Loaded 32 images in 0.20 seconds\n",
      "Preprocessed and inferred 32 images in 0.30 seconds\n",
      "torch.Size([32, 1024])\n"
     ]
    },
    {
     "name": "stderr",
     "output_type": "stream",
     "text": [
      " 15%|█▌        | 87/562 [09:28<15:07,  1.91s/it]"
     ]
    },
    {
     "name": "stdout",
     "output_type": "stream",
     "text": [
      "Loaded 32 images in 0.29 seconds\n",
      "Preprocessed and inferred 32 images in 0.48 seconds\n",
      "torch.Size([32, 1024])\n"
     ]
    },
    {
     "name": "stderr",
     "output_type": "stream",
     "text": [
      " 16%|█▌        | 88/562 [09:30<15:39,  1.98s/it]"
     ]
    },
    {
     "name": "stdout",
     "output_type": "stream",
     "text": [
      "Loaded 32 images in 0.26 seconds\n",
      "Preprocessed and inferred 32 images in 0.47 seconds\n",
      "torch.Size([32, 1024])\n"
     ]
    },
    {
     "name": "stderr",
     "output_type": "stream",
     "text": [
      " 16%|█▌        | 89/562 [09:32<15:55,  2.02s/it]"
     ]
    },
    {
     "name": "stdout",
     "output_type": "stream",
     "text": [
      "Loaded 32 images in 0.24 seconds\n",
      "Preprocessed and inferred 32 images in 0.30 seconds\n",
      "torch.Size([32, 1024])\n"
     ]
    },
    {
     "name": "stderr",
     "output_type": "stream",
     "text": [
      " 16%|█▌        | 90/562 [09:34<15:40,  1.99s/it]"
     ]
    },
    {
     "name": "stdout",
     "output_type": "stream",
     "text": [
      "Loaded 32 images in 0.21 seconds\n",
      "Preprocessed and inferred 32 images in 0.29 seconds\n",
      "torch.Size([32, 1024])\n"
     ]
    },
    {
     "name": "stderr",
     "output_type": "stream",
     "text": [
      " 16%|█▌        | 91/562 [09:36<15:23,  1.96s/it]"
     ]
    },
    {
     "name": "stdout",
     "output_type": "stream",
     "text": [
      "Loaded 32 images in 0.20 seconds\n",
      "Preprocessed and inferred 32 images in 0.29 seconds\n",
      "torch.Size([32, 1024])\n"
     ]
    },
    {
     "name": "stderr",
     "output_type": "stream",
     "text": [
      " 16%|█▋        | 92/562 [09:37<15:09,  1.94s/it]"
     ]
    },
    {
     "name": "stdout",
     "output_type": "stream",
     "text": [
      "Loaded 32 images in 0.22 seconds\n",
      "Preprocessed and inferred 32 images in 0.29 seconds\n",
      "torch.Size([32, 1024])\n"
     ]
    },
    {
     "name": "stderr",
     "output_type": "stream",
     "text": [
      " 17%|█▋        | 93/562 [09:39<15:03,  1.93s/it]"
     ]
    },
    {
     "name": "stdout",
     "output_type": "stream",
     "text": [
      "Loaded 32 images in 0.21 seconds\n",
      "Preprocessed and inferred 32 images in 0.29 seconds\n",
      "torch.Size([32, 1024])\n"
     ]
    },
    {
     "name": "stderr",
     "output_type": "stream",
     "text": [
      " 17%|█▋        | 94/562 [09:41<14:56,  1.92s/it]"
     ]
    },
    {
     "name": "stdout",
     "output_type": "stream",
     "text": [
      "Loaded 32 images in 0.28 seconds\n",
      "Preprocessed and inferred 32 images in 0.46 seconds\n",
      "torch.Size([32, 1024])\n"
     ]
    },
    {
     "name": "stderr",
     "output_type": "stream",
     "text": [
      " 17%|█▋        | 95/562 [09:43<15:25,  1.98s/it]"
     ]
    },
    {
     "name": "stdout",
     "output_type": "stream",
     "text": [
      "Loaded 32 images in 0.27 seconds\n",
      "Preprocessed and inferred 32 images in 0.46 seconds\n",
      "torch.Size([32, 1024])\n"
     ]
    },
    {
     "name": "stderr",
     "output_type": "stream",
     "text": [
      " 17%|█▋        | 96/562 [09:46<15:43,  2.02s/it]"
     ]
    },
    {
     "name": "stdout",
     "output_type": "stream",
     "text": [
      "Loaded 32 images in 0.21 seconds\n",
      "Preprocessed and inferred 32 images in 0.29 seconds\n",
      "torch.Size([32, 1024])\n"
     ]
    },
    {
     "name": "stderr",
     "output_type": "stream",
     "text": [
      " 17%|█▋        | 97/562 [09:47<15:23,  1.99s/it]"
     ]
    },
    {
     "name": "stdout",
     "output_type": "stream",
     "text": [
      "Loaded 32 images in 0.26 seconds\n",
      "Preprocessed and inferred 32 images in 0.30 seconds\n",
      "torch.Size([32, 1024])\n"
     ]
    },
    {
     "name": "stderr",
     "output_type": "stream",
     "text": [
      " 17%|█▋        | 98/562 [09:49<15:16,  1.98s/it]"
     ]
    },
    {
     "name": "stdout",
     "output_type": "stream",
     "text": [
      "Loaded 32 images in 0.20 seconds\n",
      "Preprocessed and inferred 32 images in 0.30 seconds\n",
      "torch.Size([32, 1024])\n"
     ]
    },
    {
     "name": "stderr",
     "output_type": "stream",
     "text": [
      " 18%|█▊        | 99/562 [09:51<15:04,  1.95s/it]"
     ]
    },
    {
     "name": "stdout",
     "output_type": "stream",
     "text": [
      "Loaded 32 images in 0.23 seconds\n",
      "Preprocessed and inferred 32 images in 0.29 seconds\n",
      "torch.Size([32, 1024])\n"
     ]
    },
    {
     "name": "stderr",
     "output_type": "stream",
     "text": [
      " 18%|█▊        | 100/562 [09:53<14:57,  1.94s/it]"
     ]
    },
    {
     "name": "stdout",
     "output_type": "stream",
     "text": [
      "Loaded 32 images in 0.21 seconds\n",
      "Preprocessed and inferred 32 images in 0.29 seconds\n",
      "torch.Size([32, 1024])\n"
     ]
    },
    {
     "name": "stderr",
     "output_type": "stream",
     "text": [
      " 18%|█▊        | 101/562 [09:55<14:49,  1.93s/it]"
     ]
    },
    {
     "name": "stdout",
     "output_type": "stream",
     "text": [
      "Loaded 32 images in 0.28 seconds\n",
      "Preprocessed and inferred 32 images in 0.47 seconds\n",
      "torch.Size([32, 1024])\n"
     ]
    },
    {
     "name": "stderr",
     "output_type": "stream",
     "text": [
      " 18%|█▊        | 102/562 [09:57<15:17,  1.99s/it]"
     ]
    },
    {
     "name": "stdout",
     "output_type": "stream",
     "text": [
      "Loaded 32 images in 0.26 seconds\n",
      "Preprocessed and inferred 32 images in 0.46 seconds\n",
      "torch.Size([32, 1024])\n"
     ]
    },
    {
     "name": "stderr",
     "output_type": "stream",
     "text": [
      " 18%|█▊        | 103/562 [09:59<15:31,  2.03s/it]"
     ]
    },
    {
     "name": "stdout",
     "output_type": "stream",
     "text": [
      "Loaded 32 images in 0.23 seconds\n",
      "Preprocessed and inferred 32 images in 0.29 seconds\n",
      "torch.Size([32, 1024])\n"
     ]
    },
    {
     "name": "stderr",
     "output_type": "stream",
     "text": [
      " 19%|█▊        | 104/562 [10:01<15:13,  2.00s/it]"
     ]
    },
    {
     "name": "stdout",
     "output_type": "stream",
     "text": [
      "Loaded 32 images in 0.21 seconds\n",
      "Preprocessed and inferred 32 images in 0.29 seconds\n",
      "torch.Size([32, 1024])\n"
     ]
    },
    {
     "name": "stderr",
     "output_type": "stream",
     "text": [
      " 19%|█▊        | 105/562 [10:03<14:59,  1.97s/it]"
     ]
    },
    {
     "name": "stdout",
     "output_type": "stream",
     "text": [
      "Loaded 32 images in 0.21 seconds\n",
      "Preprocessed and inferred 32 images in 0.29 seconds\n",
      "torch.Size([32, 1024])\n"
     ]
    },
    {
     "name": "stderr",
     "output_type": "stream",
     "text": [
      " 19%|█▉        | 106/562 [10:05<14:49,  1.95s/it]"
     ]
    },
    {
     "name": "stdout",
     "output_type": "stream",
     "text": [
      "Loaded 32 images in 0.24 seconds\n",
      "Preprocessed and inferred 32 images in 0.29 seconds\n",
      "torch.Size([32, 1024])\n"
     ]
    },
    {
     "name": "stderr",
     "output_type": "stream",
     "text": [
      " 19%|█▉        | 107/562 [10:07<14:45,  1.95s/it]"
     ]
    },
    {
     "name": "stdout",
     "output_type": "stream",
     "text": [
      "Loaded 32 images in 0.21 seconds\n",
      "Preprocessed and inferred 32 images in 0.30 seconds\n",
      "torch.Size([32, 1024])\n"
     ]
    },
    {
     "name": "stderr",
     "output_type": "stream",
     "text": [
      " 19%|█▉        | 108/562 [10:09<14:38,  1.94s/it]"
     ]
    },
    {
     "name": "stdout",
     "output_type": "stream",
     "text": [
      "Loaded 32 images in 0.29 seconds\n",
      "Preprocessed and inferred 32 images in 0.48 seconds\n",
      "torch.Size([32, 1024])\n"
     ]
    },
    {
     "name": "stderr",
     "output_type": "stream",
     "text": [
      " 19%|█▉        | 109/562 [10:11<15:09,  2.01s/it]"
     ]
    },
    {
     "name": "stdout",
     "output_type": "stream",
     "text": [
      "Loaded 32 images in 0.26 seconds\n",
      "Preprocessed and inferred 32 images in 0.46 seconds\n",
      "torch.Size([32, 1024])\n"
     ]
    },
    {
     "name": "stderr",
     "output_type": "stream",
     "text": [
      " 20%|█▉        | 110/562 [10:13<15:23,  2.04s/it]"
     ]
    },
    {
     "name": "stdout",
     "output_type": "stream",
     "text": [
      "Loaded 32 images in 0.23 seconds\n",
      "Preprocessed and inferred 32 images in 0.30 seconds\n",
      "torch.Size([32, 1024])\n"
     ]
    },
    {
     "name": "stderr",
     "output_type": "stream",
     "text": [
      " 20%|█▉        | 111/562 [10:15<15:12,  2.02s/it]"
     ]
    },
    {
     "name": "stdout",
     "output_type": "stream",
     "text": [
      "Loaded 32 images in 0.21 seconds\n",
      "Preprocessed and inferred 32 images in 0.30 seconds\n",
      "torch.Size([32, 1024])\n"
     ]
    },
    {
     "name": "stderr",
     "output_type": "stream",
     "text": [
      " 20%|█▉        | 112/562 [10:17<14:56,  1.99s/it]"
     ]
    },
    {
     "name": "stdout",
     "output_type": "stream",
     "text": [
      "Loaded 32 images in 0.21 seconds\n",
      "Preprocessed and inferred 32 images in 0.29 seconds\n",
      "torch.Size([32, 1024])\n"
     ]
    },
    {
     "name": "stderr",
     "output_type": "stream",
     "text": [
      " 20%|██        | 113/562 [10:19<14:42,  1.97s/it]"
     ]
    },
    {
     "name": "stdout",
     "output_type": "stream",
     "text": [
      "Loaded 32 images in 0.22 seconds\n",
      "Preprocessed and inferred 32 images in 0.29 seconds\n",
      "torch.Size([32, 1024])\n"
     ]
    },
    {
     "name": "stderr",
     "output_type": "stream",
     "text": [
      " 20%|██        | 114/562 [10:21<14:34,  1.95s/it]"
     ]
    },
    {
     "name": "stdout",
     "output_type": "stream",
     "text": [
      "Loaded 32 images in 0.22 seconds\n",
      "Preprocessed and inferred 32 images in 0.28 seconds\n",
      "torch.Size([32, 1024])\n"
     ]
    },
    {
     "name": "stderr",
     "output_type": "stream",
     "text": [
      " 20%|██        | 115/562 [10:23<14:27,  1.94s/it]"
     ]
    },
    {
     "name": "stdout",
     "output_type": "stream",
     "text": [
      "Loaded 32 images in 0.29 seconds\n",
      "Preprocessed and inferred 32 images in 0.47 seconds\n",
      "torch.Size([32, 1024])\n"
     ]
    },
    {
     "name": "stderr",
     "output_type": "stream",
     "text": [
      " 21%|██        | 116/562 [10:25<14:57,  2.01s/it]"
     ]
    },
    {
     "name": "stdout",
     "output_type": "stream",
     "text": [
      "Loaded 32 images in 0.27 seconds\n",
      "Preprocessed and inferred 32 images in 0.51 seconds\n",
      "torch.Size([32, 1024])\n"
     ]
    },
    {
     "name": "stderr",
     "output_type": "stream",
     "text": [
      " 21%|██        | 117/562 [10:27<15:20,  2.07s/it]"
     ]
    },
    {
     "name": "stdout",
     "output_type": "stream",
     "text": [
      "Loaded 32 images in 0.23 seconds\n",
      "Preprocessed and inferred 32 images in 0.29 seconds\n",
      "torch.Size([32, 1024])\n"
     ]
    },
    {
     "name": "stderr",
     "output_type": "stream",
     "text": [
      " 21%|██        | 118/562 [10:29<15:01,  2.03s/it]"
     ]
    },
    {
     "name": "stdout",
     "output_type": "stream",
     "text": [
      "Loaded 32 images in 0.21 seconds\n",
      "Preprocessed and inferred 32 images in 0.29 seconds\n",
      "torch.Size([32, 1024])\n"
     ]
    },
    {
     "name": "stderr",
     "output_type": "stream",
     "text": [
      " 21%|██        | 119/562 [10:31<14:45,  2.00s/it]"
     ]
    },
    {
     "name": "stdout",
     "output_type": "stream",
     "text": [
      "Loaded 32 images in 0.24 seconds\n",
      "Preprocessed and inferred 32 images in 0.29 seconds\n",
      "torch.Size([32, 1024])\n"
     ]
    },
    {
     "name": "stderr",
     "output_type": "stream",
     "text": [
      " 21%|██▏       | 120/562 [10:33<14:37,  1.99s/it]"
     ]
    },
    {
     "name": "stdout",
     "output_type": "stream",
     "text": [
      "Loaded 32 images in 0.23 seconds\n",
      "Preprocessed and inferred 32 images in 0.29 seconds\n",
      "torch.Size([32, 1024])\n"
     ]
    },
    {
     "name": "stderr",
     "output_type": "stream",
     "text": [
      " 22%|██▏       | 121/562 [10:35<14:29,  1.97s/it]"
     ]
    },
    {
     "name": "stdout",
     "output_type": "stream",
     "text": [
      "Loaded 32 images in 0.21 seconds\n",
      "Preprocessed and inferred 32 images in 0.31 seconds\n",
      "torch.Size([32, 1024])\n"
     ]
    },
    {
     "name": "stderr",
     "output_type": "stream",
     "text": [
      " 22%|██▏       | 122/562 [10:37<14:24,  1.97s/it]"
     ]
    },
    {
     "name": "stdout",
     "output_type": "stream",
     "text": [
      "Loaded 32 images in 0.25 seconds\n",
      "Preprocessed and inferred 32 images in 0.48 seconds\n",
      "torch.Size([32, 1024])\n"
     ]
    },
    {
     "name": "stderr",
     "output_type": "stream",
     "text": [
      " 22%|██▏       | 123/562 [10:39<14:48,  2.02s/it]"
     ]
    },
    {
     "name": "stdout",
     "output_type": "stream",
     "text": [
      "Loaded 32 images in 0.26 seconds\n",
      "Preprocessed and inferred 32 images in 0.49 seconds\n",
      "torch.Size([32, 1024])\n"
     ]
    },
    {
     "name": "stderr",
     "output_type": "stream",
     "text": [
      " 22%|██▏       | 124/562 [10:41<15:06,  2.07s/it]"
     ]
    },
    {
     "name": "stdout",
     "output_type": "stream",
     "text": [
      "Loaded 32 images in 0.24 seconds\n",
      "Preprocessed and inferred 32 images in 0.30 seconds\n",
      "torch.Size([32, 1024])\n"
     ]
    },
    {
     "name": "stderr",
     "output_type": "stream",
     "text": [
      " 22%|██▏       | 125/562 [10:43<14:52,  2.04s/it]"
     ]
    },
    {
     "name": "stdout",
     "output_type": "stream",
     "text": [
      "Loaded 32 images in 0.21 seconds\n",
      "Preprocessed and inferred 32 images in 0.30 seconds\n",
      "torch.Size([32, 1024])\n"
     ]
    },
    {
     "name": "stderr",
     "output_type": "stream",
     "text": [
      " 22%|██▏       | 126/562 [10:45<14:38,  2.02s/it]"
     ]
    },
    {
     "name": "stdout",
     "output_type": "stream",
     "text": [
      "Loaded 32 images in 0.23 seconds\n",
      "Preprocessed and inferred 32 images in 0.30 seconds\n",
      "torch.Size([32, 1024])\n"
     ]
    },
    {
     "name": "stderr",
     "output_type": "stream",
     "text": [
      " 23%|██▎       | 127/562 [10:47<14:29,  2.00s/it]"
     ]
    },
    {
     "name": "stdout",
     "output_type": "stream",
     "text": [
      "Loaded 32 images in 0.22 seconds\n",
      "Preprocessed and inferred 32 images in 0.29 seconds\n",
      "torch.Size([32, 1024])\n"
     ]
    },
    {
     "name": "stderr",
     "output_type": "stream",
     "text": [
      " 23%|██▎       | 128/562 [10:49<14:20,  1.98s/it]"
     ]
    },
    {
     "name": "stdout",
     "output_type": "stream",
     "text": [
      "Loaded 32 images in 0.20 seconds\n",
      "Preprocessed and inferred 32 images in 0.29 seconds\n",
      "torch.Size([32, 1024])\n"
     ]
    },
    {
     "name": "stderr",
     "output_type": "stream",
     "text": [
      " 23%|██▎       | 129/562 [10:51<14:11,  1.97s/it]"
     ]
    },
    {
     "name": "stdout",
     "output_type": "stream",
     "text": [
      "Loaded 32 images in 0.22 seconds\n",
      "Preprocessed and inferred 32 images in 0.42 seconds\n",
      "torch.Size([32, 1024])\n"
     ]
    },
    {
     "name": "stderr",
     "output_type": "stream",
     "text": [
      " 23%|██▎       | 130/562 [10:53<14:23,  2.00s/it]"
     ]
    },
    {
     "name": "stdout",
     "output_type": "stream",
     "text": [
      "Loaded 32 images in 0.26 seconds\n",
      "Preprocessed and inferred 32 images in 0.46 seconds\n",
      "torch.Size([32, 1024])\n"
     ]
    },
    {
     "name": "stderr",
     "output_type": "stream",
     "text": [
      " 23%|██▎       | 131/562 [10:55<14:42,  2.05s/it]"
     ]
    },
    {
     "name": "stdout",
     "output_type": "stream",
     "text": [
      "Loaded 32 images in 0.28 seconds\n",
      "Preprocessed and inferred 32 images in 0.35 seconds\n",
      "torch.Size([32, 1024])\n"
     ]
    },
    {
     "name": "stderr",
     "output_type": "stream",
     "text": [
      " 23%|██▎       | 132/562 [10:57<14:43,  2.05s/it]"
     ]
    },
    {
     "name": "stdout",
     "output_type": "stream",
     "text": [
      "Loaded 32 images in 0.21 seconds\n",
      "Preprocessed and inferred 32 images in 0.28 seconds\n",
      "torch.Size([32, 1024])\n"
     ]
    },
    {
     "name": "stderr",
     "output_type": "stream",
     "text": [
      " 24%|██▎       | 133/562 [10:59<14:24,  2.02s/it]"
     ]
    },
    {
     "name": "stdout",
     "output_type": "stream",
     "text": [
      "Loaded 32 images in 0.22 seconds\n",
      "Preprocessed and inferred 32 images in 0.29 seconds\n",
      "torch.Size([32, 1024])\n"
     ]
    },
    {
     "name": "stderr",
     "output_type": "stream",
     "text": [
      " 24%|██▍       | 134/562 [11:01<14:12,  1.99s/it]"
     ]
    },
    {
     "name": "stdout",
     "output_type": "stream",
     "text": [
      "Loaded 32 images in 0.22 seconds\n",
      "Preprocessed and inferred 32 images in 0.29 seconds\n",
      "torch.Size([32, 1024])\n"
     ]
    },
    {
     "name": "stderr",
     "output_type": "stream",
     "text": [
      " 24%|██▍       | 135/562 [11:03<14:04,  1.98s/it]"
     ]
    },
    {
     "name": "stdout",
     "output_type": "stream",
     "text": [
      "Loaded 32 images in 0.22 seconds\n",
      "Preprocessed and inferred 32 images in 0.29 seconds\n",
      "torch.Size([32, 1024])\n"
     ]
    },
    {
     "name": "stderr",
     "output_type": "stream",
     "text": [
      " 24%|██▍       | 136/562 [11:05<13:57,  1.97s/it]"
     ]
    },
    {
     "name": "stdout",
     "output_type": "stream",
     "text": [
      "Loaded 32 images in 0.24 seconds\n",
      "Preprocessed and inferred 32 images in 0.31 seconds\n",
      "torch.Size([32, 1024])\n"
     ]
    },
    {
     "name": "stderr",
     "output_type": "stream",
     "text": [
      " 24%|██▍       | 137/562 [11:07<13:55,  1.97s/it]"
     ]
    },
    {
     "name": "stdout",
     "output_type": "stream",
     "text": [
      "Loaded 32 images in 0.24 seconds\n",
      "Preprocessed and inferred 32 images in 0.47 seconds\n",
      "torch.Size([32, 1024])\n"
     ]
    },
    {
     "name": "stderr",
     "output_type": "stream",
     "text": [
      " 25%|██▍       | 138/562 [11:09<14:16,  2.02s/it]"
     ]
    },
    {
     "name": "stdout",
     "output_type": "stream",
     "text": [
      "Loaded 32 images in 0.30 seconds\n",
      "Preprocessed and inferred 32 images in 0.44 seconds\n",
      "torch.Size([32, 1024])\n"
     ]
    },
    {
     "name": "stderr",
     "output_type": "stream",
     "text": [
      " 25%|██▍       | 139/562 [11:11<14:34,  2.07s/it]"
     ]
    },
    {
     "name": "stdout",
     "output_type": "stream",
     "text": [
      "Loaded 32 images in 0.21 seconds\n",
      "Preprocessed and inferred 32 images in 0.29 seconds\n",
      "torch.Size([32, 1024])\n"
     ]
    },
    {
     "name": "stderr",
     "output_type": "stream",
     "text": [
      " 25%|██▍       | 140/562 [11:13<14:14,  2.02s/it]"
     ]
    },
    {
     "name": "stdout",
     "output_type": "stream",
     "text": [
      "Loaded 32 images in 0.23 seconds\n",
      "Preprocessed and inferred 32 images in 0.30 seconds\n",
      "torch.Size([32, 1024])\n"
     ]
    },
    {
     "name": "stderr",
     "output_type": "stream",
     "text": [
      " 25%|██▌       | 141/562 [11:15<14:03,  2.00s/it]"
     ]
    },
    {
     "name": "stdout",
     "output_type": "stream",
     "text": [
      "Loaded 32 images in 0.21 seconds\n",
      "Preprocessed and inferred 32 images in 0.31 seconds\n",
      "torch.Size([32, 1024])\n"
     ]
    },
    {
     "name": "stderr",
     "output_type": "stream",
     "text": [
      " 25%|██▌       | 142/562 [11:17<13:53,  1.98s/it]"
     ]
    },
    {
     "name": "stdout",
     "output_type": "stream",
     "text": [
      "Loaded 32 images in 0.23 seconds\n",
      "Preprocessed and inferred 32 images in 0.30 seconds\n",
      "torch.Size([32, 1024])\n"
     ]
    },
    {
     "name": "stderr",
     "output_type": "stream",
     "text": [
      " 25%|██▌       | 143/562 [11:19<13:46,  1.97s/it]"
     ]
    },
    {
     "name": "stdout",
     "output_type": "stream",
     "text": [
      "Loaded 32 images in 0.20 seconds\n",
      "Preprocessed and inferred 32 images in 0.29 seconds\n",
      "torch.Size([32, 1024])\n"
     ]
    },
    {
     "name": "stderr",
     "output_type": "stream",
     "text": [
      " 26%|██▌       | 144/562 [11:21<13:37,  1.95s/it]"
     ]
    },
    {
     "name": "stdout",
     "output_type": "stream",
     "text": [
      "Loaded 32 images in 0.25 seconds\n",
      "Preprocessed and inferred 32 images in 0.47 seconds\n",
      "torch.Size([32, 1024])\n"
     ]
    },
    {
     "name": "stderr",
     "output_type": "stream",
     "text": [
      " 26%|██▌       | 145/562 [11:23<13:58,  2.01s/it]"
     ]
    },
    {
     "name": "stdout",
     "output_type": "stream",
     "text": [
      "Loaded 32 images in 0.28 seconds\n",
      "Preprocessed and inferred 32 images in 0.46 seconds\n",
      "torch.Size([32, 1024])\n"
     ]
    },
    {
     "name": "stderr",
     "output_type": "stream",
     "text": [
      " 26%|██▌       | 146/562 [11:25<14:14,  2.05s/it]"
     ]
    },
    {
     "name": "stdout",
     "output_type": "stream",
     "text": [
      "Loaded 32 images in 0.21 seconds\n",
      "Preprocessed and inferred 32 images in 0.31 seconds\n",
      "torch.Size([32, 1024])\n"
     ]
    },
    {
     "name": "stderr",
     "output_type": "stream",
     "text": [
      " 26%|██▌       | 147/562 [11:27<13:57,  2.02s/it]"
     ]
    },
    {
     "name": "stdout",
     "output_type": "stream",
     "text": [
      "Loaded 32 images in 0.24 seconds\n",
      "Preprocessed and inferred 32 images in 0.29 seconds\n",
      "torch.Size([32, 1024])\n"
     ]
    },
    {
     "name": "stderr",
     "output_type": "stream",
     "text": [
      " 26%|██▋       | 148/562 [11:29<13:46,  2.00s/it]"
     ]
    },
    {
     "name": "stdout",
     "output_type": "stream",
     "text": [
      "Loaded 32 images in 0.21 seconds\n",
      "Preprocessed and inferred 32 images in 0.29 seconds\n",
      "torch.Size([32, 1024])\n"
     ]
    },
    {
     "name": "stderr",
     "output_type": "stream",
     "text": [
      " 27%|██▋       | 149/562 [11:31<13:34,  1.97s/it]"
     ]
    },
    {
     "name": "stdout",
     "output_type": "stream",
     "text": [
      "Loaded 32 images in 0.25 seconds\n",
      "Preprocessed and inferred 32 images in 0.29 seconds\n",
      "torch.Size([32, 1024])\n"
     ]
    },
    {
     "name": "stderr",
     "output_type": "stream",
     "text": [
      " 27%|██▋       | 150/562 [11:33<13:30,  1.97s/it]"
     ]
    },
    {
     "name": "stdout",
     "output_type": "stream",
     "text": [
      "Loaded 32 images in 0.22 seconds\n",
      "Preprocessed and inferred 32 images in 0.29 seconds\n",
      "torch.Size([32, 1024])\n"
     ]
    },
    {
     "name": "stderr",
     "output_type": "stream",
     "text": [
      " 27%|██▋       | 151/562 [11:35<13:23,  1.96s/it]"
     ]
    },
    {
     "name": "stdout",
     "output_type": "stream",
     "text": [
      "Loaded 32 images in 0.24 seconds\n",
      "Preprocessed and inferred 32 images in 0.47 seconds\n",
      "torch.Size([32, 1024])\n"
     ]
    },
    {
     "name": "stderr",
     "output_type": "stream",
     "text": [
      " 27%|██▋       | 152/562 [11:37<13:42,  2.01s/it]"
     ]
    },
    {
     "name": "stdout",
     "output_type": "stream",
     "text": [
      "Loaded 32 images in 0.28 seconds\n",
      "Preprocessed and inferred 32 images in 0.47 seconds\n",
      "torch.Size([32, 1024])\n"
     ]
    },
    {
     "name": "stderr",
     "output_type": "stream",
     "text": [
      " 27%|██▋       | 153/562 [11:39<13:58,  2.05s/it]"
     ]
    },
    {
     "name": "stdout",
     "output_type": "stream",
     "text": [
      "Loaded 32 images in 0.22 seconds\n",
      "Preprocessed and inferred 32 images in 0.30 seconds\n",
      "torch.Size([32, 1024])\n"
     ]
    },
    {
     "name": "stderr",
     "output_type": "stream",
     "text": [
      " 27%|██▋       | 154/562 [11:41<13:42,  2.02s/it]"
     ]
    },
    {
     "name": "stdout",
     "output_type": "stream",
     "text": [
      "Loaded 32 images in 0.23 seconds\n",
      "Preprocessed and inferred 32 images in 0.30 seconds\n",
      "torch.Size([32, 1024])\n"
     ]
    },
    {
     "name": "stderr",
     "output_type": "stream",
     "text": [
      " 28%|██▊       | 155/562 [11:43<13:32,  2.00s/it]"
     ]
    },
    {
     "name": "stdout",
     "output_type": "stream",
     "text": [
      "Loaded 32 images in 0.21 seconds\n",
      "Preprocessed and inferred 32 images in 0.30 seconds\n",
      "torch.Size([32, 1024])\n"
     ]
    },
    {
     "name": "stderr",
     "output_type": "stream",
     "text": [
      " 28%|██▊       | 156/562 [11:45<13:22,  1.98s/it]"
     ]
    },
    {
     "name": "stdout",
     "output_type": "stream",
     "text": [
      "Loaded 32 images in 0.24 seconds\n",
      "Preprocessed and inferred 32 images in 0.29 seconds\n",
      "torch.Size([32, 1024])\n"
     ]
    },
    {
     "name": "stderr",
     "output_type": "stream",
     "text": [
      " 28%|██▊       | 157/562 [11:47<13:16,  1.97s/it]"
     ]
    },
    {
     "name": "stdout",
     "output_type": "stream",
     "text": [
      "Loaded 32 images in 0.21 seconds\n",
      "Preprocessed and inferred 32 images in 0.29 seconds\n",
      "torch.Size([32, 1024])\n"
     ]
    },
    {
     "name": "stderr",
     "output_type": "stream",
     "text": [
      " 28%|██▊       | 158/562 [11:49<13:09,  1.95s/it]"
     ]
    },
    {
     "name": "stdout",
     "output_type": "stream",
     "text": [
      "Loaded 32 images in 0.28 seconds\n",
      "Preprocessed and inferred 32 images in 0.47 seconds\n",
      "torch.Size([32, 1024])\n"
     ]
    },
    {
     "name": "stderr",
     "output_type": "stream",
     "text": [
      " 28%|██▊       | 159/562 [11:51<13:33,  2.02s/it]"
     ]
    },
    {
     "name": "stdout",
     "output_type": "stream",
     "text": [
      "Loaded 32 images in 0.27 seconds\n",
      "Preprocessed and inferred 32 images in 0.48 seconds\n",
      "torch.Size([32, 1024])\n"
     ]
    },
    {
     "name": "stderr",
     "output_type": "stream",
     "text": [
      " 28%|██▊       | 160/562 [11:53<13:47,  2.06s/it]"
     ]
    },
    {
     "name": "stdout",
     "output_type": "stream",
     "text": [
      "Loaded 32 images in 0.23 seconds\n",
      "Preprocessed and inferred 32 images in 0.29 seconds\n",
      "torch.Size([32, 1024])\n"
     ]
    },
    {
     "name": "stderr",
     "output_type": "stream",
     "text": [
      " 29%|██▊       | 161/562 [11:55<13:31,  2.02s/it]"
     ]
    },
    {
     "name": "stdout",
     "output_type": "stream",
     "text": [
      "Loaded 32 images in 0.21 seconds\n",
      "Preprocessed and inferred 32 images in 0.29 seconds\n",
      "torch.Size([32, 1024])\n"
     ]
    },
    {
     "name": "stderr",
     "output_type": "stream",
     "text": [
      " 29%|██▉       | 162/562 [11:57<13:16,  1.99s/it]"
     ]
    },
    {
     "name": "stdout",
     "output_type": "stream",
     "text": [
      "Loaded 32 images in 0.22 seconds\n",
      "Preprocessed and inferred 32 images in 0.29 seconds\n",
      "torch.Size([32, 1024])\n"
     ]
    },
    {
     "name": "stderr",
     "output_type": "stream",
     "text": [
      " 29%|██▉       | 163/562 [11:59<13:07,  1.97s/it]"
     ]
    },
    {
     "name": "stdout",
     "output_type": "stream",
     "text": [
      "Loaded 32 images in 0.24 seconds\n",
      "Preprocessed and inferred 32 images in 0.29 seconds\n",
      "torch.Size([32, 1024])\n"
     ]
    },
    {
     "name": "stderr",
     "output_type": "stream",
     "text": [
      " 29%|██▉       | 164/562 [12:01<13:02,  1.97s/it]"
     ]
    },
    {
     "name": "stdout",
     "output_type": "stream",
     "text": [
      "Loaded 32 images in 0.22 seconds\n",
      "Preprocessed and inferred 32 images in 0.29 seconds\n",
      "torch.Size([32, 1024])\n"
     ]
    },
    {
     "name": "stderr",
     "output_type": "stream",
     "text": [
      " 29%|██▉       | 165/562 [12:03<12:55,  1.95s/it]"
     ]
    },
    {
     "name": "stdout",
     "output_type": "stream",
     "text": [
      "Loaded 32 images in 0.27 seconds\n",
      "Preprocessed and inferred 32 images in 0.47 seconds\n",
      "torch.Size([32, 1024])\n"
     ]
    },
    {
     "name": "stderr",
     "output_type": "stream",
     "text": [
      " 30%|██▉       | 166/562 [12:05<13:18,  2.02s/it]"
     ]
    },
    {
     "name": "stdout",
     "output_type": "stream",
     "text": [
      "Loaded 32 images in 0.27 seconds\n",
      "Preprocessed and inferred 32 images in 0.46 seconds\n",
      "torch.Size([32, 1024])\n"
     ]
    },
    {
     "name": "stderr",
     "output_type": "stream",
     "text": [
      " 30%|██▉       | 167/562 [12:07<13:32,  2.06s/it]"
     ]
    },
    {
     "name": "stdout",
     "output_type": "stream",
     "text": [
      "Loaded 32 images in 0.23 seconds\n",
      "Preprocessed and inferred 32 images in 0.29 seconds\n",
      "torch.Size([32, 1024])\n"
     ]
    },
    {
     "name": "stderr",
     "output_type": "stream",
     "text": [
      " 30%|██▉       | 168/562 [12:09<13:17,  2.02s/it]"
     ]
    },
    {
     "name": "stdout",
     "output_type": "stream",
     "text": [
      "Loaded 32 images in 0.21 seconds\n",
      "Preprocessed and inferred 32 images in 0.30 seconds\n",
      "torch.Size([32, 1024])\n"
     ]
    },
    {
     "name": "stderr",
     "output_type": "stream",
     "text": [
      " 30%|███       | 169/562 [12:11<13:04,  2.00s/it]"
     ]
    },
    {
     "name": "stdout",
     "output_type": "stream",
     "text": [
      "Loaded 32 images in 0.23 seconds\n",
      "Preprocessed and inferred 32 images in 0.30 seconds\n",
      "torch.Size([32, 1024])\n"
     ]
    },
    {
     "name": "stderr",
     "output_type": "stream",
     "text": [
      " 30%|███       | 170/562 [12:13<12:58,  1.99s/it]"
     ]
    },
    {
     "name": "stdout",
     "output_type": "stream",
     "text": [
      "Loaded 32 images in 0.22 seconds\n",
      "Preprocessed and inferred 32 images in 0.29 seconds\n",
      "torch.Size([32, 1024])\n"
     ]
    },
    {
     "name": "stderr",
     "output_type": "stream",
     "text": [
      " 30%|███       | 171/562 [12:15<12:48,  1.97s/it]"
     ]
    },
    {
     "name": "stdout",
     "output_type": "stream",
     "text": [
      "Loaded 32 images in 0.21 seconds\n",
      "Preprocessed and inferred 32 images in 0.29 seconds\n",
      "torch.Size([32, 1024])\n"
     ]
    },
    {
     "name": "stderr",
     "output_type": "stream",
     "text": [
      " 31%|███       | 172/562 [12:17<12:42,  1.96s/it]"
     ]
    },
    {
     "name": "stdout",
     "output_type": "stream",
     "text": [
      "Loaded 32 images in 0.29 seconds\n",
      "Preprocessed and inferred 32 images in 0.48 seconds\n",
      "torch.Size([32, 1024])\n"
     ]
    },
    {
     "name": "stderr",
     "output_type": "stream",
     "text": [
      " 31%|███       | 173/562 [12:19<13:07,  2.02s/it]"
     ]
    },
    {
     "name": "stdout",
     "output_type": "stream",
     "text": [
      "Loaded 32 images in 0.27 seconds\n",
      "Preprocessed and inferred 32 images in 0.47 seconds\n",
      "torch.Size([32, 1024])\n"
     ]
    },
    {
     "name": "stderr",
     "output_type": "stream",
     "text": [
      " 31%|███       | 174/562 [12:21<13:19,  2.06s/it]"
     ]
    },
    {
     "name": "stdout",
     "output_type": "stream",
     "text": [
      "Loaded 32 images in 0.24 seconds\n",
      "Preprocessed and inferred 32 images in 0.29 seconds\n",
      "torch.Size([32, 1024])\n"
     ]
    },
    {
     "name": "stderr",
     "output_type": "stream",
     "text": [
      " 31%|███       | 175/562 [12:23<13:04,  2.03s/it]"
     ]
    },
    {
     "name": "stdout",
     "output_type": "stream",
     "text": [
      "Loaded 32 images in 0.21 seconds\n",
      "Preprocessed and inferred 32 images in 0.29 seconds\n",
      "torch.Size([32, 1024])\n"
     ]
    },
    {
     "name": "stderr",
     "output_type": "stream",
     "text": [
      " 31%|███▏      | 176/562 [12:25<12:50,  2.00s/it]"
     ]
    },
    {
     "name": "stdout",
     "output_type": "stream",
     "text": [
      "Loaded 32 images in 0.23 seconds\n",
      "Preprocessed and inferred 32 images in 0.29 seconds\n",
      "torch.Size([32, 1024])\n"
     ]
    },
    {
     "name": "stderr",
     "output_type": "stream",
     "text": [
      " 31%|███▏      | 177/562 [12:27<12:42,  1.98s/it]"
     ]
    },
    {
     "name": "stdout",
     "output_type": "stream",
     "text": [
      "Loaded 32 images in 0.21 seconds\n",
      "Preprocessed and inferred 32 images in 0.29 seconds\n",
      "torch.Size([32, 1024])\n"
     ]
    },
    {
     "name": "stderr",
     "output_type": "stream",
     "text": [
      " 32%|███▏      | 178/562 [12:29<12:33,  1.96s/it]"
     ]
    },
    {
     "name": "stdout",
     "output_type": "stream",
     "text": [
      "Loaded 32 images in 0.23 seconds\n",
      "Preprocessed and inferred 32 images in 0.29 seconds\n",
      "torch.Size([32, 1024])\n"
     ]
    },
    {
     "name": "stderr",
     "output_type": "stream",
     "text": [
      " 32%|███▏      | 179/562 [12:31<12:29,  1.96s/it]"
     ]
    },
    {
     "name": "stdout",
     "output_type": "stream",
     "text": [
      "Loaded 32 images in 0.27 seconds\n",
      "Preprocessed and inferred 32 images in 0.48 seconds\n",
      "torch.Size([32, 1024])\n"
     ]
    },
    {
     "name": "stderr",
     "output_type": "stream",
     "text": [
      " 32%|███▏      | 180/562 [12:33<12:51,  2.02s/it]"
     ]
    },
    {
     "name": "stdout",
     "output_type": "stream",
     "text": [
      "Loaded 32 images in 0.27 seconds\n",
      "Preprocessed and inferred 32 images in 0.45 seconds\n",
      "torch.Size([32, 1024])\n"
     ]
    },
    {
     "name": "stderr",
     "output_type": "stream",
     "text": [
      " 32%|███▏      | 181/562 [12:35<13:03,  2.06s/it]"
     ]
    },
    {
     "name": "stdout",
     "output_type": "stream",
     "text": [
      "Loaded 32 images in 0.27 seconds\n",
      "Preprocessed and inferred 32 images in 0.29 seconds\n",
      "torch.Size([32, 1024])\n"
     ]
    },
    {
     "name": "stderr",
     "output_type": "stream",
     "text": [
      " 32%|███▏      | 182/562 [12:37<12:52,  2.03s/it]"
     ]
    },
    {
     "name": "stdout",
     "output_type": "stream",
     "text": [
      "Loaded 32 images in 0.21 seconds\n",
      "Preprocessed and inferred 32 images in 0.30 seconds\n",
      "torch.Size([32, 1024])\n"
     ]
    },
    {
     "name": "stderr",
     "output_type": "stream",
     "text": [
      " 33%|███▎      | 183/562 [12:39<12:39,  2.00s/it]"
     ]
    },
    {
     "name": "stdout",
     "output_type": "stream",
     "text": [
      "Loaded 32 images in 0.57 seconds\n",
      "Preprocessed and inferred 32 images in 0.28 seconds\n",
      "torch.Size([32, 1024])\n"
     ]
    },
    {
     "name": "stderr",
     "output_type": "stream",
     "text": [
      " 33%|███▎      | 184/562 [12:41<13:08,  2.09s/it]"
     ]
    },
    {
     "name": "stdout",
     "output_type": "stream",
     "text": [
      "Loaded 32 images in 0.21 seconds\n",
      "Preprocessed and inferred 32 images in 0.29 seconds\n",
      "torch.Size([32, 1024])\n"
     ]
    },
    {
     "name": "stderr",
     "output_type": "stream",
     "text": [
      " 33%|███▎      | 185/562 [12:43<12:48,  2.04s/it]"
     ]
    },
    {
     "name": "stdout",
     "output_type": "stream",
     "text": [
      "Loaded 32 images in 0.23 seconds\n",
      "Preprocessed and inferred 32 images in 0.30 seconds\n",
      "torch.Size([32, 1024])\n"
     ]
    },
    {
     "name": "stderr",
     "output_type": "stream",
     "text": [
      " 33%|███▎      | 186/562 [12:45<12:36,  2.01s/it]"
     ]
    },
    {
     "name": "stdout",
     "output_type": "stream",
     "text": [
      "Loaded 32 images in 0.27 seconds\n",
      "Preprocessed and inferred 32 images in 0.52 seconds\n",
      "torch.Size([32, 1024])\n"
     ]
    },
    {
     "name": "stderr",
     "output_type": "stream",
     "text": [
      " 33%|███▎      | 187/562 [12:48<12:57,  2.07s/it]"
     ]
    },
    {
     "name": "stdout",
     "output_type": "stream",
     "text": [
      "Loaded 32 images in 0.33 seconds\n",
      "Preprocessed and inferred 32 images in 0.55 seconds\n",
      "torch.Size([32, 1024])\n"
     ]
    },
    {
     "name": "stderr",
     "output_type": "stream",
     "text": [
      " 33%|███▎      | 188/562 [12:50<13:21,  2.14s/it]"
     ]
    },
    {
     "name": "stdout",
     "output_type": "stream",
     "text": [
      "Loaded 32 images in 0.35 seconds\n",
      "Preprocessed and inferred 32 images in 0.53 seconds\n",
      "torch.Size([32, 1024])\n"
     ]
    },
    {
     "name": "stderr",
     "output_type": "stream",
     "text": [
      " 34%|███▎      | 189/562 [12:52<13:36,  2.19s/it]"
     ]
    },
    {
     "name": "stdout",
     "output_type": "stream",
     "text": [
      "Loaded 32 images in 0.28 seconds\n",
      "Preprocessed and inferred 32 images in 0.39 seconds\n",
      "torch.Size([32, 1024])\n"
     ]
    },
    {
     "name": "stderr",
     "output_type": "stream",
     "text": [
      " 34%|███▍      | 190/562 [12:54<13:24,  2.16s/it]"
     ]
    },
    {
     "name": "stdout",
     "output_type": "stream",
     "text": [
      "Loaded 32 images in 0.27 seconds\n",
      "Preprocessed and inferred 32 images in 0.33 seconds\n",
      "torch.Size([32, 1024])\n"
     ]
    },
    {
     "name": "stderr",
     "output_type": "stream",
     "text": [
      " 34%|███▍      | 191/562 [12:56<13:06,  2.12s/it]"
     ]
    },
    {
     "name": "stdout",
     "output_type": "stream",
     "text": [
      "Loaded 32 images in 0.22 seconds\n",
      "Preprocessed and inferred 32 images in 0.29 seconds\n",
      "torch.Size([32, 1024])\n"
     ]
    },
    {
     "name": "stderr",
     "output_type": "stream",
     "text": [
      " 34%|███▍      | 192/562 [12:58<12:42,  2.06s/it]"
     ]
    },
    {
     "name": "stdout",
     "output_type": "stream",
     "text": [
      "Loaded 32 images in 0.23 seconds\n",
      "Preprocessed and inferred 32 images in 0.29 seconds\n",
      "torch.Size([32, 1024])\n"
     ]
    },
    {
     "name": "stderr",
     "output_type": "stream",
     "text": [
      " 34%|███▍      | 193/562 [13:00<12:28,  2.03s/it]"
     ]
    },
    {
     "name": "stdout",
     "output_type": "stream",
     "text": [
      "Loaded 32 images in 0.21 seconds\n",
      "Preprocessed and inferred 32 images in 0.30 seconds\n",
      "torch.Size([32, 1024])\n"
     ]
    },
    {
     "name": "stderr",
     "output_type": "stream",
     "text": [
      " 35%|███▍      | 194/562 [13:02<12:15,  2.00s/it]"
     ]
    },
    {
     "name": "stdout",
     "output_type": "stream",
     "text": [
      "Loaded 32 images in 0.23 seconds\n",
      "Preprocessed and inferred 32 images in 0.30 seconds\n",
      "torch.Size([32, 1024])\n"
     ]
    },
    {
     "name": "stderr",
     "output_type": "stream",
     "text": [
      " 35%|███▍      | 195/562 [13:04<12:08,  1.98s/it]"
     ]
    },
    {
     "name": "stdout",
     "output_type": "stream",
     "text": [
      "Loaded 32 images in 0.25 seconds\n",
      "Preprocessed and inferred 32 images in 0.49 seconds\n",
      "torch.Size([32, 1024])\n"
     ]
    },
    {
     "name": "stderr",
     "output_type": "stream",
     "text": [
      " 35%|███▍      | 196/562 [13:06<12:23,  2.03s/it]"
     ]
    },
    {
     "name": "stdout",
     "output_type": "stream",
     "text": [
      "Loaded 32 images in 0.29 seconds\n",
      "Preprocessed and inferred 32 images in 0.45 seconds\n",
      "torch.Size([32, 1024])\n"
     ]
    },
    {
     "name": "stderr",
     "output_type": "stream",
     "text": [
      " 35%|███▌      | 197/562 [13:08<12:35,  2.07s/it]"
     ]
    },
    {
     "name": "stdout",
     "output_type": "stream",
     "text": [
      "Loaded 32 images in 0.21 seconds\n",
      "Preprocessed and inferred 32 images in 0.29 seconds\n",
      "torch.Size([32, 1024])\n"
     ]
    },
    {
     "name": "stderr",
     "output_type": "stream",
     "text": [
      " 35%|███▌      | 198/562 [13:10<12:16,  2.02s/it]"
     ]
    },
    {
     "name": "stdout",
     "output_type": "stream",
     "text": [
      "Loaded 32 images in 0.22 seconds\n",
      "Preprocessed and inferred 32 images in 0.30 seconds\n",
      "torch.Size([32, 1024])\n"
     ]
    },
    {
     "name": "stderr",
     "output_type": "stream",
     "text": [
      " 35%|███▌      | 199/562 [13:12<12:05,  2.00s/it]"
     ]
    },
    {
     "name": "stdout",
     "output_type": "stream",
     "text": [
      "Loaded 32 images in 0.23 seconds\n",
      "Preprocessed and inferred 32 images in 0.29 seconds\n",
      "torch.Size([32, 1024])\n"
     ]
    },
    {
     "name": "stderr",
     "output_type": "stream",
     "text": [
      " 36%|███▌      | 200/562 [13:14<11:56,  1.98s/it]"
     ]
    },
    {
     "name": "stdout",
     "output_type": "stream",
     "text": [
      "Loaded 32 images in 0.21 seconds\n",
      "Preprocessed and inferred 32 images in 0.30 seconds\n",
      "torch.Size([32, 1024])\n"
     ]
    },
    {
     "name": "stderr",
     "output_type": "stream",
     "text": [
      " 36%|███▌      | 201/562 [13:16<11:49,  1.97s/it]"
     ]
    },
    {
     "name": "stdout",
     "output_type": "stream",
     "text": [
      "Loaded 32 images in 0.23 seconds\n",
      "Preprocessed and inferred 32 images in 0.29 seconds\n",
      "torch.Size([32, 1024])\n"
     ]
    },
    {
     "name": "stderr",
     "output_type": "stream",
     "text": [
      " 36%|███▌      | 202/562 [13:18<11:45,  1.96s/it]"
     ]
    },
    {
     "name": "stdout",
     "output_type": "stream",
     "text": [
      "Loaded 32 images in 0.26 seconds\n",
      "Preprocessed and inferred 32 images in 0.50 seconds\n",
      "torch.Size([32, 1024])\n"
     ]
    },
    {
     "name": "stderr",
     "output_type": "stream",
     "text": [
      " 36%|███▌      | 203/562 [13:20<12:06,  2.02s/it]"
     ]
    },
    {
     "name": "stdout",
     "output_type": "stream",
     "text": [
      "Loaded 32 images in 0.33 seconds\n",
      "Preprocessed and inferred 32 images in 0.44 seconds\n",
      "torch.Size([32, 1024])\n"
     ]
    },
    {
     "name": "stderr",
     "output_type": "stream",
     "text": [
      " 36%|███▋      | 204/562 [13:22<12:23,  2.08s/it]"
     ]
    },
    {
     "name": "stdout",
     "output_type": "stream",
     "text": [
      "Loaded 32 images in 0.21 seconds\n",
      "Preprocessed and inferred 32 images in 0.29 seconds\n",
      "torch.Size([32, 1024])\n"
     ]
    },
    {
     "name": "stderr",
     "output_type": "stream",
     "text": [
      " 36%|███▋      | 205/562 [13:24<12:04,  2.03s/it]"
     ]
    },
    {
     "name": "stdout",
     "output_type": "stream",
     "text": [
      "Loaded 32 images in 0.24 seconds\n",
      "Preprocessed and inferred 32 images in 0.33 seconds\n",
      "torch.Size([32, 1024])\n"
     ]
    },
    {
     "name": "stderr",
     "output_type": "stream",
     "text": [
      " 37%|███▋      | 206/562 [13:26<11:58,  2.02s/it]"
     ]
    },
    {
     "name": "stdout",
     "output_type": "stream",
     "text": [
      "Loaded 32 images in 0.22 seconds\n",
      "Preprocessed and inferred 32 images in 0.29 seconds\n",
      "torch.Size([32, 1024])\n"
     ]
    },
    {
     "name": "stderr",
     "output_type": "stream",
     "text": [
      " 37%|███▋      | 207/562 [13:28<11:46,  1.99s/it]"
     ]
    },
    {
     "name": "stdout",
     "output_type": "stream",
     "text": [
      "Loaded 32 images in 0.20 seconds\n",
      "Preprocessed and inferred 32 images in 0.30 seconds\n",
      "torch.Size([32, 1024])\n"
     ]
    },
    {
     "name": "stderr",
     "output_type": "stream",
     "text": [
      " 37%|███▋      | 208/562 [13:30<11:38,  1.97s/it]"
     ]
    },
    {
     "name": "stdout",
     "output_type": "stream",
     "text": [
      "Loaded 32 images in 0.23 seconds\n",
      "Preprocessed and inferred 32 images in 0.30 seconds\n",
      "torch.Size([32, 1024])\n"
     ]
    },
    {
     "name": "stderr",
     "output_type": "stream",
     "text": [
      " 37%|███▋      | 209/562 [13:32<11:34,  1.97s/it]"
     ]
    },
    {
     "name": "stdout",
     "output_type": "stream",
     "text": [
      "Loaded 32 images in 0.26 seconds\n",
      "Preprocessed and inferred 32 images in 0.49 seconds\n",
      "torch.Size([32, 1024])\n"
     ]
    },
    {
     "name": "stderr",
     "output_type": "stream",
     "text": [
      " 37%|███▋      | 210/562 [13:34<11:53,  2.03s/it]"
     ]
    },
    {
     "name": "stdout",
     "output_type": "stream",
     "text": [
      "Loaded 32 images in 0.30 seconds\n",
      "Preprocessed and inferred 32 images in 0.51 seconds\n",
      "torch.Size([32, 1024])\n"
     ]
    },
    {
     "name": "stderr",
     "output_type": "stream",
     "text": [
      " 38%|███▊      | 211/562 [13:37<12:11,  2.09s/it]"
     ]
    },
    {
     "name": "stdout",
     "output_type": "stream",
     "text": [
      "Loaded 32 images in 0.21 seconds\n",
      "Preprocessed and inferred 32 images in 0.30 seconds\n",
      "torch.Size([32, 1024])\n"
     ]
    },
    {
     "name": "stderr",
     "output_type": "stream",
     "text": [
      " 38%|███▊      | 212/562 [13:38<11:53,  2.04s/it]"
     ]
    },
    {
     "name": "stdout",
     "output_type": "stream",
     "text": [
      "Loaded 32 images in 0.22 seconds\n",
      "Preprocessed and inferred 32 images in 0.30 seconds\n",
      "torch.Size([32, 1024])\n"
     ]
    },
    {
     "name": "stderr",
     "output_type": "stream",
     "text": [
      " 38%|███▊      | 213/562 [13:40<11:41,  2.01s/it]"
     ]
    },
    {
     "name": "stdout",
     "output_type": "stream",
     "text": [
      "Loaded 32 images in 0.21 seconds\n",
      "Preprocessed and inferred 32 images in 0.29 seconds\n",
      "torch.Size([32, 1024])\n"
     ]
    },
    {
     "name": "stderr",
     "output_type": "stream",
     "text": [
      " 38%|███▊      | 214/562 [13:42<11:31,  1.99s/it]"
     ]
    },
    {
     "name": "stdout",
     "output_type": "stream",
     "text": [
      "Loaded 32 images in 0.21 seconds\n",
      "Preprocessed and inferred 32 images in 0.29 seconds\n",
      "torch.Size([32, 1024])\n"
     ]
    },
    {
     "name": "stderr",
     "output_type": "stream",
     "text": [
      " 38%|███▊      | 215/562 [13:44<11:22,  1.97s/it]"
     ]
    },
    {
     "name": "stdout",
     "output_type": "stream",
     "text": [
      "Loaded 32 images in 0.22 seconds\n",
      "Preprocessed and inferred 32 images in 0.29 seconds\n",
      "torch.Size([32, 1024])\n"
     ]
    },
    {
     "name": "stderr",
     "output_type": "stream",
     "text": [
      " 38%|███▊      | 216/562 [13:46<11:17,  1.96s/it]"
     ]
    },
    {
     "name": "stdout",
     "output_type": "stream",
     "text": [
      "Loaded 32 images in 0.24 seconds\n",
      "Preprocessed and inferred 32 images in 0.48 seconds\n",
      "torch.Size([32, 1024])\n"
     ]
    },
    {
     "name": "stderr",
     "output_type": "stream",
     "text": [
      " 39%|███▊      | 217/562 [13:48<11:34,  2.01s/it]"
     ]
    },
    {
     "name": "stdout",
     "output_type": "stream",
     "text": [
      "Loaded 32 images in 0.28 seconds\n",
      "Preprocessed and inferred 32 images in 0.47 seconds\n",
      "torch.Size([32, 1024])\n"
     ]
    },
    {
     "name": "stderr",
     "output_type": "stream",
     "text": [
      " 39%|███▉      | 218/562 [13:50<11:47,  2.06s/it]"
     ]
    },
    {
     "name": "stdout",
     "output_type": "stream",
     "text": [
      "Loaded 32 images in 0.20 seconds\n",
      "Preprocessed and inferred 32 images in 0.29 seconds\n",
      "torch.Size([32, 1024])\n"
     ]
    },
    {
     "name": "stderr",
     "output_type": "stream",
     "text": [
      " 39%|███▉      | 219/562 [13:52<11:30,  2.01s/it]"
     ]
    },
    {
     "name": "stdout",
     "output_type": "stream",
     "text": [
      "Loaded 32 images in 0.24 seconds\n",
      "Preprocessed and inferred 32 images in 0.28 seconds\n",
      "torch.Size([32, 1024])\n"
     ]
    },
    {
     "name": "stderr",
     "output_type": "stream",
     "text": [
      " 39%|███▉      | 220/562 [13:54<11:22,  1.99s/it]"
     ]
    },
    {
     "name": "stdout",
     "output_type": "stream",
     "text": [
      "Loaded 32 images in 0.21 seconds\n",
      "Preprocessed and inferred 32 images in 0.29 seconds\n",
      "torch.Size([32, 1024])\n"
     ]
    },
    {
     "name": "stderr",
     "output_type": "stream",
     "text": [
      " 39%|███▉      | 221/562 [13:56<11:13,  1.97s/it]"
     ]
    },
    {
     "name": "stdout",
     "output_type": "stream",
     "text": [
      "Loaded 32 images in 0.24 seconds\n",
      "Preprocessed and inferred 32 images in 0.30 seconds\n",
      "torch.Size([32, 1024])\n"
     ]
    },
    {
     "name": "stderr",
     "output_type": "stream",
     "text": [
      " 40%|███▉      | 222/562 [13:58<11:09,  1.97s/it]"
     ]
    },
    {
     "name": "stdout",
     "output_type": "stream",
     "text": [
      "Loaded 32 images in 0.21 seconds\n",
      "Preprocessed and inferred 32 images in 0.30 seconds\n",
      "torch.Size([32, 1024])\n"
     ]
    },
    {
     "name": "stderr",
     "output_type": "stream",
     "text": [
      " 40%|███▉      | 223/562 [14:00<11:03,  1.96s/it]"
     ]
    },
    {
     "name": "stdout",
     "output_type": "stream",
     "text": [
      "Loaded 32 images in 0.27 seconds\n",
      "Preprocessed and inferred 32 images in 0.47 seconds\n",
      "torch.Size([32, 1024])\n"
     ]
    },
    {
     "name": "stderr",
     "output_type": "stream",
     "text": [
      " 40%|███▉      | 224/562 [14:02<11:23,  2.02s/it]"
     ]
    },
    {
     "name": "stdout",
     "output_type": "stream",
     "text": [
      "Loaded 32 images in 0.25 seconds\n",
      "Preprocessed and inferred 32 images in 0.48 seconds\n",
      "torch.Size([32, 1024])\n"
     ]
    },
    {
     "name": "stderr",
     "output_type": "stream",
     "text": [
      " 40%|████      | 225/562 [14:04<11:34,  2.06s/it]"
     ]
    },
    {
     "name": "stdout",
     "output_type": "stream",
     "text": [
      "Loaded 32 images in 0.20 seconds\n",
      "Preprocessed and inferred 32 images in 0.30 seconds\n",
      "torch.Size([32, 1024])\n"
     ]
    },
    {
     "name": "stderr",
     "output_type": "stream",
     "text": [
      " 40%|████      | 226/562 [14:06<11:18,  2.02s/it]"
     ]
    },
    {
     "name": "stdout",
     "output_type": "stream",
     "text": [
      "Loaded 32 images in 0.23 seconds\n",
      "Preprocessed and inferred 32 images in 0.29 seconds\n",
      "torch.Size([32, 1024])\n"
     ]
    },
    {
     "name": "stderr",
     "output_type": "stream",
     "text": [
      " 40%|████      | 227/562 [14:08<11:08,  2.00s/it]"
     ]
    },
    {
     "name": "stdout",
     "output_type": "stream",
     "text": [
      "Loaded 32 images in 0.22 seconds\n",
      "Preprocessed and inferred 32 images in 0.29 seconds\n",
      "torch.Size([32, 1024])\n"
     ]
    },
    {
     "name": "stderr",
     "output_type": "stream",
     "text": [
      " 41%|████      | 228/562 [14:10<11:00,  1.98s/it]"
     ]
    },
    {
     "name": "stdout",
     "output_type": "stream",
     "text": [
      "Loaded 32 images in 0.22 seconds\n",
      "Preprocessed and inferred 32 images in 0.30 seconds\n",
      "torch.Size([32, 1024])\n"
     ]
    },
    {
     "name": "stderr",
     "output_type": "stream",
     "text": [
      " 41%|████      | 229/562 [14:12<10:55,  1.97s/it]"
     ]
    },
    {
     "name": "stdout",
     "output_type": "stream",
     "text": [
      "Loaded 32 images in 0.21 seconds\n",
      "Preprocessed and inferred 32 images in 0.30 seconds\n",
      "torch.Size([32, 1024])\n"
     ]
    },
    {
     "name": "stderr",
     "output_type": "stream",
     "text": [
      " 41%|████      | 230/562 [14:14<10:49,  1.96s/it]"
     ]
    },
    {
     "name": "stdout",
     "output_type": "stream",
     "text": [
      "Loaded 32 images in 0.27 seconds\n",
      "Preprocessed and inferred 32 images in 0.47 seconds\n",
      "torch.Size([32, 1024])\n"
     ]
    },
    {
     "name": "stderr",
     "output_type": "stream",
     "text": [
      " 41%|████      | 231/562 [14:16<11:07,  2.02s/it]"
     ]
    },
    {
     "name": "stdout",
     "output_type": "stream",
     "text": [
      "Loaded 32 images in 0.26 seconds\n",
      "Preprocessed and inferred 32 images in 0.45 seconds\n",
      "torch.Size([32, 1024])\n"
     ]
    },
    {
     "name": "stderr",
     "output_type": "stream",
     "text": [
      " 41%|████▏     | 232/562 [14:18<11:17,  2.05s/it]"
     ]
    },
    {
     "name": "stdout",
     "output_type": "stream",
     "text": [
      "Loaded 32 images in 0.23 seconds\n",
      "Preprocessed and inferred 32 images in 0.29 seconds\n",
      "torch.Size([32, 1024])\n"
     ]
    },
    {
     "name": "stderr",
     "output_type": "stream",
     "text": [
      " 41%|████▏     | 233/562 [14:20<11:04,  2.02s/it]"
     ]
    },
    {
     "name": "stdout",
     "output_type": "stream",
     "text": [
      "Loaded 32 images in 0.22 seconds\n",
      "Preprocessed and inferred 32 images in 0.29 seconds\n",
      "torch.Size([32, 1024])\n"
     ]
    },
    {
     "name": "stderr",
     "output_type": "stream",
     "text": [
      " 42%|████▏     | 234/562 [14:22<10:53,  1.99s/it]"
     ]
    },
    {
     "name": "stdout",
     "output_type": "stream",
     "text": [
      "Loaded 32 images in 0.24 seconds\n",
      "Preprocessed and inferred 32 images in 0.29 seconds\n",
      "torch.Size([32, 1024])\n"
     ]
    },
    {
     "name": "stderr",
     "output_type": "stream",
     "text": [
      " 42%|████▏     | 235/562 [14:24<10:47,  1.98s/it]"
     ]
    },
    {
     "name": "stdout",
     "output_type": "stream",
     "text": [
      "Loaded 32 images in 0.20 seconds\n",
      "Preprocessed and inferred 32 images in 0.30 seconds\n",
      "torch.Size([32, 1024])\n"
     ]
    },
    {
     "name": "stderr",
     "output_type": "stream",
     "text": [
      " 42%|████▏     | 236/562 [14:26<10:40,  1.96s/it]"
     ]
    },
    {
     "name": "stdout",
     "output_type": "stream",
     "text": [
      "Loaded 32 images in 0.20 seconds\n",
      "Preprocessed and inferred 32 images in 0.30 seconds\n",
      "torch.Size([32, 1024])\n"
     ]
    },
    {
     "name": "stderr",
     "output_type": "stream",
     "text": [
      " 42%|████▏     | 237/562 [14:28<10:34,  1.95s/it]"
     ]
    },
    {
     "name": "stdout",
     "output_type": "stream",
     "text": [
      "Loaded 32 images in 0.25 seconds\n",
      "Preprocessed and inferred 32 images in 0.46 seconds\n",
      "torch.Size([32, 1024])\n"
     ]
    },
    {
     "name": "stderr",
     "output_type": "stream",
     "text": [
      " 42%|████▏     | 238/562 [14:30<10:50,  2.01s/it]"
     ]
    },
    {
     "name": "stdout",
     "output_type": "stream",
     "text": [
      "Loaded 32 images in 0.27 seconds\n",
      "Preprocessed and inferred 32 images in 0.47 seconds\n",
      "torch.Size([32, 1024])\n"
     ]
    },
    {
     "name": "stderr",
     "output_type": "stream",
     "text": [
      " 43%|████▎     | 239/562 [14:32<11:03,  2.05s/it]"
     ]
    },
    {
     "name": "stdout",
     "output_type": "stream",
     "text": [
      "Loaded 32 images in 0.26 seconds\n",
      "Preprocessed and inferred 32 images in 0.30 seconds\n",
      "torch.Size([32, 1024])\n"
     ]
    },
    {
     "name": "stderr",
     "output_type": "stream",
     "text": [
      " 43%|████▎     | 240/562 [14:34<10:54,  2.03s/it]"
     ]
    },
    {
     "name": "stdout",
     "output_type": "stream",
     "text": [
      "Loaded 32 images in 0.21 seconds\n",
      "Preprocessed and inferred 32 images in 0.30 seconds\n",
      "torch.Size([32, 1024])\n"
     ]
    },
    {
     "name": "stderr",
     "output_type": "stream",
     "text": [
      " 43%|████▎     | 241/562 [14:36<10:41,  2.00s/it]"
     ]
    },
    {
     "name": "stdout",
     "output_type": "stream",
     "text": [
      "Loaded 32 images in 0.23 seconds\n",
      "Preprocessed and inferred 32 images in 0.30 seconds\n",
      "torch.Size([32, 1024])\n"
     ]
    },
    {
     "name": "stderr",
     "output_type": "stream",
     "text": [
      " 43%|████▎     | 242/562 [14:38<10:35,  1.99s/it]"
     ]
    },
    {
     "name": "stdout",
     "output_type": "stream",
     "text": [
      "Loaded 32 images in 0.21 seconds\n",
      "Preprocessed and inferred 32 images in 0.29 seconds\n",
      "torch.Size([32, 1024])\n"
     ]
    },
    {
     "name": "stderr",
     "output_type": "stream",
     "text": [
      " 43%|████▎     | 243/562 [14:40<10:27,  1.97s/it]"
     ]
    },
    {
     "name": "stdout",
     "output_type": "stream",
     "text": [
      "Loaded 32 images in 0.23 seconds\n",
      "Preprocessed and inferred 32 images in 0.31 seconds\n",
      "torch.Size([32, 1024])\n"
     ]
    },
    {
     "name": "stderr",
     "output_type": "stream",
     "text": [
      " 43%|████▎     | 244/562 [14:42<10:24,  1.96s/it]"
     ]
    },
    {
     "name": "stdout",
     "output_type": "stream",
     "text": [
      "Loaded 32 images in 0.21 seconds\n",
      "Preprocessed and inferred 32 images in 0.32 seconds\n",
      "torch.Size([32, 1024])\n"
     ]
    },
    {
     "name": "stderr",
     "output_type": "stream",
     "text": [
      " 44%|████▎     | 245/562 [14:44<10:20,  1.96s/it]"
     ]
    },
    {
     "name": "stdout",
     "output_type": "stream",
     "text": [
      "Loaded 32 images in 0.31 seconds\n",
      "Preprocessed and inferred 32 images in 0.47 seconds\n",
      "torch.Size([32, 1024])\n"
     ]
    },
    {
     "name": "stderr",
     "output_type": "stream",
     "text": [
      " 44%|████▍     | 246/562 [14:46<10:40,  2.03s/it]"
     ]
    },
    {
     "name": "stdout",
     "output_type": "stream",
     "text": [
      "Loaded 32 images in 0.27 seconds\n",
      "Preprocessed and inferred 32 images in 0.43 seconds\n",
      "torch.Size([32, 1024])\n"
     ]
    },
    {
     "name": "stderr",
     "output_type": "stream",
     "text": [
      " 44%|████▍     | 247/562 [14:48<10:47,  2.05s/it]"
     ]
    },
    {
     "name": "stdout",
     "output_type": "stream",
     "text": [
      "Loaded 32 images in 0.22 seconds\n",
      "Preprocessed and inferred 32 images in 0.29 seconds\n",
      "torch.Size([32, 1024])\n"
     ]
    },
    {
     "name": "stderr",
     "output_type": "stream",
     "text": [
      " 44%|████▍     | 248/562 [14:50<10:33,  2.02s/it]"
     ]
    },
    {
     "name": "stdout",
     "output_type": "stream",
     "text": [
      "Loaded 32 images in 0.23 seconds\n",
      "Preprocessed and inferred 32 images in 0.28 seconds\n",
      "torch.Size([32, 1024])\n"
     ]
    },
    {
     "name": "stderr",
     "output_type": "stream",
     "text": [
      " 44%|████▍     | 249/562 [14:52<10:23,  1.99s/it]"
     ]
    },
    {
     "name": "stdout",
     "output_type": "stream",
     "text": [
      "Loaded 32 images in 0.22 seconds\n",
      "Preprocessed and inferred 32 images in 0.29 seconds\n",
      "torch.Size([32, 1024])\n"
     ]
    },
    {
     "name": "stderr",
     "output_type": "stream",
     "text": [
      " 44%|████▍     | 250/562 [14:54<10:16,  1.98s/it]"
     ]
    },
    {
     "name": "stdout",
     "output_type": "stream",
     "text": [
      "Loaded 32 images in 0.23 seconds\n",
      "Preprocessed and inferred 32 images in 0.30 seconds\n",
      "torch.Size([32, 1024])\n"
     ]
    },
    {
     "name": "stderr",
     "output_type": "stream",
     "text": [
      " 45%|████▍     | 251/562 [14:56<10:12,  1.97s/it]"
     ]
    },
    {
     "name": "stdout",
     "output_type": "stream",
     "text": [
      "Loaded 32 images in 0.21 seconds\n",
      "Preprocessed and inferred 32 images in 0.29 seconds\n",
      "torch.Size([32, 1024])\n"
     ]
    },
    {
     "name": "stderr",
     "output_type": "stream",
     "text": [
      " 45%|████▍     | 252/562 [14:58<10:07,  1.96s/it]"
     ]
    },
    {
     "name": "stdout",
     "output_type": "stream",
     "text": [
      "Loaded 32 images in 0.28 seconds\n",
      "Preprocessed and inferred 32 images in 0.47 seconds\n",
      "torch.Size([32, 1024])\n"
     ]
    },
    {
     "name": "stderr",
     "output_type": "stream",
     "text": [
      " 45%|████▌     | 253/562 [15:00<10:25,  2.03s/it]"
     ]
    },
    {
     "name": "stdout",
     "output_type": "stream",
     "text": [
      "Loaded 32 images in 0.27 seconds\n",
      "Preprocessed and inferred 32 images in 0.45 seconds\n",
      "torch.Size([32, 1024])\n"
     ]
    },
    {
     "name": "stderr",
     "output_type": "stream",
     "text": [
      " 45%|████▌     | 254/562 [15:02<10:34,  2.06s/it]"
     ]
    },
    {
     "name": "stdout",
     "output_type": "stream",
     "text": [
      "Loaded 32 images in 0.23 seconds\n",
      "Preprocessed and inferred 32 images in 0.30 seconds\n",
      "torch.Size([32, 1024])\n"
     ]
    },
    {
     "name": "stderr",
     "output_type": "stream",
     "text": [
      " 45%|████▌     | 255/562 [15:04<10:22,  2.03s/it]"
     ]
    },
    {
     "name": "stdout",
     "output_type": "stream",
     "text": [
      "Loaded 32 images in 0.21 seconds\n",
      "Preprocessed and inferred 32 images in 0.30 seconds\n",
      "torch.Size([32, 1024])\n"
     ]
    },
    {
     "name": "stderr",
     "output_type": "stream",
     "text": [
      " 46%|████▌     | 256/562 [15:06<10:11,  2.00s/it]"
     ]
    },
    {
     "name": "stdout",
     "output_type": "stream",
     "text": [
      "Loaded 32 images in 0.23 seconds\n",
      "Preprocessed and inferred 32 images in 0.29 seconds\n",
      "torch.Size([32, 1024])\n"
     ]
    },
    {
     "name": "stderr",
     "output_type": "stream",
     "text": [
      " 46%|████▌     | 257/562 [15:08<10:04,  1.98s/it]"
     ]
    },
    {
     "name": "stdout",
     "output_type": "stream",
     "text": [
      "Loaded 32 images in 0.21 seconds\n",
      "Preprocessed and inferred 32 images in 0.31 seconds\n",
      "torch.Size([32, 1024])\n"
     ]
    },
    {
     "name": "stderr",
     "output_type": "stream",
     "text": [
      " 46%|████▌     | 258/562 [15:10<09:58,  1.97s/it]"
     ]
    },
    {
     "name": "stdout",
     "output_type": "stream",
     "text": [
      "Loaded 32 images in 0.23 seconds\n",
      "Preprocessed and inferred 32 images in 0.30 seconds\n",
      "torch.Size([32, 1024])\n"
     ]
    },
    {
     "name": "stderr",
     "output_type": "stream",
     "text": [
      " 46%|████▌     | 259/562 [15:12<09:55,  1.96s/it]"
     ]
    },
    {
     "name": "stdout",
     "output_type": "stream",
     "text": [
      "Loaded 32 images in 0.25 seconds\n",
      "Preprocessed and inferred 32 images in 0.47 seconds\n",
      "torch.Size([32, 1024])\n"
     ]
    },
    {
     "name": "stderr",
     "output_type": "stream",
     "text": [
      " 46%|████▋     | 260/562 [15:14<10:09,  2.02s/it]"
     ]
    },
    {
     "name": "stdout",
     "output_type": "stream",
     "text": [
      "Loaded 32 images in 0.26 seconds\n",
      "Preprocessed and inferred 32 images in 0.45 seconds\n",
      "torch.Size([32, 1024])\n"
     ]
    },
    {
     "name": "stderr",
     "output_type": "stream",
     "text": [
      " 46%|████▋     | 261/562 [15:16<10:16,  2.05s/it]"
     ]
    },
    {
     "name": "stdout",
     "output_type": "stream",
     "text": [
      "Loaded 32 images in 0.22 seconds\n",
      "Preprocessed and inferred 32 images in 0.29 seconds\n",
      "torch.Size([32, 1024])\n"
     ]
    },
    {
     "name": "stderr",
     "output_type": "stream",
     "text": [
      " 47%|████▋     | 262/562 [15:18<10:04,  2.01s/it]"
     ]
    },
    {
     "name": "stdout",
     "output_type": "stream",
     "text": [
      "Loaded 32 images in 0.21 seconds\n",
      "Preprocessed and inferred 32 images in 0.29 seconds\n",
      "torch.Size([32, 1024])\n"
     ]
    },
    {
     "name": "stderr",
     "output_type": "stream",
     "text": [
      " 47%|████▋     | 263/562 [15:20<09:53,  1.99s/it]"
     ]
    },
    {
     "name": "stdout",
     "output_type": "stream",
     "text": [
      "Loaded 32 images in 0.23 seconds\n",
      "Preprocessed and inferred 32 images in 0.29 seconds\n",
      "torch.Size([32, 1024])\n"
     ]
    },
    {
     "name": "stderr",
     "output_type": "stream",
     "text": [
      " 47%|████▋     | 264/562 [15:22<09:48,  1.97s/it]"
     ]
    },
    {
     "name": "stdout",
     "output_type": "stream",
     "text": [
      "Loaded 32 images in 0.21 seconds\n",
      "Preprocessed and inferred 32 images in 0.30 seconds\n",
      "torch.Size([32, 1024])\n"
     ]
    },
    {
     "name": "stderr",
     "output_type": "stream",
     "text": [
      " 47%|████▋     | 265/562 [15:24<09:42,  1.96s/it]"
     ]
    },
    {
     "name": "stdout",
     "output_type": "stream",
     "text": [
      "Loaded 32 images in 0.23 seconds\n",
      "Preprocessed and inferred 32 images in 0.29 seconds\n",
      "torch.Size([32, 1024])\n"
     ]
    },
    {
     "name": "stderr",
     "output_type": "stream",
     "text": [
      " 47%|████▋     | 266/562 [15:26<09:39,  1.96s/it]"
     ]
    },
    {
     "name": "stdout",
     "output_type": "stream",
     "text": [
      "Loaded 32 images in 0.28 seconds\n",
      "Preprocessed and inferred 32 images in 0.48 seconds\n",
      "torch.Size([32, 1024])\n"
     ]
    },
    {
     "name": "stderr",
     "output_type": "stream",
     "text": [
      " 48%|████▊     | 267/562 [15:28<09:56,  2.02s/it]"
     ]
    },
    {
     "name": "stdout",
     "output_type": "stream",
     "text": [
      "Loaded 32 images in 0.29 seconds\n",
      "Preprocessed and inferred 32 images in 0.47 seconds\n",
      "torch.Size([32, 1024])\n"
     ]
    },
    {
     "name": "stderr",
     "output_type": "stream",
     "text": [
      " 48%|████▊     | 268/562 [15:30<10:07,  2.07s/it]"
     ]
    },
    {
     "name": "stdout",
     "output_type": "stream",
     "text": [
      "Loaded 32 images in 0.20 seconds\n",
      "Preprocessed and inferred 32 images in 0.30 seconds\n",
      "torch.Size([32, 1024])\n"
     ]
    },
    {
     "name": "stderr",
     "output_type": "stream",
     "text": [
      " 48%|████▊     | 269/562 [15:32<09:52,  2.02s/it]"
     ]
    },
    {
     "name": "stdout",
     "output_type": "stream",
     "text": [
      "Loaded 32 images in 0.23 seconds\n",
      "Preprocessed and inferred 32 images in 0.30 seconds\n",
      "torch.Size([32, 1024])\n"
     ]
    },
    {
     "name": "stderr",
     "output_type": "stream",
     "text": [
      " 48%|████▊     | 270/562 [15:34<09:44,  2.00s/it]"
     ]
    },
    {
     "name": "stdout",
     "output_type": "stream",
     "text": [
      "Loaded 32 images in 0.21 seconds\n",
      "Preprocessed and inferred 32 images in 0.29 seconds\n",
      "torch.Size([32, 1024])\n"
     ]
    },
    {
     "name": "stderr",
     "output_type": "stream",
     "text": [
      " 48%|████▊     | 271/562 [15:36<09:35,  1.98s/it]"
     ]
    },
    {
     "name": "stdout",
     "output_type": "stream",
     "text": [
      "Loaded 32 images in 0.21 seconds\n",
      "Preprocessed and inferred 32 images in 0.29 seconds\n",
      "torch.Size([32, 1024])\n"
     ]
    },
    {
     "name": "stderr",
     "output_type": "stream",
     "text": [
      " 48%|████▊     | 272/562 [15:38<09:28,  1.96s/it]"
     ]
    },
    {
     "name": "stdout",
     "output_type": "stream",
     "text": [
      "Loaded 32 images in 0.22 seconds\n",
      "Preprocessed and inferred 32 images in 0.29 seconds\n",
      "torch.Size([32, 1024])\n"
     ]
    },
    {
     "name": "stderr",
     "output_type": "stream",
     "text": [
      " 49%|████▊     | 273/562 [15:40<09:24,  1.95s/it]"
     ]
    },
    {
     "name": "stdout",
     "output_type": "stream",
     "text": [
      "Loaded 32 images in 0.25 seconds\n",
      "Preprocessed and inferred 32 images in 0.48 seconds\n",
      "torch.Size([32, 1024])\n"
     ]
    },
    {
     "name": "stderr",
     "output_type": "stream",
     "text": [
      " 49%|████▉     | 274/562 [15:42<09:39,  2.01s/it]"
     ]
    },
    {
     "name": "stdout",
     "output_type": "stream",
     "text": [
      "Loaded 32 images in 0.30 seconds\n",
      "Preprocessed and inferred 32 images in 0.44 seconds\n",
      "torch.Size([32, 1024])\n"
     ]
    },
    {
     "name": "stderr",
     "output_type": "stream",
     "text": [
      " 49%|████▉     | 275/562 [15:44<09:50,  2.06s/it]"
     ]
    },
    {
     "name": "stdout",
     "output_type": "stream",
     "text": [
      "Loaded 32 images in 0.21 seconds\n",
      "Preprocessed and inferred 32 images in 0.29 seconds\n",
      "torch.Size([32, 1024])\n"
     ]
    },
    {
     "name": "stderr",
     "output_type": "stream",
     "text": [
      " 49%|████▉     | 276/562 [15:46<09:36,  2.02s/it]"
     ]
    },
    {
     "name": "stdout",
     "output_type": "stream",
     "text": [
      "Loaded 32 images in 0.23 seconds\n",
      "Preprocessed and inferred 32 images in 0.29 seconds\n",
      "torch.Size([32, 1024])\n"
     ]
    },
    {
     "name": "stderr",
     "output_type": "stream",
     "text": [
      " 49%|████▉     | 277/562 [15:48<09:28,  1.99s/it]"
     ]
    },
    {
     "name": "stdout",
     "output_type": "stream",
     "text": [
      "Loaded 32 images in 0.21 seconds\n",
      "Preprocessed and inferred 32 images in 0.29 seconds\n",
      "torch.Size([32, 1024])\n"
     ]
    },
    {
     "name": "stderr",
     "output_type": "stream",
     "text": [
      " 49%|████▉     | 278/562 [15:50<09:21,  1.98s/it]"
     ]
    },
    {
     "name": "stdout",
     "output_type": "stream",
     "text": [
      "Loaded 32 images in 0.23 seconds\n",
      "Preprocessed and inferred 32 images in 0.29 seconds\n",
      "torch.Size([32, 1024])\n"
     ]
    },
    {
     "name": "stderr",
     "output_type": "stream",
     "text": [
      " 50%|████▉     | 279/562 [15:52<09:16,  1.97s/it]"
     ]
    },
    {
     "name": "stdout",
     "output_type": "stream",
     "text": [
      "Loaded 32 images in 0.21 seconds\n",
      "Preprocessed and inferred 32 images in 0.30 seconds\n",
      "torch.Size([32, 1024])\n"
     ]
    },
    {
     "name": "stderr",
     "output_type": "stream",
     "text": [
      " 50%|████▉     | 280/562 [15:54<09:11,  1.96s/it]"
     ]
    },
    {
     "name": "stdout",
     "output_type": "stream",
     "text": [
      "Loaded 32 images in 0.28 seconds\n",
      "Preprocessed and inferred 32 images in 0.48 seconds\n",
      "torch.Size([32, 1024])\n"
     ]
    },
    {
     "name": "stderr",
     "output_type": "stream",
     "text": [
      " 50%|█████     | 281/562 [15:56<09:28,  2.02s/it]"
     ]
    },
    {
     "name": "stdout",
     "output_type": "stream",
     "text": [
      "Loaded 32 images in 0.27 seconds\n",
      "Preprocessed and inferred 32 images in 0.46 seconds\n",
      "torch.Size([32, 1024])\n"
     ]
    },
    {
     "name": "stderr",
     "output_type": "stream",
     "text": [
      " 50%|█████     | 282/562 [15:58<09:36,  2.06s/it]"
     ]
    },
    {
     "name": "stdout",
     "output_type": "stream",
     "text": [
      "Loaded 32 images in 0.23 seconds\n",
      "Preprocessed and inferred 32 images in 0.30 seconds\n",
      "torch.Size([32, 1024])\n"
     ]
    },
    {
     "name": "stderr",
     "output_type": "stream",
     "text": [
      " 50%|█████     | 283/562 [16:00<09:25,  2.03s/it]"
     ]
    },
    {
     "name": "stdout",
     "output_type": "stream",
     "text": [
      "Loaded 32 images in 0.22 seconds\n",
      "Preprocessed and inferred 32 images in 0.31 seconds\n",
      "torch.Size([32, 1024])\n"
     ]
    },
    {
     "name": "stderr",
     "output_type": "stream",
     "text": [
      " 51%|█████     | 284/562 [16:02<09:17,  2.00s/it]"
     ]
    },
    {
     "name": "stdout",
     "output_type": "stream",
     "text": [
      "Loaded 32 images in 0.22 seconds\n",
      "Preprocessed and inferred 32 images in 0.29 seconds\n",
      "torch.Size([32, 1024])\n"
     ]
    },
    {
     "name": "stderr",
     "output_type": "stream",
     "text": [
      " 51%|█████     | 285/562 [16:04<09:08,  1.98s/it]"
     ]
    },
    {
     "name": "stdout",
     "output_type": "stream",
     "text": [
      "Loaded 32 images in 0.23 seconds\n",
      "Preprocessed and inferred 32 images in 0.29 seconds\n",
      "torch.Size([32, 1024])\n"
     ]
    },
    {
     "name": "stderr",
     "output_type": "stream",
     "text": [
      " 51%|█████     | 286/562 [16:06<09:03,  1.97s/it]"
     ]
    },
    {
     "name": "stdout",
     "output_type": "stream",
     "text": [
      "Loaded 32 images in 0.21 seconds\n",
      "Preprocessed and inferred 32 images in 0.29 seconds\n",
      "torch.Size([32, 1024])\n"
     ]
    },
    {
     "name": "stderr",
     "output_type": "stream",
     "text": [
      " 51%|█████     | 287/562 [16:08<08:57,  1.95s/it]"
     ]
    },
    {
     "name": "stdout",
     "output_type": "stream",
     "text": [
      "Loaded 32 images in 0.28 seconds\n",
      "Preprocessed and inferred 32 images in 0.47 seconds\n",
      "torch.Size([32, 1024])\n"
     ]
    },
    {
     "name": "stderr",
     "output_type": "stream",
     "text": [
      " 51%|█████     | 288/562 [16:10<09:13,  2.02s/it]"
     ]
    },
    {
     "name": "stdout",
     "output_type": "stream",
     "text": [
      "Loaded 32 images in 0.29 seconds\n",
      "Preprocessed and inferred 32 images in 0.46 seconds\n",
      "torch.Size([32, 1024])\n"
     ]
    },
    {
     "name": "stderr",
     "output_type": "stream",
     "text": [
      " 51%|█████▏    | 289/562 [16:12<09:23,  2.06s/it]"
     ]
    },
    {
     "name": "stdout",
     "output_type": "stream",
     "text": [
      "Loaded 32 images in 0.23 seconds\n",
      "Preprocessed and inferred 32 images in 0.28 seconds\n",
      "torch.Size([32, 1024])\n"
     ]
    },
    {
     "name": "stderr",
     "output_type": "stream",
     "text": [
      " 52%|█████▏    | 290/562 [16:14<09:11,  2.03s/it]"
     ]
    },
    {
     "name": "stdout",
     "output_type": "stream",
     "text": [
      "Loaded 32 images in 0.21 seconds\n",
      "Preprocessed and inferred 32 images in 0.29 seconds\n",
      "torch.Size([32, 1024])\n"
     ]
    },
    {
     "name": "stderr",
     "output_type": "stream",
     "text": [
      " 52%|█████▏    | 291/562 [16:16<09:00,  1.99s/it]"
     ]
    },
    {
     "name": "stdout",
     "output_type": "stream",
     "text": [
      "Loaded 32 images in 0.23 seconds\n",
      "Preprocessed and inferred 32 images in 0.29 seconds\n",
      "torch.Size([32, 1024])\n"
     ]
    },
    {
     "name": "stderr",
     "output_type": "stream",
     "text": [
      " 52%|█████▏    | 292/562 [16:18<08:55,  1.98s/it]"
     ]
    },
    {
     "name": "stdout",
     "output_type": "stream",
     "text": [
      "Loaded 32 images in 0.22 seconds\n",
      "Preprocessed and inferred 32 images in 0.29 seconds\n",
      "torch.Size([32, 1024])\n"
     ]
    },
    {
     "name": "stderr",
     "output_type": "stream",
     "text": [
      " 52%|█████▏    | 293/562 [16:20<08:48,  1.97s/it]"
     ]
    },
    {
     "name": "stdout",
     "output_type": "stream",
     "text": [
      "Loaded 32 images in 0.24 seconds\n",
      "Preprocessed and inferred 32 images in 0.30 seconds\n",
      "torch.Size([32, 1024])\n"
     ]
    },
    {
     "name": "stderr",
     "output_type": "stream",
     "text": [
      " 52%|█████▏    | 294/562 [16:22<08:46,  1.96s/it]"
     ]
    },
    {
     "name": "stdout",
     "output_type": "stream",
     "text": [
      "Loaded 32 images in 0.26 seconds\n",
      "Preprocessed and inferred 32 images in 0.48 seconds\n",
      "torch.Size([32, 1024])\n"
     ]
    },
    {
     "name": "stderr",
     "output_type": "stream",
     "text": [
      " 52%|█████▏    | 295/562 [16:24<09:00,  2.02s/it]"
     ]
    },
    {
     "name": "stdout",
     "output_type": "stream",
     "text": [
      "Loaded 32 images in 0.27 seconds\n",
      "Preprocessed and inferred 32 images in 0.46 seconds\n",
      "torch.Size([32, 1024])\n"
     ]
    },
    {
     "name": "stderr",
     "output_type": "stream",
     "text": [
      " 53%|█████▎    | 296/562 [16:26<09:08,  2.06s/it]"
     ]
    },
    {
     "name": "stdout",
     "output_type": "stream",
     "text": [
      "Loaded 32 images in 0.23 seconds\n",
      "Preprocessed and inferred 32 images in 0.30 seconds\n",
      "torch.Size([32, 1024])\n"
     ]
    },
    {
     "name": "stderr",
     "output_type": "stream",
     "text": [
      " 53%|█████▎    | 297/562 [16:28<08:57,  2.03s/it]"
     ]
    },
    {
     "name": "stdout",
     "output_type": "stream",
     "text": [
      "Loaded 32 images in 0.21 seconds\n",
      "Preprocessed and inferred 32 images in 0.30 seconds\n",
      "torch.Size([32, 1024])\n"
     ]
    },
    {
     "name": "stderr",
     "output_type": "stream",
     "text": [
      " 53%|█████▎    | 298/562 [16:30<08:48,  2.00s/it]"
     ]
    },
    {
     "name": "stdout",
     "output_type": "stream",
     "text": [
      "Loaded 32 images in 0.23 seconds\n",
      "Preprocessed and inferred 32 images in 0.30 seconds\n",
      "torch.Size([32, 1024])\n"
     ]
    },
    {
     "name": "stderr",
     "output_type": "stream",
     "text": [
      " 53%|█████▎    | 299/562 [16:32<08:42,  1.99s/it]"
     ]
    },
    {
     "name": "stdout",
     "output_type": "stream",
     "text": [
      "Loaded 32 images in 0.21 seconds\n",
      "Preprocessed and inferred 32 images in 0.30 seconds\n",
      "torch.Size([32, 1024])\n"
     ]
    },
    {
     "name": "stderr",
     "output_type": "stream",
     "text": [
      " 53%|█████▎    | 300/562 [16:34<08:36,  1.97s/it]"
     ]
    },
    {
     "name": "stdout",
     "output_type": "stream",
     "text": [
      "Loaded 32 images in 0.23 seconds\n",
      "Preprocessed and inferred 32 images in 0.30 seconds\n",
      "torch.Size([32, 1024])\n"
     ]
    },
    {
     "name": "stderr",
     "output_type": "stream",
     "text": [
      " 54%|█████▎    | 301/562 [16:36<08:32,  1.96s/it]"
     ]
    },
    {
     "name": "stdout",
     "output_type": "stream",
     "text": [
      "Loaded 32 images in 0.26 seconds\n",
      "Preprocessed and inferred 32 images in 0.49 seconds\n",
      "torch.Size([32, 1024])\n"
     ]
    },
    {
     "name": "stderr",
     "output_type": "stream",
     "text": [
      " 54%|█████▎    | 302/562 [16:38<08:46,  2.02s/it]"
     ]
    },
    {
     "name": "stdout",
     "output_type": "stream",
     "text": [
      "Loaded 32 images in 0.29 seconds\n",
      "Preprocessed and inferred 32 images in 0.45 seconds\n",
      "torch.Size([32, 1024])\n"
     ]
    },
    {
     "name": "stderr",
     "output_type": "stream",
     "text": [
      " 54%|█████▍    | 303/562 [16:41<08:55,  2.07s/it]"
     ]
    },
    {
     "name": "stdout",
     "output_type": "stream",
     "text": [
      "Loaded 32 images in 0.21 seconds\n",
      "Preprocessed and inferred 32 images in 0.29 seconds\n",
      "torch.Size([32, 1024])\n"
     ]
    },
    {
     "name": "stderr",
     "output_type": "stream",
     "text": [
      " 54%|█████▍    | 304/562 [16:42<08:41,  2.02s/it]"
     ]
    },
    {
     "name": "stdout",
     "output_type": "stream",
     "text": [
      "Loaded 32 images in 0.23 seconds\n",
      "Preprocessed and inferred 32 images in 0.29 seconds\n",
      "torch.Size([32, 1024])\n"
     ]
    },
    {
     "name": "stderr",
     "output_type": "stream",
     "text": [
      " 54%|█████▍    | 305/562 [16:44<08:33,  2.00s/it]"
     ]
    },
    {
     "name": "stdout",
     "output_type": "stream",
     "text": [
      "Loaded 32 images in 0.21 seconds\n",
      "Preprocessed and inferred 32 images in 0.29 seconds\n",
      "torch.Size([32, 1024])\n"
     ]
    },
    {
     "name": "stderr",
     "output_type": "stream",
     "text": [
      " 54%|█████▍    | 306/562 [16:46<08:25,  1.97s/it]"
     ]
    },
    {
     "name": "stdout",
     "output_type": "stream",
     "text": [
      "Loaded 32 images in 0.24 seconds\n",
      "Preprocessed and inferred 32 images in 0.29 seconds\n",
      "torch.Size([32, 1024])\n"
     ]
    },
    {
     "name": "stderr",
     "output_type": "stream",
     "text": [
      " 55%|█████▍    | 307/562 [16:48<08:21,  1.97s/it]"
     ]
    },
    {
     "name": "stdout",
     "output_type": "stream",
     "text": [
      "Loaded 32 images in 0.21 seconds\n",
      "Preprocessed and inferred 32 images in 0.29 seconds\n",
      "torch.Size([32, 1024])\n"
     ]
    },
    {
     "name": "stderr",
     "output_type": "stream",
     "text": [
      " 55%|█████▍    | 308/562 [16:50<08:16,  1.95s/it]"
     ]
    },
    {
     "name": "stdout",
     "output_type": "stream",
     "text": [
      "Loaded 32 images in 0.26 seconds\n",
      "Preprocessed and inferred 32 images in 0.48 seconds\n",
      "torch.Size([32, 1024])\n"
     ]
    },
    {
     "name": "stderr",
     "output_type": "stream",
     "text": [
      " 55%|█████▍    | 309/562 [16:52<08:29,  2.02s/it]"
     ]
    },
    {
     "name": "stdout",
     "output_type": "stream",
     "text": [
      "Loaded 32 images in 0.30 seconds\n",
      "Preprocessed and inferred 32 images in 0.45 seconds\n",
      "torch.Size([32, 1024])\n"
     ]
    },
    {
     "name": "stderr",
     "output_type": "stream",
     "text": [
      " 55%|█████▌    | 310/562 [16:54<08:39,  2.06s/it]"
     ]
    },
    {
     "name": "stdout",
     "output_type": "stream",
     "text": [
      "Loaded 32 images in 0.22 seconds\n",
      "Preprocessed and inferred 32 images in 0.29 seconds\n",
      "torch.Size([32, 1024])\n"
     ]
    },
    {
     "name": "stderr",
     "output_type": "stream",
     "text": [
      " 55%|█████▌    | 311/562 [16:56<08:27,  2.02s/it]"
     ]
    },
    {
     "name": "stdout",
     "output_type": "stream",
     "text": [
      "Loaded 32 images in 0.23 seconds\n",
      "Preprocessed and inferred 32 images in 0.30 seconds\n",
      "torch.Size([32, 1024])\n"
     ]
    },
    {
     "name": "stderr",
     "output_type": "stream",
     "text": [
      " 56%|█████▌    | 312/562 [16:58<08:19,  2.00s/it]"
     ]
    },
    {
     "name": "stdout",
     "output_type": "stream",
     "text": [
      "Loaded 32 images in 0.21 seconds\n",
      "Preprocessed and inferred 32 images in 0.30 seconds\n",
      "torch.Size([32, 1024])\n"
     ]
    },
    {
     "name": "stderr",
     "output_type": "stream",
     "text": [
      " 56%|█████▌    | 313/562 [17:00<08:13,  1.98s/it]"
     ]
    },
    {
     "name": "stdout",
     "output_type": "stream",
     "text": [
      "Loaded 32 images in 0.23 seconds\n",
      "Preprocessed and inferred 32 images in 0.29 seconds\n",
      "torch.Size([32, 1024])\n"
     ]
    },
    {
     "name": "stderr",
     "output_type": "stream",
     "text": [
      " 56%|█████▌    | 314/562 [17:02<08:08,  1.97s/it]"
     ]
    },
    {
     "name": "stdout",
     "output_type": "stream",
     "text": [
      "Loaded 32 images in 0.22 seconds\n",
      "Preprocessed and inferred 32 images in 0.29 seconds\n",
      "torch.Size([32, 1024])\n"
     ]
    },
    {
     "name": "stderr",
     "output_type": "stream",
     "text": [
      " 56%|█████▌    | 315/562 [17:04<08:03,  1.96s/it]"
     ]
    },
    {
     "name": "stdout",
     "output_type": "stream",
     "text": [
      "Loaded 32 images in 0.28 seconds\n",
      "Preprocessed and inferred 32 images in 0.48 seconds\n",
      "torch.Size([32, 1024])\n"
     ]
    },
    {
     "name": "stderr",
     "output_type": "stream",
     "text": [
      " 56%|█████▌    | 316/562 [17:06<08:18,  2.03s/it]"
     ]
    },
    {
     "name": "stdout",
     "output_type": "stream",
     "text": [
      "Loaded 32 images in 0.26 seconds\n",
      "Preprocessed and inferred 32 images in 0.56 seconds\n",
      "torch.Size([32, 1024])\n"
     ]
    },
    {
     "name": "stderr",
     "output_type": "stream",
     "text": [
      " 56%|█████▋    | 317/562 [17:09<08:31,  2.09s/it]"
     ]
    },
    {
     "name": "stdout",
     "output_type": "stream",
     "text": [
      "Loaded 32 images in 0.32 seconds\n",
      "Preprocessed and inferred 32 images in 0.53 seconds\n",
      "torch.Size([32, 1024])\n"
     ]
    },
    {
     "name": "stderr",
     "output_type": "stream",
     "text": [
      " 57%|█████▋    | 318/562 [17:11<08:42,  2.14s/it]"
     ]
    },
    {
     "name": "stdout",
     "output_type": "stream",
     "text": [
      "Loaded 32 images in 0.34 seconds\n",
      "Preprocessed and inferred 32 images in 0.46 seconds\n",
      "torch.Size([32, 1024])\n"
     ]
    },
    {
     "name": "stderr",
     "output_type": "stream",
     "text": [
      " 57%|█████▋    | 319/562 [17:13<08:45,  2.16s/it]"
     ]
    },
    {
     "name": "stdout",
     "output_type": "stream",
     "text": [
      "Loaded 32 images in 0.23 seconds\n",
      "Preprocessed and inferred 32 images in 0.31 seconds\n",
      "torch.Size([32, 1024])\n"
     ]
    },
    {
     "name": "stderr",
     "output_type": "stream",
     "text": [
      " 57%|█████▋    | 320/562 [17:15<08:28,  2.10s/it]"
     ]
    },
    {
     "name": "stdout",
     "output_type": "stream",
     "text": [
      "Loaded 32 images in 0.21 seconds\n",
      "Preprocessed and inferred 32 images in 0.29 seconds\n",
      "torch.Size([32, 1024])\n"
     ]
    },
    {
     "name": "stderr",
     "output_type": "stream",
     "text": [
      " 57%|█████▋    | 321/562 [17:17<08:14,  2.05s/it]"
     ]
    },
    {
     "name": "stdout",
     "output_type": "stream",
     "text": [
      "Loaded 32 images in 0.23 seconds\n",
      "Preprocessed and inferred 32 images in 0.29 seconds\n",
      "torch.Size([32, 1024])\n"
     ]
    },
    {
     "name": "stderr",
     "output_type": "stream",
     "text": [
      " 57%|█████▋    | 322/562 [17:19<08:04,  2.02s/it]"
     ]
    },
    {
     "name": "stdout",
     "output_type": "stream",
     "text": [
      "Loaded 32 images in 0.21 seconds\n",
      "Preprocessed and inferred 32 images in 0.31 seconds\n",
      "torch.Size([32, 1024])\n"
     ]
    },
    {
     "name": "stderr",
     "output_type": "stream",
     "text": [
      " 57%|█████▋    | 323/562 [17:21<07:57,  2.00s/it]"
     ]
    },
    {
     "name": "stdout",
     "output_type": "stream",
     "text": [
      "Loaded 32 images in 0.22 seconds\n",
      "Preprocessed and inferred 32 images in 0.41 seconds\n",
      "torch.Size([32, 1024])\n"
     ]
    },
    {
     "name": "stderr",
     "output_type": "stream",
     "text": [
      " 58%|█████▊    | 324/562 [17:23<07:58,  2.01s/it]"
     ]
    },
    {
     "name": "stdout",
     "output_type": "stream",
     "text": [
      "Loaded 32 images in 0.27 seconds\n",
      "Preprocessed and inferred 32 images in 0.46 seconds\n",
      "torch.Size([32, 1024])\n"
     ]
    },
    {
     "name": "stderr",
     "output_type": "stream",
     "text": [
      " 58%|█████▊    | 325/562 [17:25<08:06,  2.05s/it]"
     ]
    },
    {
     "name": "stdout",
     "output_type": "stream",
     "text": [
      "Loaded 32 images in 0.27 seconds\n",
      "Preprocessed and inferred 32 images in 0.33 seconds\n",
      "torch.Size([32, 1024])\n"
     ]
    },
    {
     "name": "stderr",
     "output_type": "stream",
     "text": [
      " 58%|█████▊    | 326/562 [17:27<08:02,  2.04s/it]"
     ]
    },
    {
     "name": "stdout",
     "output_type": "stream",
     "text": [
      "Loaded 32 images in 0.24 seconds\n",
      "Preprocessed and inferred 32 images in 0.29 seconds\n",
      "torch.Size([32, 1024])\n"
     ]
    },
    {
     "name": "stderr",
     "output_type": "stream",
     "text": [
      " 58%|█████▊    | 327/562 [17:29<07:54,  2.02s/it]"
     ]
    },
    {
     "name": "stdout",
     "output_type": "stream",
     "text": [
      "Loaded 32 images in 0.21 seconds\n",
      "Preprocessed and inferred 32 images in 0.29 seconds\n",
      "torch.Size([32, 1024])\n"
     ]
    },
    {
     "name": "stderr",
     "output_type": "stream",
     "text": [
      " 58%|█████▊    | 328/562 [17:31<07:46,  1.99s/it]"
     ]
    },
    {
     "name": "stdout",
     "output_type": "stream",
     "text": [
      "Loaded 32 images in 0.23 seconds\n",
      "Preprocessed and inferred 32 images in 0.29 seconds\n",
      "torch.Size([32, 1024])\n"
     ]
    },
    {
     "name": "stderr",
     "output_type": "stream",
     "text": [
      " 59%|█████▊    | 329/562 [17:33<07:40,  1.98s/it]"
     ]
    },
    {
     "name": "stdout",
     "output_type": "stream",
     "text": [
      "Loaded 32 images in 0.21 seconds\n",
      "Preprocessed and inferred 32 images in 0.30 seconds\n",
      "torch.Size([32, 1024])\n"
     ]
    },
    {
     "name": "stderr",
     "output_type": "stream",
     "text": [
      " 59%|█████▊    | 330/562 [17:35<07:36,  1.97s/it]"
     ]
    },
    {
     "name": "stdout",
     "output_type": "stream",
     "text": [
      "Loaded 32 images in 0.22 seconds\n",
      "Preprocessed and inferred 32 images in 0.30 seconds\n",
      "torch.Size([32, 1024])\n"
     ]
    },
    {
     "name": "stderr",
     "output_type": "stream",
     "text": [
      " 59%|█████▉    | 331/562 [17:37<07:32,  1.96s/it]"
     ]
    },
    {
     "name": "stdout",
     "output_type": "stream",
     "text": [
      "Loaded 32 images in 0.25 seconds\n",
      "Preprocessed and inferred 32 images in 0.49 seconds\n",
      "torch.Size([32, 1024])\n"
     ]
    },
    {
     "name": "stderr",
     "output_type": "stream",
     "text": [
      " 59%|█████▉    | 332/562 [17:39<07:44,  2.02s/it]"
     ]
    },
    {
     "name": "stdout",
     "output_type": "stream",
     "text": [
      "Loaded 32 images in 0.29 seconds\n",
      "Preprocessed and inferred 32 images in 0.45 seconds\n",
      "torch.Size([32, 1024])\n"
     ]
    },
    {
     "name": "stderr",
     "output_type": "stream",
     "text": [
      " 59%|█████▉    | 333/562 [17:41<07:51,  2.06s/it]"
     ]
    },
    {
     "name": "stdout",
     "output_type": "stream",
     "text": [
      "Loaded 32 images in 0.21 seconds\n",
      "Preprocessed and inferred 32 images in 0.30 seconds\n",
      "torch.Size([32, 1024])\n"
     ]
    },
    {
     "name": "stderr",
     "output_type": "stream",
     "text": [
      " 59%|█████▉    | 334/562 [17:43<07:41,  2.02s/it]"
     ]
    },
    {
     "name": "stdout",
     "output_type": "stream",
     "text": [
      "Loaded 32 images in 0.22 seconds\n",
      "Preprocessed and inferred 32 images in 0.30 seconds\n",
      "torch.Size([32, 1024])\n"
     ]
    },
    {
     "name": "stderr",
     "output_type": "stream",
     "text": [
      " 60%|█████▉    | 335/562 [17:45<07:33,  2.00s/it]"
     ]
    },
    {
     "name": "stdout",
     "output_type": "stream",
     "text": [
      "Loaded 32 images in 0.20 seconds\n",
      "Preprocessed and inferred 32 images in 0.29 seconds\n",
      "torch.Size([32, 1024])\n"
     ]
    },
    {
     "name": "stderr",
     "output_type": "stream",
     "text": [
      " 60%|█████▉    | 336/562 [17:47<07:25,  1.97s/it]"
     ]
    },
    {
     "name": "stdout",
     "output_type": "stream",
     "text": [
      "Loaded 32 images in 0.21 seconds\n",
      "Preprocessed and inferred 32 images in 0.29 seconds\n",
      "torch.Size([32, 1024])\n"
     ]
    },
    {
     "name": "stderr",
     "output_type": "stream",
     "text": [
      " 60%|█████▉    | 337/562 [17:49<07:20,  1.96s/it]"
     ]
    },
    {
     "name": "stdout",
     "output_type": "stream",
     "text": [
      "Loaded 32 images in 0.24 seconds\n",
      "Preprocessed and inferred 32 images in 0.29 seconds\n",
      "torch.Size([32, 1024])\n"
     ]
    },
    {
     "name": "stderr",
     "output_type": "stream",
     "text": [
      " 60%|██████    | 338/562 [17:51<07:17,  1.95s/it]"
     ]
    },
    {
     "name": "stdout",
     "output_type": "stream",
     "text": [
      "Loaded 32 images in 0.25 seconds\n",
      "Preprocessed and inferred 32 images in 0.47 seconds\n",
      "torch.Size([32, 1024])\n"
     ]
    },
    {
     "name": "stderr",
     "output_type": "stream",
     "text": [
      " 60%|██████    | 339/562 [17:53<07:28,  2.01s/it]"
     ]
    },
    {
     "name": "stdout",
     "output_type": "stream",
     "text": [
      "Loaded 32 images in 0.30 seconds\n",
      "Preprocessed and inferred 32 images in 0.44 seconds\n",
      "torch.Size([32, 1024])\n"
     ]
    },
    {
     "name": "stderr",
     "output_type": "stream",
     "text": [
      " 60%|██████    | 340/562 [17:55<07:36,  2.06s/it]"
     ]
    },
    {
     "name": "stdout",
     "output_type": "stream",
     "text": [
      "Loaded 32 images in 0.21 seconds\n",
      "Preprocessed and inferred 32 images in 0.29 seconds\n",
      "torch.Size([32, 1024])\n"
     ]
    },
    {
     "name": "stderr",
     "output_type": "stream",
     "text": [
      " 61%|██████    | 341/562 [17:57<07:25,  2.02s/it]"
     ]
    },
    {
     "name": "stdout",
     "output_type": "stream",
     "text": [
      "Loaded 32 images in 0.23 seconds\n",
      "Preprocessed and inferred 32 images in 0.29 seconds\n",
      "torch.Size([32, 1024])\n"
     ]
    },
    {
     "name": "stderr",
     "output_type": "stream",
     "text": [
      " 61%|██████    | 342/562 [17:59<07:18,  1.99s/it]"
     ]
    },
    {
     "name": "stdout",
     "output_type": "stream",
     "text": [
      "Loaded 32 images in 0.21 seconds\n",
      "Preprocessed and inferred 32 images in 0.29 seconds\n",
      "torch.Size([32, 1024])\n"
     ]
    },
    {
     "name": "stderr",
     "output_type": "stream",
     "text": [
      " 61%|██████    | 343/562 [18:01<07:11,  1.97s/it]"
     ]
    },
    {
     "name": "stdout",
     "output_type": "stream",
     "text": [
      "Loaded 32 images in 0.23 seconds\n",
      "Preprocessed and inferred 32 images in 0.29 seconds\n",
      "torch.Size([32, 1024])\n"
     ]
    },
    {
     "name": "stderr",
     "output_type": "stream",
     "text": [
      " 61%|██████    | 344/562 [18:03<07:07,  1.96s/it]"
     ]
    },
    {
     "name": "stdout",
     "output_type": "stream",
     "text": [
      "Loaded 32 images in 0.20 seconds\n",
      "Preprocessed and inferred 32 images in 0.30 seconds\n",
      "torch.Size([32, 1024])\n"
     ]
    },
    {
     "name": "stderr",
     "output_type": "stream",
     "text": [
      " 61%|██████▏   | 345/562 [18:05<07:02,  1.95s/it]"
     ]
    },
    {
     "name": "stdout",
     "output_type": "stream",
     "text": [
      "Loaded 32 images in 0.29 seconds\n",
      "Preprocessed and inferred 32 images in 0.49 seconds\n",
      "torch.Size([32, 1024])\n"
     ]
    },
    {
     "name": "stderr",
     "output_type": "stream",
     "text": [
      " 62%|██████▏   | 346/562 [18:07<07:16,  2.02s/it]"
     ]
    },
    {
     "name": "stdout",
     "output_type": "stream",
     "text": [
      "Loaded 32 images in 0.26 seconds\n",
      "Preprocessed and inferred 32 images in 0.48 seconds\n",
      "torch.Size([32, 1024])\n"
     ]
    },
    {
     "name": "stderr",
     "output_type": "stream",
     "text": [
      " 62%|██████▏   | 347/562 [18:09<07:23,  2.06s/it]"
     ]
    },
    {
     "name": "stdout",
     "output_type": "stream",
     "text": [
      "Loaded 32 images in 0.22 seconds\n",
      "Preprocessed and inferred 32 images in 0.29 seconds\n",
      "torch.Size([32, 1024])\n"
     ]
    },
    {
     "name": "stderr",
     "output_type": "stream",
     "text": [
      " 62%|██████▏   | 348/562 [18:11<07:13,  2.03s/it]"
     ]
    },
    {
     "name": "stdout",
     "output_type": "stream",
     "text": [
      "Loaded 32 images in 0.21 seconds\n",
      "Preprocessed and inferred 32 images in 0.30 seconds\n",
      "torch.Size([32, 1024])\n"
     ]
    },
    {
     "name": "stderr",
     "output_type": "stream",
     "text": [
      " 62%|██████▏   | 349/562 [18:13<07:05,  2.00s/it]"
     ]
    },
    {
     "name": "stdout",
     "output_type": "stream",
     "text": [
      "Loaded 32 images in 0.23 seconds\n",
      "Preprocessed and inferred 32 images in 0.28 seconds\n",
      "torch.Size([32, 1024])\n"
     ]
    },
    {
     "name": "stderr",
     "output_type": "stream",
     "text": [
      " 62%|██████▏   | 350/562 [18:15<06:59,  1.98s/it]"
     ]
    },
    {
     "name": "stdout",
     "output_type": "stream",
     "text": [
      "Loaded 32 images in 0.20 seconds\n",
      "Preprocessed and inferred 32 images in 0.29 seconds\n",
      "torch.Size([32, 1024])\n"
     ]
    },
    {
     "name": "stderr",
     "output_type": "stream",
     "text": [
      " 62%|██████▏   | 351/562 [18:17<06:53,  1.96s/it]"
     ]
    },
    {
     "name": "stdout",
     "output_type": "stream",
     "text": [
      "Loaded 32 images in 0.21 seconds\n",
      "Preprocessed and inferred 32 images in 0.29 seconds\n",
      "torch.Size([32, 1024])\n"
     ]
    },
    {
     "name": "stderr",
     "output_type": "stream",
     "text": [
      " 63%|██████▎   | 352/562 [18:19<06:49,  1.95s/it]"
     ]
    },
    {
     "name": "stdout",
     "output_type": "stream",
     "text": [
      "Loaded 32 images in 0.28 seconds\n",
      "Preprocessed and inferred 32 images in 0.48 seconds\n",
      "torch.Size([32, 1024])\n"
     ]
    },
    {
     "name": "stderr",
     "output_type": "stream",
     "text": [
      " 63%|██████▎   | 353/562 [18:21<07:01,  2.02s/it]"
     ]
    },
    {
     "name": "stdout",
     "output_type": "stream",
     "text": [
      "Loaded 32 images in 0.27 seconds\n",
      "Preprocessed and inferred 32 images in 0.46 seconds\n",
      "torch.Size([32, 1024])\n"
     ]
    },
    {
     "name": "stderr",
     "output_type": "stream",
     "text": [
      " 63%|██████▎   | 354/562 [18:23<07:08,  2.06s/it]"
     ]
    },
    {
     "name": "stdout",
     "output_type": "stream",
     "text": [
      "Loaded 32 images in 0.23 seconds\n",
      "Preprocessed and inferred 32 images in 0.29 seconds\n",
      "torch.Size([32, 1024])\n"
     ]
    },
    {
     "name": "stderr",
     "output_type": "stream",
     "text": [
      " 63%|██████▎   | 355/562 [18:25<06:58,  2.02s/it]"
     ]
    },
    {
     "name": "stdout",
     "output_type": "stream",
     "text": [
      "Loaded 32 images in 0.22 seconds\n",
      "Preprocessed and inferred 32 images in 0.28 seconds\n",
      "torch.Size([32, 1024])\n"
     ]
    },
    {
     "name": "stderr",
     "output_type": "stream",
     "text": [
      " 63%|██████▎   | 356/562 [18:27<06:50,  1.99s/it]"
     ]
    },
    {
     "name": "stdout",
     "output_type": "stream",
     "text": [
      "Loaded 32 images in 0.25 seconds\n",
      "Preprocessed and inferred 32 images in 0.29 seconds\n",
      "torch.Size([32, 1024])\n"
     ]
    },
    {
     "name": "stderr",
     "output_type": "stream",
     "text": [
      " 64%|██████▎   | 357/562 [18:29<06:46,  1.98s/it]"
     ]
    },
    {
     "name": "stdout",
     "output_type": "stream",
     "text": [
      "Loaded 32 images in 0.21 seconds\n",
      "Preprocessed and inferred 32 images in 0.29 seconds\n",
      "torch.Size([32, 1024])\n"
     ]
    },
    {
     "name": "stderr",
     "output_type": "stream",
     "text": [
      " 64%|██████▎   | 358/562 [18:31<06:40,  1.96s/it]"
     ]
    },
    {
     "name": "stdout",
     "output_type": "stream",
     "text": [
      "Loaded 32 images in 0.23 seconds\n",
      "Preprocessed and inferred 32 images in 0.30 seconds\n",
      "torch.Size([32, 1024])\n"
     ]
    },
    {
     "name": "stderr",
     "output_type": "stream",
     "text": [
      " 64%|██████▍   | 359/562 [18:33<06:37,  1.96s/it]"
     ]
    },
    {
     "name": "stdout",
     "output_type": "stream",
     "text": [
      "Loaded 32 images in 0.25 seconds\n",
      "Preprocessed and inferred 32 images in 0.48 seconds\n",
      "torch.Size([32, 1024])\n"
     ]
    },
    {
     "name": "stderr",
     "output_type": "stream",
     "text": [
      " 64%|██████▍   | 360/562 [18:35<06:47,  2.02s/it]"
     ]
    },
    {
     "name": "stdout",
     "output_type": "stream",
     "text": [
      "Loaded 32 images in 0.30 seconds\n",
      "Preprocessed and inferred 32 images in 0.47 seconds\n",
      "torch.Size([32, 1024])\n"
     ]
    },
    {
     "name": "stderr",
     "output_type": "stream",
     "text": [
      " 64%|██████▍   | 361/562 [18:37<06:55,  2.07s/it]"
     ]
    },
    {
     "name": "stdout",
     "output_type": "stream",
     "text": [
      "Loaded 32 images in 0.21 seconds\n",
      "Preprocessed and inferred 32 images in 0.30 seconds\n",
      "torch.Size([32, 1024])\n"
     ]
    },
    {
     "name": "stderr",
     "output_type": "stream",
     "text": [
      " 64%|██████▍   | 362/562 [18:39<06:45,  2.03s/it]"
     ]
    },
    {
     "name": "stdout",
     "output_type": "stream",
     "text": [
      "Loaded 32 images in 0.23 seconds\n",
      "Preprocessed and inferred 32 images in 0.31 seconds\n",
      "torch.Size([32, 1024])\n"
     ]
    },
    {
     "name": "stderr",
     "output_type": "stream",
     "text": [
      " 65%|██████▍   | 363/562 [18:41<06:39,  2.01s/it]"
     ]
    },
    {
     "name": "stdout",
     "output_type": "stream",
     "text": [
      "Loaded 32 images in 0.21 seconds\n",
      "Preprocessed and inferred 32 images in 0.30 seconds\n",
      "torch.Size([32, 1024])\n"
     ]
    },
    {
     "name": "stderr",
     "output_type": "stream",
     "text": [
      " 65%|██████▍   | 364/562 [18:43<06:33,  1.99s/it]"
     ]
    },
    {
     "name": "stdout",
     "output_type": "stream",
     "text": [
      "Loaded 32 images in 0.22 seconds\n",
      "Preprocessed and inferred 32 images in 0.30 seconds\n",
      "torch.Size([32, 1024])\n"
     ]
    },
    {
     "name": "stderr",
     "output_type": "stream",
     "text": [
      " 65%|██████▍   | 365/562 [18:45<06:29,  1.98s/it]"
     ]
    },
    {
     "name": "stdout",
     "output_type": "stream",
     "text": [
      "Loaded 32 images in 0.21 seconds\n",
      "Preprocessed and inferred 32 images in 0.29 seconds\n",
      "torch.Size([32, 1024])\n"
     ]
    },
    {
     "name": "stderr",
     "output_type": "stream",
     "text": [
      " 65%|██████▌   | 366/562 [18:47<06:24,  1.96s/it]"
     ]
    },
    {
     "name": "stdout",
     "output_type": "stream",
     "text": [
      "Loaded 32 images in 0.26 seconds\n",
      "Preprocessed and inferred 32 images in 0.46 seconds\n",
      "torch.Size([32, 1024])\n"
     ]
    },
    {
     "name": "stderr",
     "output_type": "stream",
     "text": [
      " 65%|██████▌   | 367/562 [18:49<06:32,  2.02s/it]"
     ]
    },
    {
     "name": "stdout",
     "output_type": "stream",
     "text": [
      "Loaded 32 images in 0.29 seconds\n",
      "Preprocessed and inferred 32 images in 0.46 seconds\n",
      "torch.Size([32, 1024])\n"
     ]
    },
    {
     "name": "stderr",
     "output_type": "stream",
     "text": [
      " 65%|██████▌   | 368/562 [18:51<06:39,  2.06s/it]"
     ]
    },
    {
     "name": "stdout",
     "output_type": "stream",
     "text": [
      "Loaded 32 images in 0.21 seconds\n",
      "Preprocessed and inferred 32 images in 0.29 seconds\n",
      "torch.Size([32, 1024])\n"
     ]
    },
    {
     "name": "stderr",
     "output_type": "stream",
     "text": [
      " 66%|██████▌   | 369/562 [18:53<06:29,  2.02s/it]"
     ]
    },
    {
     "name": "stdout",
     "output_type": "stream",
     "text": [
      "Loaded 32 images in 0.23 seconds\n",
      "Preprocessed and inferred 32 images in 0.29 seconds\n",
      "torch.Size([32, 1024])\n"
     ]
    },
    {
     "name": "stderr",
     "output_type": "stream",
     "text": [
      " 66%|██████▌   | 370/562 [18:55<06:23,  2.00s/it]"
     ]
    },
    {
     "name": "stdout",
     "output_type": "stream",
     "text": [
      "Loaded 32 images in 0.21 seconds\n",
      "Preprocessed and inferred 32 images in 0.30 seconds\n",
      "torch.Size([32, 1024])\n"
     ]
    },
    {
     "name": "stderr",
     "output_type": "stream",
     "text": [
      " 66%|██████▌   | 371/562 [18:57<06:17,  1.98s/it]"
     ]
    },
    {
     "name": "stdout",
     "output_type": "stream",
     "text": [
      "Loaded 32 images in 0.24 seconds\n",
      "Preprocessed and inferred 32 images in 0.28 seconds\n",
      "torch.Size([32, 1024])\n"
     ]
    },
    {
     "name": "stderr",
     "output_type": "stream",
     "text": [
      " 66%|██████▌   | 372/562 [18:59<06:13,  1.97s/it]"
     ]
    },
    {
     "name": "stdout",
     "output_type": "stream",
     "text": [
      "Loaded 32 images in 0.21 seconds\n",
      "Preprocessed and inferred 32 images in 0.29 seconds\n",
      "torch.Size([32, 1024])\n"
     ]
    },
    {
     "name": "stderr",
     "output_type": "stream",
     "text": [
      " 66%|██████▋   | 373/562 [19:01<06:09,  1.95s/it]"
     ]
    },
    {
     "name": "stdout",
     "output_type": "stream",
     "text": [
      "Loaded 32 images in 0.27 seconds\n",
      "Preprocessed and inferred 32 images in 0.49 seconds\n",
      "torch.Size([32, 1024])\n"
     ]
    },
    {
     "name": "stderr",
     "output_type": "stream",
     "text": [
      " 67%|██████▋   | 374/562 [19:03<06:19,  2.02s/it]"
     ]
    },
    {
     "name": "stdout",
     "output_type": "stream",
     "text": [
      "Loaded 32 images in 0.27 seconds\n",
      "Preprocessed and inferred 32 images in 0.46 seconds\n",
      "torch.Size([32, 1024])\n"
     ]
    },
    {
     "name": "stderr",
     "output_type": "stream",
     "text": [
      " 67%|██████▋   | 375/562 [19:05<06:25,  2.06s/it]"
     ]
    },
    {
     "name": "stdout",
     "output_type": "stream",
     "text": [
      "Loaded 32 images in 0.24 seconds\n",
      "Preprocessed and inferred 32 images in 0.28 seconds\n",
      "torch.Size([32, 1024])\n"
     ]
    },
    {
     "name": "stderr",
     "output_type": "stream",
     "text": [
      " 67%|██████▋   | 376/562 [19:07<06:16,  2.02s/it]"
     ]
    },
    {
     "name": "stdout",
     "output_type": "stream",
     "text": [
      "Loaded 32 images in 0.21 seconds\n",
      "Preprocessed and inferred 32 images in 0.30 seconds\n",
      "torch.Size([32, 1024])\n"
     ]
    },
    {
     "name": "stderr",
     "output_type": "stream",
     "text": [
      " 67%|██████▋   | 377/562 [19:09<06:09,  2.00s/it]"
     ]
    },
    {
     "name": "stdout",
     "output_type": "stream",
     "text": [
      "Loaded 32 images in 0.23 seconds\n",
      "Preprocessed and inferred 32 images in 0.31 seconds\n",
      "torch.Size([32, 1024])\n"
     ]
    },
    {
     "name": "stderr",
     "output_type": "stream",
     "text": [
      " 67%|██████▋   | 378/562 [19:11<06:05,  1.99s/it]"
     ]
    },
    {
     "name": "stdout",
     "output_type": "stream",
     "text": [
      "Loaded 32 images in 0.22 seconds\n",
      "Preprocessed and inferred 32 images in 0.30 seconds\n",
      "torch.Size([32, 1024])\n"
     ]
    },
    {
     "name": "stderr",
     "output_type": "stream",
     "text": [
      " 67%|██████▋   | 379/562 [19:13<06:01,  1.97s/it]"
     ]
    },
    {
     "name": "stdout",
     "output_type": "stream",
     "text": [
      "Loaded 32 images in 0.25 seconds\n",
      "Preprocessed and inferred 32 images in 0.29 seconds\n",
      "torch.Size([32, 1024])\n"
     ]
    },
    {
     "name": "stderr",
     "output_type": "stream",
     "text": [
      " 68%|██████▊   | 380/562 [19:15<05:58,  1.97s/it]"
     ]
    },
    {
     "name": "stdout",
     "output_type": "stream",
     "text": [
      "Loaded 32 images in 0.26 seconds\n",
      "Preprocessed and inferred 32 images in 0.49 seconds\n",
      "torch.Size([32, 1024])\n"
     ]
    },
    {
     "name": "stderr",
     "output_type": "stream",
     "text": [
      " 68%|██████▊   | 381/562 [19:17<06:07,  2.03s/it]"
     ]
    },
    {
     "name": "stdout",
     "output_type": "stream",
     "text": [
      "Loaded 32 images in 0.27 seconds\n",
      "Preprocessed and inferred 32 images in 0.49 seconds\n",
      "torch.Size([32, 1024])\n"
     ]
    },
    {
     "name": "stderr",
     "output_type": "stream",
     "text": [
      " 68%|██████▊   | 382/562 [19:19<06:12,  2.07s/it]"
     ]
    },
    {
     "name": "stdout",
     "output_type": "stream",
     "text": [
      "Loaded 32 images in 0.24 seconds\n",
      "Preprocessed and inferred 32 images in 0.29 seconds\n",
      "torch.Size([32, 1024])\n"
     ]
    },
    {
     "name": "stderr",
     "output_type": "stream",
     "text": [
      " 68%|██████▊   | 383/562 [19:21<06:04,  2.04s/it]"
     ]
    },
    {
     "name": "stdout",
     "output_type": "stream",
     "text": [
      "Loaded 32 images in 0.21 seconds\n",
      "Preprocessed and inferred 32 images in 0.29 seconds\n",
      "torch.Size([32, 1024])\n"
     ]
    },
    {
     "name": "stderr",
     "output_type": "stream",
     "text": [
      " 68%|██████▊   | 384/562 [19:23<05:56,  2.00s/it]"
     ]
    },
    {
     "name": "stdout",
     "output_type": "stream",
     "text": [
      "Loaded 32 images in 0.23 seconds\n",
      "Preprocessed and inferred 32 images in 0.29 seconds\n",
      "torch.Size([32, 1024])\n"
     ]
    },
    {
     "name": "stderr",
     "output_type": "stream",
     "text": [
      " 69%|██████▊   | 385/562 [19:25<05:50,  1.98s/it]"
     ]
    },
    {
     "name": "stdout",
     "output_type": "stream",
     "text": [
      "Loaded 32 images in 0.21 seconds\n",
      "Preprocessed and inferred 32 images in 0.29 seconds\n",
      "torch.Size([32, 1024])\n"
     ]
    },
    {
     "name": "stderr",
     "output_type": "stream",
     "text": [
      " 69%|██████▊   | 386/562 [19:27<05:45,  1.96s/it]"
     ]
    },
    {
     "name": "stdout",
     "output_type": "stream",
     "text": [
      "Loaded 32 images in 0.23 seconds\n",
      "Preprocessed and inferred 32 images in 0.29 seconds\n",
      "torch.Size([32, 1024])\n"
     ]
    },
    {
     "name": "stderr",
     "output_type": "stream",
     "text": [
      " 69%|██████▉   | 387/562 [19:29<05:42,  1.96s/it]"
     ]
    },
    {
     "name": "stdout",
     "output_type": "stream",
     "text": [
      "Loaded 32 images in 0.27 seconds\n",
      "Preprocessed and inferred 32 images in 0.47 seconds\n",
      "torch.Size([32, 1024])\n"
     ]
    },
    {
     "name": "stderr",
     "output_type": "stream",
     "text": [
      " 69%|██████▉   | 388/562 [19:31<05:50,  2.02s/it]"
     ]
    },
    {
     "name": "stdout",
     "output_type": "stream",
     "text": [
      "Loaded 32 images in 0.29 seconds\n",
      "Preprocessed and inferred 32 images in 0.48 seconds\n",
      "torch.Size([32, 1024])\n"
     ]
    },
    {
     "name": "stderr",
     "output_type": "stream",
     "text": [
      " 69%|██████▉   | 389/562 [19:33<05:57,  2.07s/it]"
     ]
    },
    {
     "name": "stdout",
     "output_type": "stream",
     "text": [
      "Loaded 32 images in 0.21 seconds\n",
      "Preprocessed and inferred 32 images in 0.29 seconds\n",
      "torch.Size([32, 1024])\n"
     ]
    },
    {
     "name": "stderr",
     "output_type": "stream",
     "text": [
      " 69%|██████▉   | 390/562 [19:35<05:47,  2.02s/it]"
     ]
    },
    {
     "name": "stdout",
     "output_type": "stream",
     "text": [
      "Loaded 32 images in 0.23 seconds\n",
      "Preprocessed and inferred 32 images in 0.29 seconds\n",
      "torch.Size([32, 1024])\n"
     ]
    },
    {
     "name": "stderr",
     "output_type": "stream",
     "text": [
      " 70%|██████▉   | 391/562 [19:37<05:41,  2.00s/it]"
     ]
    },
    {
     "name": "stdout",
     "output_type": "stream",
     "text": [
      "Loaded 32 images in 0.21 seconds\n",
      "Preprocessed and inferred 32 images in 0.30 seconds\n",
      "torch.Size([32, 1024])\n"
     ]
    },
    {
     "name": "stderr",
     "output_type": "stream",
     "text": [
      " 70%|██████▉   | 392/562 [19:39<05:36,  1.98s/it]"
     ]
    },
    {
     "name": "stdout",
     "output_type": "stream",
     "text": [
      "Loaded 32 images in 0.23 seconds\n",
      "Preprocessed and inferred 32 images in 0.30 seconds\n",
      "torch.Size([32, 1024])\n"
     ]
    },
    {
     "name": "stderr",
     "output_type": "stream",
     "text": [
      " 70%|██████▉   | 393/562 [19:41<05:33,  1.97s/it]"
     ]
    },
    {
     "name": "stdout",
     "output_type": "stream",
     "text": [
      "Loaded 32 images in 0.21 seconds\n",
      "Preprocessed and inferred 32 images in 0.30 seconds\n",
      "torch.Size([32, 1024])\n"
     ]
    },
    {
     "name": "stderr",
     "output_type": "stream",
     "text": [
      " 70%|███████   | 394/562 [19:43<05:29,  1.96s/it]"
     ]
    },
    {
     "name": "stdout",
     "output_type": "stream",
     "text": [
      "Loaded 32 images in 0.28 seconds\n",
      "Preprocessed and inferred 32 images in 0.47 seconds\n",
      "torch.Size([32, 1024])\n"
     ]
    },
    {
     "name": "stderr",
     "output_type": "stream",
     "text": [
      " 70%|███████   | 395/562 [19:45<05:38,  2.03s/it]"
     ]
    },
    {
     "name": "stdout",
     "output_type": "stream",
     "text": [
      "Loaded 32 images in 0.27 seconds\n",
      "Preprocessed and inferred 32 images in 0.45 seconds\n",
      "torch.Size([32, 1024])\n"
     ]
    },
    {
     "name": "stderr",
     "output_type": "stream",
     "text": [
      " 70%|███████   | 396/562 [19:47<05:42,  2.06s/it]"
     ]
    },
    {
     "name": "stdout",
     "output_type": "stream",
     "text": [
      "Loaded 32 images in 0.21 seconds\n",
      "Preprocessed and inferred 32 images in 0.30 seconds\n",
      "torch.Size([32, 1024])\n"
     ]
    },
    {
     "name": "stderr",
     "output_type": "stream",
     "text": [
      " 71%|███████   | 397/562 [19:49<05:33,  2.02s/it]"
     ]
    },
    {
     "name": "stdout",
     "output_type": "stream",
     "text": [
      "Loaded 32 images in 0.22 seconds\n",
      "Preprocessed and inferred 32 images in 0.29 seconds\n",
      "torch.Size([32, 1024])\n"
     ]
    },
    {
     "name": "stderr",
     "output_type": "stream",
     "text": [
      " 71%|███████   | 398/562 [19:51<05:27,  2.00s/it]"
     ]
    },
    {
     "name": "stdout",
     "output_type": "stream",
     "text": [
      "Loaded 32 images in 0.21 seconds\n",
      "Preprocessed and inferred 32 images in 0.29 seconds\n",
      "torch.Size([32, 1024])\n"
     ]
    },
    {
     "name": "stderr",
     "output_type": "stream",
     "text": [
      " 71%|███████   | 399/562 [19:53<05:21,  1.97s/it]"
     ]
    },
    {
     "name": "stdout",
     "output_type": "stream",
     "text": [
      "Loaded 32 images in 0.23 seconds\n",
      "Preprocessed and inferred 32 images in 0.29 seconds\n",
      "torch.Size([32, 1024])\n"
     ]
    },
    {
     "name": "stderr",
     "output_type": "stream",
     "text": [
      " 71%|███████   | 400/562 [19:55<05:17,  1.96s/it]"
     ]
    },
    {
     "name": "stdout",
     "output_type": "stream",
     "text": [
      "Loaded 32 images in 0.21 seconds\n",
      "Preprocessed and inferred 32 images in 0.29 seconds\n",
      "torch.Size([32, 1024])\n"
     ]
    },
    {
     "name": "stderr",
     "output_type": "stream",
     "text": [
      " 71%|███████▏  | 401/562 [19:57<05:14,  1.95s/it]"
     ]
    },
    {
     "name": "stdout",
     "output_type": "stream",
     "text": [
      "Loaded 32 images in 0.27 seconds\n",
      "Preprocessed and inferred 32 images in 0.47 seconds\n",
      "torch.Size([32, 1024])\n"
     ]
    },
    {
     "name": "stderr",
     "output_type": "stream",
     "text": [
      " 72%|███████▏  | 402/562 [19:59<05:22,  2.02s/it]"
     ]
    },
    {
     "name": "stdout",
     "output_type": "stream",
     "text": [
      "Loaded 32 images in 0.27 seconds\n",
      "Preprocessed and inferred 32 images in 0.45 seconds\n",
      "torch.Size([32, 1024])\n"
     ]
    },
    {
     "name": "stderr",
     "output_type": "stream",
     "text": [
      " 72%|███████▏  | 403/562 [20:01<05:26,  2.05s/it]"
     ]
    },
    {
     "name": "stdout",
     "output_type": "stream",
     "text": [
      "Loaded 32 images in 0.23 seconds\n",
      "Preprocessed and inferred 32 images in 0.30 seconds\n",
      "torch.Size([32, 1024])\n"
     ]
    },
    {
     "name": "stderr",
     "output_type": "stream",
     "text": [
      " 72%|███████▏  | 404/562 [20:03<05:19,  2.02s/it]"
     ]
    },
    {
     "name": "stdout",
     "output_type": "stream",
     "text": [
      "Loaded 32 images in 0.22 seconds\n",
      "Preprocessed and inferred 32 images in 0.29 seconds\n",
      "torch.Size([32, 1024])\n"
     ]
    },
    {
     "name": "stderr",
     "output_type": "stream",
     "text": [
      " 72%|███████▏  | 405/562 [20:05<05:13,  2.00s/it]"
     ]
    },
    {
     "name": "stdout",
     "output_type": "stream",
     "text": [
      "Loaded 32 images in 0.22 seconds\n",
      "Preprocessed and inferred 32 images in 0.29 seconds\n",
      "torch.Size([32, 1024])\n"
     ]
    },
    {
     "name": "stderr",
     "output_type": "stream",
     "text": [
      " 72%|███████▏  | 406/562 [20:07<05:08,  1.98s/it]"
     ]
    },
    {
     "name": "stdout",
     "output_type": "stream",
     "text": [
      "Loaded 32 images in 0.21 seconds\n",
      "Preprocessed and inferred 32 images in 0.29 seconds\n",
      "torch.Size([32, 1024])\n"
     ]
    },
    {
     "name": "stderr",
     "output_type": "stream",
     "text": [
      " 72%|███████▏  | 407/562 [20:09<05:04,  1.97s/it]"
     ]
    },
    {
     "name": "stdout",
     "output_type": "stream",
     "text": [
      "Loaded 32 images in 0.23 seconds\n",
      "Preprocessed and inferred 32 images in 0.30 seconds\n",
      "torch.Size([32, 1024])\n"
     ]
    },
    {
     "name": "stderr",
     "output_type": "stream",
     "text": [
      " 73%|███████▎  | 408/562 [20:11<05:02,  1.96s/it]"
     ]
    },
    {
     "name": "stdout",
     "output_type": "stream",
     "text": [
      "Loaded 32 images in 0.24 seconds\n",
      "Preprocessed and inferred 32 images in 0.49 seconds\n",
      "torch.Size([32, 1024])\n"
     ]
    },
    {
     "name": "stderr",
     "output_type": "stream",
     "text": [
      " 73%|███████▎  | 409/562 [20:13<05:08,  2.02s/it]"
     ]
    },
    {
     "name": "stdout",
     "output_type": "stream",
     "text": [
      "Loaded 32 images in 0.28 seconds\n",
      "Preprocessed and inferred 32 images in 0.47 seconds\n",
      "torch.Size([32, 1024])\n"
     ]
    },
    {
     "name": "stderr",
     "output_type": "stream",
     "text": [
      " 73%|███████▎  | 410/562 [20:15<05:13,  2.06s/it]"
     ]
    },
    {
     "name": "stdout",
     "output_type": "stream",
     "text": [
      "Loaded 32 images in 0.23 seconds\n",
      "Preprocessed and inferred 32 images in 0.29 seconds\n",
      "torch.Size([32, 1024])\n"
     ]
    },
    {
     "name": "stderr",
     "output_type": "stream",
     "text": [
      " 73%|███████▎  | 411/562 [20:17<05:05,  2.03s/it]"
     ]
    },
    {
     "name": "stdout",
     "output_type": "stream",
     "text": [
      "Loaded 32 images in 0.21 seconds\n",
      "Preprocessed and inferred 32 images in 0.30 seconds\n",
      "torch.Size([32, 1024])\n"
     ]
    },
    {
     "name": "stderr",
     "output_type": "stream",
     "text": [
      " 73%|███████▎  | 412/562 [20:19<04:59,  2.00s/it]"
     ]
    },
    {
     "name": "stdout",
     "output_type": "stream",
     "text": [
      "Loaded 32 images in 0.24 seconds\n",
      "Preprocessed and inferred 32 images in 0.28 seconds\n",
      "torch.Size([32, 1024])\n"
     ]
    },
    {
     "name": "stderr",
     "output_type": "stream",
     "text": [
      " 73%|███████▎  | 413/562 [20:21<04:55,  1.98s/it]"
     ]
    },
    {
     "name": "stdout",
     "output_type": "stream",
     "text": [
      "Loaded 32 images in 0.21 seconds\n",
      "Preprocessed and inferred 32 images in 0.29 seconds\n",
      "torch.Size([32, 1024])\n"
     ]
    },
    {
     "name": "stderr",
     "output_type": "stream",
     "text": [
      " 74%|███████▎  | 414/562 [20:23<04:50,  1.97s/it]"
     ]
    },
    {
     "name": "stdout",
     "output_type": "stream",
     "text": [
      "Loaded 32 images in 0.24 seconds\n",
      "Preprocessed and inferred 32 images in 0.28 seconds\n",
      "torch.Size([32, 1024])\n"
     ]
    },
    {
     "name": "stderr",
     "output_type": "stream",
     "text": [
      " 74%|███████▍  | 415/562 [20:25<04:48,  1.96s/it]"
     ]
    },
    {
     "name": "stdout",
     "output_type": "stream",
     "text": [
      "Loaded 32 images in 0.26 seconds\n",
      "Preprocessed and inferred 32 images in 0.47 seconds\n",
      "torch.Size([32, 1024])\n"
     ]
    },
    {
     "name": "stderr",
     "output_type": "stream",
     "text": [
      " 74%|███████▍  | 416/562 [20:27<04:54,  2.02s/it]"
     ]
    },
    {
     "name": "stdout",
     "output_type": "stream",
     "text": [
      "Loaded 32 images in 0.33 seconds\n",
      "Preprocessed and inferred 32 images in 0.43 seconds\n",
      "torch.Size([32, 1024])\n"
     ]
    },
    {
     "name": "stderr",
     "output_type": "stream",
     "text": [
      " 74%|███████▍  | 417/562 [20:29<04:59,  2.07s/it]"
     ]
    },
    {
     "name": "stdout",
     "output_type": "stream",
     "text": [
      "Loaded 32 images in 0.21 seconds\n",
      "Preprocessed and inferred 32 images in 0.29 seconds\n",
      "torch.Size([32, 1024])\n"
     ]
    },
    {
     "name": "stderr",
     "output_type": "stream",
     "text": [
      " 74%|███████▍  | 418/562 [20:31<04:51,  2.02s/it]"
     ]
    },
    {
     "name": "stdout",
     "output_type": "stream",
     "text": [
      "Loaded 32 images in 0.24 seconds\n",
      "Preprocessed and inferred 32 images in 0.31 seconds\n",
      "torch.Size([32, 1024])\n"
     ]
    },
    {
     "name": "stderr",
     "output_type": "stream",
     "text": [
      " 75%|███████▍  | 419/562 [20:33<04:46,  2.01s/it]"
     ]
    },
    {
     "name": "stdout",
     "output_type": "stream",
     "text": [
      "Loaded 32 images in 0.21 seconds\n",
      "Preprocessed and inferred 32 images in 0.29 seconds\n",
      "torch.Size([32, 1024])\n"
     ]
    },
    {
     "name": "stderr",
     "output_type": "stream",
     "text": [
      " 75%|███████▍  | 420/562 [20:35<04:41,  1.98s/it]"
     ]
    },
    {
     "name": "stdout",
     "output_type": "stream",
     "text": [
      "Loaded 32 images in 0.22 seconds\n",
      "Preprocessed and inferred 32 images in 0.30 seconds\n",
      "torch.Size([32, 1024])\n"
     ]
    },
    {
     "name": "stderr",
     "output_type": "stream",
     "text": [
      " 75%|███████▍  | 421/562 [20:37<04:37,  1.97s/it]"
     ]
    },
    {
     "name": "stdout",
     "output_type": "stream",
     "text": [
      "Loaded 32 images in 0.20 seconds\n",
      "Preprocessed and inferred 32 images in 0.30 seconds\n",
      "torch.Size([32, 1024])\n"
     ]
    },
    {
     "name": "stderr",
     "output_type": "stream",
     "text": [
      " 75%|███████▌  | 422/562 [20:39<04:33,  1.96s/it]"
     ]
    },
    {
     "name": "stdout",
     "output_type": "stream",
     "text": [
      "Loaded 32 images in 0.26 seconds\n",
      "Preprocessed and inferred 32 images in 0.47 seconds\n",
      "torch.Size([32, 1024])\n"
     ]
    },
    {
     "name": "stderr",
     "output_type": "stream",
     "text": [
      " 75%|███████▌  | 423/562 [20:41<04:40,  2.02s/it]"
     ]
    },
    {
     "name": "stdout",
     "output_type": "stream",
     "text": [
      "Loaded 32 images in 0.30 seconds\n",
      "Preprocessed and inferred 32 images in 0.46 seconds\n",
      "torch.Size([32, 1024])\n"
     ]
    },
    {
     "name": "stderr",
     "output_type": "stream",
     "text": [
      " 75%|███████▌  | 424/562 [20:43<04:45,  2.07s/it]"
     ]
    },
    {
     "name": "stdout",
     "output_type": "stream",
     "text": [
      "Loaded 32 images in 0.20 seconds\n",
      "Preprocessed and inferred 32 images in 0.30 seconds\n",
      "torch.Size([32, 1024])\n"
     ]
    },
    {
     "name": "stderr",
     "output_type": "stream",
     "text": [
      " 76%|███████▌  | 425/562 [20:45<04:36,  2.02s/it]"
     ]
    },
    {
     "name": "stdout",
     "output_type": "stream",
     "text": [
      "Loaded 32 images in 0.23 seconds\n",
      "Preprocessed and inferred 32 images in 0.28 seconds\n",
      "torch.Size([32, 1024])\n"
     ]
    },
    {
     "name": "stderr",
     "output_type": "stream",
     "text": [
      " 76%|███████▌  | 426/562 [20:47<04:31,  1.99s/it]"
     ]
    },
    {
     "name": "stdout",
     "output_type": "stream",
     "text": [
      "Loaded 32 images in 0.21 seconds\n",
      "Preprocessed and inferred 32 images in 0.29 seconds\n",
      "torch.Size([32, 1024])\n"
     ]
    },
    {
     "name": "stderr",
     "output_type": "stream",
     "text": [
      " 76%|███████▌  | 427/562 [20:49<04:25,  1.97s/it]"
     ]
    },
    {
     "name": "stdout",
     "output_type": "stream",
     "text": [
      "Loaded 32 images in 0.23 seconds\n",
      "Preprocessed and inferred 32 images in 0.29 seconds\n",
      "torch.Size([32, 1024])\n"
     ]
    },
    {
     "name": "stderr",
     "output_type": "stream",
     "text": [
      " 76%|███████▌  | 428/562 [20:51<04:22,  1.96s/it]"
     ]
    },
    {
     "name": "stdout",
     "output_type": "stream",
     "text": [
      "Loaded 32 images in 0.21 seconds\n",
      "Preprocessed and inferred 32 images in 0.29 seconds\n",
      "torch.Size([32, 1024])\n"
     ]
    },
    {
     "name": "stderr",
     "output_type": "stream",
     "text": [
      " 76%|███████▋  | 429/562 [20:53<04:19,  1.95s/it]"
     ]
    },
    {
     "name": "stdout",
     "output_type": "stream",
     "text": [
      "Loaded 32 images in 0.29 seconds\n",
      "Preprocessed and inferred 32 images in 0.48 seconds\n",
      "torch.Size([32, 1024])\n"
     ]
    },
    {
     "name": "stderr",
     "output_type": "stream",
     "text": [
      " 77%|███████▋  | 430/562 [20:55<04:26,  2.02s/it]"
     ]
    },
    {
     "name": "stdout",
     "output_type": "stream",
     "text": [
      "Loaded 32 images in 0.29 seconds\n",
      "Preprocessed and inferred 32 images in 0.47 seconds\n",
      "torch.Size([32, 1024])\n"
     ]
    },
    {
     "name": "stderr",
     "output_type": "stream",
     "text": [
      " 77%|███████▋  | 431/562 [20:57<04:30,  2.06s/it]"
     ]
    },
    {
     "name": "stdout",
     "output_type": "stream",
     "text": [
      "Loaded 32 images in 0.22 seconds\n",
      "Preprocessed and inferred 32 images in 0.29 seconds\n",
      "torch.Size([32, 1024])\n"
     ]
    },
    {
     "name": "stderr",
     "output_type": "stream",
     "text": [
      " 77%|███████▋  | 432/562 [20:59<04:23,  2.03s/it]"
     ]
    },
    {
     "name": "stdout",
     "output_type": "stream",
     "text": [
      "Loaded 32 images in 0.21 seconds\n",
      "Preprocessed and inferred 32 images in 0.29 seconds\n",
      "torch.Size([32, 1024])\n"
     ]
    },
    {
     "name": "stderr",
     "output_type": "stream",
     "text": [
      " 77%|███████▋  | 433/562 [21:01<04:17,  1.99s/it]"
     ]
    },
    {
     "name": "stdout",
     "output_type": "stream",
     "text": [
      "Loaded 32 images in 0.22 seconds\n",
      "Preprocessed and inferred 32 images in 0.30 seconds\n",
      "torch.Size([32, 1024])\n"
     ]
    },
    {
     "name": "stderr",
     "output_type": "stream",
     "text": [
      " 77%|███████▋  | 434/562 [21:03<04:13,  1.98s/it]"
     ]
    },
    {
     "name": "stdout",
     "output_type": "stream",
     "text": [
      "Loaded 32 images in 0.21 seconds\n",
      "Preprocessed and inferred 32 images in 0.30 seconds\n",
      "torch.Size([32, 1024])\n"
     ]
    },
    {
     "name": "stderr",
     "output_type": "stream",
     "text": [
      " 77%|███████▋  | 435/562 [21:05<04:09,  1.96s/it]"
     ]
    },
    {
     "name": "stdout",
     "output_type": "stream",
     "text": [
      "Loaded 32 images in 0.24 seconds\n",
      "Preprocessed and inferred 32 images in 0.29 seconds\n",
      "torch.Size([32, 1024])\n"
     ]
    },
    {
     "name": "stderr",
     "output_type": "stream",
     "text": [
      " 78%|███████▊  | 436/562 [21:07<04:07,  1.96s/it]"
     ]
    },
    {
     "name": "stdout",
     "output_type": "stream",
     "text": [
      "Loaded 32 images in 0.26 seconds\n",
      "Preprocessed and inferred 32 images in 0.48 seconds\n",
      "torch.Size([32, 1024])\n"
     ]
    },
    {
     "name": "stderr",
     "output_type": "stream",
     "text": [
      " 78%|███████▊  | 437/562 [21:09<04:12,  2.02s/it]"
     ]
    },
    {
     "name": "stdout",
     "output_type": "stream",
     "text": [
      "Loaded 32 images in 0.26 seconds\n",
      "Preprocessed and inferred 32 images in 0.47 seconds\n",
      "torch.Size([32, 1024])\n"
     ]
    },
    {
     "name": "stderr",
     "output_type": "stream",
     "text": [
      " 78%|███████▊  | 438/562 [21:11<04:15,  2.06s/it]"
     ]
    },
    {
     "name": "stdout",
     "output_type": "stream",
     "text": [
      "Loaded 32 images in 0.23 seconds\n",
      "Preprocessed and inferred 32 images in 0.30 seconds\n",
      "torch.Size([32, 1024])\n"
     ]
    },
    {
     "name": "stderr",
     "output_type": "stream",
     "text": [
      " 78%|███████▊  | 439/562 [21:13<04:09,  2.02s/it]"
     ]
    },
    {
     "name": "stdout",
     "output_type": "stream",
     "text": [
      "Loaded 32 images in 0.21 seconds\n",
      "Preprocessed and inferred 32 images in 0.28 seconds\n",
      "torch.Size([32, 1024])\n"
     ]
    },
    {
     "name": "stderr",
     "output_type": "stream",
     "text": [
      " 78%|███████▊  | 440/562 [21:15<04:03,  1.99s/it]"
     ]
    },
    {
     "name": "stdout",
     "output_type": "stream",
     "text": [
      "Loaded 32 images in 0.23 seconds\n",
      "Preprocessed and inferred 32 images in 0.29 seconds\n",
      "torch.Size([32, 1024])\n"
     ]
    },
    {
     "name": "stderr",
     "output_type": "stream",
     "text": [
      " 78%|███████▊  | 441/562 [21:17<03:59,  1.98s/it]"
     ]
    },
    {
     "name": "stdout",
     "output_type": "stream",
     "text": [
      "Loaded 32 images in 0.22 seconds\n",
      "Preprocessed and inferred 32 images in 0.29 seconds\n",
      "torch.Size([32, 1024])\n"
     ]
    },
    {
     "name": "stderr",
     "output_type": "stream",
     "text": [
      " 79%|███████▊  | 442/562 [21:19<03:55,  1.96s/it]"
     ]
    },
    {
     "name": "stdout",
     "output_type": "stream",
     "text": [
      "Loaded 32 images in 0.24 seconds\n",
      "Preprocessed and inferred 32 images in 0.32 seconds\n",
      "torch.Size([32, 1024])\n"
     ]
    },
    {
     "name": "stderr",
     "output_type": "stream",
     "text": [
      " 79%|███████▉  | 443/562 [21:21<03:54,  1.97s/it]"
     ]
    },
    {
     "name": "stdout",
     "output_type": "stream",
     "text": [
      "Loaded 32 images in 0.27 seconds\n",
      "Preprocessed and inferred 32 images in 0.46 seconds\n",
      "torch.Size([32, 1024])\n"
     ]
    },
    {
     "name": "stderr",
     "output_type": "stream",
     "text": [
      " 79%|███████▉  | 444/562 [21:23<03:59,  2.03s/it]"
     ]
    },
    {
     "name": "stdout",
     "output_type": "stream",
     "text": [
      "Loaded 32 images in 0.29 seconds\n",
      "Preprocessed and inferred 32 images in 0.46 seconds\n",
      "torch.Size([32, 1024])\n"
     ]
    },
    {
     "name": "stderr",
     "output_type": "stream",
     "text": [
      " 79%|███████▉  | 445/562 [21:25<04:02,  2.07s/it]"
     ]
    },
    {
     "name": "stdout",
     "output_type": "stream",
     "text": [
      "Loaded 32 images in 0.26 seconds\n",
      "Preprocessed and inferred 32 images in 0.47 seconds\n",
      "torch.Size([32, 1024])\n"
     ]
    },
    {
     "name": "stderr",
     "output_type": "stream",
     "text": [
      " 79%|███████▉  | 446/562 [21:27<04:02,  2.09s/it]"
     ]
    },
    {
     "name": "stdout",
     "output_type": "stream",
     "text": [
      "Loaded 32 images in 0.28 seconds\n",
      "Preprocessed and inferred 32 images in 0.45 seconds\n",
      "torch.Size([32, 1024])\n"
     ]
    },
    {
     "name": "stderr",
     "output_type": "stream",
     "text": [
      " 80%|███████▉  | 447/562 [21:30<04:02,  2.11s/it]"
     ]
    },
    {
     "name": "stdout",
     "output_type": "stream",
     "text": [
      "Loaded 32 images in 0.21 seconds\n",
      "Preprocessed and inferred 32 images in 0.29 seconds\n",
      "torch.Size([32, 1024])\n"
     ]
    },
    {
     "name": "stderr",
     "output_type": "stream",
     "text": [
      " 80%|███████▉  | 448/562 [21:31<03:54,  2.05s/it]"
     ]
    },
    {
     "name": "stdout",
     "output_type": "stream",
     "text": [
      "Loaded 32 images in 0.23 seconds\n",
      "Preprocessed and inferred 32 images in 0.29 seconds\n",
      "torch.Size([32, 1024])\n"
     ]
    },
    {
     "name": "stderr",
     "output_type": "stream",
     "text": [
      " 80%|███████▉  | 449/562 [21:33<03:48,  2.02s/it]"
     ]
    },
    {
     "name": "stdout",
     "output_type": "stream",
     "text": [
      "Loaded 32 images in 0.21 seconds\n",
      "Preprocessed and inferred 32 images in 0.29 seconds\n",
      "torch.Size([32, 1024])\n"
     ]
    },
    {
     "name": "stderr",
     "output_type": "stream",
     "text": [
      " 80%|████████  | 450/562 [21:35<03:42,  1.99s/it]"
     ]
    },
    {
     "name": "stdout",
     "output_type": "stream",
     "text": [
      "Loaded 32 images in 0.27 seconds\n",
      "Preprocessed and inferred 32 images in 0.47 seconds\n",
      "torch.Size([32, 1024])\n"
     ]
    },
    {
     "name": "stderr",
     "output_type": "stream",
     "text": [
      " 80%|████████  | 451/562 [21:37<03:46,  2.04s/it]"
     ]
    },
    {
     "name": "stdout",
     "output_type": "stream",
     "text": [
      "Loaded 32 images in 0.29 seconds\n",
      "Preprocessed and inferred 32 images in 0.41 seconds\n",
      "torch.Size([32, 1024])\n"
     ]
    },
    {
     "name": "stderr",
     "output_type": "stream",
     "text": [
      " 80%|████████  | 452/562 [21:40<03:47,  2.06s/it]"
     ]
    },
    {
     "name": "stdout",
     "output_type": "stream",
     "text": [
      "Loaded 32 images in 0.21 seconds\n",
      "Preprocessed and inferred 32 images in 0.29 seconds\n",
      "torch.Size([32, 1024])\n"
     ]
    },
    {
     "name": "stderr",
     "output_type": "stream",
     "text": [
      " 81%|████████  | 453/562 [21:42<03:40,  2.02s/it]"
     ]
    },
    {
     "name": "stdout",
     "output_type": "stream",
     "text": [
      "Loaded 32 images in 0.23 seconds\n",
      "Preprocessed and inferred 32 images in 0.30 seconds\n",
      "torch.Size([32, 1024])\n"
     ]
    },
    {
     "name": "stderr",
     "output_type": "stream",
     "text": [
      " 81%|████████  | 454/562 [21:43<03:36,  2.00s/it]"
     ]
    },
    {
     "name": "stdout",
     "output_type": "stream",
     "text": [
      "Loaded 32 images in 0.21 seconds\n",
      "Preprocessed and inferred 32 images in 0.30 seconds\n",
      "torch.Size([32, 1024])\n"
     ]
    },
    {
     "name": "stderr",
     "output_type": "stream",
     "text": [
      " 81%|████████  | 455/562 [21:45<03:32,  1.98s/it]"
     ]
    },
    {
     "name": "stdout",
     "output_type": "stream",
     "text": [
      "Loaded 32 images in 0.22 seconds\n",
      "Preprocessed and inferred 32 images in 0.30 seconds\n",
      "torch.Size([32, 1024])\n"
     ]
    },
    {
     "name": "stderr",
     "output_type": "stream",
     "text": [
      " 81%|████████  | 456/562 [21:47<03:28,  1.97s/it]"
     ]
    },
    {
     "name": "stdout",
     "output_type": "stream",
     "text": [
      "Loaded 32 images in 0.21 seconds\n",
      "Preprocessed and inferred 32 images in 0.29 seconds\n",
      "torch.Size([32, 1024])\n"
     ]
    },
    {
     "name": "stderr",
     "output_type": "stream",
     "text": [
      " 81%|████████▏ | 457/562 [21:49<03:25,  1.96s/it]"
     ]
    },
    {
     "name": "stdout",
     "output_type": "stream",
     "text": [
      "Loaded 32 images in 0.27 seconds\n",
      "Preprocessed and inferred 32 images in 0.47 seconds\n",
      "torch.Size([32, 1024])\n"
     ]
    },
    {
     "name": "stderr",
     "output_type": "stream",
     "text": [
      " 81%|████████▏ | 458/562 [21:51<03:29,  2.02s/it]"
     ]
    },
    {
     "name": "stdout",
     "output_type": "stream",
     "text": [
      "Loaded 32 images in 0.66 seconds\n",
      "Preprocessed and inferred 32 images in 0.31 seconds\n",
      "torch.Size([32, 1024])\n"
     ]
    },
    {
     "name": "stderr",
     "output_type": "stream",
     "text": [
      " 82%|████████▏ | 459/562 [21:54<03:39,  2.13s/it]"
     ]
    },
    {
     "name": "stdout",
     "output_type": "stream",
     "text": [
      "Loaded 32 images in 0.22 seconds\n",
      "Preprocessed and inferred 32 images in 0.30 seconds\n",
      "torch.Size([32, 1024])\n"
     ]
    },
    {
     "name": "stderr",
     "output_type": "stream",
     "text": [
      " 82%|████████▏ | 460/562 [21:56<03:31,  2.07s/it]"
     ]
    },
    {
     "name": "stdout",
     "output_type": "stream",
     "text": [
      "Loaded 32 images in 0.21 seconds\n",
      "Preprocessed and inferred 32 images in 0.30 seconds\n",
      "torch.Size([32, 1024])\n"
     ]
    },
    {
     "name": "stderr",
     "output_type": "stream",
     "text": [
      " 82%|████████▏ | 461/562 [21:58<03:25,  2.03s/it]"
     ]
    },
    {
     "name": "stdout",
     "output_type": "stream",
     "text": [
      "Loaded 32 images in 0.25 seconds\n",
      "Preprocessed and inferred 32 images in 0.29 seconds\n",
      "torch.Size([32, 1024])\n"
     ]
    },
    {
     "name": "stderr",
     "output_type": "stream",
     "text": [
      " 82%|████████▏ | 462/562 [22:00<03:21,  2.01s/it]"
     ]
    },
    {
     "name": "stdout",
     "output_type": "stream",
     "text": [
      "Loaded 32 images in 0.22 seconds\n",
      "Preprocessed and inferred 32 images in 0.29 seconds\n",
      "torch.Size([32, 1024])\n"
     ]
    },
    {
     "name": "stderr",
     "output_type": "stream",
     "text": [
      " 82%|████████▏ | 463/562 [22:02<03:16,  1.99s/it]"
     ]
    },
    {
     "name": "stdout",
     "output_type": "stream",
     "text": [
      "Loaded 32 images in 0.23 seconds\n",
      "Preprocessed and inferred 32 images in 0.41 seconds\n",
      "torch.Size([32, 1024])\n"
     ]
    },
    {
     "name": "stderr",
     "output_type": "stream",
     "text": [
      " 83%|████████▎ | 464/562 [22:04<03:17,  2.01s/it]"
     ]
    },
    {
     "name": "stdout",
     "output_type": "stream",
     "text": [
      "Loaded 32 images in 0.25 seconds\n",
      "Preprocessed and inferred 32 images in 0.45 seconds\n",
      "torch.Size([32, 1024])\n"
     ]
    },
    {
     "name": "stderr",
     "output_type": "stream",
     "text": [
      " 83%|████████▎ | 465/562 [22:06<03:18,  2.04s/it]"
     ]
    },
    {
     "name": "stdout",
     "output_type": "stream",
     "text": [
      "Loaded 32 images in 0.28 seconds\n",
      "Preprocessed and inferred 32 images in 0.33 seconds\n",
      "torch.Size([32, 1024])\n"
     ]
    },
    {
     "name": "stderr",
     "output_type": "stream",
     "text": [
      " 83%|████████▎ | 466/562 [22:08<03:16,  2.04s/it]"
     ]
    },
    {
     "name": "stdout",
     "output_type": "stream",
     "text": [
      "Loaded 32 images in 0.20 seconds\n",
      "Preprocessed and inferred 32 images in 0.29 seconds\n",
      "torch.Size([32, 1024])\n"
     ]
    },
    {
     "name": "stderr",
     "output_type": "stream",
     "text": [
      " 83%|████████▎ | 467/562 [22:10<03:10,  2.00s/it]"
     ]
    },
    {
     "name": "stdout",
     "output_type": "stream",
     "text": [
      "Loaded 32 images in 0.21 seconds\n",
      "Preprocessed and inferred 32 images in 0.29 seconds\n",
      "torch.Size([32, 1024])\n"
     ]
    },
    {
     "name": "stderr",
     "output_type": "stream",
     "text": [
      " 83%|████████▎ | 468/562 [22:12<03:06,  1.98s/it]"
     ]
    },
    {
     "name": "stdout",
     "output_type": "stream",
     "text": [
      "Loaded 32 images in 0.24 seconds\n",
      "Preprocessed and inferred 32 images in 0.29 seconds\n",
      "torch.Size([32, 1024])\n"
     ]
    },
    {
     "name": "stderr",
     "output_type": "stream",
     "text": [
      " 83%|████████▎ | 469/562 [22:14<03:03,  1.98s/it]"
     ]
    },
    {
     "name": "stdout",
     "output_type": "stream",
     "text": [
      "Loaded 32 images in 0.22 seconds\n",
      "Preprocessed and inferred 32 images in 0.28 seconds\n",
      "torch.Size([32, 1024])\n"
     ]
    },
    {
     "name": "stderr",
     "output_type": "stream",
     "text": [
      " 84%|████████▎ | 470/562 [22:16<03:00,  1.96s/it]"
     ]
    },
    {
     "name": "stdout",
     "output_type": "stream",
     "text": [
      "Loaded 32 images in 0.23 seconds\n",
      "Preprocessed and inferred 32 images in 0.30 seconds\n",
      "torch.Size([32, 1024])\n"
     ]
    },
    {
     "name": "stderr",
     "output_type": "stream",
     "text": [
      " 84%|████████▍ | 471/562 [22:18<02:58,  1.96s/it]"
     ]
    },
    {
     "name": "stdout",
     "output_type": "stream",
     "text": [
      "Loaded 32 images in 0.25 seconds\n",
      "Preprocessed and inferred 32 images in 0.48 seconds\n",
      "torch.Size([32, 1024])\n"
     ]
    },
    {
     "name": "stderr",
     "output_type": "stream",
     "text": [
      " 84%|████████▍ | 472/562 [22:20<03:01,  2.01s/it]"
     ]
    },
    {
     "name": "stdout",
     "output_type": "stream",
     "text": [
      "Loaded 32 images in 0.29 seconds\n",
      "Preprocessed and inferred 32 images in 0.42 seconds\n",
      "torch.Size([32, 1024])\n"
     ]
    },
    {
     "name": "stderr",
     "output_type": "stream",
     "text": [
      " 84%|████████▍ | 473/562 [22:22<03:02,  2.05s/it]"
     ]
    },
    {
     "name": "stdout",
     "output_type": "stream",
     "text": [
      "Loaded 32 images in 0.21 seconds\n",
      "Preprocessed and inferred 32 images in 0.30 seconds\n",
      "torch.Size([32, 1024])\n"
     ]
    },
    {
     "name": "stderr",
     "output_type": "stream",
     "text": [
      " 84%|████████▍ | 474/562 [22:24<02:57,  2.02s/it]"
     ]
    },
    {
     "name": "stdout",
     "output_type": "stream",
     "text": [
      "Loaded 32 images in 0.24 seconds\n",
      "Preprocessed and inferred 32 images in 0.30 seconds\n",
      "torch.Size([32, 1024])\n"
     ]
    },
    {
     "name": "stderr",
     "output_type": "stream",
     "text": [
      " 85%|████████▍ | 475/562 [22:26<02:53,  2.00s/it]"
     ]
    },
    {
     "name": "stdout",
     "output_type": "stream",
     "text": [
      "Loaded 32 images in 0.21 seconds\n",
      "Preprocessed and inferred 32 images in 0.30 seconds\n",
      "torch.Size([32, 1024])\n"
     ]
    },
    {
     "name": "stderr",
     "output_type": "stream",
     "text": [
      " 85%|████████▍ | 476/562 [22:28<02:50,  1.98s/it]"
     ]
    },
    {
     "name": "stdout",
     "output_type": "stream",
     "text": [
      "Loaded 32 images in 0.23 seconds\n",
      "Preprocessed and inferred 32 images in 0.28 seconds\n",
      "torch.Size([32, 1024])\n"
     ]
    },
    {
     "name": "stderr",
     "output_type": "stream",
     "text": [
      " 85%|████████▍ | 477/562 [22:30<02:47,  1.97s/it]"
     ]
    },
    {
     "name": "stdout",
     "output_type": "stream",
     "text": [
      "Loaded 32 images in 0.21 seconds\n",
      "Preprocessed and inferred 32 images in 0.29 seconds\n",
      "torch.Size([32, 1024])\n"
     ]
    },
    {
     "name": "stderr",
     "output_type": "stream",
     "text": [
      " 85%|████████▌ | 478/562 [22:31<02:44,  1.95s/it]"
     ]
    },
    {
     "name": "stdout",
     "output_type": "stream",
     "text": [
      "Loaded 32 images in 0.28 seconds\n",
      "Preprocessed and inferred 32 images in 0.47 seconds\n",
      "torch.Size([32, 1024])\n"
     ]
    },
    {
     "name": "stderr",
     "output_type": "stream",
     "text": [
      " 85%|████████▌ | 479/562 [22:34<02:47,  2.02s/it]"
     ]
    },
    {
     "name": "stdout",
     "output_type": "stream",
     "text": [
      "Loaded 32 images in 0.27 seconds\n",
      "Preprocessed and inferred 32 images in 0.44 seconds\n",
      "torch.Size([32, 1024])\n"
     ]
    },
    {
     "name": "stderr",
     "output_type": "stream",
     "text": [
      " 85%|████████▌ | 480/562 [22:36<02:48,  2.05s/it]"
     ]
    },
    {
     "name": "stdout",
     "output_type": "stream",
     "text": [
      "Loaded 32 images in 0.24 seconds\n",
      "Preprocessed and inferred 32 images in 0.29 seconds\n",
      "torch.Size([32, 1024])\n"
     ]
    },
    {
     "name": "stderr",
     "output_type": "stream",
     "text": [
      " 86%|████████▌ | 481/562 [22:38<02:43,  2.02s/it]"
     ]
    },
    {
     "name": "stdout",
     "output_type": "stream",
     "text": [
      "Loaded 32 images in 0.21 seconds\n",
      "Preprocessed and inferred 32 images in 0.29 seconds\n",
      "torch.Size([32, 1024])\n"
     ]
    },
    {
     "name": "stderr",
     "output_type": "stream",
     "text": [
      " 86%|████████▌ | 482/562 [22:40<02:39,  1.99s/it]"
     ]
    },
    {
     "name": "stdout",
     "output_type": "stream",
     "text": [
      "Loaded 32 images in 0.22 seconds\n",
      "Preprocessed and inferred 32 images in 0.29 seconds\n",
      "torch.Size([32, 1024])\n"
     ]
    },
    {
     "name": "stderr",
     "output_type": "stream",
     "text": [
      " 86%|████████▌ | 483/562 [22:42<02:35,  1.97s/it]"
     ]
    },
    {
     "name": "stdout",
     "output_type": "stream",
     "text": [
      "Loaded 32 images in 0.25 seconds\n",
      "Preprocessed and inferred 32 images in 0.29 seconds\n",
      "torch.Size([32, 1024])\n"
     ]
    },
    {
     "name": "stderr",
     "output_type": "stream",
     "text": [
      " 86%|████████▌ | 484/562 [22:44<02:33,  1.97s/it]"
     ]
    },
    {
     "name": "stdout",
     "output_type": "stream",
     "text": [
      "Loaded 32 images in 0.22 seconds\n",
      "Preprocessed and inferred 32 images in 0.29 seconds\n",
      "torch.Size([32, 1024])\n"
     ]
    },
    {
     "name": "stderr",
     "output_type": "stream",
     "text": [
      " 86%|████████▋ | 485/562 [22:45<02:30,  1.96s/it]"
     ]
    },
    {
     "name": "stdout",
     "output_type": "stream",
     "text": [
      "Loaded 32 images in 0.29 seconds\n",
      "Preprocessed and inferred 32 images in 0.48 seconds\n",
      "torch.Size([32, 1024])\n"
     ]
    },
    {
     "name": "stderr",
     "output_type": "stream",
     "text": [
      " 86%|████████▋ | 486/562 [22:48<02:33,  2.03s/it]"
     ]
    },
    {
     "name": "stdout",
     "output_type": "stream",
     "text": [
      "Loaded 32 images in 0.30 seconds\n",
      "Preprocessed and inferred 32 images in 0.43 seconds\n",
      "torch.Size([32, 1024])\n"
     ]
    },
    {
     "name": "stderr",
     "output_type": "stream",
     "text": [
      " 87%|████████▋ | 487/562 [22:50<02:34,  2.06s/it]"
     ]
    },
    {
     "name": "stdout",
     "output_type": "stream",
     "text": [
      "Loaded 32 images in 0.23 seconds\n",
      "Preprocessed and inferred 32 images in 0.29 seconds\n",
      "torch.Size([32, 1024])\n"
     ]
    },
    {
     "name": "stderr",
     "output_type": "stream",
     "text": [
      " 87%|████████▋ | 488/562 [22:52<02:30,  2.03s/it]"
     ]
    },
    {
     "name": "stdout",
     "output_type": "stream",
     "text": [
      "Loaded 32 images in 0.21 seconds\n",
      "Preprocessed and inferred 32 images in 0.30 seconds\n",
      "torch.Size([32, 1024])\n"
     ]
    },
    {
     "name": "stderr",
     "output_type": "stream",
     "text": [
      " 87%|████████▋ | 489/562 [22:54<02:25,  2.00s/it]"
     ]
    },
    {
     "name": "stdout",
     "output_type": "stream",
     "text": [
      "Loaded 32 images in 0.24 seconds\n",
      "Preprocessed and inferred 32 images in 0.29 seconds\n",
      "torch.Size([32, 1024])\n"
     ]
    },
    {
     "name": "stderr",
     "output_type": "stream",
     "text": [
      " 87%|████████▋ | 490/562 [22:56<02:23,  1.99s/it]"
     ]
    },
    {
     "name": "stdout",
     "output_type": "stream",
     "text": [
      "Loaded 32 images in 0.21 seconds\n",
      "Preprocessed and inferred 32 images in 0.30 seconds\n",
      "torch.Size([32, 1024])\n"
     ]
    },
    {
     "name": "stderr",
     "output_type": "stream",
     "text": [
      " 87%|████████▋ | 491/562 [22:58<02:19,  1.97s/it]"
     ]
    },
    {
     "name": "stdout",
     "output_type": "stream",
     "text": [
      "Loaded 32 images in 0.24 seconds\n",
      "Preprocessed and inferred 32 images in 0.29 seconds\n",
      "torch.Size([32, 1024])\n"
     ]
    },
    {
     "name": "stderr",
     "output_type": "stream",
     "text": [
      " 88%|████████▊ | 492/562 [23:00<02:17,  1.96s/it]"
     ]
    },
    {
     "name": "stdout",
     "output_type": "stream",
     "text": [
      "Loaded 32 images in 0.25 seconds\n",
      "Preprocessed and inferred 32 images in 0.48 seconds\n",
      "torch.Size([32, 1024])\n"
     ]
    },
    {
     "name": "stderr",
     "output_type": "stream",
     "text": [
      " 88%|████████▊ | 493/562 [23:02<02:19,  2.02s/it]"
     ]
    },
    {
     "name": "stdout",
     "output_type": "stream",
     "text": [
      "Loaded 32 images in 0.29 seconds\n",
      "Preprocessed and inferred 32 images in 0.47 seconds\n",
      "torch.Size([32, 1024])\n"
     ]
    },
    {
     "name": "stderr",
     "output_type": "stream",
     "text": [
      " 88%|████████▊ | 494/562 [23:04<02:20,  2.07s/it]"
     ]
    },
    {
     "name": "stdout",
     "output_type": "stream",
     "text": [
      "Loaded 32 images in 0.21 seconds\n",
      "Preprocessed and inferred 32 images in 0.29 seconds\n",
      "torch.Size([32, 1024])\n"
     ]
    },
    {
     "name": "stderr",
     "output_type": "stream",
     "text": [
      " 88%|████████▊ | 495/562 [23:06<02:15,  2.03s/it]"
     ]
    },
    {
     "name": "stdout",
     "output_type": "stream",
     "text": [
      "Loaded 32 images in 0.20 seconds\n",
      "Preprocessed and inferred 32 images in 0.29 seconds\n",
      "torch.Size([32, 1024])\n"
     ]
    },
    {
     "name": "stderr",
     "output_type": "stream",
     "text": [
      " 88%|████████▊ | 496/562 [23:08<02:11,  1.99s/it]"
     ]
    },
    {
     "name": "stdout",
     "output_type": "stream",
     "text": [
      "Loaded 32 images in 0.23 seconds\n",
      "Preprocessed and inferred 32 images in 0.28 seconds\n",
      "torch.Size([32, 1024])\n"
     ]
    },
    {
     "name": "stderr",
     "output_type": "stream",
     "text": [
      " 88%|████████▊ | 497/562 [23:10<02:08,  1.97s/it]"
     ]
    },
    {
     "name": "stdout",
     "output_type": "stream",
     "text": [
      "Loaded 32 images in 0.21 seconds\n",
      "Preprocessed and inferred 32 images in 0.29 seconds\n",
      "torch.Size([32, 1024])\n"
     ]
    },
    {
     "name": "stderr",
     "output_type": "stream",
     "text": [
      " 89%|████████▊ | 498/562 [23:12<02:05,  1.96s/it]"
     ]
    },
    {
     "name": "stdout",
     "output_type": "stream",
     "text": [
      "Loaded 32 images in 0.24 seconds\n",
      "Preprocessed and inferred 32 images in 0.28 seconds\n",
      "torch.Size([32, 1024])\n"
     ]
    },
    {
     "name": "stderr",
     "output_type": "stream",
     "text": [
      " 89%|████████▉ | 499/562 [23:14<02:03,  1.95s/it]"
     ]
    },
    {
     "name": "stdout",
     "output_type": "stream",
     "text": [
      "Loaded 32 images in 0.31 seconds\n",
      "Preprocessed and inferred 32 images in 0.48 seconds\n",
      "torch.Size([32, 1024])\n"
     ]
    },
    {
     "name": "stderr",
     "output_type": "stream",
     "text": [
      " 89%|████████▉ | 500/562 [23:16<02:06,  2.03s/it]"
     ]
    },
    {
     "name": "stdout",
     "output_type": "stream",
     "text": [
      "Loaded 32 images in 0.29 seconds\n",
      "Preprocessed and inferred 32 images in 0.45 seconds\n",
      "torch.Size([32, 1024])\n"
     ]
    },
    {
     "name": "stderr",
     "output_type": "stream",
     "text": [
      " 89%|████████▉ | 501/562 [23:18<02:06,  2.07s/it]"
     ]
    },
    {
     "name": "stdout",
     "output_type": "stream",
     "text": [
      "Loaded 32 images in 0.20 seconds\n",
      "Preprocessed and inferred 32 images in 0.29 seconds\n",
      "torch.Size([32, 1024])\n"
     ]
    },
    {
     "name": "stderr",
     "output_type": "stream",
     "text": [
      " 89%|████████▉ | 502/562 [23:20<02:01,  2.03s/it]"
     ]
    },
    {
     "name": "stdout",
     "output_type": "stream",
     "text": [
      "Loaded 32 images in 0.24 seconds\n",
      "Preprocessed and inferred 32 images in 0.29 seconds\n",
      "torch.Size([32, 1024])\n"
     ]
    },
    {
     "name": "stderr",
     "output_type": "stream",
     "text": [
      " 90%|████████▉ | 503/562 [23:22<01:58,  2.00s/it]"
     ]
    },
    {
     "name": "stdout",
     "output_type": "stream",
     "text": [
      "Loaded 32 images in 0.22 seconds\n",
      "Preprocessed and inferred 32 images in 0.30 seconds\n",
      "torch.Size([32, 1024])\n"
     ]
    },
    {
     "name": "stderr",
     "output_type": "stream",
     "text": [
      " 90%|████████▉ | 504/562 [23:24<01:54,  1.98s/it]"
     ]
    },
    {
     "name": "stdout",
     "output_type": "stream",
     "text": [
      "Loaded 32 images in 0.23 seconds\n",
      "Preprocessed and inferred 32 images in 0.30 seconds\n",
      "torch.Size([32, 1024])\n"
     ]
    },
    {
     "name": "stderr",
     "output_type": "stream",
     "text": [
      " 90%|████████▉ | 505/562 [23:26<01:52,  1.97s/it]"
     ]
    },
    {
     "name": "stdout",
     "output_type": "stream",
     "text": [
      "Loaded 32 images in 0.20 seconds\n",
      "Preprocessed and inferred 32 images in 0.30 seconds\n",
      "torch.Size([32, 1024])\n"
     ]
    },
    {
     "name": "stderr",
     "output_type": "stream",
     "text": [
      " 90%|█████████ | 506/562 [23:28<01:49,  1.96s/it]"
     ]
    },
    {
     "name": "stdout",
     "output_type": "stream",
     "text": [
      "Loaded 32 images in 0.29 seconds\n",
      "Preprocessed and inferred 32 images in 0.49 seconds\n",
      "torch.Size([32, 1024])\n"
     ]
    },
    {
     "name": "stderr",
     "output_type": "stream",
     "text": [
      " 90%|█████████ | 507/562 [23:30<01:51,  2.03s/it]"
     ]
    },
    {
     "name": "stdout",
     "output_type": "stream",
     "text": [
      "Loaded 32 images in 0.26 seconds\n",
      "Preprocessed and inferred 32 images in 0.48 seconds\n",
      "torch.Size([32, 1024])\n"
     ]
    },
    {
     "name": "stderr",
     "output_type": "stream",
     "text": [
      " 90%|█████████ | 508/562 [23:32<01:51,  2.07s/it]"
     ]
    },
    {
     "name": "stdout",
     "output_type": "stream",
     "text": [
      "Loaded 32 images in 0.23 seconds\n",
      "Preprocessed and inferred 32 images in 0.30 seconds\n",
      "torch.Size([32, 1024])\n"
     ]
    },
    {
     "name": "stderr",
     "output_type": "stream",
     "text": [
      " 91%|█████████ | 509/562 [23:34<01:47,  2.03s/it]"
     ]
    },
    {
     "name": "stdout",
     "output_type": "stream",
     "text": [
      "Loaded 32 images in 0.21 seconds\n",
      "Preprocessed and inferred 32 images in 0.29 seconds\n",
      "torch.Size([32, 1024])\n"
     ]
    },
    {
     "name": "stderr",
     "output_type": "stream",
     "text": [
      " 91%|█████████ | 510/562 [23:36<01:43,  2.00s/it]"
     ]
    },
    {
     "name": "stdout",
     "output_type": "stream",
     "text": [
      "Loaded 32 images in 0.21 seconds\n",
      "Preprocessed and inferred 32 images in 0.29 seconds\n",
      "torch.Size([32, 1024])\n"
     ]
    },
    {
     "name": "stderr",
     "output_type": "stream",
     "text": [
      " 91%|█████████ | 511/562 [23:38<01:40,  1.97s/it]"
     ]
    },
    {
     "name": "stdout",
     "output_type": "stream",
     "text": [
      "Loaded 32 images in 0.24 seconds\n",
      "Preprocessed and inferred 32 images in 0.29 seconds\n",
      "torch.Size([32, 1024])\n"
     ]
    },
    {
     "name": "stderr",
     "output_type": "stream",
     "text": [
      " 91%|█████████ | 512/562 [23:40<01:38,  1.97s/it]"
     ]
    },
    {
     "name": "stdout",
     "output_type": "stream",
     "text": [
      "Loaded 32 images in 0.21 seconds\n",
      "Preprocessed and inferred 32 images in 0.30 seconds\n",
      "torch.Size([32, 1024])\n"
     ]
    },
    {
     "name": "stderr",
     "output_type": "stream",
     "text": [
      " 91%|█████████▏| 513/562 [23:42<01:35,  1.95s/it]"
     ]
    },
    {
     "name": "stdout",
     "output_type": "stream",
     "text": [
      "Loaded 32 images in 0.29 seconds\n",
      "Preprocessed and inferred 32 images in 0.47 seconds\n",
      "torch.Size([32, 1024])\n"
     ]
    },
    {
     "name": "stderr",
     "output_type": "stream",
     "text": [
      " 91%|█████████▏| 514/562 [23:44<01:37,  2.02s/it]"
     ]
    },
    {
     "name": "stdout",
     "output_type": "stream",
     "text": [
      "Loaded 32 images in 0.27 seconds\n",
      "Preprocessed and inferred 32 images in 0.46 seconds\n",
      "torch.Size([32, 1024])\n"
     ]
    },
    {
     "name": "stderr",
     "output_type": "stream",
     "text": [
      " 92%|█████████▏| 515/562 [23:46<01:36,  2.06s/it]"
     ]
    },
    {
     "name": "stdout",
     "output_type": "stream",
     "text": [
      "Loaded 32 images in 0.24 seconds\n",
      "Preprocessed and inferred 32 images in 0.29 seconds\n",
      "torch.Size([32, 1024])\n"
     ]
    },
    {
     "name": "stderr",
     "output_type": "stream",
     "text": [
      " 92%|█████████▏| 516/562 [23:48<01:33,  2.03s/it]"
     ]
    },
    {
     "name": "stdout",
     "output_type": "stream",
     "text": [
      "Loaded 32 images in 0.22 seconds\n",
      "Preprocessed and inferred 32 images in 0.29 seconds\n",
      "torch.Size([32, 1024])\n"
     ]
    },
    {
     "name": "stderr",
     "output_type": "stream",
     "text": [
      " 92%|█████████▏| 517/562 [23:50<01:29,  2.00s/it]"
     ]
    },
    {
     "name": "stdout",
     "output_type": "stream",
     "text": [
      "Loaded 32 images in 0.24 seconds\n",
      "Preprocessed and inferred 32 images in 0.29 seconds\n",
      "torch.Size([32, 1024])\n"
     ]
    },
    {
     "name": "stderr",
     "output_type": "stream",
     "text": [
      " 92%|█████████▏| 518/562 [23:52<01:27,  1.99s/it]"
     ]
    },
    {
     "name": "stdout",
     "output_type": "stream",
     "text": [
      "Loaded 32 images in 0.22 seconds\n",
      "Preprocessed and inferred 32 images in 0.30 seconds\n",
      "torch.Size([32, 1024])\n"
     ]
    },
    {
     "name": "stderr",
     "output_type": "stream",
     "text": [
      " 92%|█████████▏| 519/562 [23:54<01:24,  1.98s/it]"
     ]
    },
    {
     "name": "stdout",
     "output_type": "stream",
     "text": [
      "Loaded 32 images in 0.68 seconds\n",
      "Preprocessed and inferred 32 images in 0.29 seconds\n",
      "torch.Size([32, 1024])\n"
     ]
    },
    {
     "name": "stderr",
     "output_type": "stream",
     "text": [
      " 93%|█████████▎| 520/562 [23:56<01:28,  2.10s/it]"
     ]
    },
    {
     "name": "stdout",
     "output_type": "stream",
     "text": [
      "Loaded 32 images in 0.26 seconds\n",
      "Preprocessed and inferred 32 images in 0.47 seconds\n",
      "torch.Size([32, 1024])\n"
     ]
    },
    {
     "name": "stderr",
     "output_type": "stream",
     "text": [
      " 93%|█████████▎| 521/562 [23:58<01:26,  2.11s/it]"
     ]
    },
    {
     "name": "stdout",
     "output_type": "stream",
     "text": [
      "Loaded 32 images in 0.29 seconds\n",
      "Preprocessed and inferred 32 images in 0.44 seconds\n",
      "torch.Size([32, 1024])\n"
     ]
    },
    {
     "name": "stderr",
     "output_type": "stream",
     "text": [
      " 93%|█████████▎| 522/562 [24:00<01:25,  2.13s/it]"
     ]
    },
    {
     "name": "stdout",
     "output_type": "stream",
     "text": [
      "Loaded 32 images in 0.21 seconds\n",
      "Preprocessed and inferred 32 images in 0.29 seconds\n",
      "torch.Size([32, 1024])\n"
     ]
    },
    {
     "name": "stderr",
     "output_type": "stream",
     "text": [
      " 93%|█████████▎| 523/562 [24:02<01:20,  2.06s/it]"
     ]
    },
    {
     "name": "stdout",
     "output_type": "stream",
     "text": [
      "Loaded 32 images in 0.24 seconds\n",
      "Preprocessed and inferred 32 images in 0.29 seconds\n",
      "torch.Size([32, 1024])\n"
     ]
    },
    {
     "name": "stderr",
     "output_type": "stream",
     "text": [
      " 93%|█████████▎| 524/562 [24:04<01:17,  2.03s/it]"
     ]
    },
    {
     "name": "stdout",
     "output_type": "stream",
     "text": [
      "Loaded 32 images in 0.22 seconds\n",
      "Preprocessed and inferred 32 images in 0.29 seconds\n",
      "torch.Size([32, 1024])\n"
     ]
    },
    {
     "name": "stderr",
     "output_type": "stream",
     "text": [
      " 93%|█████████▎| 525/562 [24:06<01:14,  2.00s/it]"
     ]
    },
    {
     "name": "stdout",
     "output_type": "stream",
     "text": [
      "Loaded 32 images in 0.70 seconds\n",
      "Preprocessed and inferred 32 images in 0.29 seconds\n",
      "torch.Size([32, 1024])\n"
     ]
    },
    {
     "name": "stderr",
     "output_type": "stream",
     "text": [
      " 94%|█████████▎| 526/562 [24:09<01:16,  2.12s/it]"
     ]
    },
    {
     "name": "stdout",
     "output_type": "stream",
     "text": [
      "Loaded 32 images in 0.23 seconds\n",
      "Preprocessed and inferred 32 images in 0.34 seconds\n",
      "torch.Size([32, 1024])\n"
     ]
    },
    {
     "name": "stderr",
     "output_type": "stream",
     "text": [
      " 94%|█████████▍| 527/562 [24:11<01:12,  2.08s/it]"
     ]
    },
    {
     "name": "stdout",
     "output_type": "stream",
     "text": [
      "Loaded 32 images in 0.28 seconds\n",
      "Preprocessed and inferred 32 images in 0.47 seconds\n",
      "torch.Size([32, 1024])\n"
     ]
    },
    {
     "name": "stderr",
     "output_type": "stream",
     "text": [
      " 94%|█████████▍| 528/562 [24:13<01:11,  2.11s/it]"
     ]
    },
    {
     "name": "stdout",
     "output_type": "stream",
     "text": [
      "Loaded 32 images in 0.27 seconds\n",
      "Preprocessed and inferred 32 images in 0.38 seconds\n",
      "torch.Size([32, 1024])\n"
     ]
    },
    {
     "name": "stderr",
     "output_type": "stream",
     "text": [
      " 94%|█████████▍| 529/562 [24:15<01:09,  2.10s/it]"
     ]
    },
    {
     "name": "stdout",
     "output_type": "stream",
     "text": [
      "Loaded 32 images in 0.21 seconds\n",
      "Preprocessed and inferred 32 images in 0.29 seconds\n",
      "torch.Size([32, 1024])\n"
     ]
    },
    {
     "name": "stderr",
     "output_type": "stream",
     "text": [
      " 94%|█████████▍| 530/562 [24:17<01:05,  2.05s/it]"
     ]
    },
    {
     "name": "stdout",
     "output_type": "stream",
     "text": [
      "Loaded 32 images in 0.25 seconds\n",
      "Preprocessed and inferred 32 images in 0.28 seconds\n",
      "torch.Size([32, 1024])\n"
     ]
    },
    {
     "name": "stderr",
     "output_type": "stream",
     "text": [
      " 94%|█████████▍| 531/562 [24:19<01:02,  2.02s/it]"
     ]
    },
    {
     "name": "stdout",
     "output_type": "stream",
     "text": [
      "Loaded 32 images in 0.21 seconds\n",
      "Preprocessed and inferred 32 images in 0.29 seconds\n",
      "torch.Size([32, 1024])\n"
     ]
    },
    {
     "name": "stderr",
     "output_type": "stream",
     "text": [
      " 95%|█████████▍| 532/562 [24:21<00:59,  1.99s/it]"
     ]
    },
    {
     "name": "stdout",
     "output_type": "stream",
     "text": [
      "Loaded 32 images in 0.23 seconds\n",
      "Preprocessed and inferred 32 images in 0.30 seconds\n",
      "torch.Size([32, 1024])\n"
     ]
    },
    {
     "name": "stderr",
     "output_type": "stream",
     "text": [
      " 95%|█████████▍| 533/562 [24:23<00:57,  1.98s/it]"
     ]
    },
    {
     "name": "stdout",
     "output_type": "stream",
     "text": [
      "Loaded 32 images in 0.21 seconds\n",
      "Preprocessed and inferred 32 images in 0.30 seconds\n",
      "torch.Size([32, 1024])\n"
     ]
    },
    {
     "name": "stderr",
     "output_type": "stream",
     "text": [
      " 95%|█████████▌| 534/562 [24:25<00:55,  1.97s/it]"
     ]
    },
    {
     "name": "stdout",
     "output_type": "stream",
     "text": [
      "Loaded 32 images in 0.27 seconds\n",
      "Preprocessed and inferred 32 images in 0.48 seconds\n",
      "torch.Size([32, 1024])\n"
     ]
    },
    {
     "name": "stderr",
     "output_type": "stream",
     "text": [
      " 95%|█████████▌| 535/562 [24:27<00:54,  2.03s/it]"
     ]
    },
    {
     "name": "stdout",
     "output_type": "stream",
     "text": [
      "Loaded 32 images in 0.29 seconds\n",
      "Preprocessed and inferred 32 images in 0.42 seconds\n",
      "torch.Size([32, 1024])\n"
     ]
    },
    {
     "name": "stderr",
     "output_type": "stream",
     "text": [
      " 95%|█████████▌| 536/562 [24:29<00:53,  2.06s/it]"
     ]
    },
    {
     "name": "stdout",
     "output_type": "stream",
     "text": [
      "Loaded 32 images in 0.23 seconds\n",
      "Preprocessed and inferred 32 images in 0.30 seconds\n",
      "torch.Size([32, 1024])\n"
     ]
    },
    {
     "name": "stderr",
     "output_type": "stream",
     "text": [
      " 96%|█████████▌| 537/562 [24:31<00:50,  2.03s/it]"
     ]
    },
    {
     "name": "stdout",
     "output_type": "stream",
     "text": [
      "Loaded 32 images in 0.20 seconds\n",
      "Preprocessed and inferred 32 images in 0.29 seconds\n",
      "torch.Size([32, 1024])\n"
     ]
    },
    {
     "name": "stderr",
     "output_type": "stream",
     "text": [
      " 96%|█████████▌| 538/562 [24:33<00:47,  2.00s/it]"
     ]
    },
    {
     "name": "stdout",
     "output_type": "stream",
     "text": [
      "Loaded 32 images in 0.22 seconds\n",
      "Preprocessed and inferred 32 images in 0.29 seconds\n",
      "torch.Size([32, 1024])\n"
     ]
    },
    {
     "name": "stderr",
     "output_type": "stream",
     "text": [
      " 96%|█████████▌| 539/562 [24:35<00:45,  1.98s/it]"
     ]
    },
    {
     "name": "stdout",
     "output_type": "stream",
     "text": [
      "Loaded 32 images in 0.21 seconds\n",
      "Preprocessed and inferred 32 images in 0.29 seconds\n",
      "torch.Size([32, 1024])\n"
     ]
    },
    {
     "name": "stderr",
     "output_type": "stream",
     "text": [
      " 96%|█████████▌| 540/562 [24:37<00:43,  1.96s/it]"
     ]
    },
    {
     "name": "stdout",
     "output_type": "stream",
     "text": [
      "Loaded 32 images in 0.22 seconds\n",
      "Preprocessed and inferred 32 images in 0.30 seconds\n",
      "torch.Size([32, 1024])\n"
     ]
    },
    {
     "name": "stderr",
     "output_type": "stream",
     "text": [
      " 96%|█████████▋| 541/562 [24:39<00:41,  1.96s/it]"
     ]
    },
    {
     "name": "stdout",
     "output_type": "stream",
     "text": [
      "Loaded 32 images in 0.28 seconds\n",
      "Preprocessed and inferred 32 images in 0.47 seconds\n",
      "torch.Size([32, 1024])\n"
     ]
    },
    {
     "name": "stderr",
     "output_type": "stream",
     "text": [
      " 96%|█████████▋| 542/562 [24:41<00:40,  2.02s/it]"
     ]
    },
    {
     "name": "stdout",
     "output_type": "stream",
     "text": [
      "Loaded 32 images in 0.27 seconds\n",
      "Preprocessed and inferred 32 images in 0.47 seconds\n",
      "torch.Size([32, 1024])\n"
     ]
    },
    {
     "name": "stderr",
     "output_type": "stream",
     "text": [
      " 97%|█████████▋| 543/562 [24:43<00:39,  2.06s/it]"
     ]
    },
    {
     "name": "stdout",
     "output_type": "stream",
     "text": [
      "Loaded 32 images in 0.22 seconds\n",
      "Preprocessed and inferred 32 images in 0.29 seconds\n",
      "torch.Size([32, 1024])\n"
     ]
    },
    {
     "name": "stderr",
     "output_type": "stream",
     "text": [
      " 97%|█████████▋| 544/562 [24:45<00:36,  2.02s/it]"
     ]
    },
    {
     "name": "stdout",
     "output_type": "stream",
     "text": [
      "Loaded 32 images in 0.21 seconds\n",
      "Preprocessed and inferred 32 images in 0.29 seconds\n",
      "torch.Size([32, 1024])\n"
     ]
    },
    {
     "name": "stderr",
     "output_type": "stream",
     "text": [
      " 97%|█████████▋| 545/562 [24:47<00:33,  2.00s/it]"
     ]
    },
    {
     "name": "stdout",
     "output_type": "stream",
     "text": [
      "Loaded 32 images in 0.24 seconds\n",
      "Preprocessed and inferred 32 images in 0.29 seconds\n",
      "torch.Size([32, 1024])\n"
     ]
    },
    {
     "name": "stderr",
     "output_type": "stream",
     "text": [
      " 97%|█████████▋| 546/562 [24:49<00:31,  1.98s/it]"
     ]
    },
    {
     "name": "stdout",
     "output_type": "stream",
     "text": [
      "Loaded 32 images in 0.21 seconds\n",
      "Preprocessed and inferred 32 images in 0.31 seconds\n",
      "torch.Size([32, 1024])\n"
     ]
    },
    {
     "name": "stderr",
     "output_type": "stream",
     "text": [
      " 97%|█████████▋| 547/562 [24:51<00:29,  1.97s/it]"
     ]
    },
    {
     "name": "stdout",
     "output_type": "stream",
     "text": [
      "Loaded 32 images in 0.22 seconds\n",
      "Preprocessed and inferred 32 images in 0.30 seconds\n",
      "torch.Size([32, 1024])\n"
     ]
    },
    {
     "name": "stderr",
     "output_type": "stream",
     "text": [
      " 98%|█████████▊| 548/562 [24:53<00:27,  1.96s/it]"
     ]
    },
    {
     "name": "stdout",
     "output_type": "stream",
     "text": [
      "Loaded 32 images in 0.26 seconds\n",
      "Preprocessed and inferred 32 images in 0.46 seconds\n",
      "torch.Size([32, 1024])\n"
     ]
    },
    {
     "name": "stderr",
     "output_type": "stream",
     "text": [
      " 98%|█████████▊| 549/562 [24:55<00:26,  2.02s/it]"
     ]
    },
    {
     "name": "stdout",
     "output_type": "stream",
     "text": [
      "Loaded 32 images in 0.30 seconds\n",
      "Preprocessed and inferred 32 images in 0.48 seconds\n",
      "torch.Size([32, 1024])\n"
     ]
    },
    {
     "name": "stderr",
     "output_type": "stream",
     "text": [
      " 98%|█████████▊| 550/562 [24:57<00:24,  2.07s/it]"
     ]
    },
    {
     "name": "stdout",
     "output_type": "stream",
     "text": [
      "Loaded 32 images in 0.21 seconds\n",
      "Preprocessed and inferred 32 images in 0.30 seconds\n",
      "torch.Size([32, 1024])\n"
     ]
    },
    {
     "name": "stderr",
     "output_type": "stream",
     "text": [
      " 98%|█████████▊| 551/562 [24:59<00:22,  2.02s/it]"
     ]
    },
    {
     "name": "stdout",
     "output_type": "stream",
     "text": [
      "Loaded 32 images in 0.23 seconds\n",
      "Preprocessed and inferred 32 images in 0.30 seconds\n",
      "torch.Size([32, 1024])\n"
     ]
    },
    {
     "name": "stderr",
     "output_type": "stream",
     "text": [
      " 98%|█████████▊| 552/562 [25:01<00:20,  2.01s/it]"
     ]
    },
    {
     "name": "stdout",
     "output_type": "stream",
     "text": [
      "Loaded 32 images in 0.21 seconds\n",
      "Preprocessed and inferred 32 images in 0.29 seconds\n",
      "torch.Size([32, 1024])\n"
     ]
    },
    {
     "name": "stderr",
     "output_type": "stream",
     "text": [
      " 98%|█████████▊| 553/562 [25:03<00:17,  1.98s/it]"
     ]
    },
    {
     "name": "stdout",
     "output_type": "stream",
     "text": [
      "Loaded 32 images in 0.23 seconds\n",
      "Preprocessed and inferred 32 images in 0.29 seconds\n",
      "torch.Size([32, 1024])\n"
     ]
    },
    {
     "name": "stderr",
     "output_type": "stream",
     "text": [
      " 99%|█████████▊| 554/562 [25:05<00:15,  1.97s/it]"
     ]
    },
    {
     "name": "stdout",
     "output_type": "stream",
     "text": [
      "Loaded 32 images in 0.21 seconds\n",
      "Preprocessed and inferred 32 images in 0.29 seconds\n",
      "torch.Size([32, 1024])\n"
     ]
    },
    {
     "name": "stderr",
     "output_type": "stream",
     "text": [
      " 99%|█████████▉| 555/562 [25:07<00:13,  1.96s/it]"
     ]
    },
    {
     "name": "stdout",
     "output_type": "stream",
     "text": [
      "Loaded 32 images in 0.25 seconds\n",
      "Preprocessed and inferred 32 images in 0.47 seconds\n",
      "torch.Size([32, 1024])\n"
     ]
    },
    {
     "name": "stderr",
     "output_type": "stream",
     "text": [
      " 99%|█████████▉| 556/562 [25:09<00:12,  2.01s/it]"
     ]
    },
    {
     "name": "stdout",
     "output_type": "stream",
     "text": [
      "Loaded 32 images in 0.31 seconds\n",
      "Preprocessed and inferred 32 images in 0.43 seconds\n",
      "torch.Size([32, 1024])\n"
     ]
    },
    {
     "name": "stderr",
     "output_type": "stream",
     "text": [
      " 99%|█████████▉| 557/562 [25:11<00:10,  2.06s/it]"
     ]
    },
    {
     "name": "stdout",
     "output_type": "stream",
     "text": [
      "Loaded 32 images in 0.21 seconds\n",
      "Preprocessed and inferred 32 images in 0.29 seconds\n",
      "torch.Size([32, 1024])\n"
     ]
    },
    {
     "name": "stderr",
     "output_type": "stream",
     "text": [
      " 99%|█████████▉| 558/562 [25:13<00:08,  2.02s/it]"
     ]
    },
    {
     "name": "stdout",
     "output_type": "stream",
     "text": [
      "Loaded 32 images in 0.24 seconds\n",
      "Preprocessed and inferred 32 images in 0.29 seconds\n",
      "torch.Size([32, 1024])\n"
     ]
    },
    {
     "name": "stderr",
     "output_type": "stream",
     "text": [
      " 99%|█████████▉| 559/562 [25:15<00:05,  1.99s/it]"
     ]
    },
    {
     "name": "stdout",
     "output_type": "stream",
     "text": [
      "Loaded 32 images in 0.22 seconds\n",
      "Preprocessed and inferred 32 images in 0.28 seconds\n",
      "torch.Size([32, 1024])\n"
     ]
    },
    {
     "name": "stderr",
     "output_type": "stream",
     "text": [
      "100%|█████████▉| 560/562 [25:17<00:03,  1.98s/it]"
     ]
    },
    {
     "name": "stdout",
     "output_type": "stream",
     "text": [
      "Loaded 32 images in 0.24 seconds\n",
      "Preprocessed and inferred 32 images in 0.29 seconds\n",
      "torch.Size([32, 1024])\n"
     ]
    },
    {
     "name": "stderr",
     "output_type": "stream",
     "text": [
      "100%|█████████▉| 561/562 [25:19<00:01,  1.97s/it]"
     ]
    },
    {
     "name": "stdout",
     "output_type": "stream",
     "text": [
      "Loaded 6 images in 0.05 seconds\n",
      "Preprocessed and inferred 6 images in 0.07 seconds\n",
      "torch.Size([6, 1024])\n"
     ]
    },
    {
     "name": "stderr",
     "output_type": "stream",
     "text": [
      "100%|██████████| 562/562 [25:19<00:00,  2.70s/it]\n"
     ]
    },
    {
     "name": "stdout",
     "output_type": "stream",
     "text": [
      "Features saved to dino_features_test.csv\n",
      "Processed 17958 images\n",
      "Total processing time: 1519.54 seconds\n"
     ]
    }
   ],
   "source": [
    "# Set the model to evaluation mode\n",
    "dinov2_model.eval()\n",
    "\n",
    "# Path to your image folder\n",
    "path_to_data_folder = \"/content/drive/MyDrive/w281_Final_Project_Leaf_Disease_Classification_Computer_Vision/Data/train_images\"\n",
    "#path_to_data_folder = \"/Users/tamarbrand-perez/Library/CloudStorage/GoogleDrive-terez@berkeley.edu/My Drive/w281_Final_Project_Leaf_Disease_Classification_Computer_Vision/Data/train_images\"\n",
    "\n",
    "# Batch size\n",
    "BATCH_SIZE = 32\n",
    "\n",
    "# Function to process a batch of images and get their features\n",
    "def get_batch_features(image_paths):\n",
    "    # Measure image loading time\n",
    "    load_start = time.time()\n",
    "    images = [Image.open(path).convert('RGB') for path in image_paths]\n",
    "    load_end = time.time()\n",
    "    load_time = load_end - load_start\n",
    "    print(f\"Loaded {len(image_paths)} images in {load_time:.2f} seconds\")\n",
    "\n",
    "    # Measure preprocessing and inference time\n",
    "    infer_start = time.time()\n",
    "    inputs = processor(images=images, return_tensors=\"pt\").to(device)\n",
    "    with torch.no_grad():\n",
    "        outputs = dinov2_model(**inputs)\n",
    "    infer_end = time.time()\n",
    "    infer_time = infer_end - infer_start\n",
    "    print(f\"Preprocessed and inferred {len(image_paths)} images in {infer_time:.2f} seconds\")\n",
    "    print(outputs[0][:, 0, :].shape)\n",
    "    return outputs[0][:, 0, :]\n",
    "\n",
    "# Get list of image files\n",
    "image_files = [f for f in os.listdir(path_to_data_folder)\n",
    "               if f.lower().endswith(('.png', '.jpg', '.jpeg'))]\n",
    "\n",
    "# Process images in batches\n",
    "all_features = []\n",
    "image_names = []\n",
    "\n",
    "total_start = time.time()\n",
    "\n",
    "for i in tqdm(range(0, len(image_files), BATCH_SIZE)):\n",
    "    batch_files = image_files[i:i+BATCH_SIZE]\n",
    "    batch_paths = [os.path.join(path_to_data_folder, f) for f in batch_files]\n",
    "\n",
    "    batch_features = get_batch_features(batch_paths)\n",
    "\n",
    "    all_features.extend(batch_features.cpu().numpy())\n",
    "    image_names.extend(batch_files)\n",
    "\n",
    "total_end = time.time()\n",
    "total_time = total_end - total_start\n",
    "\n",
    "# Convert to numpy array\n",
    "all_features = np.array(all_features)\n",
    "\n",
    "# Save features to CSV\n",
    "output_csv_path = \"dino_features_test.csv\"\n",
    "with open(output_csv_path, 'w', newline='') as csvfile:\n",
    "    writer = csv.writer(csvfile)\n",
    "    # Write header\n",
    "    writer.writerow(['image_name'] + [f'feature_{i}' for i in range(all_features.shape[1])])\n",
    "    # Write data\n",
    "    for name, features in zip(image_names, all_features):\n",
    "        writer.writerow([name] + features.tolist())\n",
    "\n",
    "print(f\"Features saved to {output_csv_path}\")\n",
    "print(f\"Processed {len(image_names)} images\")\n",
    "print(f\"Total processing time: {total_time:.2f} seconds\")"
   ]
  },
  {
   "cell_type": "code",
   "execution_count": 5,
   "metadata": {
    "colab": {
     "base_uri": "https://localhost:8080/"
    },
    "id": "JYTpLHS_SzvJ",
    "outputId": "a3d27e0e-f02c-49c1-e1c8-6b99577dd75a"
   },
   "outputs": [
    {
     "name": "stdout",
     "output_type": "stream",
     "text": [
      "File found at: /content/drive/My Drive/Colab Notebooks/Dinov2_Colab.ipynb\n"
     ]
    }
   ],
   "source": [
    "import os\n",
    "\n",
    "# Specify the filename you are looking for\n",
    "file_name = \"Dinov2_Colab.ipynb\"\n",
    "\n",
    "# Walk through Google Drive directories to search for the file\n",
    "for root, dirs, files in os.walk('/content/drive/My Drive'):\n",
    "    if file_name in files:\n",
    "        print(f\"File found at: {os.path.join(root, file_name)}\")\n",
    "        break\n",
    "else:\n",
    "    print(\"File not found.\")"
   ]
  },
  {
   "cell_type": "code",
   "execution_count": 5,
   "metadata": {
    "colab": {
     "base_uri": "https://localhost:8080/"
    },
    "id": "qFGbmFs4TO37",
    "outputId": "a8607225-88e8-461b-9df2-baa511727973"
   },
   "outputs": [
    {
     "name": "stdout",
     "output_type": "stream",
     "text": [
      "File not found.\n"
     ]
    }
   ],
   "source": [
    "\n",
    "# Specify the filename you are looking for\n",
    "file_name = \"dino_features_test.csv\"\n",
    "\n",
    "# Walk through Google Drive directories to search for the file\n",
    "for root, dirs, files in os.walk('/content/drive/My Drive'):\n",
    "    if file_name in files:\n",
    "        print(f\"File found at: {os.path.join(root, file_name)}\")\n",
    "        break\n",
    "else:\n",
    "    print(\"File not found.\")\n",
    "\n",
    "\n",
    "    dino_features_test.csv is located under sample_data folder\n",
    "    /content/sample_data\n",
    "    /content/dino_features_test.csv"
   ]
  },
  {
   "cell_type": "code",
   "execution_count": 6,
   "metadata": {
    "colab": {
     "base_uri": "https://localhost:8080/"
    },
    "id": "MUzJcoeuWfGL",
    "outputId": "b1f9a4ec-b097-47c8-f4e7-af4a8b416859"
   },
   "outputs": [
    {
     "name": "stdout",
     "output_type": "stream",
     "text": [
      "      image_name  feature_0  feature_1  feature_2  feature_3  feature_4  \\\n",
      "0  815952257.jpg  -1.218479  -0.890325  -0.978796   1.412890   2.036721   \n",
      "1  804056394.jpg  -0.321625   0.429433  -0.916489  -1.564428   0.868534   \n",
      "2  813744167.jpg  -0.165353   0.745406  -1.986877   1.228598   1.937814   \n",
      "3  809104607.jpg  -0.845216   1.366558  -1.070533  -0.250762   0.369885   \n",
      "4  812408252.jpg  -0.375725  -1.761756   0.227859   0.764441   1.012874   \n",
      "\n",
      "   feature_5  feature_6  feature_7  feature_8  ...  feature_1014  \\\n",
      "0  -0.623808  -2.664766   0.017882   0.783833  ...     -0.236986   \n",
      "1   0.306750  -1.559206  -1.877747   0.921418  ...     -1.742028   \n",
      "2  -1.488437  -1.247563   0.828581  -0.136418  ...     -1.325526   \n",
      "3  -0.177517  -2.845576  -1.159715   0.859124  ...     -2.442524   \n",
      "4  -0.276079  -1.720124   0.491349   0.249560  ...      0.077563   \n",
      "\n",
      "   feature_1015  feature_1016  feature_1017  feature_1018  feature_1019  \\\n",
      "0      0.823044      0.959444      0.687840     -1.380210      1.258846   \n",
      "1     -0.467251      1.282991     -0.021764     -0.237332      0.197296   \n",
      "2     -1.389514      0.230368      1.361725     -1.162754      1.688481   \n",
      "3      0.672849     -1.261024      2.700140      0.572694      2.147821   \n",
      "4      1.393281      0.449408      0.143472     -0.268706      1.597892   \n",
      "\n",
      "   feature_1020  feature_1021  feature_1022  feature_1023  \n",
      "0      0.112306     -2.644568      0.793680      3.622839  \n",
      "1      0.102103     -1.175646     -0.109778      4.329534  \n",
      "2      0.817628     -2.277250      1.545234      3.957618  \n",
      "3      0.214233     -2.034089      1.493345      2.084996  \n",
      "4     -0.428314     -0.831228      0.560374      2.053084  \n",
      "\n",
      "[5 rows x 1025 columns]\n",
      "Total rows: 17958\n"
     ]
    }
   ],
   "source": [
    "import pandas as pd\n",
    "\n",
    "# Load the CSV file\n",
    "file_path = \"/content/dino_features_test.csv\"\n",
    "data = pd.read_csv(file_path)\n",
    "\n",
    "# View the first few rows\n",
    "print(data.head())\n",
    "\n",
    "# Check how many rows are in the file\n",
    "print(f\"Total rows: {len(data)}\")"
   ]
  },
  {
   "cell_type": "code",
   "execution_count": null,
   "metadata": {
    "id": "4xHTlg4Lmjn8"
   },
   "outputs": [],
   "source": []
  },
  {
   "cell_type": "markdown",
   "metadata": {
    "id": "okBPP8AJE2wp"
   },
   "source": [
    "# Append Additional Features"
   ]
  },
  {
   "cell_type": "markdown",
   "metadata": {
    "id": "ZqsWZyNSE-SI"
   },
   "source": [
    "### Color Histogram and HOG"
   ]
  },
  {
   "cell_type": "code",
   "execution_count": 3,
   "metadata": {
    "colab": {
     "base_uri": "https://localhost:8080/"
    },
    "id": "l3cqD5zAmUD_",
    "outputId": "28ba85e4-2cc0-4779-c9cb-ae76bae63075"
   },
   "outputs": [
    {
     "name": "stdout",
     "output_type": "stream",
     "text": [
      "Processed image 1/1000\n",
      "Processed image 2/1000\n",
      "Processed image 3/1000\n",
      "Processed image 4/1000\n",
      "Processed image 5/1000\n",
      "Processed image 6/1000\n",
      "Processed image 7/1000\n",
      "Processed image 8/1000\n",
      "Processed image 9/1000\n",
      "Processed image 10/1000\n",
      "Processed image 11/1000\n",
      "Processed image 12/1000\n",
      "Processed image 13/1000\n",
      "Processed image 14/1000\n",
      "Processed image 15/1000\n",
      "Processed image 16/1000\n",
      "Processed image 17/1000\n",
      "Processed image 18/1000\n",
      "Processed image 19/1000\n",
      "Processed image 20/1000\n",
      "Processed image 21/1000\n",
      "Processed image 22/1000\n",
      "Processed image 23/1000\n",
      "Processed image 24/1000\n",
      "Processed image 25/1000\n",
      "Processed image 26/1000\n",
      "Processed image 27/1000\n",
      "Processed image 28/1000\n",
      "Processed image 29/1000\n",
      "Processed image 30/1000\n",
      "Processed image 31/1000\n",
      "Processed image 32/1000\n",
      "Processed image 33/1000\n",
      "Processed image 34/1000\n",
      "Processed image 35/1000\n",
      "Processed image 36/1000\n",
      "Processed image 37/1000\n",
      "Processed image 38/1000\n",
      "Processed image 39/1000\n",
      "Processed image 40/1000\n",
      "Processed image 41/1000\n",
      "Processed image 42/1000\n",
      "Processed image 43/1000\n",
      "Processed image 44/1000\n",
      "Processed image 45/1000\n",
      "Processed image 46/1000\n",
      "Processed image 47/1000\n",
      "Processed image 48/1000\n",
      "Processed image 49/1000\n",
      "Processed image 50/1000\n",
      "Processed image 51/1000\n",
      "Processed image 52/1000\n",
      "Processed image 53/1000\n",
      "Processed image 54/1000\n",
      "Processed image 55/1000\n",
      "Processed image 56/1000\n",
      "Processed image 57/1000\n",
      "Processed image 58/1000\n",
      "Processed image 59/1000\n",
      "Processed image 60/1000\n",
      "Processed image 61/1000\n",
      "Processed image 62/1000\n",
      "Processed image 63/1000\n",
      "Processed image 64/1000\n",
      "Processed image 65/1000\n",
      "Processed image 66/1000\n",
      "Processed image 67/1000\n",
      "Processed image 68/1000\n",
      "Processed image 69/1000\n",
      "Processed image 70/1000\n",
      "Processed image 71/1000\n",
      "Processed image 72/1000\n",
      "Processed image 73/1000\n",
      "Processed image 74/1000\n",
      "Processed image 75/1000\n",
      "Processed image 76/1000\n",
      "Processed image 77/1000\n",
      "Processed image 78/1000\n",
      "Processed image 79/1000\n",
      "Processed image 80/1000\n",
      "Processed image 81/1000\n",
      "Processed image 82/1000\n",
      "Processed image 83/1000\n",
      "Processed image 84/1000\n",
      "Processed image 85/1000\n",
      "Processed image 86/1000\n",
      "Processed image 87/1000\n",
      "Processed image 88/1000\n",
      "Processed image 89/1000\n",
      "Processed image 90/1000\n",
      "Processed image 91/1000\n",
      "Processed image 92/1000\n",
      "Processed image 93/1000\n",
      "Processed image 94/1000\n",
      "Processed image 95/1000\n",
      "Processed image 96/1000\n",
      "Processed image 97/1000\n",
      "Processed image 98/1000\n",
      "Processed image 99/1000\n",
      "Processed image 100/1000\n",
      "Processed image 101/1000\n",
      "Processed image 102/1000\n",
      "Processed image 103/1000\n",
      "Processed image 104/1000\n",
      "Processed image 105/1000\n",
      "Processed image 106/1000\n",
      "Processed image 107/1000\n",
      "Processed image 108/1000\n",
      "Processed image 109/1000\n",
      "Processed image 110/1000\n",
      "Processed image 111/1000\n",
      "Processed image 112/1000\n",
      "Processed image 113/1000\n",
      "Processed image 114/1000\n",
      "Processed image 115/1000\n",
      "Processed image 116/1000\n",
      "Processed image 117/1000\n",
      "Processed image 118/1000\n",
      "Processed image 119/1000\n",
      "Processed image 120/1000\n",
      "Processed image 121/1000\n",
      "Processed image 122/1000\n",
      "Processed image 123/1000\n",
      "Processed image 124/1000\n",
      "Processed image 125/1000\n",
      "Processed image 126/1000\n",
      "Processed image 127/1000\n",
      "Processed image 128/1000\n",
      "Processed image 129/1000\n",
      "Processed image 130/1000\n",
      "Processed image 131/1000\n",
      "Processed image 132/1000\n",
      "Processed image 133/1000\n",
      "Processed image 134/1000\n",
      "Processed image 135/1000\n",
      "Processed image 136/1000\n",
      "Processed image 137/1000\n",
      "Processed image 138/1000\n",
      "Processed image 139/1000\n",
      "Processed image 140/1000\n",
      "Processed image 141/1000\n",
      "Processed image 142/1000\n",
      "Processed image 143/1000\n",
      "Processed image 144/1000\n",
      "Processed image 145/1000\n",
      "Processed image 146/1000\n",
      "Processed image 147/1000\n",
      "Processed image 148/1000\n",
      "Processed image 149/1000\n",
      "Processed image 150/1000\n",
      "Processed image 151/1000\n",
      "Processed image 152/1000\n",
      "Processed image 153/1000\n",
      "Processed image 154/1000\n",
      "Processed image 155/1000\n",
      "Processed image 156/1000\n",
      "Processed image 157/1000\n",
      "Processed image 158/1000\n",
      "Processed image 159/1000\n",
      "Processed image 160/1000\n",
      "Processed image 161/1000\n",
      "Processed image 162/1000\n",
      "Processed image 163/1000\n",
      "Processed image 164/1000\n",
      "Processed image 165/1000\n",
      "Processed image 166/1000\n",
      "Processed image 167/1000\n",
      "Processed image 168/1000\n",
      "Processed image 169/1000\n",
      "Processed image 170/1000\n",
      "Processed image 171/1000\n",
      "Processed image 172/1000\n",
      "Processed image 173/1000\n",
      "Processed image 174/1000\n",
      "Processed image 175/1000\n",
      "Processed image 176/1000\n",
      "Processed image 177/1000\n",
      "Processed image 178/1000\n",
      "Processed image 179/1000\n",
      "Processed image 180/1000\n",
      "Processed image 181/1000\n",
      "Processed image 182/1000\n",
      "Processed image 183/1000\n",
      "Processed image 184/1000\n",
      "Processed image 185/1000\n",
      "Processed image 186/1000\n",
      "Processed image 187/1000\n",
      "Processed image 188/1000\n",
      "Processed image 189/1000\n",
      "Processed image 190/1000\n",
      "Processed image 191/1000\n",
      "Processed image 192/1000\n",
      "Processed image 193/1000\n",
      "Processed image 194/1000\n",
      "Processed image 195/1000\n",
      "Processed image 196/1000\n",
      "Processed image 197/1000\n",
      "Processed image 198/1000\n",
      "Processed image 199/1000\n",
      "Processed image 200/1000\n",
      "Processed image 201/1000\n",
      "Processed image 202/1000\n",
      "Processed image 203/1000\n",
      "Processed image 204/1000\n",
      "Processed image 205/1000\n",
      "Processed image 206/1000\n",
      "Processed image 207/1000\n",
      "Processed image 208/1000\n",
      "Processed image 209/1000\n",
      "Processed image 210/1000\n",
      "Processed image 211/1000\n",
      "Processed image 212/1000\n",
      "Processed image 213/1000\n",
      "Processed image 214/1000\n",
      "Processed image 215/1000\n",
      "Processed image 216/1000\n",
      "Processed image 217/1000\n",
      "Processed image 218/1000\n",
      "Processed image 219/1000\n",
      "Processed image 220/1000\n",
      "Processed image 221/1000\n",
      "Processed image 222/1000\n",
      "Processed image 223/1000\n",
      "Processed image 224/1000\n",
      "Processed image 225/1000\n",
      "Processed image 226/1000\n",
      "Processed image 227/1000\n",
      "Processed image 228/1000\n",
      "Processed image 229/1000\n",
      "Processed image 230/1000\n",
      "Processed image 231/1000\n",
      "Processed image 232/1000\n",
      "Processed image 233/1000\n",
      "Processed image 234/1000\n",
      "Processed image 235/1000\n",
      "Processed image 236/1000\n",
      "Processed image 237/1000\n",
      "Processed image 238/1000\n",
      "Processed image 239/1000\n",
      "Processed image 240/1000\n",
      "Processed image 241/1000\n",
      "Processed image 242/1000\n",
      "Processed image 243/1000\n",
      "Processed image 244/1000\n",
      "Processed image 245/1000\n",
      "Processed image 246/1000\n",
      "Processed image 247/1000\n",
      "Processed image 248/1000\n",
      "Processed image 249/1000\n",
      "Processed image 250/1000\n",
      "Processed image 251/1000\n",
      "Processed image 252/1000\n",
      "Processed image 253/1000\n",
      "Processed image 254/1000\n",
      "Processed image 255/1000\n",
      "Processed image 256/1000\n",
      "Processed image 257/1000\n",
      "Processed image 258/1000\n",
      "Processed image 259/1000\n",
      "Processed image 260/1000\n",
      "Processed image 261/1000\n",
      "Processed image 262/1000\n",
      "Processed image 263/1000\n",
      "Processed image 264/1000\n",
      "Processed image 265/1000\n",
      "Processed image 266/1000\n",
      "Processed image 267/1000\n",
      "Processed image 268/1000\n",
      "Processed image 269/1000\n",
      "Processed image 270/1000\n",
      "Processed image 271/1000\n",
      "Processed image 272/1000\n",
      "Processed image 273/1000\n",
      "Processed image 274/1000\n",
      "Processed image 275/1000\n",
      "Processed image 276/1000\n",
      "Processed image 277/1000\n",
      "Processed image 278/1000\n",
      "Processed image 279/1000\n",
      "Processed image 280/1000\n",
      "Processed image 281/1000\n",
      "Processed image 282/1000\n",
      "Processed image 283/1000\n",
      "Processed image 284/1000\n",
      "Processed image 285/1000\n",
      "Processed image 286/1000\n",
      "Processed image 287/1000\n",
      "Processed image 288/1000\n",
      "Processed image 289/1000\n",
      "Processed image 290/1000\n",
      "Processed image 291/1000\n",
      "Processed image 292/1000\n",
      "Processed image 293/1000\n",
      "Processed image 294/1000\n",
      "Processed image 295/1000\n",
      "Processed image 296/1000\n",
      "Processed image 297/1000\n",
      "Processed image 298/1000\n",
      "Processed image 299/1000\n",
      "Processed image 300/1000\n",
      "Processed image 301/1000\n",
      "Processed image 302/1000\n",
      "Processed image 303/1000\n",
      "Processed image 304/1000\n",
      "Processed image 305/1000\n",
      "Processed image 306/1000\n",
      "Processed image 307/1000\n",
      "Processed image 308/1000\n",
      "Processed image 309/1000\n",
      "Processed image 310/1000\n",
      "Processed image 311/1000\n",
      "Processed image 312/1000\n",
      "Processed image 313/1000\n",
      "Processed image 314/1000\n",
      "Processed image 315/1000\n",
      "Processed image 316/1000\n",
      "Processed image 317/1000\n",
      "Processed image 318/1000\n",
      "Processed image 319/1000\n",
      "Processed image 320/1000\n",
      "Processed image 321/1000\n",
      "Processed image 322/1000\n",
      "Processed image 323/1000\n",
      "Processed image 324/1000\n",
      "Processed image 325/1000\n",
      "Processed image 326/1000\n",
      "Processed image 327/1000\n",
      "Processed image 328/1000\n",
      "Processed image 329/1000\n",
      "Processed image 330/1000\n",
      "Processed image 331/1000\n",
      "Processed image 332/1000\n",
      "Processed image 333/1000\n",
      "Processed image 334/1000\n",
      "Processed image 335/1000\n",
      "Processed image 336/1000\n",
      "Processed image 337/1000\n",
      "Processed image 338/1000\n",
      "Processed image 339/1000\n",
      "Processed image 340/1000\n",
      "Processed image 341/1000\n",
      "Processed image 342/1000\n",
      "Processed image 343/1000\n",
      "Processed image 344/1000\n",
      "Processed image 345/1000\n",
      "Processed image 346/1000\n",
      "Processed image 347/1000\n",
      "Processed image 348/1000\n",
      "Processed image 349/1000\n",
      "Processed image 350/1000\n",
      "Processed image 351/1000\n",
      "Processed image 352/1000\n",
      "Processed image 353/1000\n",
      "Processed image 354/1000\n",
      "Processed image 355/1000\n",
      "Processed image 356/1000\n",
      "Processed image 357/1000\n",
      "Processed image 358/1000\n",
      "Processed image 359/1000\n",
      "Processed image 360/1000\n",
      "Processed image 361/1000\n",
      "Processed image 362/1000\n",
      "Processed image 363/1000\n",
      "Processed image 364/1000\n",
      "Processed image 365/1000\n",
      "Processed image 366/1000\n",
      "Processed image 367/1000\n",
      "Processed image 368/1000\n",
      "Processed image 369/1000\n",
      "Processed image 370/1000\n",
      "Processed image 371/1000\n",
      "Processed image 372/1000\n",
      "Processed image 373/1000\n",
      "Processed image 374/1000\n",
      "Processed image 375/1000\n",
      "Processed image 376/1000\n",
      "Processed image 377/1000\n",
      "Processed image 378/1000\n",
      "Processed image 379/1000\n",
      "Processed image 380/1000\n",
      "Processed image 381/1000\n",
      "Processed image 382/1000\n",
      "Processed image 383/1000\n",
      "Processed image 384/1000\n",
      "Processed image 385/1000\n",
      "Processed image 386/1000\n",
      "Processed image 387/1000\n",
      "Processed image 388/1000\n",
      "Processed image 389/1000\n",
      "Processed image 390/1000\n",
      "Processed image 391/1000\n",
      "Processed image 392/1000\n",
      "Processed image 393/1000\n",
      "Processed image 394/1000\n",
      "Processed image 395/1000\n",
      "Processed image 396/1000\n",
      "Processed image 397/1000\n",
      "Processed image 398/1000\n",
      "Processed image 399/1000\n",
      "Processed image 400/1000\n",
      "Processed image 401/1000\n",
      "Processed image 402/1000\n",
      "Processed image 403/1000\n",
      "Processed image 404/1000\n",
      "Processed image 405/1000\n",
      "Processed image 406/1000\n",
      "Processed image 407/1000\n",
      "Processed image 408/1000\n",
      "Processed image 409/1000\n",
      "Processed image 410/1000\n",
      "Processed image 411/1000\n",
      "Processed image 412/1000\n",
      "Processed image 413/1000\n",
      "Processed image 414/1000\n",
      "Processed image 415/1000\n",
      "Processed image 416/1000\n",
      "Processed image 417/1000\n",
      "Processed image 418/1000\n",
      "Processed image 419/1000\n",
      "Processed image 420/1000\n",
      "Processed image 421/1000\n",
      "Processed image 422/1000\n",
      "Processed image 423/1000\n",
      "Processed image 424/1000\n",
      "Processed image 425/1000\n",
      "Processed image 426/1000\n",
      "Processed image 427/1000\n",
      "Processed image 428/1000\n",
      "Processed image 429/1000\n",
      "Processed image 430/1000\n",
      "Processed image 431/1000\n",
      "Processed image 432/1000\n",
      "Processed image 433/1000\n",
      "Processed image 434/1000\n",
      "Processed image 435/1000\n",
      "Processed image 436/1000\n",
      "Processed image 437/1000\n",
      "Processed image 438/1000\n",
      "Processed image 439/1000\n",
      "Processed image 440/1000\n",
      "Processed image 441/1000\n",
      "Processed image 442/1000\n",
      "Processed image 443/1000\n",
      "Processed image 444/1000\n",
      "Processed image 445/1000\n",
      "Processed image 446/1000\n",
      "Processed image 447/1000\n",
      "Processed image 448/1000\n",
      "Processed image 449/1000\n",
      "Processed image 450/1000\n",
      "Processed image 451/1000\n",
      "Processed image 452/1000\n",
      "Processed image 453/1000\n",
      "Processed image 454/1000\n",
      "Processed image 455/1000\n",
      "Processed image 456/1000\n",
      "Processed image 457/1000\n",
      "Processed image 458/1000\n",
      "Processed image 459/1000\n",
      "Processed image 460/1000\n",
      "Processed image 461/1000\n",
      "Processed image 462/1000\n",
      "Processed image 463/1000\n",
      "Processed image 464/1000\n",
      "Processed image 465/1000\n",
      "Processed image 466/1000\n",
      "Processed image 467/1000\n",
      "Processed image 468/1000\n",
      "Processed image 469/1000\n",
      "Processed image 470/1000\n",
      "Processed image 471/1000\n",
      "Processed image 472/1000\n",
      "Processed image 473/1000\n",
      "Processed image 474/1000\n",
      "Processed image 475/1000\n",
      "Processed image 476/1000\n",
      "Processed image 477/1000\n",
      "Processed image 478/1000\n",
      "Processed image 479/1000\n",
      "Processed image 480/1000\n",
      "Processed image 481/1000\n",
      "Processed image 482/1000\n",
      "Processed image 483/1000\n",
      "Processed image 484/1000\n",
      "Processed image 485/1000\n",
      "Processed image 486/1000\n",
      "Processed image 487/1000\n",
      "Processed image 488/1000\n",
      "Processed image 489/1000\n",
      "Processed image 490/1000\n",
      "Processed image 491/1000\n",
      "Processed image 492/1000\n",
      "Processed image 493/1000\n",
      "Processed image 494/1000\n",
      "Processed image 495/1000\n",
      "Processed image 496/1000\n",
      "Processed image 497/1000\n",
      "Processed image 498/1000\n",
      "Processed image 499/1000\n",
      "Processed image 500/1000\n",
      "Processed image 501/1000\n",
      "Processed image 502/1000\n",
      "Processed image 503/1000\n",
      "Processed image 504/1000\n",
      "Processed image 505/1000\n",
      "Processed image 506/1000\n",
      "Processed image 507/1000\n",
      "Processed image 508/1000\n",
      "Processed image 509/1000\n",
      "Processed image 510/1000\n",
      "Processed image 511/1000\n",
      "Processed image 512/1000\n",
      "Processed image 513/1000\n",
      "Processed image 514/1000\n",
      "Processed image 515/1000\n",
      "Processed image 516/1000\n",
      "Processed image 517/1000\n",
      "Processed image 518/1000\n",
      "Processed image 519/1000\n",
      "Processed image 520/1000\n",
      "Processed image 521/1000\n",
      "Processed image 522/1000\n",
      "Processed image 523/1000\n",
      "Processed image 524/1000\n",
      "Processed image 525/1000\n",
      "Processed image 526/1000\n",
      "Processed image 527/1000\n",
      "Processed image 528/1000\n",
      "Processed image 529/1000\n",
      "Processed image 530/1000\n",
      "Processed image 531/1000\n",
      "Processed image 532/1000\n",
      "Processed image 533/1000\n",
      "Processed image 534/1000\n",
      "Processed image 535/1000\n",
      "Processed image 536/1000\n",
      "Processed image 537/1000\n",
      "Processed image 538/1000\n",
      "Processed image 539/1000\n",
      "Processed image 540/1000\n",
      "Processed image 541/1000\n",
      "Processed image 542/1000\n",
      "Processed image 543/1000\n",
      "Processed image 544/1000\n",
      "Processed image 545/1000\n",
      "Processed image 546/1000\n",
      "Processed image 547/1000\n",
      "Processed image 548/1000\n",
      "Processed image 549/1000\n",
      "Processed image 550/1000\n",
      "Processed image 551/1000\n",
      "Processed image 552/1000\n",
      "Processed image 553/1000\n",
      "Processed image 554/1000\n",
      "Processed image 555/1000\n",
      "Processed image 556/1000\n",
      "Processed image 557/1000\n",
      "Processed image 558/1000\n",
      "Processed image 559/1000\n",
      "Processed image 560/1000\n",
      "Processed image 561/1000\n",
      "Processed image 562/1000\n",
      "Processed image 563/1000\n",
      "Processed image 564/1000\n",
      "Processed image 565/1000\n",
      "Processed image 566/1000\n",
      "Processed image 567/1000\n",
      "Processed image 568/1000\n",
      "Processed image 569/1000\n",
      "Processed image 570/1000\n",
      "Processed image 571/1000\n",
      "Processed image 572/1000\n",
      "Processed image 573/1000\n",
      "Processed image 574/1000\n",
      "Processed image 575/1000\n",
      "Processed image 576/1000\n",
      "Processed image 577/1000\n",
      "Processed image 578/1000\n",
      "Processed image 579/1000\n",
      "Processed image 580/1000\n",
      "Processed image 581/1000\n",
      "Processed image 582/1000\n",
      "Processed image 583/1000\n",
      "Processed image 584/1000\n",
      "Processed image 585/1000\n",
      "Processed image 586/1000\n",
      "Processed image 587/1000\n",
      "Processed image 588/1000\n",
      "Processed image 589/1000\n",
      "Processed image 590/1000\n",
      "Processed image 591/1000\n",
      "Processed image 592/1000\n",
      "Processed image 593/1000\n",
      "Processed image 594/1000\n",
      "Processed image 595/1000\n",
      "Processed image 596/1000\n",
      "Processed image 597/1000\n",
      "Processed image 598/1000\n",
      "Processed image 599/1000\n",
      "Processed image 600/1000\n",
      "Processed image 601/1000\n",
      "Processed image 602/1000\n",
      "Processed image 603/1000\n",
      "Processed image 604/1000\n",
      "Processed image 605/1000\n",
      "Processed image 606/1000\n",
      "Processed image 607/1000\n",
      "Processed image 608/1000\n",
      "Processed image 609/1000\n",
      "Processed image 610/1000\n",
      "Processed image 611/1000\n",
      "Processed image 612/1000\n",
      "Processed image 613/1000\n",
      "Processed image 614/1000\n",
      "Processed image 615/1000\n",
      "Processed image 616/1000\n",
      "Processed image 617/1000\n",
      "Processed image 618/1000\n",
      "Processed image 619/1000\n",
      "Processed image 620/1000\n",
      "Processed image 621/1000\n",
      "Processed image 622/1000\n",
      "Processed image 623/1000\n",
      "Processed image 624/1000\n",
      "Processed image 625/1000\n",
      "Processed image 626/1000\n",
      "Processed image 627/1000\n",
      "Processed image 628/1000\n",
      "Processed image 629/1000\n",
      "Processed image 630/1000\n",
      "Processed image 631/1000\n",
      "Processed image 632/1000\n",
      "Processed image 633/1000\n",
      "Processed image 634/1000\n",
      "Processed image 635/1000\n",
      "Processed image 636/1000\n",
      "Processed image 637/1000\n",
      "Processed image 638/1000\n",
      "Processed image 639/1000\n",
      "Processed image 640/1000\n",
      "Processed image 641/1000\n",
      "Processed image 642/1000\n",
      "Processed image 643/1000\n",
      "Processed image 644/1000\n",
      "Processed image 645/1000\n",
      "Processed image 646/1000\n",
      "Processed image 647/1000\n",
      "Processed image 648/1000\n",
      "Processed image 649/1000\n",
      "Processed image 650/1000\n",
      "Processed image 651/1000\n",
      "Processed image 652/1000\n",
      "Processed image 653/1000\n",
      "Processed image 654/1000\n",
      "Processed image 655/1000\n",
      "Processed image 656/1000\n",
      "Processed image 657/1000\n",
      "Processed image 658/1000\n",
      "Processed image 659/1000\n",
      "Processed image 660/1000\n",
      "Processed image 661/1000\n",
      "Processed image 662/1000\n",
      "Processed image 663/1000\n",
      "Processed image 664/1000\n",
      "Processed image 665/1000\n",
      "Processed image 666/1000\n",
      "Processed image 667/1000\n",
      "Processed image 668/1000\n",
      "Processed image 669/1000\n",
      "Processed image 670/1000\n",
      "Processed image 671/1000\n",
      "Processed image 672/1000\n",
      "Processed image 673/1000\n",
      "Processed image 674/1000\n",
      "Processed image 675/1000\n",
      "Processed image 676/1000\n",
      "Processed image 677/1000\n",
      "Processed image 678/1000\n",
      "Processed image 679/1000\n",
      "Processed image 680/1000\n",
      "Processed image 681/1000\n",
      "Processed image 682/1000\n",
      "Processed image 683/1000\n",
      "Processed image 684/1000\n",
      "Processed image 685/1000\n",
      "Processed image 686/1000\n",
      "Processed image 687/1000\n",
      "Processed image 688/1000\n",
      "Processed image 689/1000\n",
      "Processed image 690/1000\n",
      "Processed image 691/1000\n",
      "Processed image 692/1000\n",
      "Processed image 693/1000\n",
      "Processed image 694/1000\n",
      "Processed image 695/1000\n",
      "Processed image 696/1000\n",
      "Processed image 697/1000\n",
      "Processed image 698/1000\n",
      "Processed image 699/1000\n",
      "Processed image 700/1000\n",
      "Processed image 701/1000\n",
      "Processed image 702/1000\n",
      "Processed image 703/1000\n",
      "Processed image 704/1000\n",
      "Processed image 705/1000\n",
      "Processed image 706/1000\n",
      "Processed image 707/1000\n",
      "Processed image 708/1000\n",
      "Processed image 709/1000\n",
      "Processed image 710/1000\n",
      "Processed image 711/1000\n",
      "Processed image 712/1000\n",
      "Processed image 713/1000\n",
      "Processed image 714/1000\n",
      "Processed image 715/1000\n",
      "Processed image 716/1000\n",
      "Processed image 717/1000\n",
      "Processed image 718/1000\n",
      "Processed image 719/1000\n",
      "Processed image 720/1000\n",
      "Processed image 721/1000\n",
      "Processed image 722/1000\n",
      "Processed image 723/1000\n",
      "Processed image 724/1000\n",
      "Processed image 725/1000\n",
      "Processed image 726/1000\n",
      "Processed image 727/1000\n",
      "Processed image 728/1000\n",
      "Processed image 729/1000\n",
      "Processed image 730/1000\n",
      "Processed image 731/1000\n",
      "Processed image 732/1000\n",
      "Processed image 733/1000\n",
      "Processed image 734/1000\n",
      "Processed image 735/1000\n",
      "Processed image 736/1000\n",
      "Processed image 737/1000\n",
      "Processed image 738/1000\n",
      "Processed image 739/1000\n",
      "Processed image 740/1000\n",
      "Processed image 741/1000\n",
      "Processed image 742/1000\n",
      "Processed image 743/1000\n",
      "Processed image 744/1000\n",
      "Processed image 745/1000\n",
      "Processed image 746/1000\n",
      "Processed image 747/1000\n",
      "Processed image 748/1000\n",
      "Processed image 749/1000\n",
      "Processed image 750/1000\n",
      "Processed image 751/1000\n",
      "Processed image 752/1000\n",
      "Processed image 753/1000\n",
      "Processed image 754/1000\n",
      "Processed image 755/1000\n",
      "Processed image 756/1000\n",
      "Processed image 757/1000\n",
      "Processed image 758/1000\n",
      "Processed image 759/1000\n",
      "Processed image 760/1000\n",
      "Processed image 761/1000\n",
      "Processed image 762/1000\n",
      "Processed image 763/1000\n",
      "Processed image 764/1000\n",
      "Processed image 765/1000\n",
      "Processed image 766/1000\n",
      "Processed image 767/1000\n",
      "Processed image 768/1000\n",
      "Processed image 769/1000\n",
      "Processed image 770/1000\n",
      "Processed image 771/1000\n",
      "Processed image 772/1000\n",
      "Processed image 773/1000\n",
      "Processed image 774/1000\n",
      "Processed image 775/1000\n",
      "Processed image 776/1000\n",
      "Processed image 777/1000\n",
      "Processed image 778/1000\n",
      "Processed image 779/1000\n",
      "Processed image 780/1000\n",
      "Processed image 781/1000\n",
      "Processed image 782/1000\n",
      "Processed image 783/1000\n",
      "Processed image 784/1000\n",
      "Processed image 785/1000\n",
      "Processed image 786/1000\n",
      "Processed image 787/1000\n",
      "Processed image 788/1000\n",
      "Processed image 789/1000\n",
      "Processed image 790/1000\n",
      "Processed image 791/1000\n",
      "Processed image 792/1000\n",
      "Processed image 793/1000\n",
      "Processed image 794/1000\n",
      "Processed image 795/1000\n",
      "Processed image 796/1000\n",
      "Processed image 797/1000\n",
      "Processed image 798/1000\n",
      "Processed image 799/1000\n",
      "Processed image 800/1000\n",
      "Processed image 801/1000\n",
      "Processed image 802/1000\n",
      "Processed image 803/1000\n",
      "Processed image 804/1000\n",
      "Processed image 805/1000\n",
      "Processed image 806/1000\n",
      "Processed image 807/1000\n",
      "Processed image 808/1000\n",
      "Processed image 809/1000\n",
      "Processed image 810/1000\n",
      "Processed image 811/1000\n",
      "Processed image 812/1000\n",
      "Processed image 813/1000\n",
      "Processed image 814/1000\n",
      "Processed image 815/1000\n",
      "Processed image 816/1000\n",
      "Processed image 817/1000\n",
      "Processed image 818/1000\n",
      "Processed image 819/1000\n",
      "Processed image 820/1000\n",
      "Processed image 821/1000\n",
      "Processed image 822/1000\n",
      "Processed image 823/1000\n",
      "Processed image 824/1000\n",
      "Processed image 825/1000\n",
      "Processed image 826/1000\n",
      "Processed image 827/1000\n",
      "Processed image 828/1000\n",
      "Processed image 829/1000\n",
      "Processed image 830/1000\n",
      "Processed image 831/1000\n",
      "Processed image 832/1000\n",
      "Processed image 833/1000\n",
      "Processed image 834/1000\n",
      "Processed image 835/1000\n",
      "Processed image 836/1000\n",
      "Processed image 837/1000\n",
      "Processed image 838/1000\n",
      "Processed image 839/1000\n",
      "Processed image 840/1000\n",
      "Processed image 841/1000\n",
      "Processed image 842/1000\n",
      "Processed image 843/1000\n",
      "Processed image 844/1000\n",
      "Processed image 845/1000\n",
      "Processed image 846/1000\n",
      "Processed image 847/1000\n",
      "Processed image 848/1000\n",
      "Processed image 849/1000\n",
      "Processed image 850/1000\n",
      "Processed image 851/1000\n",
      "Processed image 852/1000\n",
      "Processed image 853/1000\n",
      "Processed image 854/1000\n",
      "Processed image 855/1000\n",
      "Processed image 856/1000\n",
      "Processed image 857/1000\n",
      "Processed image 858/1000\n",
      "Processed image 859/1000\n",
      "Processed image 860/1000\n",
      "Processed image 861/1000\n",
      "Processed image 862/1000\n",
      "Processed image 863/1000\n",
      "Processed image 864/1000\n",
      "Processed image 865/1000\n",
      "Processed image 866/1000\n",
      "Processed image 867/1000\n",
      "Processed image 868/1000\n",
      "Processed image 869/1000\n",
      "Processed image 870/1000\n",
      "Processed image 871/1000\n",
      "Processed image 872/1000\n",
      "Processed image 873/1000\n",
      "Processed image 874/1000\n",
      "Processed image 875/1000\n",
      "Processed image 876/1000\n",
      "Processed image 877/1000\n",
      "Processed image 878/1000\n",
      "Processed image 879/1000\n",
      "Processed image 880/1000\n",
      "Processed image 881/1000\n",
      "Processed image 882/1000\n",
      "Processed image 883/1000\n",
      "Processed image 884/1000\n",
      "Processed image 885/1000\n",
      "Processed image 886/1000\n",
      "Processed image 887/1000\n",
      "Processed image 888/1000\n",
      "Processed image 889/1000\n",
      "Processed image 890/1000\n",
      "Processed image 891/1000\n",
      "Processed image 892/1000\n",
      "Processed image 893/1000\n",
      "Processed image 894/1000\n",
      "Processed image 895/1000\n",
      "Processed image 896/1000\n",
      "Processed image 897/1000\n",
      "Processed image 898/1000\n",
      "Processed image 899/1000\n",
      "Processed image 900/1000\n",
      "Processed image 901/1000\n",
      "Processed image 902/1000\n",
      "Processed image 903/1000\n",
      "Processed image 904/1000\n",
      "Processed image 905/1000\n",
      "Processed image 906/1000\n",
      "Processed image 907/1000\n",
      "Processed image 908/1000\n",
      "Processed image 909/1000\n",
      "Processed image 910/1000\n",
      "Processed image 911/1000\n",
      "Processed image 912/1000\n",
      "Processed image 913/1000\n",
      "Processed image 914/1000\n",
      "Processed image 915/1000\n",
      "Processed image 916/1000\n",
      "Processed image 917/1000\n",
      "Processed image 918/1000\n",
      "Processed image 919/1000\n",
      "Processed image 920/1000\n",
      "Processed image 921/1000\n",
      "Processed image 922/1000\n",
      "Processed image 923/1000\n",
      "Processed image 924/1000\n",
      "Processed image 925/1000\n",
      "Processed image 926/1000\n",
      "Processed image 927/1000\n",
      "Processed image 928/1000\n",
      "Processed image 929/1000\n",
      "Processed image 930/1000\n",
      "Processed image 931/1000\n",
      "Processed image 932/1000\n",
      "Processed image 933/1000\n",
      "Processed image 934/1000\n",
      "Processed image 935/1000\n",
      "Processed image 936/1000\n",
      "Processed image 937/1000\n",
      "Processed image 938/1000\n",
      "Processed image 939/1000\n",
      "Processed image 940/1000\n",
      "Processed image 941/1000\n",
      "Processed image 942/1000\n",
      "Processed image 943/1000\n",
      "Processed image 944/1000\n",
      "Processed image 945/1000\n",
      "Processed image 946/1000\n",
      "Processed image 947/1000\n",
      "Processed image 948/1000\n",
      "Processed image 949/1000\n",
      "Processed image 950/1000\n",
      "Processed image 951/1000\n",
      "Processed image 952/1000\n",
      "Processed image 953/1000\n",
      "Processed image 954/1000\n",
      "Processed image 955/1000\n",
      "Processed image 956/1000\n",
      "Processed image 957/1000\n",
      "Processed image 958/1000\n",
      "Processed image 959/1000\n",
      "Processed image 960/1000\n",
      "Processed image 961/1000\n",
      "Processed image 962/1000\n",
      "Processed image 963/1000\n",
      "Processed image 964/1000\n",
      "Processed image 965/1000\n",
      "Processed image 966/1000\n",
      "Processed image 967/1000\n",
      "Processed image 968/1000\n",
      "Processed image 969/1000\n",
      "Processed image 970/1000\n",
      "Processed image 971/1000\n",
      "Processed image 972/1000\n",
      "Processed image 973/1000\n",
      "Processed image 974/1000\n",
      "Processed image 975/1000\n",
      "Processed image 976/1000\n",
      "Processed image 977/1000\n",
      "Processed image 978/1000\n",
      "Processed image 979/1000\n",
      "Processed image 980/1000\n",
      "Processed image 981/1000\n",
      "Processed image 982/1000\n",
      "Processed image 983/1000\n",
      "Processed image 984/1000\n",
      "Processed image 985/1000\n",
      "Processed image 986/1000\n",
      "Processed image 987/1000\n",
      "Processed image 988/1000\n",
      "Processed image 989/1000\n",
      "Processed image 990/1000\n",
      "Processed image 991/1000\n",
      "Processed image 992/1000\n",
      "Processed image 993/1000\n",
      "Processed image 994/1000\n",
      "Processed image 995/1000\n",
      "Processed image 996/1000\n",
      "Processed image 997/1000\n",
      "Processed image 998/1000\n",
      "Processed image 999/1000\n",
      "Processed image 1000/1000\n",
      "Saved balanced features to /content/combined_features_balanced.csv\n"
     ]
    }
   ],
   "source": [
    "import pandas as pd\n",
    "import numpy as np\n",
    "import json\n",
    "from skimage.feature import hog\n",
    "from skimage import io, color\n",
    "from skimage.transform import resize\n",
    "\n",
    "# Load existing DINOv2 features\n",
    "existing_features = pd.read_csv(\"/content/drive/MyDrive/w281_Final_Project_Leaf_Disease_Classification_Computer_Vision/Data/dino_features.csv\")\n",
    "\n",
    "# Initialize lists to store new features\n",
    "hog_features = []\n",
    "color_hist_features = []\n",
    "\n",
    "# Path to image folder\n",
    "image_folder = \"/content/drive/MyDrive/w281_Final_Project_Leaf_Disease_Classification_Computer_Vision/Data/train_images\"\n",
    "\n",
    "# path to folder with image id and label (numerical 0-4)\n",
    "csv_file_path = '/content/drive/MyDrive/w281_Final_Project_Leaf_Disease_Classification_Computer_Vision/Data/train.csv'\n",
    "df = pd.read_csv(csv_file_path)\n",
    "\n",
    "#path to file with label matched with disease name\n",
    "json_file_path = '/content/drive/MyDrive/w281_Final_Project_Leaf_Disease_Classification_Computer_Vision/Data/label_num_to_disease_map.json'\n",
    "with open(json_file_path, 'r') as json_file:\n",
    "    label_map = json.load(json_file)\n",
    "\n",
    "#adding labels to dinov2 features dataset\n",
    "existing_features['disease_name'] = df['label'].astype(str).map(label_map)\n",
    "\n",
    "# Create a balanced dataset from dinov2 dataset\n",
    "balanced_images = pd.DataFrame()\n",
    "labels = existing_features['disease_name'].unique()\n",
    "\n",
    "\n",
    "# Sample 200 images from each label\n",
    "for label in labels:\n",
    "    sampled_images = existing_features[existing_features['disease_name'] == label].sample(n=200, random_state=42)\n",
    "    balanced_images = pd.concat([balanced_images, sampled_images])\n",
    "\n",
    "# Process balanced images\n",
    "for idx, image_name in enumerate(balanced_images['image_name']):\n",
    "    try:\n",
    "        # Load and resize image\n",
    "        image_path = f\"{image_folder}/{image_name}\"\n",
    "        image = io.imread(image_path)\n",
    "        gray_image = color.rgb2gray(image)\n",
    "        gray_image_resized = resize(gray_image, (224, 224), anti_aliasing=True)\n",
    "\n",
    "        # Compute HOG features\n",
    "        hog_feature = hog(\n",
    "            gray_image_resized, orientations=6, pixels_per_cell=(16, 16), cells_per_block=(2, 2), feature_vector=True\n",
    "        )\n",
    "        hog_features.append(hog_feature)\n",
    "\n",
    "        # Compute color histogram features\n",
    "        color_hist_feature = np.histogram(image, bins=32, range=(0, 256), density=True)[0]\n",
    "        color_hist_features.append(color_hist_feature)\n",
    "\n",
    "        print(f\"Processed image {idx + 1}/1000\")\n",
    "    except Exception as e:\n",
    "        print(f\"Error processing {image_name}: {e}\")\n",
    "        continue\n",
    "\n",
    "# Convert features to DataFrames\n",
    "hog_df = pd.DataFrame(hog_features, columns=[f'hog_{i}' for i in range(len(hog_features[0]))])\n",
    "color_hist_df = pd.DataFrame(color_hist_features, columns=[f'color_hist_{i}' for i in range(len(color_hist_features[0]))])\n",
    "\n",
    "# Concatenate features\n",
    "balanced_images.reset_index(drop=True, inplace=True)\n",
    "combined_features = pd.concat([balanced_images, hog_df, color_hist_df], axis=1)\n",
    "\n",
    "# Save the processed dataset\n",
    "output_csv_path = \"/content/combined_features_balanced.csv\"\n",
    "combined_features.to_csv(output_csv_path, index=False)\n",
    "print(f\"Saved balanced features to {output_csv_path}\")\n"
   ]
  },
  {
   "cell_type": "code",
   "execution_count": 10,
   "metadata": {
    "colab": {
     "base_uri": "https://localhost:8080/"
    },
    "id": "TLLc5a-6IGeN",
    "outputId": "be1b00b1-c2dd-4fa4-bd98-ace126c705a6"
   },
   "outputs": [
    {
     "name": "stdout",
     "output_type": "stream",
     "text": [
      "Number of images per label:\n",
      " disease_name\n",
      "Cassava Bacterial Blight (CBB)         200\n",
      "Cassava Mosaic Disease (CMD)           200\n",
      "Cassava Brown Streak Disease (CBSD)    200\n",
      "Cassava Green Mottle (CGM)             200\n",
      "Healthy                                200\n",
      "Name: count, dtype: int64\n"
     ]
    }
   ],
   "source": [
    "# Check for label column (e.g., 'disease_name')\n",
    "if 'disease_name' in data.columns:\n",
    "    # Count the number of images per label\n",
    "    label_counts = data['disease_name'].value_counts()\n",
    "    print(\"Number of images per label:\\n\", label_counts)"
   ]
  },
  {
   "cell_type": "code",
   "execution_count": 4,
   "metadata": {
    "colab": {
     "base_uri": "https://localhost:8080/"
    },
    "id": "1J9rYkR_7fp-",
    "outputId": "6607f937-c108-4932-85d4-06fee1a74a7f"
   },
   "outputs": [
    {
     "name": "stdout",
     "output_type": "stream",
     "text": [
      "       image_name  feature_0  feature_1  feature_2  feature_3  feature_4  \\\n",
      "0   719825434.jpg   1.303953   0.091199  -2.248278   0.381026   2.887976   \n",
      "1   587692768.jpg  -1.016429  -0.699261  -0.392498   1.264974   2.208355   \n",
      "2  3660846961.jpg  -0.249248  -0.032872  -0.698133   2.216046   3.490232   \n",
      "3  3701789990.jpg  -0.774188  -0.928851  -0.478231  -0.414509   1.848784   \n",
      "4  2169168830.jpg  -0.411025   0.237525  -1.788199   0.222950   2.113301   \n",
      "\n",
      "   feature_5  feature_6  feature_7  feature_8  ...  color_hist_22  \\\n",
      "0  -0.237917  -2.654374  -0.648730   2.155442  ...       0.005459   \n",
      "1  -0.991631  -1.240221   0.163876   1.079314  ...       0.005117   \n",
      "2  -1.153005  -1.004636   1.768346   0.480540  ...       0.001552   \n",
      "3  -0.877752  -1.713094  -0.297226   0.867125  ...       0.005771   \n",
      "4  -0.597434  -0.350730   0.506145   0.057103  ...       0.001102   \n",
      "\n",
      "   color_hist_23  color_hist_24  color_hist_25  color_hist_26  color_hist_27  \\\n",
      "0       0.004594       0.003946       0.003326       0.002864       0.002342   \n",
      "1       0.004044       0.003232       0.002617       0.001934       0.001183   \n",
      "2       0.001437       0.001294       0.001134       0.001087       0.001127   \n",
      "3       0.005113       0.004370       0.003521       0.002629       0.001933   \n",
      "4       0.001067       0.001054       0.001044       0.001042       0.001048   \n",
      "\n",
      "   color_hist_28  color_hist_29  color_hist_30  color_hist_31  \n",
      "0       0.001862       0.001382       0.000916       0.000954  \n",
      "1       0.000702       0.000373       0.000216       0.000283  \n",
      "2       0.001079       0.001042       0.001116       0.003064  \n",
      "3       0.001400       0.000996       0.000765       0.001017  \n",
      "4       0.001045       0.001070       0.001229       0.003137  \n",
      "\n",
      "[5 rows x 5114 columns]\n",
      "Number of rows: 1000, Number of columns: 5114\n"
     ]
    }
   ],
   "source": [
    "#read combined_features_balanced.csv\n",
    "import pandas as pd\n",
    "\n",
    "# Load the CSV file into a DataFrame\n",
    "file_path = \"/content/combined_features_balanced.csv\"\n",
    "combined_features_balanced = pd.read_csv(file_path)\n",
    "\n",
    "# Display the first few rows\n",
    "print(combined_features_balanced.head())\n",
    "\n",
    "# display the shape of the data\n",
    "print(f\"Number of rows: {combined_features_balanced.shape[0]}, Number of columns: {combined_features_balanced.shape[1]}\")"
   ]
  },
  {
   "cell_type": "code",
   "execution_count": 5,
   "metadata": {
    "colab": {
     "base_uri": "https://localhost:8080/",
     "height": 17
    },
    "id": "bAFJRtMbneNX",
    "outputId": "f42779a7-9f56-42f8-bf05-8c816ab9c8ae"
   },
   "outputs": [
    {
     "data": {
      "application/javascript": [
       "\n",
       "    async function download(id, filename, size) {\n",
       "      if (!google.colab.kernel.accessAllowed) {\n",
       "        return;\n",
       "      }\n",
       "      const div = document.createElement('div');\n",
       "      const label = document.createElement('label');\n",
       "      label.textContent = `Downloading \"${filename}\": `;\n",
       "      div.appendChild(label);\n",
       "      const progress = document.createElement('progress');\n",
       "      progress.max = size;\n",
       "      div.appendChild(progress);\n",
       "      document.body.appendChild(div);\n",
       "\n",
       "      const buffers = [];\n",
       "      let downloaded = 0;\n",
       "\n",
       "      const channel = await google.colab.kernel.comms.open(id);\n",
       "      // Send a message to notify the kernel that we're ready.\n",
       "      channel.send({})\n",
       "\n",
       "      for await (const message of channel.messages) {\n",
       "        // Send a message to notify the kernel that we're ready.\n",
       "        channel.send({})\n",
       "        if (message.buffers) {\n",
       "          for (const buffer of message.buffers) {\n",
       "            buffers.push(buffer);\n",
       "            downloaded += buffer.byteLength;\n",
       "            progress.value = downloaded;\n",
       "          }\n",
       "        }\n",
       "      }\n",
       "      const blob = new Blob(buffers, {type: 'application/binary'});\n",
       "      const a = document.createElement('a');\n",
       "      a.href = window.URL.createObjectURL(blob);\n",
       "      a.download = filename;\n",
       "      div.appendChild(a);\n",
       "      a.click();\n",
       "      div.remove();\n",
       "    }\n",
       "  "
      ],
      "text/plain": [
       "<IPython.core.display.Javascript object>"
      ]
     },
     "metadata": {},
     "output_type": "display_data"
    },
    {
     "data": {
      "application/javascript": [
       "download(\"download_9ea3b7e7-71c0-41ff-b92e-8a71d4f1f8ce\", \"combined_features_balanced.csv\", 100214687)"
      ],
      "text/plain": [
       "<IPython.core.display.Javascript object>"
      ]
     },
     "metadata": {},
     "output_type": "display_data"
    }
   ],
   "source": [
    "from google.colab import files\n",
    "files.download(\"/content/combined_features_balanced.csv\")\n"
   ]
  },
  {
   "cell_type": "code",
   "execution_count": 6,
   "metadata": {
    "colab": {
     "base_uri": "https://localhost:8080/",
     "height": 472
    },
    "id": "Zk7IDT1upNTa",
    "outputId": "2bf6ceb5-d978-4e46-bc80-f18e964a891b"
   },
   "outputs": [
    {
     "data": {
      "image/png": "[encoded data removed]",
      "text/plain": [
       "<Figure size 640x480 with 1 Axes>"
      ]
     },
     "metadata": {},
     "output_type": "display_data"
    }
   ],
   "source": [
    "import matplotlib.pyplot as plt\n",
    "import numpy as np\n",
    "\n",
    "# Extract a row of color histogram data (e.g., the first row)\n",
    "color_hist_values = combined_features_balanced.iloc[0, -32:].values  # Assuming last 32 columns are color hist bins\n",
    "\n",
    "# Plot the histogram\n",
    "plt.bar(range(len(color_hist_values)), color_hist_values)\n",
    "plt.xlabel('Histogram Bins')\n",
    "plt.ylabel('Normalized Proportion')\n",
    "plt.title('Color Histogram for First Image')\n",
    "plt.show()"
   ]
  },
  {
   "cell_type": "markdown",
   "metadata": {
    "id": "n5NF5YNTp0Ny"
   },
   "source": [
    "#Dimentionality reduction PCA for Combined Features (1000 Images)"
   ]
  },
  {
   "cell_type": "code",
   "execution_count": 7,
   "metadata": {
    "colab": {
     "base_uri": "https://localhost:8080/"
    },
    "id": "1-SHte_Vpy2j",
    "outputId": "861785b4-b5d6-45d4-9b9d-91dbb914f5d2"
   },
   "outputs": [
    {
     "name": "stdout",
     "output_type": "stream",
     "text": [
      "PCA features saved to 'pca_features_balanced.csv'\n"
     ]
    }
   ],
   "source": [
    "from sklearn.decomposition import PCA\n",
    "from sklearn.preprocessing import StandardScaler\n",
    "\n",
    "# Load combined features\n",
    "data = pd.read_csv(\"/content/combined_features_balanced.csv\")\n",
    "\n",
    "# Exclude the 'image_name' , 'disease_name' column and standardize features\n",
    "feature_data = data.drop(columns=['image_name', 'disease_name'])\n",
    "scaler = StandardScaler()\n",
    "scaled_features = scaler.fit_transform(feature_data)\n",
    "\n",
    "# Apply PCA\n",
    "pca = PCA(n_components=50)  # Keep 50 principal components (adjust as needed)\n",
    "pca_features = pca.fit_transform(scaled_features)\n",
    "\n",
    "# Save PCA-transformed features\n",
    "pca_features_df = pd.DataFrame(pca_features, columns=[f'pca_{i}' for i in range(pca.n_components_)])\n",
    "pca_features_df['image_name'] = data['image_name']\n",
    "pca_features_df.to_csv(\"pca_features_balanced.csv\", index=False)\n",
    "print(\"PCA features saved to 'pca_features_balanced.csv'\")"
   ]
  },
  {
   "cell_type": "code",
   "execution_count": 8,
   "metadata": {
    "colab": {
     "base_uri": "https://localhost:8080/",
     "height": 17
    },
    "id": "X7cpyXaeqaD8",
    "outputId": "08601aa3-0d05-43d5-f199-8871d4b6aade"
   },
   "outputs": [
    {
     "data": {
      "application/javascript": [
       "\n",
       "    async function download(id, filename, size) {\n",
       "      if (!google.colab.kernel.accessAllowed) {\n",
       "        return;\n",
       "      }\n",
       "      const div = document.createElement('div');\n",
       "      const label = document.createElement('label');\n",
       "      label.textContent = `Downloading \"${filename}\": `;\n",
       "      div.appendChild(label);\n",
       "      const progress = document.createElement('progress');\n",
       "      progress.max = size;\n",
       "      div.appendChild(progress);\n",
       "      document.body.appendChild(div);\n",
       "\n",
       "      const buffers = [];\n",
       "      let downloaded = 0;\n",
       "\n",
       "      const channel = await google.colab.kernel.comms.open(id);\n",
       "      // Send a message to notify the kernel that we're ready.\n",
       "      channel.send({})\n",
       "\n",
       "      for await (const message of channel.messages) {\n",
       "        // Send a message to notify the kernel that we're ready.\n",
       "        channel.send({})\n",
       "        if (message.buffers) {\n",
       "          for (const buffer of message.buffers) {\n",
       "            buffers.push(buffer);\n",
       "            downloaded += buffer.byteLength;\n",
       "            progress.value = downloaded;\n",
       "          }\n",
       "        }\n",
       "      }\n",
       "      const blob = new Blob(buffers, {type: 'application/binary'});\n",
       "      const a = document.createElement('a');\n",
       "      a.href = window.URL.createObjectURL(blob);\n",
       "      a.download = filename;\n",
       "      div.appendChild(a);\n",
       "      a.click();\n",
       "      div.remove();\n",
       "    }\n",
       "  "
      ],
      "text/plain": [
       "<IPython.core.display.Javascript object>"
      ]
     },
     "metadata": {},
     "output_type": "display_data"
    },
    {
     "data": {
      "application/javascript": [
       "download(\"download_99bad897-a844-4553-8cb2-568a483e3f4c\", \"pca_features_balanced.csv\", 964916)"
      ],
      "text/plain": [
       "<IPython.core.display.Javascript object>"
      ]
     },
     "metadata": {},
     "output_type": "display_data"
    }
   ],
   "source": [
    "files.download(\"/content/pca_features_balanced.csv\")\n"
   ]
  },
  {
   "cell_type": "code",
   "execution_count": 9,
   "metadata": {
    "colab": {
     "base_uri": "https://localhost:8080/"
    },
    "id": "a_adksrZqmca",
    "outputId": "86a9de3d-0d7b-4427-e352-26a395810f60"
   },
   "outputs": [
    {
     "name": "stdout",
     "output_type": "stream",
     "text": [
      "       pca_0      pca_1      pca_2     pca_3     pca_4     pca_5      pca_6  \\\n",
      "0   6.636038  -1.939227  -2.589426  2.945924  9.792974  3.655708 -16.973333   \n",
      "1 -11.481721  18.198345  -5.854293  7.034841 -7.133950  4.684411   3.598283   \n",
      "2 -36.713130   6.996273   2.140495 -6.881432  1.464674  5.632400  22.395342   \n",
      "3 -24.858595 -13.431568 -11.642291  8.095534 -2.052408  4.586179   1.999897   \n",
      "4  -0.660040  -2.407617  -7.171126  5.091089 -7.052279  7.704073  13.559932   \n",
      "\n",
      "      pca_7      pca_8      pca_9  ...     pca_41     pca_42    pca_43  \\\n",
      "0  8.463349  10.902321  -1.148773  ...   0.048576  -2.692261  4.208682   \n",
      "1  8.720727  -3.665967  11.824473  ...   8.576548  -1.505602  4.685429   \n",
      "2  0.407400  20.928570  -6.404638  ...  -4.251344  15.982104  3.409065   \n",
      "3 -2.764580  -3.533155  -1.485335  ... -12.533235  -4.934034 -4.522619   \n",
      "4  1.877695   3.012491  -6.949096  ...  -4.437511   5.975105 -7.991956   \n",
      "\n",
      "     pca_44    pca_45    pca_46    pca_47    pca_48    pca_49      image_name  \n",
      "0 -2.174076 -5.411625  6.498442  4.745767 -1.659164 -1.332601   719825434.jpg  \n",
      "1 -3.469177  4.727840 -1.557634  0.214957  3.938904 -3.061316   587692768.jpg  \n",
      "2 -1.522032 -6.893707  0.908241 -0.878703  3.073291 -9.856541  3660846961.jpg  \n",
      "3 -0.409373  0.019869  0.071544 -2.278584 -3.138464  3.100551  3701789990.jpg  \n",
      "4  0.977824 -1.301783 -2.054494  0.135642  6.262905  1.685520  2169168830.jpg  \n",
      "\n",
      "[5 rows x 51 columns]\n",
      "Number of rows: 1000, Number of columns: 51\n"
     ]
    }
   ],
   "source": [
    "# Load the PCA-transformed file\n",
    "pca_file_path = \"/content/pca_features_balanced.csv\"\n",
    "pca_data_balanced = pd.read_csv(pca_file_path)\n",
    "\n",
    "# Display the first few rows\n",
    "print(pca_data_balanced.head())\n",
    "\n",
    "# Check the shape of the data (rows and columns)\n",
    "print(f\"Number of rows: {pca_data_balanced.shape[0]}, Number of columns: {pca_data_balanced.shape[1]}\")"
   ]
  },
  {
   "cell_type": "code",
   "execution_count": null,
   "metadata": {
    "id": "snC6a4ENq2Jn"
   },
   "outputs": [],
   "source": []
  },
  {
   "cell_type": "code",
   "execution_count": 1,
   "metadata": {
    "id": "Np8nd8Diq2Mv"
   },
   "outputs": [],
   "source": [
    "import pandas as pd\n",
    "# upload the file pca_features which includes 51 features of around 5000. This file is based on the 1000 images from the combined_features_limited file\n",
    "# that has both Dinov2 and HOG and color histogram applied to the images.\n",
    "pca_file_path = \"/content/drive/MyDrive/w281_Final_Project_Leaf_Disease_Classification_Computer_Vision/Data/pca_features_balanced.csv\"\n",
    "pca_data_balanced = pd.read_csv(pca_file_path)\n"
   ]
  },
  {
   "cell_type": "code",
   "execution_count": 14,
   "metadata": {
    "id": "_8GP5VHVq2Pn"
   },
   "outputs": [],
   "source": []
  },
  {
   "cell_type": "markdown",
   "metadata": {
    "id": "_IJvpxBPr5UK"
   },
   "source": [
    "### Add labels to the data for Classification"
   ]
  },
  {
   "cell_type": "code",
   "execution_count": 11,
   "metadata": {
    "colab": {
     "base_uri": "https://localhost:8080/",
     "height": 206
    },
    "id": "huSiD4Egq2SQ",
    "outputId": "9409247f-e04d-4fc1-f671-b31630db26cf"
   },
   "outputs": [
    {
     "data": {
      "application/vnd.google.colaboratory.intrinsic+json": {
       "summary": "{\n  \"name\": \"#pca_data_balanced\",\n  \"rows\": 5,\n  \"fields\": [\n    {\n      \"column\": \"image_id\",\n      \"properties\": {\n        \"dtype\": \"string\",\n        \"num_unique_values\": 5,\n        \"samples\": [\n          \"1000201771.jpg\",\n          \"1000812911.jpg\",\n          \"100042118.jpg\"\n        ],\n        \"semantic_type\": \"\",\n        \"description\": \"\"\n      }\n    },\n    {\n      \"column\": \"label\",\n      \"properties\": {\n        \"dtype\": \"number\",\n        \"std\": 1,\n        \"min\": 0,\n        \"max\": 3,\n        \"num_unique_values\": 3,\n        \"samples\": [\n          0,\n          3,\n          1\n        ],\n        \"semantic_type\": \"\",\n        \"description\": \"\"\n      }\n    }\n  ]\n}",
       "type": "dataframe"
      },
      "text/html": [
       "\n",
       "  <div id=\"df-8092846b-69b5-4e3f-956d-f199c811dc02\" class=\"colab-df-container\">\n",
       "    <div>\n",
       "<style scoped>\n",
       "    .dataframe tbody tr th:only-of-type {\n",
       "        vertical-align: middle;\n",
       "    }\n",
       "\n",
       "    .dataframe tbody tr th {\n",
       "        vertical-align: top;\n",
       "    }\n",
       "\n",
       "    .dataframe thead th {\n",
       "        text-align: right;\n",
       "    }\n",
       "</style>\n",
       "<table border=\"1\" class=\"dataframe\">\n",
       "  <thead>\n",
       "    <tr style=\"text-align: right;\">\n",
       "      <th></th>\n",
       "      <th>image_id</th>\n",
       "      <th>label</th>\n",
       "    </tr>\n",
       "  </thead>\n",
       "  <tbody>\n",
       "    <tr>\n",
       "      <th>0</th>\n",
       "      <td>1000015157.jpg</td>\n",
       "      <td>0</td>\n",
       "    </tr>\n",
       "    <tr>\n",
       "      <th>1</th>\n",
       "      <td>1000201771.jpg</td>\n",
       "      <td>3</td>\n",
       "    </tr>\n",
       "    <tr>\n",
       "      <th>2</th>\n",
       "      <td>100042118.jpg</td>\n",
       "      <td>1</td>\n",
       "    </tr>\n",
       "    <tr>\n",
       "      <th>3</th>\n",
       "      <td>1000723321.jpg</td>\n",
       "      <td>1</td>\n",
       "    </tr>\n",
       "    <tr>\n",
       "      <th>4</th>\n",
       "      <td>1000812911.jpg</td>\n",
       "      <td>3</td>\n",
       "    </tr>\n",
       "  </tbody>\n",
       "</table>\n",
       "</div>\n",
       "    <div class=\"colab-df-buttons\">\n",
       "\n",
       "  <div class=\"colab-df-container\">\n",
       "    <button class=\"colab-df-convert\" onclick=\"convertToInteractive('df-8092846b-69b5-4e3f-956d-f199c811dc02')\"\n",
       "            title=\"Convert this dataframe to an interactive table.\"\n",
       "            style=\"display:none;\">\n",
       "\n",
       "  <svg xmlns=\"http://www.w3.org/2000/svg\" height=\"24px\" viewBox=\"0 -960 960 960\">\n",
       "    <path d=\"M120-120v-720h720v720H120Zm60-500h600v-160H180v160Zm220 220h160v-160H400v160Zm0 220h160v-160H400v160ZM180-400h160v-160H180v160Zm440 0h160v-160H620v160ZM180-180h160v-160H180v160Zm440 0h160v-160H620v160Z\"/>\n",
       "  </svg>\n",
       "    </button>\n",
       "\n",
       "  <style>\n",
       "    .colab-df-container {\n",
       "      display:flex;\n",
       "      gap: 12px;\n",
       "    }\n",
       "\n",
       "    .colab-df-convert {\n",
       "      background-color: #E8F0FE;\n",
       "      border: none;\n",
       "      border-radius: 50%;\n",
       "      cursor: pointer;\n",
       "      display: none;\n",
       "      fill: #1967D2;\n",
       "      height: 32px;\n",
       "      padding: 0 0 0 0;\n",
       "      width: 32px;\n",
       "    }\n",
       "\n",
       "    .colab-df-convert:hover {\n",
       "      background-color: #E2EBFA;\n",
       "      box-shadow: 0px 1px 2px rgba(60, 64, 67, 0.3), 0px 1px 3px 1px rgba(60, 64, 67, 0.15);\n",
       "      fill: #174EA6;\n",
       "    }\n",
       "\n",
       "    .colab-df-buttons div {\n",
       "      margin-bottom: 4px;\n",
       "    }\n",
       "\n",
       "    [theme=dark] .colab-df-convert {\n",
       "      background-color: #3B4455;\n",
       "      fill: #D2E3FC;\n",
       "    }\n",
       "\n",
       "    [theme=dark] .colab-df-convert:hover {\n",
       "      background-color: #434B5C;\n",
       "      box-shadow: 0px 1px 3px 1px rgba(0, 0, 0, 0.15);\n",
       "      filter: drop-shadow(0px 1px 2px rgba(0, 0, 0, 0.3));\n",
       "      fill: #FFFFFF;\n",
       "    }\n",
       "  </style>\n",
       "\n",
       "    <script>\n",
       "      const buttonEl =\n",
       "        document.querySelector('#df-8092846b-69b5-4e3f-956d-f199c811dc02 button.colab-df-convert');\n",
       "      buttonEl.style.display =\n",
       "        google.colab.kernel.accessAllowed ? 'block' : 'none';\n",
       "\n",
       "      async function convertToInteractive(key) {\n",
       "        const element = document.querySelector('#df-8092846b-69b5-4e3f-956d-f199c811dc02');\n",
       "        const dataTable =\n",
       "          await google.colab.kernel.invokeFunction('convertToInteractive',\n",
       "                                                    [key], {});\n",
       "        if (!dataTable) return;\n",
       "\n",
       "        const docLinkHtml = 'Like what you see? Visit the ' +\n",
       "          '<a target=\"_blank\" href=https://colab.research.google.com/notebooks/data_table.ipynb>data table notebook</a>'\n",
       "          + ' to learn more about interactive tables.';\n",
       "        element.innerHTML = '';\n",
       "        dataTable['output_type'] = 'display_data';\n",
       "        await google.colab.output.renderOutput(dataTable, element);\n",
       "        const docLink = document.createElement('div');\n",
       "        docLink.innerHTML = docLinkHtml;\n",
       "        element.appendChild(docLink);\n",
       "      }\n",
       "    </script>\n",
       "  </div>\n",
       "\n",
       "\n",
       "<div id=\"df-9bcdde58-ab70-4ef2-a6b7-b568d14da224\">\n",
       "  <button class=\"colab-df-quickchart\" onclick=\"quickchart('df-9bcdde58-ab70-4ef2-a6b7-b568d14da224')\"\n",
       "            title=\"Suggest charts\"\n",
       "            style=\"display:none;\">\n",
       "\n",
       "<svg xmlns=\"http://www.w3.org/2000/svg\" height=\"24px\"viewBox=\"0 0 24 24\"\n",
       "     width=\"24px\">\n",
       "    <g>\n",
       "        <path d=\"M19 3H5c-1.1 0-2 .9-2 2v14c0 1.1.9 2 2 2h14c1.1 0 2-.9 2-2V5c0-1.1-.9-2-2-2zM9 17H7v-7h2v7zm4 0h-2V7h2v10zm4 0h-2v-4h2v4z\"/>\n",
       "    </g>\n",
       "</svg>\n",
       "  </button>\n",
       "\n",
       "<style>\n",
       "  .colab-df-quickchart {\n",
       "      --bg-color: #E8F0FE;\n",
       "      --fill-color: #1967D2;\n",
       "      --hover-bg-color: #E2EBFA;\n",
       "      --hover-fill-color: #174EA6;\n",
       "      --disabled-fill-color: #AAA;\n",
       "      --disabled-bg-color: #DDD;\n",
       "  }\n",
       "\n",
       "  [theme=dark] .colab-df-quickchart {\n",
       "      --bg-color: #3B4455;\n",
       "      --fill-color: #D2E3FC;\n",
       "      --hover-bg-color: #434B5C;\n",
       "      --hover-fill-color: #FFFFFF;\n",
       "      --disabled-bg-color: #3B4455;\n",
       "      --disabled-fill-color: #666;\n",
       "  }\n",
       "\n",
       "  .colab-df-quickchart {\n",
       "    background-color: var(--bg-color);\n",
       "    border: none;\n",
       "    border-radius: 50%;\n",
       "    cursor: pointer;\n",
       "    display: none;\n",
       "    fill: var(--fill-color);\n",
       "    height: 32px;\n",
       "    padding: 0;\n",
       "    width: 32px;\n",
       "  }\n",
       "\n",
       "  .colab-df-quickchart:hover {\n",
       "    background-color: var(--hover-bg-color);\n",
       "    box-shadow: 0 1px 2px rgba(60, 64, 67, 0.3), 0 1px 3px 1px rgba(60, 64, 67, 0.15);\n",
       "    fill: var(--button-hover-fill-color);\n",
       "  }\n",
       "\n",
       "  .colab-df-quickchart-complete:disabled,\n",
       "  .colab-df-quickchart-complete:disabled:hover {\n",
       "    background-color: var(--disabled-bg-color);\n",
       "    fill: var(--disabled-fill-color);\n",
       "    box-shadow: none;\n",
       "  }\n",
       "\n",
       "  .colab-df-spinner {\n",
       "    border: 2px solid var(--fill-color);\n",
       "    border-color: transparent;\n",
       "    border-bottom-color: var(--fill-color);\n",
       "    animation:\n",
       "      spin 1s steps(1) infinite;\n",
       "  }\n",
       "\n",
       "  @keyframes spin {\n",
       "    0% {\n",
       "      border-color: transparent;\n",
       "      border-bottom-color: var(--fill-color);\n",
       "      border-left-color: var(--fill-color);\n",
       "    }\n",
       "    20% {\n",
       "      border-color: transparent;\n",
       "      border-left-color: var(--fill-color);\n",
       "      border-top-color: var(--fill-color);\n",
       "    }\n",
       "    30% {\n",
       "      border-color: transparent;\n",
       "      border-left-color: var(--fill-color);\n",
       "      border-top-color: var(--fill-color);\n",
       "      border-right-color: var(--fill-color);\n",
       "    }\n",
       "    40% {\n",
       "      border-color: transparent;\n",
       "      border-right-color: var(--fill-color);\n",
       "      border-top-color: var(--fill-color);\n",
       "    }\n",
       "    60% {\n",
       "      border-color: transparent;\n",
       "      border-right-color: var(--fill-color);\n",
       "    }\n",
       "    80% {\n",
       "      border-color: transparent;\n",
       "      border-right-color: var(--fill-color);\n",
       "      border-bottom-color: var(--fill-color);\n",
       "    }\n",
       "    90% {\n",
       "      border-color: transparent;\n",
       "      border-bottom-color: var(--fill-color);\n",
       "    }\n",
       "  }\n",
       "</style>\n",
       "\n",
       "  <script>\n",
       "    async function quickchart(key) {\n",
       "      const quickchartButtonEl =\n",
       "        document.querySelector('#' + key + ' button');\n",
       "      quickchartButtonEl.disabled = true;  // To prevent multiple clicks.\n",
       "      quickchartButtonEl.classList.add('colab-df-spinner');\n",
       "      try {\n",
       "        const charts = await google.colab.kernel.invokeFunction(\n",
       "            'suggestCharts', [key], {});\n",
       "      } catch (error) {\n",
       "        console.error('Error during call to suggestCharts:', error);\n",
       "      }\n",
       "      quickchartButtonEl.classList.remove('colab-df-spinner');\n",
       "      quickchartButtonEl.classList.add('colab-df-quickchart-complete');\n",
       "    }\n",
       "    (() => {\n",
       "      let quickchartButtonEl =\n",
       "        document.querySelector('#df-9bcdde58-ab70-4ef2-a6b7-b568d14da224 button');\n",
       "      quickchartButtonEl.style.display =\n",
       "        google.colab.kernel.accessAllowed ? 'block' : 'none';\n",
       "    })();\n",
       "  </script>\n",
       "</div>\n",
       "\n",
       "    </div>\n",
       "  </div>\n"
      ],
      "text/plain": [
       "         image_id  label\n",
       "0  1000015157.jpg      0\n",
       "1  1000201771.jpg      3\n",
       "2   100042118.jpg      1\n",
       "3  1000723321.jpg      1\n",
       "4  1000812911.jpg      3"
      ]
     },
     "execution_count": 11,
     "metadata": {},
     "output_type": "execute_result"
    }
   ],
   "source": [
    "import json\n",
    "\n",
    "#path = \"/content/drive/MyDrive/w281_Final_Project_Leaf_Disease_Classification_Computer_Vision/Data/train_images\"\n",
    "\n",
    "json_file_path = '/content/drive/MyDrive/w281_Final_Project_Leaf_Disease_Classification_Computer_Vision/Data/label_num_to_disease_map.json'\n",
    "with open(json_file_path, 'r') as json_file:\n",
    "    label_map = json.load(json_file)\n",
    "\n",
    "csv_file_path = '/content/drive/MyDrive/w281_Final_Project_Leaf_Disease_Classification_Computer_Vision/Data/train.csv'\n",
    "df = pd.read_csv(csv_file_path)\n",
    "\n",
    "\n",
    "df.head()\n"
   ]
  },
  {
   "cell_type": "code",
   "execution_count": 12,
   "metadata": {
    "colab": {
     "base_uri": "https://localhost:8080/"
    },
    "id": "lS8DkGzGJwl2",
    "outputId": "5af8bcf0-5156-4b19-d8e7-6631c406fe2a"
   },
   "outputs": [
    {
     "name": "stdout",
     "output_type": "stream",
     "text": [
      "Merged data saved to 'pca_data_with_labels.csv'\n"
     ]
    }
   ],
   "source": [
    "# Merge the two DataFrames on the image identifier columns\n",
    "merged_data = pd.merge(\n",
    "    pca_data_balanced,\n",
    "    df.rename(columns={'image_id': 'image_name'}),  # Align column names for merging\n",
    "    on=\"image_name\",\n",
    "    how=\"inner\"  # Keep only rows present in both DataFrames\n",
    ")\n",
    "\n",
    "# Save the merged DataFrame\n",
    "merged_data.to_csv(\"pca_data_with_labels.csv\", index=False)\n",
    "print(\"Merged data saved to 'pca_data_with_labels.csv'\")"
   ]
  },
  {
   "cell_type": "code",
   "execution_count": 13,
   "metadata": {
    "colab": {
     "base_uri": "https://localhost:8080/",
     "height": 17
    },
    "id": "YnzWKy8SJ4K_",
    "outputId": "91896b07-0b5c-4402-d8bd-e3d3bbe2452d"
   },
   "outputs": [
    {
     "data": {
      "application/javascript": [
       "\n",
       "    async function download(id, filename, size) {\n",
       "      if (!google.colab.kernel.accessAllowed) {\n",
       "        return;\n",
       "      }\n",
       "      const div = document.createElement('div');\n",
       "      const label = document.createElement('label');\n",
       "      label.textContent = `Downloading \"${filename}\": `;\n",
       "      div.appendChild(label);\n",
       "      const progress = document.createElement('progress');\n",
       "      progress.max = size;\n",
       "      div.appendChild(progress);\n",
       "      document.body.appendChild(div);\n",
       "\n",
       "      const buffers = [];\n",
       "      let downloaded = 0;\n",
       "\n",
       "      const channel = await google.colab.kernel.comms.open(id);\n",
       "      // Send a message to notify the kernel that we're ready.\n",
       "      channel.send({})\n",
       "\n",
       "      for await (const message of channel.messages) {\n",
       "        // Send a message to notify the kernel that we're ready.\n",
       "        channel.send({})\n",
       "        if (message.buffers) {\n",
       "          for (const buffer of message.buffers) {\n",
       "            buffers.push(buffer);\n",
       "            downloaded += buffer.byteLength;\n",
       "            progress.value = downloaded;\n",
       "          }\n",
       "        }\n",
       "      }\n",
       "      const blob = new Blob(buffers, {type: 'application/binary'});\n",
       "      const a = document.createElement('a');\n",
       "      a.href = window.URL.createObjectURL(blob);\n",
       "      a.download = filename;\n",
       "      div.appendChild(a);\n",
       "      a.click();\n",
       "      div.remove();\n",
       "    }\n",
       "  "
      ],
      "text/plain": [
       "<IPython.core.display.Javascript object>"
      ]
     },
     "metadata": {},
     "output_type": "display_data"
    },
    {
     "data": {
      "application/javascript": [
       "download(\"download_5320b601-840c-49e3-b9cb-8e980a0775de\", \"pca_data_with_labels.csv\", 959561)"
      ],
      "text/plain": [
       "<IPython.core.display.Javascript object>"
      ]
     },
     "metadata": {},
     "output_type": "display_data"
    }
   ],
   "source": [
    "files.download(\"/content/pca_data_with_labels.csv\")\n"
   ]
  },
  {
   "cell_type": "code",
   "execution_count": 3,
   "metadata": {
    "colab": {
     "base_uri": "https://localhost:8080/",
     "height": 444
    },
    "id": "dAiuzcs-KrYq",
    "outputId": "dd52734d-6421-4db6-af17-47d874f1e442"
   },
   "outputs": [
    {
     "data": {
      "application/vnd.google.colaboratory.intrinsic+json": {
       "type": "dataframe",
       "variable_name": "pca_data_with_labels"
      },
      "text/html": [
       "\n",
       "  <div id=\"df-214b4765-0d39-46d9-be10-d1ed711b1b81\" class=\"colab-df-container\">\n",
       "    <div>\n",
       "<style scoped>\n",
       "    .dataframe tbody tr th:only-of-type {\n",
       "        vertical-align: middle;\n",
       "    }\n",
       "\n",
       "    .dataframe tbody tr th {\n",
       "        vertical-align: top;\n",
       "    }\n",
       "\n",
       "    .dataframe thead th {\n",
       "        text-align: right;\n",
       "    }\n",
       "</style>\n",
       "<table border=\"1\" class=\"dataframe\">\n",
       "  <thead>\n",
       "    <tr style=\"text-align: right;\">\n",
       "      <th></th>\n",
       "      <th>pca_0</th>\n",
       "      <th>pca_1</th>\n",
       "      <th>pca_2</th>\n",
       "      <th>pca_3</th>\n",
       "      <th>pca_4</th>\n",
       "      <th>pca_5</th>\n",
       "      <th>pca_6</th>\n",
       "      <th>pca_7</th>\n",
       "      <th>pca_8</th>\n",
       "      <th>pca_9</th>\n",
       "      <th>...</th>\n",
       "      <th>pca_42</th>\n",
       "      <th>pca_43</th>\n",
       "      <th>pca_44</th>\n",
       "      <th>pca_45</th>\n",
       "      <th>pca_46</th>\n",
       "      <th>pca_47</th>\n",
       "      <th>pca_48</th>\n",
       "      <th>pca_49</th>\n",
       "      <th>image_name</th>\n",
       "      <th>label</th>\n",
       "    </tr>\n",
       "  </thead>\n",
       "  <tbody>\n",
       "    <tr>\n",
       "      <th>0</th>\n",
       "      <td>6.636038</td>\n",
       "      <td>-1.939227</td>\n",
       "      <td>-2.589426</td>\n",
       "      <td>2.945924</td>\n",
       "      <td>9.792974</td>\n",
       "      <td>3.655708</td>\n",
       "      <td>-16.973333</td>\n",
       "      <td>8.463349</td>\n",
       "      <td>10.902321</td>\n",
       "      <td>-1.148773</td>\n",
       "      <td>...</td>\n",
       "      <td>-2.692261</td>\n",
       "      <td>4.208682</td>\n",
       "      <td>-2.174076</td>\n",
       "      <td>-5.411625</td>\n",
       "      <td>6.498442</td>\n",
       "      <td>4.745767</td>\n",
       "      <td>-1.659164</td>\n",
       "      <td>-1.332601</td>\n",
       "      <td>719825434.jpg</td>\n",
       "      <td>3</td>\n",
       "    </tr>\n",
       "    <tr>\n",
       "      <th>1</th>\n",
       "      <td>-11.481721</td>\n",
       "      <td>18.198345</td>\n",
       "      <td>-5.854293</td>\n",
       "      <td>7.034841</td>\n",
       "      <td>-7.133950</td>\n",
       "      <td>4.684411</td>\n",
       "      <td>3.598283</td>\n",
       "      <td>8.720727</td>\n",
       "      <td>-3.665967</td>\n",
       "      <td>11.824473</td>\n",
       "      <td>...</td>\n",
       "      <td>-1.505602</td>\n",
       "      <td>4.685429</td>\n",
       "      <td>-3.469177</td>\n",
       "      <td>4.727840</td>\n",
       "      <td>-1.557634</td>\n",
       "      <td>0.214957</td>\n",
       "      <td>3.938904</td>\n",
       "      <td>-3.061316</td>\n",
       "      <td>587692768.jpg</td>\n",
       "      <td>1</td>\n",
       "    </tr>\n",
       "    <tr>\n",
       "      <th>2</th>\n",
       "      <td>-36.713130</td>\n",
       "      <td>6.996273</td>\n",
       "      <td>2.140495</td>\n",
       "      <td>-6.881432</td>\n",
       "      <td>1.464674</td>\n",
       "      <td>5.632400</td>\n",
       "      <td>22.395342</td>\n",
       "      <td>0.407400</td>\n",
       "      <td>20.928570</td>\n",
       "      <td>-6.404638</td>\n",
       "      <td>...</td>\n",
       "      <td>15.982104</td>\n",
       "      <td>3.409065</td>\n",
       "      <td>-1.522032</td>\n",
       "      <td>-6.893707</td>\n",
       "      <td>0.908241</td>\n",
       "      <td>-0.878703</td>\n",
       "      <td>3.073291</td>\n",
       "      <td>-9.856541</td>\n",
       "      <td>3660846961.jpg</td>\n",
       "      <td>4</td>\n",
       "    </tr>\n",
       "    <tr>\n",
       "      <th>3</th>\n",
       "      <td>-24.858595</td>\n",
       "      <td>-13.431568</td>\n",
       "      <td>-11.642291</td>\n",
       "      <td>8.095534</td>\n",
       "      <td>-2.052408</td>\n",
       "      <td>4.586179</td>\n",
       "      <td>1.999897</td>\n",
       "      <td>-2.764580</td>\n",
       "      <td>-3.533155</td>\n",
       "      <td>-1.485335</td>\n",
       "      <td>...</td>\n",
       "      <td>-4.934034</td>\n",
       "      <td>-4.522619</td>\n",
       "      <td>-0.409373</td>\n",
       "      <td>0.019869</td>\n",
       "      <td>0.071544</td>\n",
       "      <td>-2.278584</td>\n",
       "      <td>-3.138464</td>\n",
       "      <td>3.100551</td>\n",
       "      <td>3701789990.jpg</td>\n",
       "      <td>3</td>\n",
       "    </tr>\n",
       "    <tr>\n",
       "      <th>4</th>\n",
       "      <td>-0.660040</td>\n",
       "      <td>-2.407617</td>\n",
       "      <td>-7.171126</td>\n",
       "      <td>5.091089</td>\n",
       "      <td>-7.052279</td>\n",
       "      <td>7.704073</td>\n",
       "      <td>13.559932</td>\n",
       "      <td>1.877695</td>\n",
       "      <td>3.012491</td>\n",
       "      <td>-6.949096</td>\n",
       "      <td>...</td>\n",
       "      <td>5.975105</td>\n",
       "      <td>-7.991956</td>\n",
       "      <td>0.977824</td>\n",
       "      <td>-1.301783</td>\n",
       "      <td>-2.054494</td>\n",
       "      <td>0.135642</td>\n",
       "      <td>6.262905</td>\n",
       "      <td>1.685520</td>\n",
       "      <td>2169168830.jpg</td>\n",
       "      <td>1</td>\n",
       "    </tr>\n",
       "    <tr>\n",
       "      <th>...</th>\n",
       "      <td>...</td>\n",
       "      <td>...</td>\n",
       "      <td>...</td>\n",
       "      <td>...</td>\n",
       "      <td>...</td>\n",
       "      <td>...</td>\n",
       "      <td>...</td>\n",
       "      <td>...</td>\n",
       "      <td>...</td>\n",
       "      <td>...</td>\n",
       "      <td>...</td>\n",
       "      <td>...</td>\n",
       "      <td>...</td>\n",
       "      <td>...</td>\n",
       "      <td>...</td>\n",
       "      <td>...</td>\n",
       "      <td>...</td>\n",
       "      <td>...</td>\n",
       "      <td>...</td>\n",
       "      <td>...</td>\n",
       "      <td>...</td>\n",
       "    </tr>\n",
       "    <tr>\n",
       "      <th>995</th>\n",
       "      <td>6.515476</td>\n",
       "      <td>8.959465</td>\n",
       "      <td>-5.877646</td>\n",
       "      <td>0.698728</td>\n",
       "      <td>-14.050391</td>\n",
       "      <td>-13.820268</td>\n",
       "      <td>1.272673</td>\n",
       "      <td>11.051024</td>\n",
       "      <td>12.391001</td>\n",
       "      <td>-1.448643</td>\n",
       "      <td>...</td>\n",
       "      <td>-0.801399</td>\n",
       "      <td>-4.772418</td>\n",
       "      <td>6.340815</td>\n",
       "      <td>2.586638</td>\n",
       "      <td>0.004762</td>\n",
       "      <td>-9.540332</td>\n",
       "      <td>-0.241982</td>\n",
       "      <td>0.190749</td>\n",
       "      <td>2614256143.jpg</td>\n",
       "      <td>1</td>\n",
       "    </tr>\n",
       "    <tr>\n",
       "      <th>996</th>\n",
       "      <td>-36.850739</td>\n",
       "      <td>-6.240824</td>\n",
       "      <td>12.916813</td>\n",
       "      <td>13.369416</td>\n",
       "      <td>-11.125601</td>\n",
       "      <td>8.207463</td>\n",
       "      <td>6.325986</td>\n",
       "      <td>-6.402955</td>\n",
       "      <td>0.004325</td>\n",
       "      <td>-0.463309</td>\n",
       "      <td>...</td>\n",
       "      <td>-4.355998</td>\n",
       "      <td>3.150117</td>\n",
       "      <td>-2.041449</td>\n",
       "      <td>-12.076515</td>\n",
       "      <td>-0.122605</td>\n",
       "      <td>1.542647</td>\n",
       "      <td>0.660048</td>\n",
       "      <td>-1.259763</td>\n",
       "      <td>1907138537.jpg</td>\n",
       "      <td>3</td>\n",
       "    </tr>\n",
       "    <tr>\n",
       "      <th>997</th>\n",
       "      <td>-32.370880</td>\n",
       "      <td>16.641668</td>\n",
       "      <td>-14.425981</td>\n",
       "      <td>-1.828775</td>\n",
       "      <td>2.403858</td>\n",
       "      <td>4.003236</td>\n",
       "      <td>-5.647310</td>\n",
       "      <td>-12.068968</td>\n",
       "      <td>-2.623539</td>\n",
       "      <td>0.511956</td>\n",
       "      <td>...</td>\n",
       "      <td>-5.906175</td>\n",
       "      <td>3.152885</td>\n",
       "      <td>2.755471</td>\n",
       "      <td>2.497923</td>\n",
       "      <td>1.706295</td>\n",
       "      <td>-0.850640</td>\n",
       "      <td>4.358664</td>\n",
       "      <td>2.153396</td>\n",
       "      <td>3412620463.jpg</td>\n",
       "      <td>4</td>\n",
       "    </tr>\n",
       "    <tr>\n",
       "      <th>998</th>\n",
       "      <td>6.159991</td>\n",
       "      <td>1.242910</td>\n",
       "      <td>-1.125804</td>\n",
       "      <td>12.227790</td>\n",
       "      <td>-3.980835</td>\n",
       "      <td>2.949495</td>\n",
       "      <td>8.944845</td>\n",
       "      <td>2.295699</td>\n",
       "      <td>-2.227581</td>\n",
       "      <td>0.486942</td>\n",
       "      <td>...</td>\n",
       "      <td>-1.045529</td>\n",
       "      <td>9.276471</td>\n",
       "      <td>3.330638</td>\n",
       "      <td>-3.361534</td>\n",
       "      <td>-2.907759</td>\n",
       "      <td>-3.567718</td>\n",
       "      <td>4.272232</td>\n",
       "      <td>2.428240</td>\n",
       "      <td>2024432255.jpg</td>\n",
       "      <td>3</td>\n",
       "    </tr>\n",
       "    <tr>\n",
       "      <th>999</th>\n",
       "      <td>0.845705</td>\n",
       "      <td>-8.290636</td>\n",
       "      <td>1.267966</td>\n",
       "      <td>6.622770</td>\n",
       "      <td>7.570078</td>\n",
       "      <td>-2.922092</td>\n",
       "      <td>0.111529</td>\n",
       "      <td>-10.514257</td>\n",
       "      <td>-1.137658</td>\n",
       "      <td>4.279927</td>\n",
       "      <td>...</td>\n",
       "      <td>5.449333</td>\n",
       "      <td>3.332849</td>\n",
       "      <td>-5.348570</td>\n",
       "      <td>2.949493</td>\n",
       "      <td>-0.118828</td>\n",
       "      <td>1.931439</td>\n",
       "      <td>-4.890339</td>\n",
       "      <td>1.960391</td>\n",
       "      <td>3927648973.jpg</td>\n",
       "      <td>3</td>\n",
       "    </tr>\n",
       "  </tbody>\n",
       "</table>\n",
       "<p>1000 rows × 52 columns</p>\n",
       "</div>\n",
       "    <div class=\"colab-df-buttons\">\n",
       "\n",
       "  <div class=\"colab-df-container\">\n",
       "    <button class=\"colab-df-convert\" onclick=\"convertToInteractive('df-214b4765-0d39-46d9-be10-d1ed711b1b81')\"\n",
       "            title=\"Convert this dataframe to an interactive table.\"\n",
       "            style=\"display:none;\">\n",
       "\n",
       "  <svg xmlns=\"http://www.w3.org/2000/svg\" height=\"24px\" viewBox=\"0 -960 960 960\">\n",
       "    <path d=\"M120-120v-720h720v720H120Zm60-500h600v-160H180v160Zm220 220h160v-160H400v160Zm0 220h160v-160H400v160ZM180-400h160v-160H180v160Zm440 0h160v-160H620v160ZM180-180h160v-160H180v160Zm440 0h160v-160H620v160Z\"/>\n",
       "  </svg>\n",
       "    </button>\n",
       "\n",
       "  <style>\n",
       "    .colab-df-container {\n",
       "      display:flex;\n",
       "      gap: 12px;\n",
       "    }\n",
       "\n",
       "    .colab-df-convert {\n",
       "      background-color: #E8F0FE;\n",
       "      border: none;\n",
       "      border-radius: 50%;\n",
       "      cursor: pointer;\n",
       "      display: none;\n",
       "      fill: #1967D2;\n",
       "      height: 32px;\n",
       "      padding: 0 0 0 0;\n",
       "      width: 32px;\n",
       "    }\n",
       "\n",
       "    .colab-df-convert:hover {\n",
       "      background-color: #E2EBFA;\n",
       "      box-shadow: 0px 1px 2px rgba(60, 64, 67, 0.3), 0px 1px 3px 1px rgba(60, 64, 67, 0.15);\n",
       "      fill: #174EA6;\n",
       "    }\n",
       "\n",
       "    .colab-df-buttons div {\n",
       "      margin-bottom: 4px;\n",
       "    }\n",
       "\n",
       "    [theme=dark] .colab-df-convert {\n",
       "      background-color: #3B4455;\n",
       "      fill: #D2E3FC;\n",
       "    }\n",
       "\n",
       "    [theme=dark] .colab-df-convert:hover {\n",
       "      background-color: #434B5C;\n",
       "      box-shadow: 0px 1px 3px 1px rgba(0, 0, 0, 0.15);\n",
       "      filter: drop-shadow(0px 1px 2px rgba(0, 0, 0, 0.3));\n",
       "      fill: #FFFFFF;\n",
       "    }\n",
       "  </style>\n",
       "\n",
       "    <script>\n",
       "      const buttonEl =\n",
       "        document.querySelector('#df-214b4765-0d39-46d9-be10-d1ed711b1b81 button.colab-df-convert');\n",
       "      buttonEl.style.display =\n",
       "        google.colab.kernel.accessAllowed ? 'block' : 'none';\n",
       "\n",
       "      async function convertToInteractive(key) {\n",
       "        const element = document.querySelector('#df-214b4765-0d39-46d9-be10-d1ed711b1b81');\n",
       "        const dataTable =\n",
       "          await google.colab.kernel.invokeFunction('convertToInteractive',\n",
       "                                                    [key], {});\n",
       "        if (!dataTable) return;\n",
       "\n",
       "        const docLinkHtml = 'Like what you see? Visit the ' +\n",
       "          '<a target=\"_blank\" href=https://colab.research.google.com/notebooks/data_table.ipynb>data table notebook</a>'\n",
       "          + ' to learn more about interactive tables.';\n",
       "        element.innerHTML = '';\n",
       "        dataTable['output_type'] = 'display_data';\n",
       "        await google.colab.output.renderOutput(dataTable, element);\n",
       "        const docLink = document.createElement('div');\n",
       "        docLink.innerHTML = docLinkHtml;\n",
       "        element.appendChild(docLink);\n",
       "      }\n",
       "    </script>\n",
       "  </div>\n",
       "\n",
       "\n",
       "<div id=\"df-bc57be75-f816-48c1-81ae-dda0753bc11c\">\n",
       "  <button class=\"colab-df-quickchart\" onclick=\"quickchart('df-bc57be75-f816-48c1-81ae-dda0753bc11c')\"\n",
       "            title=\"Suggest charts\"\n",
       "            style=\"display:none;\">\n",
       "\n",
       "<svg xmlns=\"http://www.w3.org/2000/svg\" height=\"24px\"viewBox=\"0 0 24 24\"\n",
       "     width=\"24px\">\n",
       "    <g>\n",
       "        <path d=\"M19 3H5c-1.1 0-2 .9-2 2v14c0 1.1.9 2 2 2h14c1.1 0 2-.9 2-2V5c0-1.1-.9-2-2-2zM9 17H7v-7h2v7zm4 0h-2V7h2v10zm4 0h-2v-4h2v4z\"/>\n",
       "    </g>\n",
       "</svg>\n",
       "  </button>\n",
       "\n",
       "<style>\n",
       "  .colab-df-quickchart {\n",
       "      --bg-color: #E8F0FE;\n",
       "      --fill-color: #1967D2;\n",
       "      --hover-bg-color: #E2EBFA;\n",
       "      --hover-fill-color: #174EA6;\n",
       "      --disabled-fill-color: #AAA;\n",
       "      --disabled-bg-color: #DDD;\n",
       "  }\n",
       "\n",
       "  [theme=dark] .colab-df-quickchart {\n",
       "      --bg-color: #3B4455;\n",
       "      --fill-color: #D2E3FC;\n",
       "      --hover-bg-color: #434B5C;\n",
       "      --hover-fill-color: #FFFFFF;\n",
       "      --disabled-bg-color: #3B4455;\n",
       "      --disabled-fill-color: #666;\n",
       "  }\n",
       "\n",
       "  .colab-df-quickchart {\n",
       "    background-color: var(--bg-color);\n",
       "    border: none;\n",
       "    border-radius: 50%;\n",
       "    cursor: pointer;\n",
       "    display: none;\n",
       "    fill: var(--fill-color);\n",
       "    height: 32px;\n",
       "    padding: 0;\n",
       "    width: 32px;\n",
       "  }\n",
       "\n",
       "  .colab-df-quickchart:hover {\n",
       "    background-color: var(--hover-bg-color);\n",
       "    box-shadow: 0 1px 2px rgba(60, 64, 67, 0.3), 0 1px 3px 1px rgba(60, 64, 67, 0.15);\n",
       "    fill: var(--button-hover-fill-color);\n",
       "  }\n",
       "\n",
       "  .colab-df-quickchart-complete:disabled,\n",
       "  .colab-df-quickchart-complete:disabled:hover {\n",
       "    background-color: var(--disabled-bg-color);\n",
       "    fill: var(--disabled-fill-color);\n",
       "    box-shadow: none;\n",
       "  }\n",
       "\n",
       "  .colab-df-spinner {\n",
       "    border: 2px solid var(--fill-color);\n",
       "    border-color: transparent;\n",
       "    border-bottom-color: var(--fill-color);\n",
       "    animation:\n",
       "      spin 1s steps(1) infinite;\n",
       "  }\n",
       "\n",
       "  @keyframes spin {\n",
       "    0% {\n",
       "      border-color: transparent;\n",
       "      border-bottom-color: var(--fill-color);\n",
       "      border-left-color: var(--fill-color);\n",
       "    }\n",
       "    20% {\n",
       "      border-color: transparent;\n",
       "      border-left-color: var(--fill-color);\n",
       "      border-top-color: var(--fill-color);\n",
       "    }\n",
       "    30% {\n",
       "      border-color: transparent;\n",
       "      border-left-color: var(--fill-color);\n",
       "      border-top-color: var(--fill-color);\n",
       "      border-right-color: var(--fill-color);\n",
       "    }\n",
       "    40% {\n",
       "      border-color: transparent;\n",
       "      border-right-color: var(--fill-color);\n",
       "      border-top-color: var(--fill-color);\n",
       "    }\n",
       "    60% {\n",
       "      border-color: transparent;\n",
       "      border-right-color: var(--fill-color);\n",
       "    }\n",
       "    80% {\n",
       "      border-color: transparent;\n",
       "      border-right-color: var(--fill-color);\n",
       "      border-bottom-color: var(--fill-color);\n",
       "    }\n",
       "    90% {\n",
       "      border-color: transparent;\n",
       "      border-bottom-color: var(--fill-color);\n",
       "    }\n",
       "  }\n",
       "</style>\n",
       "\n",
       "  <script>\n",
       "    async function quickchart(key) {\n",
       "      const quickchartButtonEl =\n",
       "        document.querySelector('#' + key + ' button');\n",
       "      quickchartButtonEl.disabled = true;  // To prevent multiple clicks.\n",
       "      quickchartButtonEl.classList.add('colab-df-spinner');\n",
       "      try {\n",
       "        const charts = await google.colab.kernel.invokeFunction(\n",
       "            'suggestCharts', [key], {});\n",
       "      } catch (error) {\n",
       "        console.error('Error during call to suggestCharts:', error);\n",
       "      }\n",
       "      quickchartButtonEl.classList.remove('colab-df-spinner');\n",
       "      quickchartButtonEl.classList.add('colab-df-quickchart-complete');\n",
       "    }\n",
       "    (() => {\n",
       "      let quickchartButtonEl =\n",
       "        document.querySelector('#df-bc57be75-f816-48c1-81ae-dda0753bc11c button');\n",
       "      quickchartButtonEl.style.display =\n",
       "        google.colab.kernel.accessAllowed ? 'block' : 'none';\n",
       "    })();\n",
       "  </script>\n",
       "</div>\n",
       "\n",
       "  <div id=\"id_dae94805-d7ea-4483-a219-6a976c627715\">\n",
       "    <style>\n",
       "      .colab-df-generate {\n",
       "        background-color: #E8F0FE;\n",
       "        border: none;\n",
       "        border-radius: 50%;\n",
       "        cursor: pointer;\n",
       "        display: none;\n",
       "        fill: #1967D2;\n",
       "        height: 32px;\n",
       "        padding: 0 0 0 0;\n",
       "        width: 32px;\n",
       "      }\n",
       "\n",
       "      .colab-df-generate:hover {\n",
       "        background-color: #E2EBFA;\n",
       "        box-shadow: 0px 1px 2px rgba(60, 64, 67, 0.3), 0px 1px 3px 1px rgba(60, 64, 67, 0.15);\n",
       "        fill: #174EA6;\n",
       "      }\n",
       "\n",
       "      [theme=dark] .colab-df-generate {\n",
       "        background-color: #3B4455;\n",
       "        fill: #D2E3FC;\n",
       "      }\n",
       "\n",
       "      [theme=dark] .colab-df-generate:hover {\n",
       "        background-color: #434B5C;\n",
       "        box-shadow: 0px 1px 3px 1px rgba(0, 0, 0, 0.15);\n",
       "        filter: drop-shadow(0px 1px 2px rgba(0, 0, 0, 0.3));\n",
       "        fill: #FFFFFF;\n",
       "      }\n",
       "    </style>\n",
       "    <button class=\"colab-df-generate\" onclick=\"generateWithVariable('pca_data_with_labels')\"\n",
       "            title=\"Generate code using this dataframe.\"\n",
       "            style=\"display:none;\">\n",
       "\n",
       "  <svg xmlns=\"http://www.w3.org/2000/svg\" height=\"24px\"viewBox=\"0 0 24 24\"\n",
       "       width=\"24px\">\n",
       "    <path d=\"M7,19H8.4L18.45,9,17,7.55,7,17.6ZM5,21V16.75L18.45,3.32a2,2,0,0,1,2.83,0l1.4,1.43a1.91,1.91,0,0,1,.58,1.4,1.91,1.91,0,0,1-.58,1.4L9.25,21ZM18.45,9,17,7.55Zm-12,3A5.31,5.31,0,0,0,4.9,8.1,5.31,5.31,0,0,0,1,6.5,5.31,5.31,0,0,0,4.9,4.9,5.31,5.31,0,0,0,6.5,1,5.31,5.31,0,0,0,8.1,4.9,5.31,5.31,0,0,0,12,6.5,5.46,5.46,0,0,0,6.5,12Z\"/>\n",
       "  </svg>\n",
       "    </button>\n",
       "    <script>\n",
       "      (() => {\n",
       "      const buttonEl =\n",
       "        document.querySelector('#id_dae94805-d7ea-4483-a219-6a976c627715 button.colab-df-generate');\n",
       "      buttonEl.style.display =\n",
       "        google.colab.kernel.accessAllowed ? 'block' : 'none';\n",
       "\n",
       "      buttonEl.onclick = () => {\n",
       "        google.colab.notebook.generateWithVariable('pca_data_with_labels');\n",
       "      }\n",
       "      })();\n",
       "    </script>\n",
       "  </div>\n",
       "\n",
       "    </div>\n",
       "  </div>\n"
      ],
      "text/plain": [
       "         pca_0      pca_1      pca_2      pca_3      pca_4      pca_5  \\\n",
       "0     6.636038  -1.939227  -2.589426   2.945924   9.792974   3.655708   \n",
       "1   -11.481721  18.198345  -5.854293   7.034841  -7.133950   4.684411   \n",
       "2   -36.713130   6.996273   2.140495  -6.881432   1.464674   5.632400   \n",
       "3   -24.858595 -13.431568 -11.642291   8.095534  -2.052408   4.586179   \n",
       "4    -0.660040  -2.407617  -7.171126   5.091089  -7.052279   7.704073   \n",
       "..         ...        ...        ...        ...        ...        ...   \n",
       "995   6.515476   8.959465  -5.877646   0.698728 -14.050391 -13.820268   \n",
       "996 -36.850739  -6.240824  12.916813  13.369416 -11.125601   8.207463   \n",
       "997 -32.370880  16.641668 -14.425981  -1.828775   2.403858   4.003236   \n",
       "998   6.159991   1.242910  -1.125804  12.227790  -3.980835   2.949495   \n",
       "999   0.845705  -8.290636   1.267966   6.622770   7.570078  -2.922092   \n",
       "\n",
       "         pca_6      pca_7      pca_8      pca_9  ...     pca_42    pca_43  \\\n",
       "0   -16.973333   8.463349  10.902321  -1.148773  ...  -2.692261  4.208682   \n",
       "1     3.598283   8.720727  -3.665967  11.824473  ...  -1.505602  4.685429   \n",
       "2    22.395342   0.407400  20.928570  -6.404638  ...  15.982104  3.409065   \n",
       "3     1.999897  -2.764580  -3.533155  -1.485335  ...  -4.934034 -4.522619   \n",
       "4    13.559932   1.877695   3.012491  -6.949096  ...   5.975105 -7.991956   \n",
       "..         ...        ...        ...        ...  ...        ...       ...   \n",
       "995   1.272673  11.051024  12.391001  -1.448643  ...  -0.801399 -4.772418   \n",
       "996   6.325986  -6.402955   0.004325  -0.463309  ...  -4.355998  3.150117   \n",
       "997  -5.647310 -12.068968  -2.623539   0.511956  ...  -5.906175  3.152885   \n",
       "998   8.944845   2.295699  -2.227581   0.486942  ...  -1.045529  9.276471   \n",
       "999   0.111529 -10.514257  -1.137658   4.279927  ...   5.449333  3.332849   \n",
       "\n",
       "       pca_44     pca_45    pca_46    pca_47    pca_48    pca_49  \\\n",
       "0   -2.174076  -5.411625  6.498442  4.745767 -1.659164 -1.332601   \n",
       "1   -3.469177   4.727840 -1.557634  0.214957  3.938904 -3.061316   \n",
       "2   -1.522032  -6.893707  0.908241 -0.878703  3.073291 -9.856541   \n",
       "3   -0.409373   0.019869  0.071544 -2.278584 -3.138464  3.100551   \n",
       "4    0.977824  -1.301783 -2.054494  0.135642  6.262905  1.685520   \n",
       "..        ...        ...       ...       ...       ...       ...   \n",
       "995  6.340815   2.586638  0.004762 -9.540332 -0.241982  0.190749   \n",
       "996 -2.041449 -12.076515 -0.122605  1.542647  0.660048 -1.259763   \n",
       "997  2.755471   2.497923  1.706295 -0.850640  4.358664  2.153396   \n",
       "998  3.330638  -3.361534 -2.907759 -3.567718  4.272232  2.428240   \n",
       "999 -5.348570   2.949493 -0.118828  1.931439 -4.890339  1.960391   \n",
       "\n",
       "         image_name  label  \n",
       "0     719825434.jpg      3  \n",
       "1     587692768.jpg      1  \n",
       "2    3660846961.jpg      4  \n",
       "3    3701789990.jpg      3  \n",
       "4    2169168830.jpg      1  \n",
       "..              ...    ...  \n",
       "995  2614256143.jpg      1  \n",
       "996  1907138537.jpg      3  \n",
       "997  3412620463.jpg      4  \n",
       "998  2024432255.jpg      3  \n",
       "999  3927648973.jpg      3  \n",
       "\n",
       "[1000 rows x 52 columns]"
      ]
     },
     "execution_count": 3,
     "metadata": {},
     "output_type": "execute_result"
    }
   ],
   "source": [
    "import pandas as pd\n",
    "pca_file_path = \"/content/pca_data_with_labels.csv\"\n",
    "pca_data_with_labels = pd.read_csv(pca_file_path)\n",
    "pca_data_with_labels"
   ]
  },
  {
   "cell_type": "code",
   "execution_count": 4,
   "metadata": {
    "id": "Szve0dVWq5Xp"
   },
   "outputs": [],
   "source": [
    "#drop non feature columns for X\n",
    "X = pca_data_with_labels.drop(columns=['image_name', 'label'])\n",
    "\n",
    "# create the labels column y\n",
    "y = pca_data_with_labels['label']"
   ]
  },
  {
   "cell_type": "markdown",
   "metadata": {
    "id": "WJLvu--ArBPE"
   },
   "source": [
    "###Train the model"
   ]
  },
  {
   "cell_type": "code",
   "execution_count": 5,
   "metadata": {
    "colab": {
     "base_uri": "https://localhost:8080/"
    },
    "id": "I2MHNr6wq8av",
    "outputId": "96370cce-bcbd-42fd-924f-8c48a44f198d"
   },
   "outputs": [
    {
     "name": "stdout",
     "output_type": "stream",
     "text": [
      "Predicted probabilities for the first 5 samples:\n",
      "[[0.04 0.25 0.25 0.27 0.19]\n",
      " [0.11 0.21 0.09 0.32 0.27]\n",
      " [0.02 0.14 0.21 0.59 0.04]\n",
      " [0.   0.02 0.02 0.93 0.03]\n",
      " [0.07 0.08 0.18 0.63 0.04]]\n",
      "Accuracy: 0.67\n",
      "Classification Report:\n",
      "               precision    recall  f1-score   support\n",
      "\n",
      "           0       0.00      0.00      0.00         9\n",
      "           1       0.33      0.14      0.20        21\n",
      "           2       0.67      0.09      0.16        22\n",
      "           3       0.70      0.97      0.81       126\n",
      "           4       0.54      0.32      0.40        22\n",
      "\n",
      "    accuracy                           0.67       200\n",
      "   macro avg       0.45      0.30      0.31       200\n",
      "weighted avg       0.61      0.67      0.59       200\n",
      "\n"
     ]
    },
    {
     "name": "stderr",
     "output_type": "stream",
     "text": [
      "/usr/local/lib/python3.10/dist-packages/sklearn/metrics/_classification.py:1531: UndefinedMetricWarning: Precision is ill-defined and being set to 0.0 in labels with no predicted samples. Use `zero_division` parameter to control this behavior.\n",
      "  _warn_prf(average, modifier, f\"{metric.capitalize()} is\", len(result))\n",
      "/usr/local/lib/python3.10/dist-packages/sklearn/metrics/_classification.py:1531: UndefinedMetricWarning: Precision is ill-defined and being set to 0.0 in labels with no predicted samples. Use `zero_division` parameter to control this behavior.\n",
      "  _warn_prf(average, modifier, f\"{metric.capitalize()} is\", len(result))\n",
      "/usr/local/lib/python3.10/dist-packages/sklearn/metrics/_classification.py:1531: UndefinedMetricWarning: Precision is ill-defined and being set to 0.0 in labels with no predicted samples. Use `zero_division` parameter to control this behavior.\n",
      "  _warn_prf(average, modifier, f\"{metric.capitalize()} is\", len(result))\n"
     ]
    }
   ],
   "source": [
    "from sklearn.ensemble import RandomForestClassifier\n",
    "from sklearn.metrics import accuracy_score, classification_report\n",
    "from sklearn.model_selection import train_test_split\n",
    "\n",
    "# Split data into training and testing sets\n",
    "X_train, X_test, y_train, y_test = train_test_split(X, y, test_size=0.2, stratify=y, random_state=42)\n",
    "\n",
    "# Train the classifier\n",
    "clf = RandomForestClassifier(random_state=42)\n",
    "clf.fit(X_train, y_train)\n",
    "\n",
    "# Predict and evaluate\n",
    "y_pred_prob = clf.predict_proba(X_test)\n",
    "\n",
    "# Print predicted probabilities for the first 5 samples\n",
    "print(\"Predicted probabilities for the first 5 samples:\")\n",
    "print(y_pred_prob[:5])\n",
    "\n",
    "# Get predicted class labels\n",
    "y_pred = clf.predict(X_test)\n",
    "\n",
    "print(\"Accuracy:\", accuracy_score(y_test, y_pred))\n",
    "print(\"Classification Report:\\n\", classification_report(y_test, y_pred))\n"
   ]
  },
  {
   "cell_type": "code",
   "execution_count": 6,
   "metadata": {
    "colab": {
     "base_uri": "https://localhost:8080/",
     "height": 564
    },
    "id": "LiRu-rC1Qh7g",
    "outputId": "0af58d5b-a910-44f0-bac4-5379dbda1476"
   },
   "outputs": [
    {
     "data": {
      "image/png": "[encoded data removed]",
      "text/plain": [
       "<Figure size 800x600 with 2 Axes>"
      ]
     },
     "metadata": {},
     "output_type": "display_data"
    }
   ],
   "source": [
    "from sklearn.metrics import confusion_matrix\n",
    "import seaborn as sns\n",
    "import matplotlib.pyplot as plt\n",
    "\n",
    "# Compute confusion matrix\n",
    "cm = confusion_matrix(y_test, y_pred, labels=[0, 1, 2, 3, 4])\n",
    "\n",
    "# Plot confusion matrix\n",
    "plt.figure(figsize=(8, 6))\n",
    "sns.heatmap(cm, annot=True, fmt=\"d\", cmap=\"Blues\", xticklabels=[0, 1, 2, 3, 4], yticklabels=[0, 1, 2, 3, 4])\n",
    "plt.xlabel(\"Predicted Labels\")\n",
    "plt.ylabel(\"True Labels\")\n",
    "plt.title(\"Confusion Matrix\")\n",
    "plt.show()"
   ]
  },
  {
   "cell_type": "code",
   "execution_count": 8,
   "metadata": {
    "colab": {
     "base_uri": "https://localhost:8080/",
     "height": 472
    },
    "id": "dmAFOqnjrEHc",
    "outputId": "1afbbf31-9149-4c3c-e624-6b393dc12710"
   },
   "outputs": [
    {
     "data": {
      "image/png": "[encoded data removed]",
      "text/plain": [
       "<Figure size 640x480 with 1 Axes>"
      ]
     },
     "metadata": {},
     "output_type": "display_data"
    }
   ],
   "source": [
    "import numpy as np\n",
    "from sklearn.metrics import roc_curve, auc\n",
    "from sklearn.preprocessing import label_binarize\n",
    "from sklearn.metrics import roc_auc_score\n",
    "\n",
    "# Example data: replace with actual predictions and true labels\n",
    "y_true = y\n",
    "y_pred_prob = np.random.rand(len(y_true), 5)  # Replace with predicted probabilities\n",
    "\n",
    "# Binarize the labels for one-vs-rest strategy\n",
    "classes = [0, 1, 2, 3, 4]  # The class labels\n",
    "y_true_binarized = label_binarize(y_true, classes=classes)\n",
    "\n",
    "# Compute ROC curve and AUC for each class\n",
    "fpr = {}\n",
    "tpr = {}\n",
    "roc_auc = {}\n",
    "\n",
    "for i in range(len(classes)):\n",
    "    fpr[i], tpr[i], _ = roc_curve(y_true_binarized[:, i], y_pred_prob[:, i])\n",
    "    roc_auc[i] = auc(fpr[i], tpr[i])\n",
    "\n",
    "# Plot ROC curves\n",
    "plt.figure()\n",
    "for i in range(len(classes)):\n",
    "    plt.plot(fpr[i], tpr[i], label=f\"Class {classes[i]} (AUC = {roc_auc[i]:.2f})\")\n",
    "\n",
    "plt.plot([0, 1], [0, 1], 'k--')  # Diagonal line\n",
    "plt.xlim([0.0, 1.0])\n",
    "plt.ylim([0.0, 1.05])\n",
    "plt.xlabel(\"False Positive Rate\")\n",
    "plt.ylabel(\"True Positive Rate\")\n",
    "plt.title(\"ROC Curve for Multiclass Classification\")\n",
    "plt.legend(loc=\"lower right\")\n",
    "plt.show()"
   ]
  },
  {
   "cell_type": "markdown",
   "metadata": {
    "id": "_ef8slB5rIHs"
   },
   "source": [
    "###Evaluate the model"
   ]
  },
  {
   "cell_type": "code",
   "execution_count": 10,
   "metadata": {
    "colab": {
     "base_uri": "https://localhost:8080/",
     "height": 564
    },
    "id": "XabwH4Ig3bL_",
    "outputId": "053c5773-38be-4a8d-b433-92cf6cba3628"
   },
   "outputs": [
    {
     "data": {
      "image/png": "[encoded data removed]",
      "text/plain": [
       "<Figure size 800x600 with 2 Axes>"
      ]
     },
     "metadata": {},
     "output_type": "display_data"
    }
   ],
   "source": [
    "from sklearn.decomposition import PCA\n",
    "\n",
    "# Load the dataset\n",
    "# Ensure 'data' contains only the feature columns (exclude labels for PCA)\n",
    "data = pd.read_csv(\"pca_data_with_labels.csv\")  # Replace with your file\n",
    "features = data.drop(columns=[\"image_name\", \"label\"])  # Drop non-numeric columns\n",
    "\n",
    "# Load the labels\n",
    "labels = data[\"label\"]\n",
    "\n",
    "# Perform PCA\n",
    "pca = PCA(n_components=2)  # Reduce to 2 components for 2D visualization\n",
    "reduced_features = pca.fit_transform(features)\n",
    "\n",
    "# Plot the PCA results\n",
    "plt.figure(figsize=(8, 6))\n",
    "scatter = plt.scatter(reduced_features[:, 0], reduced_features[:, 1], c=labels, cmap=\"viridis\", alpha=0.8)\n",
    "plt.colorbar(scatter, label=\"Class\")\n",
    "plt.title(\"PCA Visualization of Feature Space\")\n",
    "plt.xlabel(\"PCA Component 1\")\n",
    "plt.ylabel(\"PCA Component 2\")\n",
    "plt.grid(True)\n",
    "plt.show()"
   ]
  },
  {
   "cell_type": "code",
   "execution_count": 11,
   "metadata": {
    "colab": {
     "base_uri": "https://localhost:8080/",
     "height": 620
    },
    "id": "H1X0F-ec3bQf",
    "outputId": "26cc0c20-6fa4-499e-ac2c-ac696fa5bb23"
   },
   "outputs": [
    {
     "name": "stderr",
     "output_type": "stream",
     "text": [
      "/usr/local/lib/python3.10/dist-packages/sklearn/manifold/_t_sne.py:1162: FutureWarning: 'n_iter' was renamed to 'max_iter' in version 1.5 and will be removed in 1.7.\n",
      "  warnings.warn(\n"
     ]
    },
    {
     "data": {
      "image/png": "[encoded data removed]",
      "text/plain": [
       "<Figure size 800x600 with 2 Axes>"
      ]
     },
     "metadata": {},
     "output_type": "display_data"
    }
   ],
   "source": [
    "from sklearn.manifold import TSNE\n",
    "\n",
    "# Perform t-SNE\n",
    "tsne = TSNE(n_components=2, random_state=42, perplexity=30, n_iter=1000)  # Adjust parameters as needed\n",
    "tsne_results = tsne.fit_transform(features)\n",
    "\n",
    "# Plot the t-SNE results\n",
    "plt.figure(figsize=(8, 6))\n",
    "scatter = plt.scatter(tsne_results[:, 0], tsne_results[:, 1], c=labels, cmap=\"viridis\", alpha=0.8)\n",
    "plt.colorbar(scatter, label=\"Class\")\n",
    "plt.title(\"t-SNE Visualization of Feature Space\")\n",
    "plt.xlabel(\"t-SNE Component 1\")\n",
    "plt.ylabel(\"t-SNE Component 2\")\n",
    "plt.grid(True)\n",
    "plt.show()"
   ]
  },
  {
   "cell_type": "code",
   "execution_count": null,
   "metadata": {
    "id": "w1HkpooM3bZA"
   },
   "outputs": [],
   "source": []
  }
 ],
 "metadata": {
  "accelerator": "GPU",
  "colab": {
   "gpuType": "T4",
   "provenance": []
  },
  "kernelspec": {
   "display_name": "Python 3 (ipykernel)",
   "language": "python",
   "name": "python3"
  },
  "language_info": {
   "codemirror_mode": {
    "name": "ipython",
    "version": 3
   },
   "file_extension": ".py",
   "mimetype": "text/x-python",
   "name": "python",
   "nbconvert_exporter": "python",
   "pygments_lexer": "ipython3",
   "version": "3.11.3"
  },
  "widgets": {
   "application/vnd.jupyter.widget-state+json": {
    "00cfd141ab48409396637feb27cd6877": {
     "model_module": "@jupyter-widgets/base",
     "model_module_version": "1.2.0",
     "model_name": "LayoutModel",
     "state": {
      "_model_module": "@jupyter-widgets/base",
      "_model_module_version": "1.2.0",
      "_model_name": "LayoutModel",
      "_view_count": null,
      "_view_module": "@jupyter-widgets/base",
      "_view_module_version": "1.2.0",
      "_view_name": "LayoutView",
      "align_content": null,
      "align_items": null,
      "align_self": null,
      "border": null,
      "bottom": null,
      "display": null,
      "flex": null,
      "flex_flow": null,
      "grid_area": null,
      "grid_auto_columns": null,
      "grid_auto_flow": null,
      "grid_auto_rows": null,
      "grid_column": null,
      "grid_gap": null,
      "grid_row": null,
      "grid_template_areas": null,
      "grid_template_columns": null,
      "grid_template_rows": null,
      "height": null,
      "justify_content": null,
      "justify_items": null,
      "left": null,
      "margin": null,
      "max_height": null,
      "max_width": null,
      "min_height": null,
      "min_width": null,
      "object_fit": null,
      "object_position": null,
      "order": null,
      "overflow": null,
      "overflow_x": null,
      "overflow_y": null,
      "padding": null,
      "right": null,
      "top": null,
      "visibility": null,
      "width": null
     }
    },
    "06a4f70a655b43e984fc5ea3e64e29ec": {
     "model_module": "@jupyter-widgets/controls",
     "model_module_version": "1.5.0",
     "model_name": "HTMLModel",
     "state": {
      "_dom_classes": [],
      "_model_module": "@jupyter-widgets/controls",
      "_model_module_version": "1.5.0",
      "_model_name": "HTMLModel",
      "_view_count": null,
      "_view_module": "@jupyter-widgets/controls",
      "_view_module_version": "1.5.0",
      "_view_name": "HTMLView",
      "description": "",
      "description_tooltip": null,
      "layout": "IPY_MODEL_b5cb1a765f47429e8618df3fd86cfecf",
      "placeholder": "​",
      "style": "IPY_MODEL_ee1dbe91f3f4497c9b8e2c7864607f38",
      "value": " 549/549 [00:00&lt;00:00, 41.2kB/s]"
     }
    },
    "0a5cc1bdf29741a090816ef60566a1ef": {
     "model_module": "@jupyter-widgets/controls",
     "model_module_version": "1.5.0",
     "model_name": "HTMLModel",
     "state": {
      "_dom_classes": [],
      "_model_module": "@jupyter-widgets/controls",
      "_model_module_version": "1.5.0",
      "_model_name": "HTMLModel",
      "_view_count": null,
      "_view_module": "@jupyter-widgets/controls",
      "_view_module_version": "1.5.0",
      "_view_name": "HTMLView",
      "description": "",
      "description_tooltip": null,
      "layout": "IPY_MODEL_864b6a61008d4382a57c20b10284f15a",
      "placeholder": "​",
      "style": "IPY_MODEL_45703370c4534c819e5cd67ffbebb218",
      "value": "model.safetensors: 100%"
     }
    },
    "116e97038085481493c91068c76d3fe3": {
     "model_module": "@jupyter-widgets/controls",
     "model_module_version": "1.5.0",
     "model_name": "HTMLModel",
     "state": {
      "_dom_classes": [],
      "_model_module": "@jupyter-widgets/controls",
      "_model_module_version": "1.5.0",
      "_model_name": "HTMLModel",
      "_view_count": null,
      "_view_module": "@jupyter-widgets/controls",
      "_view_module_version": "1.5.0",
      "_view_name": "HTMLView",
      "description": "",
      "description_tooltip": null,
      "layout": "IPY_MODEL_5c0e23a9ad6848bfb506b114c820bc4f",
      "placeholder": "​",
      "style": "IPY_MODEL_979795361e42471ca32e5498b73ecc76",
      "value": "config.json: 100%"
     }
    },
    "1b500d2b1b264c2e928ab2be2ac5345e": {
     "model_module": "@jupyter-widgets/controls",
     "model_module_version": "1.5.0",
     "model_name": "HBoxModel",
     "state": {
      "_dom_classes": [],
      "_model_module": "@jupyter-widgets/controls",
      "_model_module_version": "1.5.0",
      "_model_name": "HBoxModel",
      "_view_count": null,
      "_view_module": "@jupyter-widgets/controls",
      "_view_module_version": "1.5.0",
      "_view_name": "HBoxView",
      "box_style": "",
      "children": [
       "IPY_MODEL_e3dd99c932b9413ea31772be10068c20",
       "IPY_MODEL_d80245b6d93c463f970f1d328daa307b",
       "IPY_MODEL_986b5680189e4870b8bea484ab8847cd"
      ],
      "layout": "IPY_MODEL_81b94ba0d0364a0db6b57c7e91aacdca"
     }
    },
    "1e1f2822ce6742c0b7c26579985d4657": {
     "model_module": "@jupyter-widgets/controls",
     "model_module_version": "1.5.0",
     "model_name": "ProgressStyleModel",
     "state": {
      "_model_module": "@jupyter-widgets/controls",
      "_model_module_version": "1.5.0",
      "_model_name": "ProgressStyleModel",
      "_view_count": null,
      "_view_module": "@jupyter-widgets/base",
      "_view_module_version": "1.2.0",
      "_view_name": "StyleView",
      "bar_color": null,
      "description_width": ""
     }
    },
    "45703370c4534c819e5cd67ffbebb218": {
     "model_module": "@jupyter-widgets/controls",
     "model_module_version": "1.5.0",
     "model_name": "DescriptionStyleModel",
     "state": {
      "_model_module": "@jupyter-widgets/controls",
      "_model_module_version": "1.5.0",
      "_model_name": "DescriptionStyleModel",
      "_view_count": null,
      "_view_module": "@jupyter-widgets/base",
      "_view_module_version": "1.2.0",
      "_view_name": "StyleView",
      "description_width": ""
     }
    },
    "5924dbc1ad5b4c6490976bd2a3e9f5fd": {
     "model_module": "@jupyter-widgets/controls",
     "model_module_version": "1.5.0",
     "model_name": "HBoxModel",
     "state": {
      "_dom_classes": [],
      "_model_module": "@jupyter-widgets/controls",
      "_model_module_version": "1.5.0",
      "_model_name": "HBoxModel",
      "_view_count": null,
      "_view_module": "@jupyter-widgets/controls",
      "_view_module_version": "1.5.0",
      "_view_name": "HBoxView",
      "box_style": "",
      "children": [
       "IPY_MODEL_0a5cc1bdf29741a090816ef60566a1ef",
       "IPY_MODEL_c6d3045f828e489d8f8ba8084bb94bbd",
       "IPY_MODEL_dff255345f634b3ea1350b74b89a0d29"
      ],
      "layout": "IPY_MODEL_b94e720706e6490d819be8c924a12475"
     }
    },
    "5c0e23a9ad6848bfb506b114c820bc4f": {
     "model_module": "@jupyter-widgets/base",
     "model_module_version": "1.2.0",
     "model_name": "LayoutModel",
     "state": {
      "_model_module": "@jupyter-widgets/base",
      "_model_module_version": "1.2.0",
      "_model_name": "LayoutModel",
      "_view_count": null,
      "_view_module": "@jupyter-widgets/base",
      "_view_module_version": "1.2.0",
      "_view_name": "LayoutView",
      "align_content": null,
      "align_items": null,
      "align_self": null,
      "border": null,
      "bottom": null,
      "display": null,
      "flex": null,
      "flex_flow": null,
      "grid_area": null,
      "grid_auto_columns": null,
      "grid_auto_flow": null,
      "grid_auto_rows": null,
      "grid_column": null,
      "grid_gap": null,
      "grid_row": null,
      "grid_template_areas": null,
      "grid_template_columns": null,
      "grid_template_rows": null,
      "height": null,
      "justify_content": null,
      "justify_items": null,
      "left": null,
      "margin": null,
      "max_height": null,
      "max_width": null,
      "min_height": null,
      "min_width": null,
      "object_fit": null,
      "object_position": null,
      "order": null,
      "overflow": null,
      "overflow_x": null,
      "overflow_y": null,
      "padding": null,
      "right": null,
      "top": null,
      "visibility": null,
      "width": null
     }
    },
    "5c535b85682345d3a848f13823eec888": {
     "model_module": "@jupyter-widgets/controls",
     "model_module_version": "1.5.0",
     "model_name": "HBoxModel",
     "state": {
      "_dom_classes": [],
      "_model_module": "@jupyter-widgets/controls",
      "_model_module_version": "1.5.0",
      "_model_name": "HBoxModel",
      "_view_count": null,
      "_view_module": "@jupyter-widgets/controls",
      "_view_module_version": "1.5.0",
      "_view_name": "HBoxView",
      "box_style": "",
      "children": [
       "IPY_MODEL_116e97038085481493c91068c76d3fe3",
       "IPY_MODEL_a8e09949f928469a950d002d87aeefa5",
       "IPY_MODEL_06a4f70a655b43e984fc5ea3e64e29ec"
      ],
      "layout": "IPY_MODEL_762f3d459ce54eecbe0ce1146ca8201d"
     }
    },
    "5ebd3dd32147491f80e68d9d9678a092": {
     "model_module": "@jupyter-widgets/base",
     "model_module_version": "1.2.0",
     "model_name": "LayoutModel",
     "state": {
      "_model_module": "@jupyter-widgets/base",
      "_model_module_version": "1.2.0",
      "_model_name": "LayoutModel",
      "_view_count": null,
      "_view_module": "@jupyter-widgets/base",
      "_view_module_version": "1.2.0",
      "_view_name": "LayoutView",
      "align_content": null,
      "align_items": null,
      "align_self": null,
      "border": null,
      "bottom": null,
      "display": null,
      "flex": null,
      "flex_flow": null,
      "grid_area": null,
      "grid_auto_columns": null,
      "grid_auto_flow": null,
      "grid_auto_rows": null,
      "grid_column": null,
      "grid_gap": null,
      "grid_row": null,
      "grid_template_areas": null,
      "grid_template_columns": null,
      "grid_template_rows": null,
      "height": null,
      "justify_content": null,
      "justify_items": null,
      "left": null,
      "margin": null,
      "max_height": null,
      "max_width": null,
      "min_height": null,
      "min_width": null,
      "object_fit": null,
      "object_position": null,
      "order": null,
      "overflow": null,
      "overflow_x": null,
      "overflow_y": null,
      "padding": null,
      "right": null,
      "top": null,
      "visibility": null,
      "width": null
     }
    },
    "69ed4ccd26e045e49df56bc2b2db92bb": {
     "model_module": "@jupyter-widgets/controls",
     "model_module_version": "1.5.0",
     "model_name": "ProgressStyleModel",
     "state": {
      "_model_module": "@jupyter-widgets/controls",
      "_model_module_version": "1.5.0",
      "_model_name": "ProgressStyleModel",
      "_view_count": null,
      "_view_module": "@jupyter-widgets/base",
      "_view_module_version": "1.2.0",
      "_view_name": "StyleView",
      "bar_color": null,
      "description_width": ""
     }
    },
    "70a94feba50143539b0f08ed95e3d1f9": {
     "model_module": "@jupyter-widgets/base",
     "model_module_version": "1.2.0",
     "model_name": "LayoutModel",
     "state": {
      "_model_module": "@jupyter-widgets/base",
      "_model_module_version": "1.2.0",
      "_model_name": "LayoutModel",
      "_view_count": null,
      "_view_module": "@jupyter-widgets/base",
      "_view_module_version": "1.2.0",
      "_view_name": "LayoutView",
      "align_content": null,
      "align_items": null,
      "align_self": null,
      "border": null,
      "bottom": null,
      "display": null,
      "flex": null,
      "flex_flow": null,
      "grid_area": null,
      "grid_auto_columns": null,
      "grid_auto_flow": null,
      "grid_auto_rows": null,
      "grid_column": null,
      "grid_gap": null,
      "grid_row": null,
      "grid_template_areas": null,
      "grid_template_columns": null,
      "grid_template_rows": null,
      "height": null,
      "justify_content": null,
      "justify_items": null,
      "left": null,
      "margin": null,
      "max_height": null,
      "max_width": null,
      "min_height": null,
      "min_width": null,
      "object_fit": null,
      "object_position": null,
      "order": null,
      "overflow": null,
      "overflow_x": null,
      "overflow_y": null,
      "padding": null,
      "right": null,
      "top": null,
      "visibility": null,
      "width": null
     }
    },
    "762f3d459ce54eecbe0ce1146ca8201d": {
     "model_module": "@jupyter-widgets/base",
     "model_module_version": "1.2.0",
     "model_name": "LayoutModel",
     "state": {
      "_model_module": "@jupyter-widgets/base",
      "_model_module_version": "1.2.0",
      "_model_name": "LayoutModel",
      "_view_count": null,
      "_view_module": "@jupyter-widgets/base",
      "_view_module_version": "1.2.0",
      "_view_name": "LayoutView",
      "align_content": null,
      "align_items": null,
      "align_self": null,
      "border": null,
      "bottom": null,
      "display": null,
      "flex": null,
      "flex_flow": null,
      "grid_area": null,
      "grid_auto_columns": null,
      "grid_auto_flow": null,
      "grid_auto_rows": null,
      "grid_column": null,
      "grid_gap": null,
      "grid_row": null,
      "grid_template_areas": null,
      "grid_template_columns": null,
      "grid_template_rows": null,
      "height": null,
      "justify_content": null,
      "justify_items": null,
      "left": null,
      "margin": null,
      "max_height": null,
      "max_width": null,
      "min_height": null,
      "min_width": null,
      "object_fit": null,
      "object_position": null,
      "order": null,
      "overflow": null,
      "overflow_x": null,
      "overflow_y": null,
      "padding": null,
      "right": null,
      "top": null,
      "visibility": null,
      "width": null
     }
    },
    "7bbc84cbdf644e1ca3f2d38dca55d15a": {
     "model_module": "@jupyter-widgets/controls",
     "model_module_version": "1.5.0",
     "model_name": "DescriptionStyleModel",
     "state": {
      "_model_module": "@jupyter-widgets/controls",
      "_model_module_version": "1.5.0",
      "_model_name": "DescriptionStyleModel",
      "_view_count": null,
      "_view_module": "@jupyter-widgets/base",
      "_view_module_version": "1.2.0",
      "_view_name": "StyleView",
      "description_width": ""
     }
    },
    "7dcebed59ffb4926b1f34585913a81dd": {
     "model_module": "@jupyter-widgets/base",
     "model_module_version": "1.2.0",
     "model_name": "LayoutModel",
     "state": {
      "_model_module": "@jupyter-widgets/base",
      "_model_module_version": "1.2.0",
      "_model_name": "LayoutModel",
      "_view_count": null,
      "_view_module": "@jupyter-widgets/base",
      "_view_module_version": "1.2.0",
      "_view_name": "LayoutView",
      "align_content": null,
      "align_items": null,
      "align_self": null,
      "border": null,
      "bottom": null,
      "display": null,
      "flex": null,
      "flex_flow": null,
      "grid_area": null,
      "grid_auto_columns": null,
      "grid_auto_flow": null,
      "grid_auto_rows": null,
      "grid_column": null,
      "grid_gap": null,
      "grid_row": null,
      "grid_template_areas": null,
      "grid_template_columns": null,
      "grid_template_rows": null,
      "height": null,
      "justify_content": null,
      "justify_items": null,
      "left": null,
      "margin": null,
      "max_height": null,
      "max_width": null,
      "min_height": null,
      "min_width": null,
      "object_fit": null,
      "object_position": null,
      "order": null,
      "overflow": null,
      "overflow_x": null,
      "overflow_y": null,
      "padding": null,
      "right": null,
      "top": null,
      "visibility": null,
      "width": null
     }
    },
    "81b94ba0d0364a0db6b57c7e91aacdca": {
     "model_module": "@jupyter-widgets/base",
     "model_module_version": "1.2.0",
     "model_name": "LayoutModel",
     "state": {
      "_model_module": "@jupyter-widgets/base",
      "_model_module_version": "1.2.0",
      "_model_name": "LayoutModel",
      "_view_count": null,
      "_view_module": "@jupyter-widgets/base",
      "_view_module_version": "1.2.0",
      "_view_name": "LayoutView",
      "align_content": null,
      "align_items": null,
      "align_self": null,
      "border": null,
      "bottom": null,
      "display": null,
      "flex": null,
      "flex_flow": null,
      "grid_area": null,
      "grid_auto_columns": null,
      "grid_auto_flow": null,
      "grid_auto_rows": null,
      "grid_column": null,
      "grid_gap": null,
      "grid_row": null,
      "grid_template_areas": null,
      "grid_template_columns": null,
      "grid_template_rows": null,
      "height": null,
      "justify_content": null,
      "justify_items": null,
      "left": null,
      "margin": null,
      "max_height": null,
      "max_width": null,
      "min_height": null,
      "min_width": null,
      "object_fit": null,
      "object_position": null,
      "order": null,
      "overflow": null,
      "overflow_x": null,
      "overflow_y": null,
      "padding": null,
      "right": null,
      "top": null,
      "visibility": null,
      "width": null
     }
    },
    "864b6a61008d4382a57c20b10284f15a": {
     "model_module": "@jupyter-widgets/base",
     "model_module_version": "1.2.0",
     "model_name": "LayoutModel",
     "state": {
      "_model_module": "@jupyter-widgets/base",
      "_model_module_version": "1.2.0",
      "_model_name": "LayoutModel",
      "_view_count": null,
      "_view_module": "@jupyter-widgets/base",
      "_view_module_version": "1.2.0",
      "_view_name": "LayoutView",
      "align_content": null,
      "align_items": null,
      "align_self": null,
      "border": null,
      "bottom": null,
      "display": null,
      "flex": null,
      "flex_flow": null,
      "grid_area": null,
      "grid_auto_columns": null,
      "grid_auto_flow": null,
      "grid_auto_rows": null,
      "grid_column": null,
      "grid_gap": null,
      "grid_row": null,
      "grid_template_areas": null,
      "grid_template_columns": null,
      "grid_template_rows": null,
      "height": null,
      "justify_content": null,
      "justify_items": null,
      "left": null,
      "margin": null,
      "max_height": null,
      "max_width": null,
      "min_height": null,
      "min_width": null,
      "object_fit": null,
      "object_position": null,
      "order": null,
      "overflow": null,
      "overflow_x": null,
      "overflow_y": null,
      "padding": null,
      "right": null,
      "top": null,
      "visibility": null,
      "width": null
     }
    },
    "894284d872c64b3583279bcdc38fda40": {
     "model_module": "@jupyter-widgets/controls",
     "model_module_version": "1.5.0",
     "model_name": "ProgressStyleModel",
     "state": {
      "_model_module": "@jupyter-widgets/controls",
      "_model_module_version": "1.5.0",
      "_model_name": "ProgressStyleModel",
      "_view_count": null,
      "_view_module": "@jupyter-widgets/base",
      "_view_module_version": "1.2.0",
      "_view_name": "StyleView",
      "bar_color": null,
      "description_width": ""
     }
    },
    "979795361e42471ca32e5498b73ecc76": {
     "model_module": "@jupyter-widgets/controls",
     "model_module_version": "1.5.0",
     "model_name": "DescriptionStyleModel",
     "state": {
      "_model_module": "@jupyter-widgets/controls",
      "_model_module_version": "1.5.0",
      "_model_name": "DescriptionStyleModel",
      "_view_count": null,
      "_view_module": "@jupyter-widgets/base",
      "_view_module_version": "1.2.0",
      "_view_name": "StyleView",
      "description_width": ""
     }
    },
    "986b5680189e4870b8bea484ab8847cd": {
     "model_module": "@jupyter-widgets/controls",
     "model_module_version": "1.5.0",
     "model_name": "HTMLModel",
     "state": {
      "_dom_classes": [],
      "_model_module": "@jupyter-widgets/controls",
      "_model_module_version": "1.5.0",
      "_model_name": "HTMLModel",
      "_view_count": null,
      "_view_module": "@jupyter-widgets/controls",
      "_view_module_version": "1.5.0",
      "_view_name": "HTMLView",
      "description": "",
      "description_tooltip": null,
      "layout": "IPY_MODEL_00cfd141ab48409396637feb27cd6877",
      "placeholder": "​",
      "style": "IPY_MODEL_c4f0433ed9cd4c16a7fe602c0188c961",
      "value": " 436/436 [00:00&lt;00:00, 27.8kB/s]"
     }
    },
    "9f37c6f85b9a48d39441fc7bccdf3351": {
     "model_module": "@jupyter-widgets/controls",
     "model_module_version": "1.5.0",
     "model_name": "DescriptionStyleModel",
     "state": {
      "_model_module": "@jupyter-widgets/controls",
      "_model_module_version": "1.5.0",
      "_model_name": "DescriptionStyleModel",
      "_view_count": null,
      "_view_module": "@jupyter-widgets/base",
      "_view_module_version": "1.2.0",
      "_view_name": "StyleView",
      "description_width": ""
     }
    },
    "a0a2ee34c789468f86a80bfe403eaf02": {
     "model_module": "@jupyter-widgets/base",
     "model_module_version": "1.2.0",
     "model_name": "LayoutModel",
     "state": {
      "_model_module": "@jupyter-widgets/base",
      "_model_module_version": "1.2.0",
      "_model_name": "LayoutModel",
      "_view_count": null,
      "_view_module": "@jupyter-widgets/base",
      "_view_module_version": "1.2.0",
      "_view_name": "LayoutView",
      "align_content": null,
      "align_items": null,
      "align_self": null,
      "border": null,
      "bottom": null,
      "display": null,
      "flex": null,
      "flex_flow": null,
      "grid_area": null,
      "grid_auto_columns": null,
      "grid_auto_flow": null,
      "grid_auto_rows": null,
      "grid_column": null,
      "grid_gap": null,
      "grid_row": null,
      "grid_template_areas": null,
      "grid_template_columns": null,
      "grid_template_rows": null,
      "height": null,
      "justify_content": null,
      "justify_items": null,
      "left": null,
      "margin": null,
      "max_height": null,
      "max_width": null,
      "min_height": null,
      "min_width": null,
      "object_fit": null,
      "object_position": null,
      "order": null,
      "overflow": null,
      "overflow_x": null,
      "overflow_y": null,
      "padding": null,
      "right": null,
      "top": null,
      "visibility": null,
      "width": null
     }
    },
    "a8e09949f928469a950d002d87aeefa5": {
     "model_module": "@jupyter-widgets/controls",
     "model_module_version": "1.5.0",
     "model_name": "FloatProgressModel",
     "state": {
      "_dom_classes": [],
      "_model_module": "@jupyter-widgets/controls",
      "_model_module_version": "1.5.0",
      "_model_name": "FloatProgressModel",
      "_view_count": null,
      "_view_module": "@jupyter-widgets/controls",
      "_view_module_version": "1.5.0",
      "_view_name": "ProgressView",
      "bar_style": "success",
      "description": "",
      "description_tooltip": null,
      "layout": "IPY_MODEL_5ebd3dd32147491f80e68d9d9678a092",
      "max": 549,
      "min": 0,
      "orientation": "horizontal",
      "style": "IPY_MODEL_1e1f2822ce6742c0b7c26579985d4657",
      "value": 549
     }
    },
    "b5cb1a765f47429e8618df3fd86cfecf": {
     "model_module": "@jupyter-widgets/base",
     "model_module_version": "1.2.0",
     "model_name": "LayoutModel",
     "state": {
      "_model_module": "@jupyter-widgets/base",
      "_model_module_version": "1.2.0",
      "_model_name": "LayoutModel",
      "_view_count": null,
      "_view_module": "@jupyter-widgets/base",
      "_view_module_version": "1.2.0",
      "_view_name": "LayoutView",
      "align_content": null,
      "align_items": null,
      "align_self": null,
      "border": null,
      "bottom": null,
      "display": null,
      "flex": null,
      "flex_flow": null,
      "grid_area": null,
      "grid_auto_columns": null,
      "grid_auto_flow": null,
      "grid_auto_rows": null,
      "grid_column": null,
      "grid_gap": null,
      "grid_row": null,
      "grid_template_areas": null,
      "grid_template_columns": null,
      "grid_template_rows": null,
      "height": null,
      "justify_content": null,
      "justify_items": null,
      "left": null,
      "margin": null,
      "max_height": null,
      "max_width": null,
      "min_height": null,
      "min_width": null,
      "object_fit": null,
      "object_position": null,
      "order": null,
      "overflow": null,
      "overflow_x": null,
      "overflow_y": null,
      "padding": null,
      "right": null,
      "top": null,
      "visibility": null,
      "width": null
     }
    },
    "b94e720706e6490d819be8c924a12475": {
     "model_module": "@jupyter-widgets/base",
     "model_module_version": "1.2.0",
     "model_name": "LayoutModel",
     "state": {
      "_model_module": "@jupyter-widgets/base",
      "_model_module_version": "1.2.0",
      "_model_name": "LayoutModel",
      "_view_count": null,
      "_view_module": "@jupyter-widgets/base",
      "_view_module_version": "1.2.0",
      "_view_name": "LayoutView",
      "align_content": null,
      "align_items": null,
      "align_self": null,
      "border": null,
      "bottom": null,
      "display": null,
      "flex": null,
      "flex_flow": null,
      "grid_area": null,
      "grid_auto_columns": null,
      "grid_auto_flow": null,
      "grid_auto_rows": null,
      "grid_column": null,
      "grid_gap": null,
      "grid_row": null,
      "grid_template_areas": null,
      "grid_template_columns": null,
      "grid_template_rows": null,
      "height": null,
      "justify_content": null,
      "justify_items": null,
      "left": null,
      "margin": null,
      "max_height": null,
      "max_width": null,
      "min_height": null,
      "min_width": null,
      "object_fit": null,
      "object_position": null,
      "order": null,
      "overflow": null,
      "overflow_x": null,
      "overflow_y": null,
      "padding": null,
      "right": null,
      "top": null,
      "visibility": null,
      "width": null
     }
    },
    "c4f0433ed9cd4c16a7fe602c0188c961": {
     "model_module": "@jupyter-widgets/controls",
     "model_module_version": "1.5.0",
     "model_name": "DescriptionStyleModel",
     "state": {
      "_model_module": "@jupyter-widgets/controls",
      "_model_module_version": "1.5.0",
      "_model_name": "DescriptionStyleModel",
      "_view_count": null,
      "_view_module": "@jupyter-widgets/base",
      "_view_module_version": "1.2.0",
      "_view_name": "StyleView",
      "description_width": ""
     }
    },
    "c6d3045f828e489d8f8ba8084bb94bbd": {
     "model_module": "@jupyter-widgets/controls",
     "model_module_version": "1.5.0",
     "model_name": "FloatProgressModel",
     "state": {
      "_dom_classes": [],
      "_model_module": "@jupyter-widgets/controls",
      "_model_module_version": "1.5.0",
      "_model_name": "FloatProgressModel",
      "_view_count": null,
      "_view_module": "@jupyter-widgets/controls",
      "_view_module_version": "1.5.0",
      "_view_name": "ProgressView",
      "bar_style": "success",
      "description": "",
      "description_tooltip": null,
      "layout": "IPY_MODEL_70a94feba50143539b0f08ed95e3d1f9",
      "max": 1217522888,
      "min": 0,
      "orientation": "horizontal",
      "style": "IPY_MODEL_894284d872c64b3583279bcdc38fda40",
      "value": 1217522888
     }
    },
    "d80245b6d93c463f970f1d328daa307b": {
     "model_module": "@jupyter-widgets/controls",
     "model_module_version": "1.5.0",
     "model_name": "FloatProgressModel",
     "state": {
      "_dom_classes": [],
      "_model_module": "@jupyter-widgets/controls",
      "_model_module_version": "1.5.0",
      "_model_name": "FloatProgressModel",
      "_view_count": null,
      "_view_module": "@jupyter-widgets/controls",
      "_view_module_version": "1.5.0",
      "_view_name": "ProgressView",
      "bar_style": "success",
      "description": "",
      "description_tooltip": null,
      "layout": "IPY_MODEL_a0a2ee34c789468f86a80bfe403eaf02",
      "max": 436,
      "min": 0,
      "orientation": "horizontal",
      "style": "IPY_MODEL_69ed4ccd26e045e49df56bc2b2db92bb",
      "value": 436
     }
    },
    "dff255345f634b3ea1350b74b89a0d29": {
     "model_module": "@jupyter-widgets/controls",
     "model_module_version": "1.5.0",
     "model_name": "HTMLModel",
     "state": {
      "_dom_classes": [],
      "_model_module": "@jupyter-widgets/controls",
      "_model_module_version": "1.5.0",
      "_model_name": "HTMLModel",
      "_view_count": null,
      "_view_module": "@jupyter-widgets/controls",
      "_view_module_version": "1.5.0",
      "_view_name": "HTMLView",
      "description": "",
      "description_tooltip": null,
      "layout": "IPY_MODEL_7dcebed59ffb4926b1f34585913a81dd",
      "placeholder": "​",
      "style": "IPY_MODEL_7bbc84cbdf644e1ca3f2d38dca55d15a",
      "value": " 1.22G/1.22G [00:07&lt;00:00, 227MB/s]"
     }
    },
    "e3dd99c932b9413ea31772be10068c20": {
     "model_module": "@jupyter-widgets/controls",
     "model_module_version": "1.5.0",
     "model_name": "HTMLModel",
     "state": {
      "_dom_classes": [],
      "_model_module": "@jupyter-widgets/controls",
      "_model_module_version": "1.5.0",
      "_model_name": "HTMLModel",
      "_view_count": null,
      "_view_module": "@jupyter-widgets/controls",
      "_view_module_version": "1.5.0",
      "_view_name": "HTMLView",
      "description": "",
      "description_tooltip": null,
      "layout": "IPY_MODEL_efa0c7f993bf4948a848e122353db260",
      "placeholder": "​",
      "style": "IPY_MODEL_9f37c6f85b9a48d39441fc7bccdf3351",
      "value": "preprocessor_config.json: 100%"
     }
    },
    "ee1dbe91f3f4497c9b8e2c7864607f38": {
     "model_module": "@jupyter-widgets/controls",
     "model_module_version": "1.5.0",
     "model_name": "DescriptionStyleModel",
     "state": {
      "_model_module": "@jupyter-widgets/controls",
      "_model_module_version": "1.5.0",
      "_model_name": "DescriptionStyleModel",
      "_view_count": null,
      "_view_module": "@jupyter-widgets/base",
      "_view_module_version": "1.2.0",
      "_view_name": "StyleView",
      "description_width": ""
     }
    },
    "efa0c7f993bf4948a848e122353db260": {
     "model_module": "@jupyter-widgets/base",
     "model_module_version": "1.2.0",
     "model_name": "LayoutModel",
     "state": {
      "_model_module": "@jupyter-widgets/base",
      "_model_module_version": "1.2.0",
      "_model_name": "LayoutModel",
      "_view_count": null,
      "_view_module": "@jupyter-widgets/base",
      "_view_module_version": "1.2.0",
      "_view_name": "LayoutView",
      "align_content": null,
      "align_items": null,
      "align_self": null,
      "border": null,
      "bottom": null,
      "display": null,
      "flex": null,
      "flex_flow": null,
      "grid_area": null,
      "grid_auto_columns": null,
      "grid_auto_flow": null,
      "grid_auto_rows": null,
      "grid_column": null,
      "grid_gap": null,
      "grid_row": null,
      "grid_template_areas": null,
      "grid_template_columns": null,
      "grid_template_rows": null,
      "height": null,
      "justify_content": null,
      "justify_items": null,
      "left": null,
      "margin": null,
      "max_height": null,
      "max_width": null,
      "min_height": null,
      "min_width": null,
      "object_fit": null,
      "object_position": null,
      "order": null,
      "overflow": null,
      "overflow_x": null,
      "overflow_y": null,
      "padding": null,
      "right": null,
      "top": null,
      "visibility": null,
      "width": null
     }
    }
   }
  }
 },
 "nbformat": 4,
 "nbformat_minor": 4
}
